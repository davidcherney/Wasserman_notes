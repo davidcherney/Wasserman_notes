{
 "cells": [
  {
   "cell_type": "markdown",
   "id": "7ff9b80c-bd0e-4840-b66e-8867af45aea7",
   "metadata": {},
   "source": [
    "# Part 3: Statistical Models and Methods. "
   ]
  },
  {
   "cell_type": "markdown",
   "id": "7e106bbb-f5c8-4018-b169-ccb44e17d048",
   "metadata": {},
   "source": [
    "# ch 13 Linear and Logistic Regression \n",
    "\n",
    "**Theorem**. Under the assumption of Normaly distributed residuals, the least squares estimator is also the maximum likelihood estimator.\n",
    "\n",
    "maximizing $l(β_0, β_1, σ)$ over $σ$, yields the mle\n",
    "$\\hat σ^2 = \\frac1n \\sum\\limits_{i=1}^n \\epsilon_i^2$ where $\\epsilon_i$ is the $i$th residual. \n",
    "\n",
    "An unbiased estimate of σ2 is\n",
    "$\\hat σ^2 = \\frac{a}{n-2} \\sum\\limits_{i=1}^n \\epsilon_i^2$ where $\\epsilon_i$ is the $i$th residual."
   ]
  },
  {
   "cell_type": "markdown",
   "id": "029b3aff-d289-43d5-b7a3-5a9c29b0a0cc",
   "metadata": {},
   "source": [
    "## 13.3 Propertie of Lease Squared Estimators\n",
    "**Theorem** Let $\\hat β^T = (\\hat β_0 , \\hatβ_1 )^T$ denote the least squares estimators for the parameteris in the fit $Y= \\beta_0 + \\beta_1 X$. Then,\n",
    "$$\n",
    "\\mathbb{E} ( \\hat β | X^n ) =\n",
    "\\left(\\begin{array}{c} \\beta_0 \\\\ \\beta_1 \\end{array}\\right)\\\\\n",
    "\\mathbb{V} ( \\hat β | X^n ) \n",
    "= \n",
    "\\frac{\\sigma^2/n}{s^2_X} \n",
    "\\left(\\begin{array}{cc} \n",
    "\\frac1n \\sum_i X_i^2 - \\bar X_n^2 &  -\\bar X_n \\\\ \n",
    "-\\bar X_n & 1\n",
    "\\end{array}\\right)\\\\\n",
    "$$\n",
    "where $s^2_X = n^{−1} \\sum\\limits_{i=1}^n (X_i−\\bar X_n)^ 2$.\n"
   ]
  },
  {
   "cell_type": "markdown",
   "id": "f22c1bae-f8bf-4896-9f69-91f42a3b38a0",
   "metadata": {},
   "source": [
    "**Theorem** Under appropriate conditions we have:\n",
    "1. (Consistency): $\\hat β_0 \\stackrel{P}{\\to} β_0$ and $β_1\\stackrel{P}{\\to} β_1$.\n",
    "2. (Asymptotic Normality): $\\frac{\n",
    "        \\hat \\beta_0−\\beta_0\n",
    "        }\n",
    "        {\n",
    "        \\hat{\n",
    "            \\text{se} \n",
    "            }\n",
    "         ( \\hat \\beta_0) \n",
    "         }  \n",
    "\\stackrel{Dist}{\\to} N(0,1)\n",
    "$\n",
    "and \n",
    "$\\frac{\\hat β_1−β_1}{\\hat{\\text{se}}( \\hat \\beta_1)} \\stackrel{Dist}{\\to} N(0,1)$"
   ]
  },
  {
   "cell_type": "markdown",
   "id": "df7c40ff-e9b4-4389-8a20-4569dca9acd8",
   "metadata": {},
   "source": [
    "## 13.4 Prediction\n",
    "Having estimated $\\hat r(x) = \\hat β_0 + \\hat β_1 x$ from data $(X_1, Y_1), . . . , (X_n, Y_n)$, \n",
    "we observe the value $X = x_∗$ of the covariate for a new subject and we want to predict their outcome $Y_∗$. "
   ]
  },
  {
   "cell_type": "markdown",
   "id": "e82999d8-967c-4a0f-b9a5-daa667fff2ca",
   "metadata": {},
   "source": [
    "An estimate of $Y∗$ is\n",
    "$$\\hat Y_∗ = \\hat β_0 + \\hat β_1 x_∗.$$ \n",
    "How much variance do you expect in this prediction among different samiles $X_1,...,X_n$? Using the formula for the variance of the sum of two random variables,"
   ]
  },
  {
   "cell_type": "markdown",
   "id": "27043026-95f8-4f3d-a959-6f044dfcb3c5",
   "metadata": {},
   "source": [
    "$$\\mathbb{V}(\\hat Y_∗) = \\mathbb{V}( \\hat β_0 + \\hat β_1 x_∗) \\\\\n",
    "= \\mathbb{V}(\\hat β_0) + x^2_∗ \\mathbb{V}(\\hat β_1) + 2x_∗\\text{Cov}(\\hat β_0, \\hatβ_1).$$"
   ]
  },
  {
   "cell_type": "markdown",
   "id": "4cc85652-a526-4c03-8493-f6800720fa84",
   "metadata": {},
   "source": [
    "$$\n",
    "=\\frac{\\sigma^2/n}{s_X^2}\\left(\n",
    "\\frac1n \\sum\\limits_i X_i^2 -\\bar X_n^2   \n",
    "+ x_*^2 \n",
    "+ 2 x_* \\bar X_n \\right)\n",
    "$$"
   ]
  },
  {
   "cell_type": "markdown",
   "id": "592d0af1-aea6-4870-baca-47d03ad84d8e",
   "metadata": {},
   "source": [
    "13.5 subsection on multiple regression\n",
    "\n",
    "pretty easy.\n",
    "\n",
    "# 13.6 Model Selection\n",
    "\n",
    "A smaller model with fewer covariates has two advantages\n",
    "1. it might give better predictions than a big model and \n",
    "2. it is more parsimonious (simpler). \n",
    "\n",
    "Generally, as you add more variables to a regression, the bias of the predictions decreases and the variance increases.\n",
    "\n",
    "In model selection there are two problems: \n",
    "1. assigning a “score” to each model which measures, in some sense, how good the model is, and \n",
    "2. searching through all the models to find the model with the best score.\n",
    "\n"
   ]
  },
  {
   "cell_type": "markdown",
   "id": "bbe04e91-9850-4a2c-be8f-6a94e3a5e81f",
   "metadata": {},
   "source": [
    " Let $S \\subset \\{1, . . . , k\\}$ and let $X_S = \\{X_j : j \\in S\\}$ denote a subset of the covariates.\n",
    " \n",
    "Our goal is to choose $S$ to minimize the prediction risk\n",
    "$$\n",
    " R(S) = \\sum\\limits_{i=1}^n E(\\hat{Y}_i(S) − Y^∗_i)^2\n",
    "$$\n",
    "\n",
    "where $Y_i^∗$ denotes the value of a future observation of $Y_i$ at covariate value $X_i$. (what?) "
   ]
  },
  {
   "cell_type": "markdown",
   "id": "6b99a11f-0682-407c-b89d-3eab2ec51f0c",
   "metadata": {},
   "source": [
    "The training error is defined to be \n",
    "$$\n",
    "\\hat R_{\\text{tr}}(S) = \\sum\\limits_{i=1}^n\\left(\\hat{Y}_i(S) - Y_i\\right)^2\n",
    "$$"
   ]
  },
  {
   "cell_type": "markdown",
   "id": "610dfb5f-d01e-4561-b0ad-780893451859",
   "metadata": {},
   "source": [
    "**Theorem** The training error is a downward-biased estimate of the prediction risk; $$\n",
    "R(S) =\n",
    "\\mathbb{E}\\left(\\hat{R}_{tr} (S) \\right)<  R(S)\n",
    "$$ \n",
    "because\n",
    "$$\n",
    "\\text{bias}( R_{tr}(S)) = \\mathbb{E}(R_{tr}(S)) − R(S) = −2 \\sum_{i=1} \\text{Cov}(\\hat Y_i, Y_i)\n",
    "$$"
   ]
  },
  {
   "cell_type": "markdown",
   "id": "137ca5c0-4016-43d3-bd40-8f6333c36942",
   "metadata": {},
   "source": [
    "**Defnition** The estimate of the risk \n",
    "$\\hat R(S) = \\hat R_\\text{tr}(S) + 2\\vert S \\vert \\hat\\sigma^2$ \n",
    "where $\\hat\\sigma^2$ is the estimate of $\\sigma^2$ obtained from the full model (with all covariates in the model) is **Mallow’s $C_p$ statistic**."
   ]
  },
  {
   "cell_type": "markdown",
   "id": "3035b676-5f28-49e6-aad9-8f66c972e6d8",
   "metadata": {},
   "source": [
    "Think of it as lack of fit + complexity penalty."
   ]
  },
  {
   "cell_type": "markdown",
   "id": "f8ef91d6-913c-4514-83d8-f4ec28fa11f6",
   "metadata": {},
   "source": []
  },
  {
   "cell_type": "markdown",
   "id": "3acbc2e4-606c-48a8-b063-e7a412e314c2",
   "metadata": {},
   "source": []
  },
  {
   "cell_type": "markdown",
   "id": "2849172e-6bb7-4647-b53b-be075c7d5fae",
   "metadata": {},
   "source": []
  },
  {
   "cell_type": "markdown",
   "id": "030239ca-0fbf-4102-bf29-2e69e9f6bafa",
   "metadata": {},
   "source": []
  },
  {
   "cell_type": "markdown",
   "id": "0f2b1f1a-f183-4cc6-8b09-dc1d0ba07373",
   "metadata": {
    "tags": []
   },
   "source": [
    "# 14 Multivariate Models \n",
    "\n",
    "# 15 Inference About Independence \n",
    "\n",
    "# 16 Causal Inference\n",
    " "
   ]
  },
  {
   "cell_type": "markdown",
   "id": "1b19cf4c-d647-4cc8-baa1-401571df462a",
   "metadata": {},
   "source": [
    "## Binary case\n",
    "Suppose that X is a binary treatment variable where X = 1 means “treated” and X = 0 means “not treated.”\n",
    "\n",
    "Let Y be some outcome variable such as presence or absence of disease.\n",
    "\n",
    "We introduce two new random variables $(C_0,C_1)$, called potential outcomes; \n",
    "- $C_0$ is the outcome if the subject is not treated (X = 0) and \n",
    "- $C_1$ is the outcome if the subject is treated (X = 1).\n",
    "\n",
    "**Definition:** The <u>consistency relationship</u> is \n",
    "$$\n",
    "Y = \\left\\{  \n",
    "\\begin{array}{cc}\n",
    "C_0 {\\text{ if }} X=0 \\\\ \n",
    "C_1 {\\text{ if }} X=1 \\\\ \n",
    "\\end{array}\n",
    "\\right\\} :=C_X.\n",
    "$$"
   ]
  },
  {
   "cell_type": "markdown",
   "id": "95f99340-189a-44eb-a7da-34de9be3d893",
   "metadata": {},
   "source": [
    "The consistency relationship appears to me to be a deterministic ideal. Stochastic processes will imperfectly realize this relationship. "
   ]
  },
  {
   "cell_type": "markdown",
   "id": "55a46263-208f-4649-a19d-b3388cf7d669",
   "metadata": {},
   "source": [
    "## Counterfactuals"
   ]
  },
  {
   "cell_type": "markdown",
   "id": "927d09b0-13f0-46f1-a590-68c15d8e0304",
   "metadata": {},
   "source": [
    "Note that when $X=0$ we do not observe $C_1$, and so we do not get to form estimates of $\\mathbb{P}(C_1|X=0)$. There are, however, 4 classes if $Y\\in\\{0,1\\}$:\n",
    "$$\n",
    "\\begin{array}{|c|c|c|}\\hline\n",
    "\\text{type} & C_0 & C_1 \\\\\\hline\n",
    "\\text{Survivor} & 1 &1 \\\\ \n",
    "\\text{Responder} & 0 & 1 \\\\\n",
    "\\text{Anti-responder} &1& 0 \\\\\n",
    "\\text{Doomed} & 0 &0\\\\\\hline\n",
    "\\end{array}\n",
    "$$"
   ]
  },
  {
   "cell_type": "markdown",
   "id": "dd4bfee8-0f2d-4b07-b2ee-3a1a8228021e",
   "metadata": {},
   "source": [
    "**Definition:** A <u>couterfactual</u> is a potential outcome, or the state of affairs that would have happened in the absence of the cause. \n",
    "\n",
    "Namely, $C_0|(X=1)$ is a counterfactual; it is the outcome (a person) would have experienced if counter to the fact of them recieving treatment 0 they had recieved treatment 1. Thus $\\mathbb{P}(C_0|X=1)$ is the probability of the outcome $C_0$ given that there was tretment given. \n",
    "\n",
    "Similarly for $C_1|X=0$. Since counterfactuals are the outcomes for events ($X$ values) that did not happen, they are fundamentally impossible to observre. Hence the name. "
   ]
  },
  {
   "cell_type": "markdown",
   "id": "557096c3-abf4-4362-85e2-384597a6c43d",
   "metadata": {},
   "source": [
    "**Definition:** The <u>average causal effect</u>\n",
    "$\\theta = \\mathbb{E}(C_1) − \\mathbb{E}(C_0)$.\n",
    "\n",
    "Note that knowledge of counterfactuals is, in general, required to know the average causal effect; $\\mathbb{E}(C_0)$ is estimated over all patients wincluding those with $X=1$. "
   ]
  },
  {
   "cell_type": "markdown",
   "id": "2461dca7-6c69-4e48-ac37-036ce4903881",
   "metadata": {},
   "source": [
    "**Definition:** The <u>association</u> $\\alpha = \\mathbb{E}(Y|X = 1)−\\mathbb{E}(Y|X = 0)$.\n"
   ]
  },
  {
   "cell_type": "markdown",
   "id": "e513ca1b-8a3d-477a-a18a-8fe53517ab45",
   "metadata": {},
   "source": [
    "**Theorem:** Association is not equal to causation.\n",
    "\n",
    "Proof (By counter example): If the data is augmented by the counterfactuals (marked with $*$ below) to yield the following table then\n",
    "$$\n",
    "\\theta = 0\\\\\n",
    "\\alpha = 1 .\n",
    "$$\n",
    "\n",
    "$$\n",
    "\\begin{array}{cccc}\n",
    "X& Y & C_0 &C_1 \\\\\\hline\n",
    "0 & 0 & 0 & 0^* \\\\ \n",
    "0 & 0 & 0 & 0^* \\\\ \\hline\n",
    "1 & 1 & 1^* & 1 \\\\ \n",
    "1 & 1 & 1^* & 1 \\\\ \n",
    "\\end{array} \n",
    "$$\n",
    "$\\square$"
   ]
  },
  {
   "cell_type": "markdown",
   "id": "3546c709-7c95-47f4-82d5-cc92c316c9c7",
   "metadata": {},
   "source": [
    "As an interpretation, say there is a medicine that has no effect on an illness; \n",
    "- rows 1 and 2 represent people who are  ill, they take a medicine, they do not get better, and they would not have gotten better without the medicine.\n",
    "- rows 3 and 4 represent people who are not ill, they do not take a medicine, they remain well, and they would  have remained well.\n",
    "\n",
    "Looking at association alone, one might think the medicine helped against the illness. It is the counterfactuals that show this is not the case. \n"
   ]
  },
  {
   "cell_type": "markdown",
   "id": "0951f3cd-0c9f-40bf-aefc-4c102e1b46e8",
   "metadata": {},
   "source": [
    "**Theorem:** If we randomly assign subjects to treatment and $P(X = 0) > 0 \\wedge  P(X = 1) > 0$, then \n",
    "- $α = \\theta  $  \n",
    "- the emperical probability allow a consistent estimator of the average causal effect as the emperical association; $\\hat{\\theta} = \\hat{\\mathbb{E}}(Y|X=1)−\\hat{\\mathbb{E}}(Y|X=0)$. "
   ]
  },
  {
   "cell_type": "markdown",
   "id": "a7e2b69a-c1d7-41ae-92f0-3ad1bc6e3049",
   "metadata": {},
   "source": [
    "**Definition:** The <u>conditional causal effect</u> on the value $z$ of the random variable $Z$ is $\\theta_z =E(C_1|Z =z)−E(C_0|Z =z)$.\n",
    "\n",
    "For example, if $Z$ denotes gender with values $Z = 0$ (women) and $Z = 1$ (men), then $\\theta_0$ is the causal effect among women and $\\theta_1$ is the causal effect among men. "
   ]
  },
  {
   "cell_type": "markdown",
   "id": "af58b532-ed65-44de-a79f-d7cad0a1cb16",
   "metadata": {},
   "source": [
    "## Continuous case\n",
    "If $X$ is continuous then \n",
    "- the <u>consistency relation</u> is $Y ≡ C(X)$  \n",
    "- the <u>regression function</u>, which measures association, is $r(x) = \\mathbb{E}(Y |X = x)$, whose emperical estimator is the line of best fit to the set of $N$ points $\\cup_{i=1}^N\\{(x_i,C_i(x_i)) \\}$, which contains no counterfactuals.\n",
    "- the <u>causal regression function</u> is $\\theta  (x) = \\mathbb{E}(C(x))$, \n",
    "    - by this I mean the function whose emperical estimator is the average over the $N$ patients of the functions $C_i$ with graph $\\{(x,C_i(x))| x\\in{\\cal X}\\}$; that is $\\hat{\\theta  }(x) = \\frac1N \\sum_\\limits{_i=1}^N C_i(x)$. \n",
    "    - Patient $I$ recieves dose $x_i$, so we only observe $C_i(x_i)$ for patient $i$, and the rest of the graph of $C_i$ for each patient $i$ is counterfactual. \n"
   ]
  },
  {
   "cell_type": "markdown",
   "id": "59760c7d-ce8f-481c-a7b7-d281cc7251d2",
   "metadata": {},
   "source": [
    "**Theorem:** In general, $\\theta  (x)\\neq r(x)$. However, when X is randomly assigned, $\\theta  (x) = r(x)$."
   ]
  },
  {
   "cell_type": "markdown",
   "id": "6c738a6f-fb50-4875-b774-4c2103c72325",
   "metadata": {},
   "source": [
    "## 16.3 Observational Studies and Confounding\n",
    "**Definition:** A study in which treatment (or exposure) is  not randomly assigned is called an <u>observational study</u>."
   ]
  },
  {
   "cell_type": "markdown",
   "id": "8520e551-13c8-4046-a55e-ab13c7abe09a",
   "metadata": {},
   "source": [
    "In general, the potential outcome $C$ is not independent of treatment X."
   ]
  },
  {
   "cell_type": "markdown",
   "id": "b4d29e18-9d84-487a-a544-fa051f2739ca",
   "metadata": {},
   "source": [
    "However, suppose we could find groupings of subjects such that, within groups, $X$ and $\\{C(x) : x ∈ {\\cal X}\\}$ are independent. This would happen if the subjects are very similar within groups. For example, suppose we find people who are very similar in age, gender, educational background, and ethnic background. Among these people we might feel it is reasonable to assume that the choice of X is essentially random. \n",
    "\n",
    "**Definition:** If the (vector of) random variable $Z$ satisfies $\\{C(x): x∈{\\cal X}\\}\\perp X|Z$  then $Z$ is called (a) <u>confounding variable(s)</u>. \n",
    "\n",
    "\n"
   ]
  },
  {
   "cell_type": "markdown",
   "id": "905c405e-c35a-4e06-82b4-106c0818f7d4",
   "metadata": {},
   "source": [
    "**Definition:** Confounding variables may exist, but we may not observe them; if we do not then we call them <u>unmeasured confounding variables</u>. \n",
    "\n",
    "**Definition:** If there are no such variables we say that there is <u>no unmeasured confounding</u>. "
   ]
  },
  {
   "cell_type": "markdown",
   "id": "c9b33a7c-7160-44b3-a587-e2257dbd1131",
   "metadata": {},
   "source": [
    "A note on tricky notation below; $X=x$ should be thought of as refering to data carried forward into emperical estimates. \n",
    "\n",
    "Recall that \n",
    "- $\\theta  (x) = \\mathbb{E}(C(x))=\\int \\mathbb{E}(C(x)|Z=z) dF_Z(Z=z)$ is the causal regression function. \n",
    "- $r(x) = \\mathbb{E}(Y |X = x)=\\int \\mathbb{E}(C(x)|Z=z,X=x) dF_Z(Z=z|X=x)$ is the regression function, which measures association\n"
   ]
  },
  {
   "cell_type": "markdown",
   "id": "e897849d-550c-4583-a322-199c92105b8f",
   "metadata": {},
   "source": [
    "**Theorem:** If $Z$ is a counfounding variable (meaning $\\{C(x): x∈{\\cal X}\\}\\perp X|Z$) then \n",
    "$$\\theta(x) = \\int \\mathbb{E}[C(x)|X=x,Z=z]dF_Z(z) = \\int \\mathbb{E}(Y|X=x,Z=z)dF_Z(z)$$"
   ]
  },
  {
   "cell_type": "markdown",
   "id": "776f4542-d0c0-43b8-98a2-3fe7769fe294",
   "metadata": {},
   "source": [
    "That is, the condition for confounding variables is sufficient for caluculation of the causal regression function $\\theta$ from emperical data. \n",
    "\n",
    "**Definition:** The relationship $\\theta(x) =  \\int \\mathbb{E}(Y|X=x,Z=z)dF_Z(z)$ is the <u>adjusted treatment effect</u>.\n",
    "\n",
    "The process of computing adjusted treatment effects is called adjusting (or controlling) for confounding. \n",
    "\n",
    "\n",
    "Further, for any consistent estimator $\\hat{q}(x,z)$ of $\\mathbb{E}(C(x)|X=x,Z=z)$ we have the consistent emperical estimate \n",
    "$$\n",
    "\\hat{\\theta}(x) = \\frac1N \\sum_{i=1}^N \\hat{q}(x,Z_i). \n",
    "$$"
   ]
  },
  {
   "cell_type": "markdown",
   "id": "9fca946a-5da6-4476-b455-91757cc57e6d",
   "metadata": {},
   "source": [
    "In particular, note that if $\\hat{q}$ is linear (meaning that the causal regression function is linear so that it has a linear consistent estimator) and \n",
    "$$\\hat{q}(x,z) = a_0 +a_1 x+a_2 z$$\n",
    "then the induced consistent estimator of the causal regressin function is\n",
    "$$\\hat{\\theta}(x) = \\hat{a_0} + \\hat{a_1}x+ \\hat{a_2} \\hat{Z}_N$$\n",
    "where the coefficients $a_i$ are from ordinary least squares regression. "
   ]
  },
  {
   "cell_type": "markdown",
   "id": "09546daa-a113-48e4-96c6-38a8a6126e2d",
   "metadata": {},
   "source": [
    "### Warning\n",
    "One single observational study is not, by itself, strong evidence. \n",
    "\n",
    "Even after adjusting for some confounders, we cannot be sure that there are no unmeasured confounding variables that we missed; observational studies must be treated with healthy skepticism. Consider them believable when\n",
    "- the results are replicated in many studies, \n",
    "- each of the studies controlled for plausible confounding variables, \n",
    "- there is a plausible scientific explanation for the existence of a causal relationship."
   ]
  },
  {
   "cell_type": "markdown",
   "id": "05881a96-124e-4135-8866-4f385b7bd9bf",
   "metadata": {},
   "source": [
    "## 16.4 Simpson's paradox\n",
    "\n",
    "Sometimes it appears that there is a treatment which is e.g. good for men, good for women, but bad overall. This may show up in the following triplet\n",
    "- $P(Y =1|X=1,Z=0)>P(Y =1|X=0,Z=0)$ (good for women)\n",
    "- $P(Y =1|X=1,Z=1)>P(Y =1|X=0,Z=1) $ ( good for men)\n",
    "- $P(Y = 1|X = 1) < P(Y = 1|X = 0)$ \n",
    "\n",
    "The problem is that the third can not be interpreted as \"bad overall\"; that statement would come from \n",
    "$$\n",
    "P(C_1 = 1) < P(C_0 = 1) \n",
    "$$. \n",
    "\n",
    "Ran outta time "
   ]
  },
  {
   "cell_type": "markdown",
   "id": "4820ef60-afd4-44ef-b78c-a7d88c856e42",
   "metadata": {},
   "source": []
  },
  {
   "cell_type": "markdown",
   "id": "0313f95a-9332-425d-9fbf-71ab6657f4ad",
   "metadata": {},
   "source": []
  },
  {
   "cell_type": "markdown",
   "id": "d85162b6-0a1e-4275-85f5-9428ec026276",
   "metadata": {},
   "source": []
  },
  {
   "cell_type": "markdown",
   "id": "944dd98c-aabb-4458-bb1c-5d1c4b38fbc5",
   "metadata": {},
   "source": [
    " \n",
    "# 17 Directed Graphs and Conditional Independence\n",
    "\n",
    "# 18 Undirected Graphs"
   ]
  },
  {
   "cell_type": "code",
   "execution_count": null,
   "id": "e848ca50-bf2c-4c3d-87f4-88a05e2d7c8b",
   "metadata": {},
   "outputs": [],
   "source": []
  }
 ],
 "metadata": {
  "kernelspec": {
   "display_name": "Python 3 (ipykernel)",
   "language": "python",
   "name": "python3"
  },
  "language_info": {
   "codemirror_mode": {
    "name": "ipython",
    "version": 3
   },
   "file_extension": ".py",
   "mimetype": "text/x-python",
   "name": "python",
   "nbconvert_exporter": "python",
   "pygments_lexer": "ipython3",
   "version": "3.9.7"
  }
 },
 "nbformat": 4,
 "nbformat_minor": 5
}
