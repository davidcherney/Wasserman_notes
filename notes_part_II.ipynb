{
 "cells": [
  {
   "cell_type": "markdown",
   "id": "15d8f3fa-5c72-4f71-ac7d-9250f5547e77",
   "metadata": {
    "tags": [],
    "toc-hr-collapsed": true
   },
   "source": [
    "# Part II: Statistical Inference"
   ]
  },
  {
   "cell_type": "markdown",
   "id": "ccc6235b-1b72-427f-a37f-05e56a96ecee",
   "metadata": {
    "tags": []
   },
   "source": [
    "# Ch6 Models, Statistical Inference and Learning\n",
    "The problem: Given a sample $X_1,...,X_n ∼ F$, how do we infer F?\n",
    "\n",
    "**Definition:** A **statistical model** is a set $\\mathfrak{F}$ of distributions (or densities or regression\n",
    "functions). \n",
    "\n",
    "**Definition:** A **parametric model** is a statistical model \n",
    "$\\mathfrak{F}=\\left\\{ f(x; \\theta)\\, |\\, \\theta \\in \\Theta\\subset \\mathbb{R}^n\\right\\}$ that can be parameterized by a finite number of parameters.\n",
    "\n",
    "**Definition:** If $\\theta$ is a vector of parameters of a parametric model but we are only interested in one component of $\\theta$, we call the remaining parameters **nuisance parameters**."
   ]
  },
  {
   "cell_type": "markdown",
   "id": "4a587c99-1ab6-42b7-9894-1bba2248fb66",
   "metadata": {},
   "source": [
    "### 6.3.1 Point Estimation\n",
    "**Definition:**  **Point estimation** refers to providing a single “best guess” of some quantity of interest from a random sample $X_1,\\dots,X_n$. \n",
    "\n",
    "**Definition:** An **estimator** of a quantity of interest $\\theta$ is a statistic $\\hat\\theta(X_1,\\dots,X_n)$ such that, for any data $x_1,\\dots,x_n$, the quantity $\\hat \\theta(x_1,\\dots,x_n) \\approx \\theta.$\n",
    "\n",
    "**e.g.s** The quantity of interest could be \n",
    "- a parameter in a parametric model, \n",
    "- a cdf $F$, \n",
    "- a probability density function $f$, \n",
    "- a regression function $r$, or \n",
    "- a prediction for a future value $Y$ of some random variable."
   ]
  },
  {
   "cell_type": "markdown",
   "id": "2abc5414-4433-45d3-8ca1-2b8132ab6c32",
   "metadata": {},
   "source": [
    "**Notation:** We denote a point estimate of $\\theta$ by $\\hat{\\theta}$ or $\\hat{\\theta}_n$ to emphasise its dependence on $n$ variables. Note that $\\theta$ is a fixed, unknown quantity (in the frequentist interpretation). The estimate $\\hat{\\theta}$ depends on the data in the sense that it is a function of a random sample $X^n$. Therefore $\\hat{\\theta}$ is a random variable."
   ]
  },
  {
   "cell_type": "markdown",
   "id": "67a2ba9f-17c2-4f3d-8497-148543e9fc2c",
   "metadata": {},
   "source": [
    "**e.g.** \n",
    "1. If $X\\sim F$ has mean $\\mu$ then the sample mean $\\hat{\\mu}_n = \\bar{X}_n = \\frac1n \\sum\\limits_{i=1}^n X_i$ is an estimator of $\\mu$. "
   ]
  },
  {
   "cell_type": "markdown",
   "id": "15458e04-8008-4421-8692-33c3d14324aa",
   "metadata": {},
   "source": [
    "2. If $X\\sim F$ then the sample distribution $\\hat{F}(x) = \\frac{1}{n} \\sum\\limits_{i=1}^n I(X_i\\geq x)$ is an estimator of the CDF $F$."
   ]
  },
  {
   "cell_type": "markdown",
   "id": "b47a1dce-76ad-4914-a544-f406ac962993",
   "metadata": {},
   "source": [
    "**Definition** If $\\hat{\\theta}_n(X_1,\\dots,X_n)$ is an estimator of $\\theta$, then the **sampling distribution**  of $\\hat{\\theta}_m$ is the distribution \n",
    "$F_{\\hat\\theta_n}(t) =\\idotsint_{A_t} \\prod\\limits_{i=1}^n f_X(x_i;\\theta) \\,dF(x_1)\\dots\\,dF(x_n)$ where $A_t =\\{x^n: \\hat{\\theta}_n(x^n)≤t\\}$."
   ]
  },
  {
   "cell_type": "markdown",
   "id": "9db4335b-b92c-471b-bb19-5ce1caf6cdec",
   "metadata": {},
   "source": [
    "**Recall** from ch2.11 that it is  derived from the change of variables \n",
    "$\\hat \\theta_n = \\hat\\theta_n(X_1,\\dots,X_n)$ \n",
    "and  the joint distribution on IID variables $f_{X^n}(x_1,...,x_n; \\theta) = \\prod\\limits_{i=1}^n f_X(x_i;\\theta)$ as\n",
    "$$F_{\\hat\\theta_n}(t) \n",
    "=\\idotsint_{A_t} f_{X_1,\\dots ,X_n } (x_1,\\dots,x_n)\\,dx_1\\dots\\,dx_n\\\\\n",
    "=\\idotsint_{A_t} \\prod\\limits_{i=1}^n f_X(x_i;\\theta) \\,dx_1\\dots\\,dx_n.\n",
    "$$"
   ]
  },
  {
   "cell_type": "markdown",
   "id": "89b86f9b-4fcb-4307-93d5-113fbccc23db",
   "metadata": {},
   "source": [
    "**e.g.** The sample mean $\\bar X_n$ of a random variable is a estimator of the population mean of $X$, and the distribution of $\\bar X_n$ is, by the central limit theorem, clost to a normal distribution. That distribution is the sampling distribution of the sample mean of $X$."
   ]
  },
  {
   "cell_type": "markdown",
   "id": "422b818a-ca04-4bc2-a93d-135c7d9024ac",
   "metadata": {},
   "source": [
    "## Bias"
   ]
  },
  {
   "cell_type": "markdown",
   "id": "04ee0d98-8c18-453a-bbc9-99aa11a905a9",
   "metadata": {},
   "source": [
    "**Definition:** The **bias** of an estimator $\\hat \\theta_n$ of a parameter $\\theta$ is defined by\n",
    "$\\text{bias}(\\hat{\\theta}_n) = \\mathbb{E}_{\\hat \\theta_n}(\\hat{\\theta}_n − \\theta)$ ."
   ]
  },
  {
   "cell_type": "markdown",
   "id": "3239674f-5670-47e9-a88c-3e1d1db3517a",
   "metadata": {},
   "source": [
    "**e.g.** The \"plug in variance\" \n",
    "$V = \\frac{1}{n} \\sum\\limits_{i=1}^n (X_i − \\bar{X_n} )^2$ of a continuous random variable $X$ is a biased estimator of the variance of $X$ because \n",
    "$$\\mathbb{E}(V - \\sigma^2) = \\frac{n-1}{n}\\sigma^2 - \\sigma^2 = -\\frac1n \\sigma^2.\n",
    "$$\n",
    "\n",
    "**non-e.g.** The the sample variance \n",
    "$S^2_n = \\frac{1}{n-1} \\sum\\limits_{i=1}^n (X_i − \\bar{X_n} )^2$ of a random variable $X$ is a un-biased estimator of the variance of $X$ because \n",
    "$$\\mathbb{E}(S_n^2 - \\sigma^2)  =0.$$ "
   ]
  },
  {
   "cell_type": "markdown",
   "id": "05bea800-b0e4-4319-8209-2de63016f126",
   "metadata": {},
   "source": [
    "**Definition** An estimator $\\hat{\\theta}_n$ of a parameter $\\theta$ is **consistent** if $\\hat\\theta_n\\stackrel{P}{\\to}\\theta$ as $n\\to\\infty$."
   ]
  },
  {
   "cell_type": "markdown",
   "id": "344bddc8-f332-4afc-adb6-2f1b035a91ef",
   "metadata": {},
   "source": [
    "I gather that the idea of having a consistant estimator used to consume a lot of reserach, but now it is less cool. "
   ]
  },
  {
   "cell_type": "markdown",
   "id": "429fbe22-50f3-4c64-a6d0-1914fb69e6a5",
   "metadata": {},
   "source": [
    "**e.g.s** Both the sample variance and the plug in variance are consistent estimators of the varience of a random variable. "
   ]
  },
  {
   "cell_type": "markdown",
   "id": "7c77f1b1-42cf-4e47-9ff5-fa52de38eaae",
   "metadata": {},
   "source": [
    "**Definition:** The **standard error** of an estimator $\\hat{\\theta}_n$ is the standard deviation of that estimator. "
   ]
  },
  {
   "cell_type": "markdown",
   "id": "597507ee-7d42-4f21-8202-2845221c7481",
   "metadata": {},
   "source": [
    "**Notation:** $\\text{se}_n = \\text{se}(\\hat{\\theta}_n) \n",
    "= \\sqrt{\\mathbb{V}_{\\hat \\theta_n } (\\hat{\\theta}_n)}\n",
    " = \\sqrt{\\int \\left( \\hat\\theta_n  - \\mathbb{E}_{\\hat \\theta_n}(\\hat \\theta_n) \\right)^2 dF_{\\hat\\theta_n}(x)}.$"
   ]
  },
  {
   "cell_type": "markdown",
   "id": "86172d5c-b2b8-4b4c-85a4-a4f85f986ff9",
   "metadata": {},
   "source": [
    "Note that I used to be confused about the subscript to be used, but not I think it does not matter because of the law of the unconcious statistician (LOTUS). \n",
    "\n",
    "Then again... $\\hat{theta}_n$ does not depend on $X$, but rather $X^n$.... "
   ]
  },
  {
   "cell_type": "markdown",
   "id": "8aa374a9-f8de-41ee-918f-0bf287b7f52f",
   "metadata": {},
   "source": [
    "Often, the standard error depends on the unknown CDF $F$. In those cases, $\\text{se}$ is an unknown quantity but we usually can estimate it. The estimated standard error is denoted by $\\hat{\\text{se}}$."
   ]
  },
  {
   "cell_type": "markdown",
   "id": "b590aa6d-7537-4604-bb3e-c47c238c4e08",
   "metadata": {},
   "source": [
    "**Definition** The **mean squared error**, or $\\text{mse}$, \n",
    "of a point estimate $\\hat{\\theta}_n$ of a parameter $\\theta$ is \n",
    "$\\text{mse}\\left(\\hat \\theta_n\\right) = \\mathbb{E}_{\\hat \\theta_n}(  \\hat{\\theta}_n − \\theta)^2.$ "
   ]
  },
  {
   "cell_type": "markdown",
   "id": "02732b6e-fa0e-43b2-9d0c-89197dda9f49",
   "metadata": {},
   "source": [
    "### MSE as bias plus variance. \n",
    "\n",
    "**Theorem:** $\\text{mse}= \\text{bias}^2 + \\mathbb{V}$."
   ]
  },
  {
   "cell_type": "markdown",
   "id": "ca11c163-4041-4bb1-bb71-6bf4cdec5715",
   "metadata": {},
   "source": [
    "**Proof** (from my notes on Unpingco)\n",
    "$$\n",
    "\\text{MSE}(\\hat \\theta) \n",
    "= \\mathbb{E}_{\\hat \\theta_n}( \\theta -  \\hat{\\theta}_n )^2$$"
   ]
  },
  {
   "cell_type": "markdown",
   "id": "97517f70-0b77-4f8c-8b21-2a3cc2a1a163",
   "metadata": {},
   "source": [
    "$$\n",
    "= \\mathbb{E}_{\\hat \\theta_n} \n",
    "\\left[ \n",
    "\\left( \\theta -\\mathbb{E}_{\\hat{\\theta}_n }(\\hat \\theta) \\right) \n",
    "+ \n",
    "\\left( \\mathbb{E}_{ \\hat\\theta_n} ( \\hat \\theta_n) - \\hat{ \\theta } \\right)\n",
    "     \\right]^2 \n",
    "$$"
   ]
  },
  {
   "cell_type": "markdown",
   "id": "6792c7e0-8eae-4e82-b7d0-4c4b861823e5",
   "metadata": {},
   "source": [
    "$$\n",
    "= \\mathbb{E}_{\\hat \\theta_n} \\left[  (\\theta                                     -\\mathbb{E}_{\\hat \\theta_n}(\\hat \\theta) )^2 \n",
    "                                + ( \\mathbb{E}_{\\hat \\theta_n}(\\hat \\theta)  - \\hat{ \\theta }                    )^2   \n",
    "+ 2(\\theta -\\mathbb{E}_{\\hat\\theta_n}(\\hat \\theta) ) ( \\mathbb{E}_{\\hat \\theta_n}(\\hat \\theta)  - \\hat{ \\theta } )\\right] \\\\\n",
    "= \n",
    "\\mathbb{E}_{\\hat \\theta_n} \\left[  (\\theta                                     -\\mathbb{E}_{\\hat \\theta_n}(\\hat \\theta) )^2 \n",
    "                                + ( \\mathbb{E}_{\\hat \\theta_n}(\\hat \\theta)  - \\hat{ \\theta }                    )^2   \\right] \n",
    "+ 2(\\theta -\\mathbb{E}_{\\hat\\theta_n}(\\hat \\theta) ) ( \\mathbb{E}_{\\hat \\theta_n}(\\hat \\theta)  - \\mathbb{E}_{\\hat\\theta_n}(\\hat{ \\theta } ))\n",
    "$$\n",
    "\n",
    "$$\n",
    "=\\left(\\theta -\\mathbb{E}_{\\hat \\theta_n}(\\hat \\theta) \\right)^2 \n",
    "+ \\mathbb{E}_{\\hat \\theta_n}\\left( \\mathbb{E}_{\\hat \\theta_n}(\\hat \\theta)  - \\hat{ \\theta } \\right)^2 $$\n",
    "\n",
    "$$= \n",
    "\\text{bias}^2(\\hat{\\theta}) \n",
    "+\n",
    "\\text{var}(\\hat{\\theta}). \\square \n",
    "$$"
   ]
  },
  {
   "cell_type": "markdown",
   "id": "9d3b7a97-e449-4bc7-be28-8ecf9904cf65",
   "metadata": {},
   "source": [
    "**Theorem:** If both bias and variance go to zero with increasing $n$ then the estimator is consistent. \n",
    "\n",
    "**Proof:** If bias and variance go to zero then $\\text{MSE}$ does too. Thus \n",
    "$\\hat\\theta \\stackrel{QM}{\\to} \\theta \\Rightarrow\\hat\\theta \\stackrel{P}{\\to} \\theta. \\square$ "
   ]
  },
  {
   "cell_type": "markdown",
   "id": "e7f5768b-6031-4efb-999f-ac22c7b66a97",
   "metadata": {},
   "source": [
    "**Definition:** An estimator $\\hat \\theta$ of a parameter $\\theta$ is **asymptotically normal** if\n",
    "$\\frac{\\hat{\\theta}_n − \\theta}{\\text{se} } \\stackrel{dist}{\\to} N (0, 1)$. "
   ]
  },
  {
   "cell_type": "markdown",
   "id": "414bb8fe-ea86-4165-a979-2173b48b142e",
   "metadata": {},
   "source": [
    "It is striking how many estimators are asymptotically normal."
   ]
  },
  {
   "cell_type": "markdown",
   "id": "4bcaaae5-c613-4f71-8ad9-5972ec5c2562",
   "metadata": {},
   "source": [
    "## Confidence Intervals/sets"
   ]
  },
  {
   "cell_type": "markdown",
   "id": "efd7eb14-ec08-47f2-b694-f303452b07f6",
   "metadata": {},
   "source": [
    "While there is obvious utility in estimating the value of a parameter using a value (e.g. the number 3.1 is an estimate of the parameter $\\pi$) there is also bennefit in estimating the value of a parameter using an interval. The goal in the latter is to find an interval of small width such that there is a high probability that the value of the parameter is in the interval. "
   ]
  },
  {
   "cell_type": "markdown",
   "id": "5adfcbce-a4e4-4973-ba01-1c37d3de465a",
   "metadata": {},
   "source": [
    "**Definition** A $1 −\\alpha$ **confidence interval** for a parameter $\\theta$ is an interval valued statistic $C_n = (a, b)$ where the random variables $a = a(X_1,...,X_n)$ and $b = b(X_1,...,X_n)$ are functions of the data such that\n",
    "$\\mathbb{P}_\\theta( \\theta \\in C_n ) ≥ 1−\\alpha$, for all $\\theta \\in \\Theta$."
   ]
  },
  {
   "cell_type": "markdown",
   "id": "b3f1d322-c7fc-4f6a-a604-fc25bb88b49f",
   "metadata": {},
   "source": [
    "**Definition:** If $(a,b)$ is a confidence interval of a statistic $\\theta$ then $a$ is called the <u>lower confidence limit</u> and b is called the <u>upper confidence limit</a>.\n",
    "\n",
    "**Definition:** $1-\\alpha$ is called the <u>confidence coefficient</u>.\n",
    "\n",
    "**Note** on the most common misunderstanding of confidence intervals: In $\\mathbb{P}_\\theta( \\theta \\in C_n )$ the symbol $\\theta$ is fixed while $C_n$ is an interval valued random variable. It is common for people to think that $\\theta$ somehow varies with the data here, but it is $C_n$ that varies with the data."
   ]
  },
  {
   "cell_type": "markdown",
   "id": "a5b97d90-67ce-41fd-a1fb-fe6b7dfedab6",
   "metadata": {},
   "source": [
    "**Definition:** If $\\theta$ is a vector then we use a **confidence set** (such as a sphere or an ellipse) instead of an interval."
   ]
  },
  {
   "cell_type": "markdown",
   "id": "87f21be4-6684-46a5-92c3-96d6c244ec30",
   "metadata": {},
   "source": [
    "Addressing common confusion about confidence sets\n",
    "- It is not a statement about the probability of $\\theta$ being some number, since $\\theta$ is fixed. \n",
    "- It is pretty un-physical to say that if you repeat data collection 100 times that you will obtain 100 intervals, with 95% of those intervals containng the true value $\\theta$, since we do not repeat experiments in real life. Rather, we typically have just one sample. \n",
    "- There have been many experiments of many kinds performed in the past to obtain data and 95% confidence intervals. The best interpretation is that 5% of those experiments led to confidence intervals that did not contain the true value. "
   ]
  },
  {
   "cell_type": "markdown",
   "id": "3be21af6-f057-43cb-81ac-87587321a7a5",
   "metadata": {},
   "source": [
    "### Pivots facilitate estimation CIs"
   ]
  },
  {
   "cell_type": "markdown",
   "id": "93c1a891-17fd-414c-9174-7515e0f5f339",
   "metadata": {},
   "source": [
    "This definition is not in Wasserman, but since the term is used I looked it up and found <a href src=\"https://www.stat.purdue.edu/~fmliang/STAT611/st611lect9.pdf\">this</a> dfn, 9.2.1. Also note that \"In general, differences are pivotal for location problems, while ratios are pivotal for scale problems\". I think this means that  "
   ]
  },
  {
   "cell_type": "markdown",
   "id": "6dde1e77-543f-4089-9e68-d33a36a90f03",
   "metadata": {},
   "source": [
    "**Definition:** Let $\\hat{\\theta}_n(X^n)$ be a point estimator of the parameter $\\theta$. Assume that $X\\sim F_\\theta$. A function $R(\\hat{\\theta}_n|\\theta)$ is a **pivotal quantity** of $\\theta$ if its distribution $F_R(\\hat{\\theta}_n|\\theta)$ is independent of the parameter $\\theta$. "
   ]
  },
  {
   "cell_type": "markdown",
   "id": "9f2e67da-795f-4a2c-9d4f-1e943c5d307f",
   "metadata": {},
   "source": [
    "This <a href src=\"https://pages.stat.wisc.edu/~shao/stat610/stat610-16.pdf\">slide</a> says a pivot is not a statistic. Why isn't a pivot a statistic despite being a function of statistic? I'll have to sort this out another day.\n",
    "\n"
   ]
  },
  {
   "cell_type": "markdown",
   "id": "5ec771a4-91be-4a41-8cd3-8b1b593c1e42",
   "metadata": {},
   "source": [
    "Typically these distributions $F_R$ of pivots R are $N(0,1),~t,~\\chi,$ or $F$ dsitributions.  "
   ]
  },
  {
   "cell_type": "markdown",
   "id": "af367228-4f99-4122-8c16-91a2e311bf77",
   "metadata": {},
   "source": [
    "The idea is that after finding a pivot the equation $\\mathbb{P}(a\\leq R(\\cdot|\\theta) \\leq b)=1-\\alpha$ can be rearranged to isolate $\\theta$ in an equaltiy of the form $\\mathbb{P} \\left( L\\leq \\theta \\leq U \\right)=1-\\alpha$ with upper and lower confidence limits $L,U$ independent of $\\theta$. "
   ]
  },
  {
   "cell_type": "markdown",
   "id": "40fcd777-7f00-40b8-93e7-cf54dea8bba3",
   "metadata": {},
   "source": [
    "#### Z\n",
    "Confidence interval of population mean from sample mean of normal distribution when variance is known via $Z$\n",
    "\n",
    "If it is known that $X\\sim N(\\mu,\\sigma)$ with $\\mu$ unknown and $\\sigma$ known then, $\\bar{X}_n$ is an estimator of $\\mu$ and \n",
    "$R(\\bar{X}^n|\\mu) = \\frac{\\bar{X}_n-\\mu}{\\sigma/\\sqrt{n}} \\sim N(0, 1)$ is a pivot of $\\mu$. (Prove it some day!)\n",
    "The goal is to find some interval $(a,b)$ such that $\\mathbb{P}\\left( a \\leq \\frac{\\bar{X}_n-\\mu}{\\sigma/\\sqrt{n}} \\leq b \\right) = 1-\\alpha$. One choice for $(a,b)$ is the symmetric interval $\\left( F_{N(0,1)}^{-1}(\\alpha/2) , F_{N(0,1)}^{-1}\\left(\\frac{1-\\alpha}{2}\\right)  \\right)=:(-U,U)$, giving $1-\\alpha$ confidence interval\n",
    "$$\n",
    "\\Leftrightarrow \n",
    "\\mathbb{P}\\left( \n",
    "\\bar{X}_n- F_{N(0,1)}^{-1}\\left(\\frac{1-\\alpha}{2}\\right) \\frac{\\sigma}{\\sqrt n}\n",
    "\\leq \n",
    "\\mu\n",
    "\\leq \n",
    "\\bar{X}_n+F_{N(0,1)}^{-1}\\left(\\frac{1-\\alpha}{2} \\right)\\frac{\\sigma}{\\sqrt n}\n",
    "\\right) = 1-\\alpha \\\\\n",
    "$$"
   ]
  },
  {
   "cell_type": "markdown",
   "id": "6d93e7b5-6d8f-406f-8358-6638760199c9",
   "metadata": {},
   "source": [
    "#### t \n",
    "Confidence interval of population mean from sample mean of normal distribution when variance is not known via $t$\n",
    "\n",
    "\n",
    "If it is known that $X\\sim N(\\mu,\\sigma)$ with $\\mu$ unknown and $\\sigma$ unknown then $\\bar{X}$ is an estimator of $\\mu$ and \n",
    "$R(\\bar{X}_n|(\\mu,\\sigma)) = \\frac{\\bar{X}_n-\\mu}{S_{n}/\\sqrt{n}} \\sim F_{t_{n-1}}$. Thus $R$ is a pivot of $\\mu$. The goal is to find some interval $(a,b)$ such that $\\mathbb{P}\\left( a \\leq \\frac{\\bar{X}_n-\\mu}{S_{n}/\\sqrt{n}} \\leq b \\right) = 1-\\alpha$. One choice for $(a,b)$ is the symmetric interval $\\left( F_{t_{n-1}}^{-1}\\left(\\frac{  \\alpha}{2}\\right) , F_{t_{n-1}}^{-1}\\left(\\frac{1-\\alpha}{2}\\right)  \\right)=:(-U,U)$, giving $1-\\alpha$ confidence interval\n",
    "$$\n",
    "\\mathbb{P}\\left( \n",
    "\\bar{X}_n - F_{t_{n-1}}^{-1}\\left(\\frac{1-\\alpha}{2}\\right) \\frac{S_{n}}{\\sqrt n}\n",
    "\\leq \n",
    "\\mu\n",
    "\\leq \n",
    "\\bar{X}_n + F_{t_{n-1}}^{-1}\\left(\\frac{1-\\alpha}{2} \\right)\\frac{S_{n}}{\\sqrt n}\n",
    "\\right) = 1-\\alpha \\\\\n",
    "$$"
   ]
  },
  {
   "cell_type": "markdown",
   "id": "8d836685-5b20-48dc-92de-9fc9d1f54fb0",
   "metadata": {},
   "source": [
    "#### Chi\n",
    "\n",
    " Confidence interval of population from variance from sample variance of normal distribution via $\\chi$\n",
    "\n",
    "If it is known that $X\\sim N(0,\\sigma)$ The parameter $\\sigma^2$ has estimator $S_n$. A pivot of $S_n$ is $\\chi_{n-1}= \\frac{ (n+1)S^2 }{ \\sigma^2} \\sim F_{\\chi_{n-1}}$. \n",
    "\n",
    "The goal is to find some interval $(a,b)$ such that $\\mathbb{P}\\left( a \\leq \\frac{ (n+1)S^2 }{ \\sigma^2} \\leq b \\right) = 1-\\alpha$. One choice for $(a,b)$ is the interval $\\left( 0, F_{\\chi_{n-1}}^{-1}\\left(1-\\alpha\\right)  \\right)=:(L,U)$, giving $1-\\alpha$ confidence interval\n",
    "\n",
    "$$\n",
    "\\mathbb{P}\\left( \n",
    "\\sigma^2 \\geq S_n^2(n+1)  \n",
    "\\right) = 1-\\alpha \\\\\n",
    "$$"
   ]
  },
  {
   "cell_type": "markdown",
   "id": "05e8001f-4a88-40f7-9b9f-b9624c34bde4",
   "metadata": {},
   "source": [
    "#### F\n",
    "\n",
    "Well I do not know this one yet. "
   ]
  },
  {
   "cell_type": "markdown",
   "id": "ae76a3f2-907a-475b-ae77-0669293580ed",
   "metadata": {},
   "source": [
    "#### U\n",
    "\n",
    "An estimator of the parameter $\\theta$ in $\\text{Uniform}(0,\\theta)$ is the statistic $M=\\max \\{X_i\\,|\\, i\\in\\{1,\\dots,n\\}\\}$. Since\n",
    "$F_M(m) = \\frac{m^n}{\\theta^n}$ the statistic $M$ is not a pivot of $\\theta$. However, $U=M/\\theta$ has distribution $\\text{Uniform}(0,\\theta)(x) = x^n$, and is it is a pivot. \n",
    "\n",
    "The goal is to find some interval $(a,b)$ such that $\\mathbb{P}\\left( a \\leq U \\leq b\\right)=1-\\alpha$. One choice is to leave probability $\\alpha/2$ on each side of the CDF of $U$; choose $(a,b) = \\left( F_{U}^{-1}\\left(\\frac{\\alpha}{2} \\right) , F_{U}^{-1}\\left(\\frac{1-\\alpha}{2} \\right) \\right) = \\left( \\left(\\frac{\\alpha}{2}\\right)^{1/n}  , \\left(\\frac{1-\\alpha}{2}\\right)^{1/n}   \\right)$. giving \n",
    "$$\\mathbb{P}\\left(  \\left(\\frac{\\alpha}{2}\\right)^{1/n}  \\leq U \\leq \\left(\\frac{1-\\alpha}{2}\\right)^{1/n}  \\right) = 1-\\alpha$$\n",
    "$$\\Leftrightarrow \n",
    "\\mathbb{P}\\left(  \n",
    "M \\left(\\frac{1-\\alpha}{2}\\right)^{-1/n}  \n",
    "\\leq \\theta \\leq \n",
    "M \\left( \\frac{\\alpha}{2}\\right)^{-1/n}  \n",
    "\\right) = 1-\\alpha$$\n"
   ]
  },
  {
   "cell_type": "markdown",
   "id": "1e7245cc-e3e9-4f12-b0bd-a86622ac085c",
   "metadata": {},
   "source": [
    "#### Best interval\n",
    "\n",
    "**Theorem:** The $1-\\alpha$ interval $(a,b)$of smallest width $b-a$ for a unimodal distribution with PFD $f$ satisfies $f(a) = f(b)$ and $a<x^*< b$ where $x^*$ is the mode. \n",
    "\n",
    "This is called the highest density confidence interval. "
   ]
  },
  {
   "cell_type": "markdown",
   "id": "5e09ffdf-43fa-4c5e-8495-21c725fdbea8",
   "metadata": {},
   "source": [
    "### Misunderstanding \n",
    "\n",
    "Again, once one runs experiments to obtain outcomes $\\omega_1,\\dots,\\omega_n \\in \\Omega$ and thereby obtains data $\\{x_i = X(\\omega_i)\\in \\mathbb{R}| i\\in\\{1,\\dots,n\\} \\}$, and obtains a statement like $\\mathbb{P}(.1 \\leq\\theta \\leq .3)=95\\%$... \n",
    "\n",
    "One **does not** have a statement that the probabiliy of $\\theta$ being in the interval is $95\\%$. Rather, the statement $\\mathbb{P}(.1 \\leq\\theta \\leq .3)=95\\%$ is either true or false. The idea, rather, is either that \n",
    "1. If the $n$ experiments were run a very large number of times the resulting statements would be true $95\\%$ of the time. But this is never done in science.\n",
    "2. Our of all $95%$ CI experiments performed, $5\\%$ identified CIs that did not contain the desired parameter. "
   ]
  },
  {
   "cell_type": "markdown",
   "id": "2efce6eb-b876-4eea-a187-db02327cb1eb",
   "metadata": {},
   "source": [
    "##  ch6 Exercises \n",
    "\n",
    "6.6.1 \n",
    "\n",
    "Problem: Let $X_1,...,X_n \\sim \\text{Poisson}(\\lambda)$ and let $\\hat\\lambda_n = n^{−1} \\sum\\limits_{i=1 }^n X_i$ be an estimator of $\\lambda$. Find the $\\text{bias, se}$ and $\\text{mse}$ of this estimator. \n",
    "\n",
    "Solution: The pdf of the Poisson distribution is $ f(k) = \\frac{\\lambda^k}{k!} e^{-\\lambda}$."
   ]
  },
  {
   "cell_type": "markdown",
   "id": "25f1fb89-4655-4b8a-bb35-cbaaef3c44a1",
   "metadata": {},
   "source": [
    "The mean $\\mu$ of the Poisson distribution is \n",
    "$$\n",
    "\\mu = \\mathbb{E}(k) = \\sum\\limits_{k=1}^\\infty k \\frac{\\lambda^k}{k!} e^{-\\lambda} \n",
    "=e^{-\\lambda} \\lambda \\frac{d }{d\\lambda} \\sum\\limits_{k=1}^\\infty   \\frac{\\lambda^{k}}{k!} \n",
    "=e^{-\\lambda} \\lambda \\frac{d }{d\\lambda} e^{\\lambda}  = \\lambda\n",
    "$$"
   ]
  },
  {
   "cell_type": "markdown",
   "id": "019ca1a8-3941-4c54-a9f1-e287a265b370",
   "metadata": {},
   "source": [
    "while the variance \n",
    "$$\n",
    "\\sigma^2 = \\mathbb{E}(k^2) - \\mu^2 \\\\\n",
    "= \\sum\\limits_{k=1}^\\infty k^2 \\frac{\\lambda^k}{k!}e^{-\\lambda} - \\mu^2\\\\\n",
    "= e^{-\\lambda} \\lambda \\frac{d}{d\\lambda}  \\lambda \\frac{d}{d\\lambda} e^{\\lambda}- \\mu^2\\\\\n",
    "= e^{-\\lambda} \\lambda \\frac{d}{d\\lambda}  \\lambda e^{\\lambda}- \\mu^2\\\\\n",
    "= e^{-\\lambda} \\lambda (  \\lambda e^{\\lambda}+ e^{\\lambda})- \\mu^2\\\\\n",
    "=  \\lambda (  \\lambda + 1)- \\mu^2\\\\\n",
    "=  \\lambda^2 +\\lambda - \\lambda^2 = \\lambda.\n",
    " $$"
   ]
  },
  {
   "cell_type": "markdown",
   "id": "a31403ab-c0cd-46ad-9c8d-739559a0abf8",
   "metadata": {},
   "source": [
    "The bias of $\\hat \\lambda$ is \n",
    "$$\\mathbb{E}(\\hat \\lambda) - \\mu =0\n",
    "$$\n",
    "while the standard error is \n",
    "$$\n",
    "\\mathbb{E}[(\\hat \\lambda - \\mathbb{E}(\\hat \\lambda))^2]\\\\\n",
    "=\\mathbb{E}[(\\hat \\lambda)^2] - \\mu^2\\\\\n",
    "= \\frac1{n^2}\\mathbb{E}\\left[ \\sum\\limits_{i=1}^n X_i^2 + 2\\sum\\limits_{1\\leq i<j\\leq n}X_iX_j \\right] - \\mu^2\\\\\n",
    "= \\frac1{n^2}\\left[ n\\left( \\sigma^2 + \\mu^2 \\right) + 2 \\frac{n(n-1)}{2} \\mu^2\\right] - \\mu^2\\\\\n",
    "= \\frac{\\sigma^2}{n} + \\mu^2\\left[ \\frac1n +\\frac{n(n-1)}{n} -1 \\right] \\\\\n",
    "=  \\frac{\\sigma^2}{n}\\\\ \n",
    "=  \\frac{\\lambda}{n} \n",
    "$$"
   ]
  },
  {
   "cell_type": "markdown",
   "id": "e5ab85d3-2348-4018-8a2a-89e329df67de",
   "metadata": {},
   "source": [
    "The $\\text{mse} = \\text{bias}^2 + \\text{se} = 0 + \\frac{\\lambda}{n}$. $\\square$ "
   ]
  },
  {
   "cell_type": "markdown",
   "id": "1c513ab4-bcdb-4d09-abaa-06c24bae2be5",
   "metadata": {},
   "source": [
    "6.6.2 \n",
    "Problem: Let $X_1,...,X_n ∼ \\text{Uniform}(0,\\theta)$ and let $\\hat{\\theta}_n= \\text{max}\\{X_1,...,X_n\\}$. Find the bias, se, and mse of this estimator.\n",
    "\n",
    "Solution: \n",
    "If the greatest random variable is $X_M$ then \n",
    "$$\n",
    "\\mathbb{P}(\\hat{\\theta} > x) \n",
    "= \\mathbb{P}(X_M > x)\n",
    "= \\mathbb{P}\\left(( \\forall  i \\in \\{i,\\dots ,n \\}) X_i > x\\right)\n",
    "$$\n",
    "By independence of the $X_i$, for $x\\in [0,\\theta]$, we have that\n",
    "$$\\text{CDF}_{\\hat{\\theta}}(x) = \\mathbb{P}(\\hat{\\theta} > x) \n",
    "=\\prod\\limits_{i=1}^n \\mathbb{P}(X_i>x)\n",
    "=\\prod\\limits_{i=1}^n \\text{CDF}_{\\text{Uniform}(0,\\theta)}(x)\n",
    "$$\n",
    "$$=\n",
    "\\left\\{\\begin{array}{l}\n",
    "0 \\text{ if } x<0 \\\\ \n",
    "\\prod\\limits_{i=1}^n \\frac{x}{\\theta} \\text{ if } x\\in[0,\\theta]\\\\\n",
    "1 \\text{ if } x\\in(\\theta,\\infty)\\\\\n",
    "\\end{array}\\right\\}\n",
    "=\n",
    "\\left\\{\\begin{array}{l}\n",
    "0 \\text{ if } x<0 \\\\ \n",
    "\\left( \\frac{x}{\\theta}\\right)^n \\text{ if } x\\in[0,\\theta]\\\\\n",
    "1 \\text{ if } x\\in(\\theta,\\infty)\\\\\n",
    "\\end{array}\\right.\n",
    "$$\n",
    "and thus \n",
    "$$\\text{PDF}_{\\hat{\\theta}}(x) = \n",
    "\\left\\{\\begin{array}{l}\n",
    "0 \\text{ if } x<0 \\\\ \n",
    "\\frac{n}{\\theta} \\left(\\frac{x}\\theta \\right)^{n-1} \\text{ if } x\\in[0,\\theta]\\\\\n",
    "0 \\text{ if } x>\\theta\n",
    "\\end{array}\\right.\n",
    "$$"
   ]
  },
  {
   "cell_type": "markdown",
   "id": "f8c4a230-a37c-4596-b238-107f436ab67b",
   "metadata": {},
   "source": [
    "Then \n",
    "$$\\mathbb{E}(\\hat\\theta) = \\int_0^\\theta x \\frac{n}{\\theta^n} x^{n-1} dx \n",
    "= \\frac{n}{n+1} \\frac{\\theta^{n+1} }{\\theta^n} \n",
    "= \\frac{n}{n+1} \\theta.\n",
    "$$\n",
    "Thus, the the estimator $\\hat{\\theta}$ of the parameter $\\theta$ is underbiased with \n",
    "$$\\text{bias} = \\mathbb{E}(\\hat{\\theta}) - \\theta = \\frac{-1}{n+1}\\theta.$$\n",
    "This seems reasonable; \n",
    "- the expected max of a sample is less than the least upper bound of the interval. \n",
    "- the bias goes to zero as $n\\to\\infty$."
   ]
  },
  {
   "cell_type": "markdown",
   "id": "735c6bf2-2087-417a-97fe-b20213e8eb1b",
   "metadata": {},
   "source": [
    "The standard error of $\\hat \\theta$ is \n",
    "$$\n",
    "\\text{se}(\\hat\\theta) = \\mathbb{E}\\left[  X^2  - \\left(\\mathbb{E}(X) \\right)^2\\right]\\\\\n",
    "=\\int_0^\\theta x^2 \\frac{n}{\\theta^n} x^{n-1} dx - \\left(   \\frac{n}{n+1} \\right)^2\\theta^2\\\\\n",
    "$$"
   ]
  },
  {
   "cell_type": "markdown",
   "id": "777bccf4-0e8b-4e1d-b2e6-4d5d5f49afa4",
   "metadata": {},
   "source": [
    "$$\n",
    "= \\frac{n}{n+2} \\theta^2  - \\left(   \\frac{n}{n+1} \\right)^2 \\theta^2 \\\\\n",
    "= \\left(\\frac{n}{n+2}  -    \\frac{n^2}{(n+1)^2} \\right)^2 \\theta^2\\\\\n",
    "$$"
   ]
  },
  {
   "cell_type": "markdown",
   "id": "c4ff013b-d46a-498b-98de-2487ec493d18",
   "metadata": {},
   "source": [
    "$$\n",
    "= \\left(\\frac{n(n+1)^2 - n^2(n+2)}{(n+2) (n+1)^2} \\right) \\theta^2 \\\\\n",
    "= \\left(\\frac{n }{(n+2) (n+1)^2} \\right) \\theta^2 \\\\\n",
    "$$"
   ]
  },
  {
   "cell_type": "markdown",
   "id": "92deb8ad-f12a-4189-b9a2-660a29aeafeb",
   "metadata": {},
   "source": [
    "It is reasonable that the SE goes to zero as $n\\to\\infty$. \n",
    "\n",
    "The mean squared error is then \n",
    "$$\\text{mse}(\\hat\\theta) \n",
    "= \\text{bias}^2 + \\text{se} \n",
    "= \\left( \n",
    "\\frac{1}{(n+1)^2} + \\frac{n}{(n+2)(n+1)^2}\n",
    "\\right) \n",
    "\\theta^2\\\\\n",
    "=\\frac{2}{(n+1)(n+2)}\\theta^2.\n",
    "$$\n",
    "Again, it is reasonable that MSE goes to zero as $n\\to\\infty$. "
   ]
  },
  {
   "cell_type": "markdown",
   "id": "ebbdb21e-ea91-43bc-9505-f0a68c78cc6d",
   "metadata": {},
   "source": [
    "**6.6.3** \n",
    "\n",
    "Problem: Let $X_1,...,X_n \\sim \\text{Uniform}(0,\\theta)$ and let $\\hat{\\theta} = 2\\bar{X}_n$. Find the bias, se, and mse of this estimator."
   ]
  },
  {
   "cell_type": "markdown",
   "id": "ec92b836-338a-42f3-b289-bb1ca049f756",
   "metadata": {},
   "source": [
    "**Solution**\n",
    "With $\\text{pdf}(x) = \\frac1\\theta$ on its support $[0,\\theta]$ we have\n",
    "$$\n",
    "\\mathbb{E}(X) = \\int_0^\\theta x \\frac1\\theta dx = \\frac12 \\frac{\\theta^2}{\\theta}\n",
    "=\\frac{\\theta}{2}\n",
    "$$\n",
    "and \n",
    "$$\n",
    "\\mathbb{E}(X^2) = \\int_0^\\theta x^2 \\frac1\\theta dx\n",
    "=\\frac13 \\frac{\\theta^3}{\\theta}=\\frac{\\theta^2}{3}\n",
    "$$\n",
    "and \n",
    "$$\n",
    "\\mathbb{V}(X) = \\mathbb{E}(X^2) - \\left( \\mathbb{E}(X) \\right)^2\n",
    "=\\frac{\\theta^2}{3} -\\frac{\\theta^2}{4} = \\frac{1}{12}\\theta^2.\n",
    "$$"
   ]
  },
  {
   "cell_type": "markdown",
   "id": "e76162c9-90cb-44a5-aefb-d923158f20f3",
   "metadata": {},
   "source": [
    "Therefore \n",
    "$$\\text{bias} = \\mathbb{E}(2\\bar X)  - \\theta = 2 \\frac{\\theta}{2}  - \\theta =0 $$\n",
    "but\n",
    "$$\\text{se}  \n",
    "= \\mathbb{V}(2\\bar{X}) \\\\\n",
    "= \\mathbb{V}\\left(\\frac{2}{n}  \\sum\\limits_{i=1}^n X_i\\right) \n",
    "=\\frac{4}{n^2} \\sum\\limits_{i=1}^n \\mathbb{V}(X_i)\\\\\n",
    "=\\frac{4}{n^2} n \\frac{\\theta^2}{12 } \\\\\n",
    "=\\frac{\\theta^2}{3n}\n",
    "$$"
   ]
  },
  {
   "cell_type": "markdown",
   "id": "855add5d-ee9b-4f3c-9a94-327ccc97abd6",
   "metadata": {},
   "source": [
    "Of course, since the estimator is unbiased, its $\\text{se}$ is equal to its $\\text{mse}$."
   ]
  },
  {
   "cell_type": "markdown",
   "id": "09c566af-f001-4d22-8566-c87e3d4cdf05",
   "metadata": {
    "tags": []
   },
   "source": [
    "\n",
    "# Ch 7 Estimating the CDF and Statistical Functions"
   ]
  },
  {
   "cell_type": "markdown",
   "id": "7deab7f5-2a96-49f6-93b3-61775d5c18ab",
   "metadata": {},
   "source": [
    "**Definition:** The **emperical distribution function** $\\hat{F}_n:\\mathbb{R}\\to [0,1]$ of a set $\\{X_i~|~i\\in[1,\\dots,n] \\}$ of data points (actually random variables)  $X_i$ is the distribution that puts weight $1/n$ at each of the $n$ data points;\n",
    "\n",
    "$$\n",
    "\\hat{F}_n(x) = \\frac{1}{n} \\sum_{i=1}^n I(x\\geq X_i ).\n",
    "$$"
   ]
  },
  {
   "cell_type": "markdown",
   "id": "a48551cc-1615-4554-b5a9-e7c2dc065019",
   "metadata": {},
   "source": [
    "This is often called the emperical cumulative distribution function (eCDF) to distinguish it from what I'd call the emperical mass function (eMF) which can be an estimatore of a PDF.  "
   ]
  },
  {
   "cell_type": "code",
   "execution_count": 51,
   "id": "0a0397a8-c82e-4baa-af85-4c83f4144f8b",
   "metadata": {},
   "outputs": [
    {
     "data": {
      "text/plain": [
       "0.07981023983715418"
      ]
     },
     "execution_count": 51,
     "metadata": {},
     "output_type": "execute_result"
    }
   ],
   "source": [
    "import numpy as np\n",
    "import matplotlib.pyplot as plt\n",
    "\n",
    "# Generate and sort random points and the eCDF from them. \n",
    "def pdf(xs):\n",
    "    # Using f(x) = x\n",
    "    return xs\n",
    "\n",
    "def generate_distribution(n_points=10):\n",
    "    xs = sorted(np.random.rand(n_points))\n",
    "    ecdf = np.asarray([i/n_points for i,x in enumerate(xs)])\n",
    "    max_deltas = max(abs(ecdf - pdf(xs)))\n",
    "    return xs, ecdf, max_deltas\n",
    "\n",
    "# Generate dots to connect for piecewise constant function.\n",
    "def double_points(points, ordinate = False):\n",
    "    ds = list()\n",
    "    for p in points:\n",
    "        ds.append(p)\n",
    "        ds.append(p)\n",
    "    # If input to this function is ordinate, to make piecewise constant function\n",
    "    # first value is zero and last value is not needed.\n",
    "    if ordinate == True:\n",
    "        ds.append(0)\n",
    "        ds.pop()\n",
    "    return ds\n",
    "\n",
    "def generate_piecewise_data(n_points):\n",
    "    xs, ecdf, max_deltas = generate_distribution(n_points)\n",
    "    xs_doubled = double_points(xs)    \n",
    "    ecdf_doubled = double_points(ecdf, ordinate=True)\n",
    "    return xs_doubled, ecdf_doubled, max_deltas\n",
    "\n",
    "generate_piecewise_data(10)[2]"
   ]
  },
  {
   "cell_type": "code",
   "execution_count": 75,
   "id": "b84d776c-5e80-4802-ad67-2894e03e80ec",
   "metadata": {},
   "outputs": [
    {
     "data": {
      "image/png": "[encoded data removed]",
      "text/plain": [
       "<Figure size 432x288 with 1 Axes>"
      ]
     },
     "metadata": {
      "needs_background": "light"
     },
     "output_type": "display_data"
    }
   ],
   "source": [
    "plt.plot([0,1],[0,1],label=\"CDF\")\n",
    "ns = [10,20,40, 80]\n",
    "max_deltas = ns.copy() #initializing\n",
    "for i,n in enumerate(ns):\n",
    "    data = generate_piecewise_data(n)\n",
    "    plt.plot(*data[0:2], label=f\"eCDF, n={n}\")\n",
    "    max_deltas[i] = data[2]\n",
    "plt.title(\"Emperical Cumulative Distribution Function\")\n",
    "plt.ylabel(\"ECDF(x)\")\n",
    "plt.xlabel(\"x\")\n",
    "plt.legend()\n",
    "plt.show();"
   ]
  },
  {
   "cell_type": "code",
   "execution_count": 77,
   "id": "e686b7de-fb76-4ec4-b359-a31e6ebb1de4",
   "metadata": {},
   "outputs": [
    {
     "data": {
      "text/plain": [
       "[<matplotlib.lines.Line2D at 0x7f97513ab550>]"
      ]
     },
     "execution_count": 77,
     "metadata": {},
     "output_type": "execute_result"
    },
    {
     "data": {
      "image/png": "[encoded data removed]",
      "text/plain": [
       "<Figure size 432x288 with 1 Axes>"
      ]
     },
     "metadata": {
      "needs_background": "light"
     },
     "output_type": "display_data"
    }
   ],
   "source": [
    "plt.plot(ns, max_deltas)"
   ]
  },
  {
   "cell_type": "markdown",
   "id": "2a5cbd6e-05e2-45d5-a7e5-8e22a0478ac6",
   "metadata": {},
   "source": [
    "**Theorem** For any value of $x$ \n",
    "1. $\\mathbb{E} \\left(\\hat F_n(x)\\right) = F(x)$\n",
    "2. $\\mathbb{V} \\left(\\hat F_n(x)\\right) = \\frac{F(x)(1-F(x))}{n}$ \n",
    "3. $\\text{MSE}\\left( \\hat F_n(x)\\right) = \\mathbb{V} \\left(\\hat F_n(x)\\right)\n",
    "\\to 0 \\text{ as } n\\to \\infty   $ \n",
    "4. $\\hat F_n(x) \\stackrel{P}{\\to} F(x) \\text{ as } n\\to \\infty.$ "
   ]
  },
  {
   "cell_type": "markdown",
   "id": "f2b2266e-c1cd-445e-9041-2e75544de62f",
   "metadata": {},
   "source": [
    "That is, \n",
    "- by 1, $\\hat F_n(x)$ is an unbiased estimator of $F(x)$,\n",
    "- by 4, $\\hat F_n(x)$ is a consistant estimator of $F(x)$. \n",
    "\n",
    "But is this pointwise consistency uniform? "
   ]
  },
  {
   "cell_type": "markdown",
   "id": "51423db2-a177-42b1-82ea-6e5cbe81d4ae",
   "metadata": {},
   "source": [
    "**Glivenko-Cantelli Theorem:** If $X_1,...,X_n \\sim F$ then \n",
    "$$\\sup\\limits_x \\left| \\hat{F_n}(x) - F (x)\\right| \\stackrel{a.s.}{\\to} 0 \\text{ as } n\\to\\infty.$$"
   ]
  },
  {
   "cell_type": "markdown",
   "id": "97bccebe-96b8-49b6-b123-b73e107260bb",
   "metadata": {},
   "source": [
    "Interpretation: for data with non-zero probability, the function $\\hat F_n$ is a consistent estimator of the function $F$."
   ]
  },
  {
   "cell_type": "markdown",
   "id": "042573e6-d495-45e2-ba6c-3dbb0832f6c7",
   "metadata": {},
   "source": [
    "The details of this convergence, shown in the next two theorems, provide a foundation for construction of a confidence set based on Markov, Chebyshev, and Hoeffding’s inequalities (culminating in theorem 4.5). "
   ]
  },
  {
   "cell_type": "markdown",
   "id": "796f57be-ef10-41b2-b1de-ab2827674e7b",
   "metadata": {},
   "source": [
    "**Theorem 4.5** (Hoeffding’s Inequality, part 2) Let $X_1 , . . . , X_n \\sim \\text{Bernoulli}(p)$. Then, for any $\\epsilon > 0$,\n",
    "\n",
    "$$\\mathbb{P} ( |\\bar{X}_n − p| > \\epsilon ) \n",
    "\\leq  2e^{−2n \\epsilon^2}.$$"
   ]
  },
  {
   "cell_type": "markdown",
   "id": "3ca3c7c6-3e84-4f95-ae98-9f0c740c4d4c",
   "metadata": {},
   "source": [
    "Since $I(X>x)$ is a Bernouli random variable, \n",
    "$\\hat F_n(x)$ is a sample mean of IID Bernoulli random variables that has mean $F(x)$. \n",
    "Thus, for all $x$, the point values $\\hat F_n(x) $ and $F(x)$ can be subsituted into theorem 4.5. Since the right is independent of the value of $x$... "
   ]
  },
  {
   "cell_type": "markdown",
   "id": "ee64ae09-943e-4396-a042-3acb15f77cfb",
   "metadata": {},
   "source": [
    "**Theorem: Dvoretzky-Kiefer-Wolfowitz (DKW) Inequality** \n",
    "$$\\mathbb{P}\\left(  \\sup\\limits_x \\vert  \\hat{F_n}(x) + F (x) | > \\epsilon \\right) ≤ 2e^{−2n\\epsilon^2 }  $$"
   ]
  },
  {
   "cell_type": "markdown",
   "id": "65e91277-c60f-443a-b5e8-1a702db922ea",
   "metadata": {},
   "source": [
    "That gives the following widely used result:\n",
    "\n",
    "## A Nonparametric $1 − \\alpha~$ Confidence Band for A CDF:\n",
    "\n",
    "Let \n",
    "$$L(x) = \\max\\left\\{\\hat{F_n}(x)−\\epsilon_n,0\\right\\}$$ \n",
    "and \n",
    "$$U(x) = \\min\\left\\{\\hat{F_n}(x) + \\epsilon_n, 1\\right\\} $$\n",
    "\n",
    "\n",
    "where \n",
    "$$\\epsilon_{\\alpha,n} = \\sqrt{  \\frac{1}{2n} \\log \\left(  \\frac{2}{\\alpha} \\right) }.$$\n",
    "Then \n",
    "$$\\mathbb{P}\\left( L(x)≤F(x)≤U(x)\\text{ for all x } \\right) \\geq 1−\\alpha.$$\n",
    "\n"
   ]
  },
  {
   "cell_type": "markdown",
   "id": "1135acc2-a7e6-4b3c-9abd-944823882b73",
   "metadata": {},
   "source": [
    "------"
   ]
  },
  {
   "cell_type": "markdown",
   "id": "4de47186-4f8d-4006-9fb0-04dd8f45a581",
   "metadata": {},
   "source": [
    "That is, random sampling allows approximation of the CDF of a random variable;\n",
    "- take $n$ samples and construct the emperical distribution function $\\hat F_n$. \n",
    "- There is a $1-\\alpha$ probability that both \n",
    "    - $\\hat F_n + \\epsilon_{\\alpha,n}$ bounds the entire CDF above \n",
    "    - $\\hat F_n - \\epsilon_{\\alpha,n}$ bounds the entire CDF below\n"
   ]
  },
  {
   "cell_type": "code",
   "execution_count": 46,
   "id": "ef9edbae-04f2-4d00-98f0-715cbda761f9",
   "metadata": {},
   "outputs": [
    {
     "data": {
      "image/png": "[encoded data removed]",
      "text/plain": [
       "<Figure size 432x288 with 1 Axes>"
      ]
     },
     "metadata": {
      "needs_background": "light"
     },
     "output_type": "display_data"
    }
   ],
   "source": [
    "import time\n",
    "import math\n",
    "import numpy as np\n",
    "import pandas as pd\n",
    "from scipy.stats import norm, cauchy\n",
    "import matplotlib.pyplot as plt\n",
    "\n",
    "n = 100\n",
    "alpha = 0.05\n",
    "epsilon = math.sqrt((1 / (2 * n)) * math.log(2 / alpha))\n",
    "\n",
    "# Wtih Normal distribution\n",
    "def generate():\n",
    "    # Randomly sample\n",
    "    samples = norm.rvs(size=n)\n",
    "    sorted_samples = sorted(samples)\n",
    "\n",
    "    # Fraction of samples less than x\n",
    "    F_n = lambda x : sum(sorted_samples < x) / n\n",
    "    # Bounds\n",
    "    L_n = lambda x : max(F_n(x) - epsilon, 0)\n",
    "    U_n = lambda x : min(F_n(x) + epsilon, 1)\n",
    "\n",
    "    # collect into df\n",
    "    df = pd.DataFrame({\n",
    "            'x': sorted_samples, \n",
    "            'F_n': np.array(list(map(F_n, sorted_samples))), \n",
    "            'U_n': np.array(list(map(U_n, sorted_samples))), \n",
    "            'L_n': np.array(list(map(L_n, sorted_samples))), \n",
    "            'CDF': np.array(list(map(norm.cdf, sorted_samples)))\n",
    "            })\n",
    "    #column to label out parts of CDF outside ob bounds.\n",
    "    df['in_bounds'] = (df['U_n'] >= df['CDF']) & (df['CDF'] >= df['L_n'])\n",
    "\n",
    "    bound_broken = np.any(~df['in_bounds'])\n",
    "    return df, bound_broken\n",
    "\n",
    "def plot(df, bound_broken):\n",
    "    plt.plot( 'x', 'L_n', data=df, color='red')\n",
    "    plt.plot( 'x', 'U_n', data=df, color='green')\n",
    "    plt.plot( 'x', 'CDF', data=df, color='purple')\n",
    "    plt.title(f'It is {bound_broken} that the CDF crosses the 95% confidence bounds.')\n",
    "    plt.legend();\n",
    "\n",
    "plot(*generate())"
   ]
  },
  {
   "cell_type": "code",
   "execution_count": 79,
   "id": "1471ef33-41a6-427e-b1db-a938c1ea10c4",
   "metadata": {},
   "outputs": [
    {
     "name": "stdout",
     "output_type": "stream",
     "text": [
      "CPU times: user 1min, sys: 85 ms, total: 1min\n",
      "Wall time: 1min\n"
     ]
    },
    {
     "data": {
      "text/plain": [
       "0.037"
      ]
     },
     "execution_count": 79,
     "metadata": {},
     "output_type": "execute_result"
    }
   ],
   "source": [
    "%%time\n",
    "# calculate the fraction of the time that the bound is broken. \n",
    "# It is a.s. less than alpha = 0.05\n",
    "break_booleans = [generate()[1] for _ in range(1000)]\n",
    "sum(break_booleans)/len(break_booleans) # got 0.026, 0.035"
   ]
  },
  {
   "cell_type": "markdown",
   "id": "4853f54e-e0e2-485b-8079-0a36eb6a56f9",
   "metadata": {},
   "source": [
    "## 7.2 Statistical functionals"
   ]
  },
  {
   "cell_type": "markdown",
   "id": "7734ab19-6113-4212-91d3-8430793d56be",
   "metadata": {
    "tags": []
   },
   "source": [
    "**Definition:** In general any function $T$ of the CDF $F$ is called a **statistical functional**. \n",
    "\n",
    "**e.g.s** \n",
    "1. Variance is the statistical functional $\\mathbb{V}$ that assigns to the distibution $F$ (regardless of the random variable it goes with) the number\n",
    "$$\\int x^2 dF(x) −\\left( \\int xdF(x)\\right)^2$$\n",
    "\n",
    "2. Median is the statistical functional that assigns to the distribution $F$ the number\n",
    "$$F^{−1}(1/2).$$\n",
    "\n",
    "3. Sampling distributions $F_{\\hat\\theta_n}$ of estimates $\\hat{\\theta}_n$ of a parameter $\\theta$ are examples of statistical functionals. "
   ]
  },
  {
   "cell_type": "markdown",
   "id": "7590e734-2bad-46fd-8386-bdef8fa59389",
   "metadata": {
    "tags": []
   },
   "source": [
    "**Definition:** A statistical functional of the from $T(F) = \\int r(x) dF(x)$ is a <u>linear statistical functional</u>. \n",
    "\n",
    "Why? Because $T(ar +bs)=aT(r) +bT(s)$, and likely any homogeneous degreee one addition preserving statistical functional can be realized this way, so keep an eye out in future reading. \n",
    "\n",
    "**e.g.s** \n",
    "1. Expectation value is a linear statistical functional that assigns to the distribution $F$ the number \n",
    "$$\\int x dF(x).$$\n",
    "2. Sampling distributions $F_{\\hat\\theta_n} =\\idotsint_{A_t} \\prod\\limits_{i=1}^n f_X(x_i;\\theta) \\,dx_1\\dots\\,dx_n = \\int r(x) dF(x)$  with $r$ being the first $n-1$ integrals.\n",
    "\n",
    "**non-e.g.s** Neighter variance nor median is a linear statistical function. \n",
    "\n",
    "----"
   ]
  },
  {
   "cell_type": "markdown",
   "id": "35483fb9-0aca-41b4-9f7c-1a149690e660",
   "metadata": {},
   "source": [
    "## Plug In Estimators \n",
    "of Statistical Functionals"
   ]
  },
  {
   "cell_type": "markdown",
   "id": "68749dc6-2459-43ea-a2dd-8ba1fb8083bd",
   "metadata": {},
   "source": [
    "**Definition** The **plug-in estimator** of the statistical functional $\\theta = T (F )$ is the statistic $\\hat{\\theta}_n = T \\left( \\hat F_n \\right)$ .\n",
    "\n",
    "In other words, just plug in the emperical distribution $\\hat F_n$ for the unknown distribution $F$."
   ]
  },
  {
   "cell_type": "markdown",
   "id": "d442ee2a-e750-4935-9429-64514f79d1d8",
   "metadata": {},
   "source": [
    "**Thm 7.9** The plug-in estimator for linear statistical functional $T$ such that\n",
    "$ T (F ) =\\int r(x)dF (x) ~\\forall \\text{ distribution } F$ is the statistic\n",
    "$$ T\\left(\\hat{F_n}\\right) = \\frac1n \\sum\\limits_{i=1}^n  r(X_i).$$"
   ]
  },
  {
   "cell_type": "markdown",
   "id": "ee86a5ae-d4f9-46bf-90de-50ec56725672",
   "metadata": {},
   "source": [
    "**Proof:** Using the definition of the Dirac delta function in terms of the Heaviside function, \n",
    "$$\n",
    "\\delta(x-a) = \\frac{d}{dx} I(x\\geq a)\n",
    "$$\n",
    "We have that \n",
    "$$\n",
    "T(\\hat F) = \\int r(x)d\\hat{F_n}(x) \n",
    "= \\int_\\mathbb{R} r(x) d\\left( \\frac1n \\sum\\limits_{i=1}^n I(x\\geq X_i)\\right)\\\\\n",
    "= \\int_\\mathbb{R} \\frac1n r(x) \\sum\\limits_{i=1}^n \\delta(x-X_i) dx \n",
    "= \\frac1n \\sum\\limits_{i=1}^n r(X_i). \\square\n",
    "$$"
   ]
  },
  {
   "cell_type": "markdown",
   "id": "4e7e8de2-4659-4e7e-bcd2-2db1c0a65d90",
   "metadata": {},
   "source": [
    "**Theorem:** The plug in estimator $\\hat{\\mathbb{V}}_n$ of the linear statistical function known as the variance $\\mathbb{V}$ is the population variance of the random sample $X_n$.\n",
    "\n",
    "**Proof:** Since the variance is defined by"
   ]
  },
  {
   "cell_type": "markdown",
   "id": "dedea116-1d9a-4d87-8f88-a88b3976b321",
   "metadata": {},
   "source": [
    "$$\\mathbb{V}(F) = \\int \\left(x- \\int x dF(x) \\right)^2 dF(x)$$ \n",
    "so it is not a linear statistical functional. However, the expectation value appearing within is, and we will make use of that. \n",
    "\n",
    "The plug in estimator of the variance is "
   ]
  },
  {
   "cell_type": "markdown",
   "id": "60a15262-83f3-424d-b990-9a5975d52ac0",
   "metadata": {},
   "source": [
    "$$\n",
    "\\hat{\\mathbb{V}}_n(\\hat F_n) \n",
    "= \\int \\left(x- \\int x d\\hat F_n(x)\\right)^2 d\\hat F_n(x)\\\\\n",
    "= \\int \\left(x - \\sum\\limits_{i=1}^n  X_i  \\frac 1n \\right)^2 d\\hat F_n(x)\\\\\n",
    "= \\frac 1n \\sum\\limits_{j=1}^n \\left(X_j- \\bar{X}_n   \\right)^2. \\square\n",
    "$$ "
   ]
  },
  {
   "cell_type": "markdown",
   "id": "e9ef5eac-fe61-4ef0-ada6-6ba8b401d995",
   "metadata": {},
   "source": [
    "**Note:** The plug in estimator of variance is\n",
    "- is NOT the sample variance; the sample variance $S^2_n :=\\frac{1}{n-1}\\sum\\limits_{j=1}^n(X_i-\\bar{X}_n)$  is a statistic and an unbaised estimator of variance of $X$.\n",
    "- is the population variance with the emperical distribution function thrown in place of the distribution, even if the population was continuous and the sample was finite.\n",
    "- is a biased estimator of the variance of $X\\sim F$ since $\\mathbb{E}(\\hat{\\mathbb{V}}_n - \\sigma^2) = \\frac1n \\sigma^2$.  \n",
    "- is a consistant estimator of the variance since $\\mathbb{E}(\\hat{\\mathbb{V}}_n - \\sigma^2) = \\frac1n \\sigma^2 \\to 0$ as $n\\to \\infty$. "
   ]
  },
  {
   "cell_type": "markdown",
   "id": "30d88419-8363-4667-913d-dbf8a1f4e7f8",
   "metadata": {},
   "source": [
    "**Definition** (in eg 7.13): The **sample correlation** is the plug in estimator for the  statistical functional called the population correlation. \n",
    "\n",
    "**e.g.** (of plug in estimate with a joint distribution) \n",
    "\n",
    "The population correlation $\\text{Cov}(X,Y)$ uses $Z=(X,Y)\\sim F_Z$ and is the statistical functional \n",
    "$$\n",
    "T(F_Z)=\\rho_{F_Z}(X,Y) \\\\\n",
    "= \\frac{\\mathbb{E}_Z\\left[(X - \\mu_X)(Y-\\mu_Y)\\right]}{\\sigma_X\\sigma_Y}\\\\\n",
    "=  \\frac{\\int (x - \\mu_X)(y-\\mu_Y) dF_Z(X,Y)}{\n",
    "\\sqrt{\\int (x- \\mu_X)^2 dF_X(x)}\n",
    "\\sqrt{\\int (y- \\mu_Y)^2 dF_Y(y)}\n",
    "} \n",
    "$$\n",
    "\n",
    "which is not a linear statistical functionl, but is built from threee of them. "
   ]
  },
  {
   "cell_type": "markdown",
   "id": "65a0d2f5-583f-4d9f-b198-8c2e9bdce7c1",
   "metadata": {},
   "source": [
    "The plug in estimator of the statistical functional called the covariance is is the statistic \n",
    "$$\\hat{\\rho}_n(X^n,Y^n) = \n",
    "\\frac\n",
    "{\\sum\\limits_{i=1}^n(X_i - \\bar{X}_n)(Y_i - \\bar{Y}_n)}\n",
    "{\\sqrt{\\sum\\limits_{i=1}^n(X-\\bar{X}_n)^2 \\sum\\limits_{j=1}^n(Y-\\bar{Y}_n)^2}}\n",
    "$$\n",
    "\n",
    "which is \n",
    "- not covariance divided by sample s.d.s., \n",
    "- is  covariance divided by plug in estimator s.d.s"
   ]
  },
  {
   "cell_type": "markdown",
   "id": "8c35c731-1b15-4273-99f3-19a8d94da82b",
   "metadata": {},
   "source": [
    "## Multivariate emperical distributions\n",
    "\n",
    "This is not in Wasserman, but I want to make sure it works out.\n",
    "\n",
    "A multivariate cumulative distribution on the random variable $\\vec X \\in \\{f:\\Omega \\to \\mathbb{R}^d \\}$ is \n",
    "$$F(\\vec x) =   \\mathbb{P}\\left( \\wedge_{j=1}^n (X_j \\leq x_j) \\right).\n",
    "$$\n",
    "\n",
    "In what follows I will denote \n",
    "$$\n",
    "\\wedge_{j=1}^d(X_j\\leq x_j) \\text{ as }   \\vec X \\leq \\vec x.\n",
    "$$\n",
    "\n",
    "The associated PDF is\n",
    "$$\n",
    "f(\\vec x) = \\frac{\\partial^d}{\\prod_{j=1}^n dx_j} F(\\vec x)\n",
    "$$\n",
    "and \n",
    "$$F(\\vec x) = \\int_{-\\infty}^{x_1} \\cdots \\int_{-\\infty}^{x_d} f(\\vec x) \\prod_{j=1}^d dx_j.$$\n",
    "\n",
    "An emperical distribution function on a random sample $\\vec X_1,\\dots,\\vec X_i,\\dots,\\vec X_n \\in \\{ f: \\Omega \\to \\mathbb{R}^d\\}$ of size $n$ is \n",
    "$$\n",
    "\\hat F \\left(\\vec x \\right) \n",
    "= \\frac1n \\sum\\limits_{i=1}^n I\\left( \n",
    "\\vec x \\leq \\vec X_i\n",
    "\\right)\\\\\n",
    "= \n",
    "\\frac1n \\sum\\limits_{i=1}^n I\\left( \n",
    "\\wedge_{j=1}^d  \\left( x_{j} \\leq  X_{ij} \\right)\n",
    "\\right)\\\\\n",
    "= \n",
    "\\frac1n \\sum\\limits_{i=1}^n \\prod\\limits_{j=1}^d I\\left( \n",
    " x_{j} \\leq  X_{ij}\n",
    "\\right)\\\\\n",
    "$$\n",
    "\n",
    "\n",
    "For a linear statistical functional $T$ with kernel $k(\\vec x)$ the plug in estimator is \n",
    "$$\n",
    "\\hat T \n",
    "= \\int K(\\vec x )d\\hat F(\\vec x) \\\\\n",
    "$$\n",
    "\n",
    "$$\n",
    "= \\int K(\\vec x )\\frac{\\partial^d}{\\prod_{j=1}^d dx_j}\\hat F(\\vec x) \\prod_{j=1}^d dx_j\\\\\n",
    "$$\n",
    "\n",
    "$$\n",
    "= \\frac1n \\sum\\limits_{i=1}^n \n",
    "\\int K(\\vec x )\n",
    "\\frac{\\partial^d}{\n",
    "      \\prod_{j=1}^d dx_j\n",
    "      }\n",
    "\\prod\\limits_{j'=1}^d H(x_{j'} - X_{ij'})\n",
    "\\prod_{j=1}^d dx_j\\\\\n",
    "$$\n",
    "\n",
    "$$\n",
    "= \\frac1n \\sum\\limits_{i=1}^n \n",
    "\\int K(\\vec x )\n",
    "\\frac{\\partial^d}{\\prod_{j=2}^n dx_j}\n",
    "\\delta(x_{1} - X_{i1})\\prod\\limits_{j'= 2}^d H(x_{j'} - X_{ij'})\n",
    "\\prod_{j=1}^d dx_j\\\\\n",
    "$$\n",
    "\n",
    "$$\n",
    "= \\frac1n \\sum\\limits_{i=1}^n \n",
    "\\int K(\\vec x )\n",
    "\\prod_{j=1}^d\n",
    "\\delta(x_{j} - X_{ij})\n",
    "\\prod_{j=1}^d dx_j\\\\\n",
    "$$\n",
    "\n",
    "$$\n",
    "= \\frac1n \\sum\\limits_{i=1}^n  K(\\vec{X}_i )\n",
    "$$"
   ]
  },
  {
   "cell_type": "markdown",
   "id": "789dde9a-fe27-42e0-bd25-9281518f1cff",
   "metadata": {},
   "source": [
    "That is to say, it does indeed work out :)"
   ]
  },
  {
   "cell_type": "markdown",
   "id": "4e1dd2fd-8035-41f1-b44a-c0c1eaf691bb",
   "metadata": {},
   "source": [
    "I'd love to plot a two variable eCDF. \n",
    "\n",
    "statsmodels <a href src=\"https://www.statsmodels.org/dev/distributions.html#module-statsmodels.distributions.empirical_distribution\">does not </a> have this feature yet.\n",
    "\n",
    "<a href src=\"https://stackoverflow.com/questions/69240432/is-there-a-python-implementation-of-multidimensional-ecdfs\">This guy</a> said he'd make it in 2021.... \n",
    "\n",
    "<a href src=\"https://arxiv.org/pdf/2005.03246.pdf\">This paper</a> discusses the complexity."
   ]
  },
  {
   "cell_type": "code",
   "execution_count": 107,
   "id": "35afc4fe-fc73-4946-aaa7-427ba944850e",
   "metadata": {},
   "outputs": [
    {
     "data": {
      "text/plain": [
       "1.0"
      ]
     },
     "execution_count": 107,
     "metadata": {},
     "output_type": "execute_result"
    }
   ],
   "source": [
    "import numpy as np \n",
    "from statsmodels.distributions import empirical_distribution as eds\n",
    "\n",
    "# Draw samples according to a unifrom distribution on [0,1]^2\n",
    "# or a normal dist on R^2\n",
    "n=10\n",
    "xs = np.random.rand(12) #not drawn according to a dist \n",
    "\n",
    "# construct a rectangle wise constant function \n",
    "E = eds.ECDF(xs) # does no have a multivariate version yet. \n",
    "E(3)\n",
    "# plot "
   ]
  },
  {
   "cell_type": "markdown",
   "id": "8fb9ece4-dacb-413a-b50c-eff2dab8b77d",
   "metadata": {},
   "source": [
    "## Quantile Functional\n",
    "**Definition:** The statistical functional $Q_p$ such that $Q_p(F) = \\inf F^{-1}(p)$ the <u>p-th quantile</u>. \n",
    "\n",
    "Actually to avoid ambiguity where the CDF is constant, we defined \n",
    "$Q_p(F) = \\inf\\{x \\,|\\,F(x)< p\\}$. That especially matters for what follows. I note that this infimum does not apply to multivariable cases. \n",
    "\n",
    "**Definition:** The number $Q_p(\\hat{F_n} )$ is the $p$th **sample quantile** of the CDF $F$."
   ]
  },
  {
   "cell_type": "markdown",
   "id": "f1c04eb7-562a-445d-872a-dbb6f0c71e8f",
   "metadata": {},
   "source": [
    "# Ch8 The Bootstrap"
   ]
  },
  {
   "cell_type": "markdown",
   "id": "fe1f5181-fcd5-469e-9b45-96bc32fcd71f",
   "metadata": {},
   "source": [
    "**Definition:** In a **simulation** of a statistic $T_n$ we can create a sample $T_{n,1}^∗, ..., T_{n,B}^∗$ of arbitary size $B$."
   ]
  },
  {
   "cell_type": "markdown",
   "id": "0da1c523-74b8-44f8-859b-d80c4e3d94a2",
   "metadata": {},
   "source": [
    "Recall \n",
    "\n",
    "**Definition** A **statistic** is any function $T_n = g(X_1, . . . , X_n)$ of a random sample $(X_1, . . . , X_n)$ of a random variable $X$."
   ]
  },
  {
   "cell_type": "markdown",
   "id": "28fd3535-3a58-4852-a955-191584f2689c",
   "metadata": {},
   "source": [
    "**Definition:** The <u>standard error</u> of an estimator $\\hat{\\theta}_n$ of $\\theta$ is the standard deviation of that estimator."
   ]
  },
  {
   "cell_type": "markdown",
   "id": "5b8a64c4-3d1f-4259-9063-bad8020289ef",
   "metadata": {},
   "source": [
    "**Definition** The **bootstrap** is a method for estimating standard errors and computing confidence intervals for the variance of a statistic $T_n$ in two steps:\n",
    "1. Estimate $\\mathbb{V}_F (T_n)$ with $\\mathbb{V}_{\\hat{F}_n} (T_n)$.\n",
    "    1. estimate variance with plug in estimate of variance \n",
    "        1. that is, use an emperical distribution.\n",
    "2. Approximate $\\mathbb{V}_{\\hat{F}_n} (T_n)$ using simulation of the statistic $T_n$."
   ]
  },
  {
   "cell_type": "markdown",
   "id": "d12fe21a-0e32-4ed2-85ef-56474a6c5229",
   "metadata": {},
   "source": [
    "Q: How do we simulate a statistic $T_n$? \n",
    "\n",
    "A: Drawing one observation from the emperical CDF $\\hat{F}_n$ is equivalent to drawing one observation at random from the original data set with distribution $F$. So, draw a sample  $X_1^∗ , . . . , X_n^∗$  of size $n$ from $\\hat{F}_n$ *with replacement*. \n",
    "\n",
    "One draw from the distribution of $T_n$ is $T_n^∗ = g(X_1^∗,...,X_n^∗)$. We can draw $B$ times from the distribution of $T_n$ for any number $B$ to make a sample $T_{n,1}^∗, ..., T_{n,B}^∗$ of any size from the distribution of $T_n$. Thus, a simulation. "
   ]
  },
  {
   "cell_type": "markdown",
   "id": "edbe2930-2611-436a-a493-c825ebb46755",
   "metadata": {},
   "source": [
    "Q: How do we estimate variance? "
   ]
  },
  {
   "cell_type": "markdown",
   "id": "4777f06c-80cd-49b2-b86e-464c5faa217c",
   "metadata": {},
   "source": [
    "A: By the rule of the lazy statistician and the law of large numbers if $Y\\sim G$ then $\\frac1B \\sum\\limits_{i=1}^B h(Y_i) = \\int  h(y) d\\hat{G}_B(y) \\stackrel{P}{\\to}\n",
    "\\int h(y)dG(y) = \\mathbb{E}_Y(h(Y ))$."
   ]
  },
  {
   "cell_type": "markdown",
   "id": "bfaa4d4c-4803-48c2-ac70-d176411b4d81",
   "metadata": {},
   "source": [
    "In particular, if $h(Y_i)= (Y_i-\\bar{Y}_B)^2$  (that is, for each B there is a different function)\n",
    "$$\\frac1B \\sum\\limits_{i=1}^B (T_{n,i}^∗-\\overline{T_n^*}_B)^2 \\stackrel{P}{\\to}\n",
    "\\mathbb{E}_{T_n}((T_{n}-\\mu_{T_n})^2) = \\mathbb{V}_{T_n}(T_n).$$\n",
    "then we can approximate the variance $\\mathbb{V}_{T_n}(T_n)$ arbitrarily well by using a large enough number $B$ of bootstrap samples $T_{n,1}^∗, ..., T_{n,B}^∗$. "
   ]
  },
  {
   "cell_type": "markdown",
   "id": "1754a1f4-fa6e-4ccd-a573-18b152fb5d5d",
   "metadata": {},
   "source": [
    "Bootstrap Variance Estimation\n",
    "1. Draw $X_1^∗,...,X_n^∗ ∼ \\hat{F}_n$.\n",
    "2. Compute $T_n^∗ =g(X_1^∗,...,X_n^∗)$.\n",
    "3. Repeat steps 1 and 2, $B$ times, to get $T_{n,1}^∗,...,T_{n,B}^∗$.\n",
    "4. Let $v_{boot} = \\frac1B \\sum\\limits_{i=1}^B (T_{n,i}^∗-\\bar{T_n^*}_B)^2$"
   ]
  },
  {
   "cell_type": "code",
   "execution_count": 16,
   "id": "59f3270e-3e63-4fce-a206-40b35eb3d148",
   "metadata": {},
   "outputs": [
    {
     "name": "stdout",
     "output_type": "stream",
     "text": [
      "0.04095871629261587 4.172231762411311e-05\n",
      "0.009424751737159636 0.000941181018584561\n",
      "0.0165554541809215 5.436834360538811e-05\n"
     ]
    }
   ],
   "source": [
    "import numpy as np\n",
    "from scipy import stats\n",
    "n = 100\n",
    "B = 10_000\n",
    "norm_data = stats.norm().rvs(n) \n",
    "uniform_data = stats.uniform().rvs(n) \n",
    "\n",
    "def sample(data): \n",
    "    return np.random.choice(data, size = n,replace = True)\n",
    "\n",
    "def max_statistic(sample):\n",
    "    return np.max(sample)\n",
    "\n",
    "def mean_statistic(sample):\n",
    "    return np.mean(sample)\n",
    "\n",
    "def variance_statistic(sample):\n",
    "    return np.var(sample)\n",
    "\n",
    "statistics = [max_statistic,mean_statistic,variance_statistic]\n",
    "\n",
    "def bootstrap_estimation_of_variance(data, statistic):\n",
    "    Ts = [statistic(sample(data)) for _ in range(B)]\n",
    "    return np.var(Ts) \n",
    "\n",
    "bev = bootstrap_estimation_of_variance\n",
    "for statistic in statistics:\n",
    "    print(bev(norm_data,statistic), bev(uniform_data,statistic))\n"
   ]
  },
  {
   "cell_type": "markdown",
   "id": "1069d456-cf4c-4aaa-9d09-1a1bc85105ee",
   "metadata": {},
   "source": [
    "## 8.3 Bootstrap Confidence Intervals\n",
    "\n",
    "Or \"confidence intervals for estimators where the confidence intervals are derviced from bootstrapping.\" \n",
    "\n",
    "Three common ways to get confidence intervals from boot strapping:\n",
    "1. The normal interval method\n",
    "2. Using a pivotal quantity\n",
    "3. Percentile intervals\n",
    "\n",
    "### 1. The Normal interval method\n",
    "If the distribution of $T_n$ is close to normal, then $T_n\\pm \\frac{z_\\alpha}{2} \\sqrt{ \\mathbb{V}_{\\rm boot} }$ is an approximate $1-\\alpha$ confidence interval. "
   ]
  },
  {
   "cell_type": "markdown",
   "id": "a841b371-49b6-4a23-807b-136c8b4dcaf3",
   "metadata": {},
   "source": [
    "### 2. Pivotal Quantity or Pivot"
   ]
  },
  {
   "cell_type": "markdown",
   "id": "94d933ad-8bb6-447e-befe-de2788fc1649",
   "metadata": {},
   "source": [
    "e.g. Let $\\theta = T(F)$ be a statistical functional and $\\hat{\\theta_n} = T(\\hat{F}_n)$ be its plug in estimator. Then $R_n := \\hat{\\theta}_n − \\theta$ is a pivotal interval. \n",
    "\n",
    "Let $H$ denote the cdf of the pivot; $H(r) := \\mathbb{P}_F \\left(R_n \\leq r\\right)$."
   ]
  },
  {
   "cell_type": "markdown",
   "id": "a5f28c5f-67e5-46ae-be9b-0840e9fa1bba",
   "metadata": {},
   "source": [
    "We can form a bootstrap estimate \n",
    "$$\n",
    "H(r) = \\frac1B \\sum\\limits_{i=-1}^B I\\left(R^*_{n,i}\\leq r\\right)\n",
    "$$"
   ]
  },
  {
   "cell_type": "markdown",
   "id": "f99ab2c1-8b6f-4433-9fc3-20e99a1d6fa9",
   "metadata": {},
   "source": [
    "where $R^*_{n,i}$ is computed from the bootstrap replications $ \\theta_{n,1}^∗, . . . , \\theta_{n,B}^∗$ of the statistic $\\hat{\\theta}_n(X_1,\\dots,X_n)$. "
   ]
  },
  {
   "cell_type": "markdown",
   "id": "1c34fea5-6612-421a-8e3a-856b6e49b25a",
   "metadata": {},
   "source": [
    "Then let $a=\\hat{\\theta}_n−H^{−1}( 1−\\frac\\alpha2)$ and $b=\\hat{\\theta}_n−H^{−1}(\\frac\\alpha2)$, recalling that you are getting the locations of \n",
    "- where $\\alpha/2$ (e.g. 2.5%) of the area under the PDF is to the left\n",
    "- where $1-\\alpha/2$ (e.g. 97.5%) of the area under the PDF is to the right\n"
   ]
  },
  {
   "cell_type": "markdown",
   "id": "b5cb2d92-980c-46ee-b37c-801baf403923",
   "metadata": {},
   "source": [
    "**Definition** The interval $(a,b)$ is a $1-\\alpha$ in the bootstrap pivotal confidence interval for $\\theta$."
   ]
  },
  {
   "cell_type": "markdown",
   "id": "ce9e2a43-fb56-4636-8c8e-aae0b704818f",
   "metadata": {},
   "source": [
    "### e.g. $95\\%$ pivotal confidence interval for a statistic of N"
   ]
  },
  {
   "cell_type": "code",
   "execution_count": 5,
   "id": "9566c0f8-2a56-4c5f-a8e7-5ee09daac72d",
   "metadata": {},
   "outputs": [
    {
     "data": {
      "text/plain": [
       "(True, True)"
      ]
     },
     "execution_count": 5,
     "metadata": {},
     "output_type": "execute_result"
    }
   ],
   "source": [
    "import numpy as np\n",
    "from scipy import stats\n",
    "\n",
    "n = 100 \n",
    "B = 10_000\n",
    "\n",
    "# the underlying dist of Xs\n",
    "#Xs = stats.norm().rvs(n) \n",
    "Xs = stats.expon().rvs(n) \n",
    "\n",
    "def statistic(xs):\n",
    "    return np.max(xs)\n",
    "\n",
    "theta_n_hat = statistic(data)\n",
    "\n",
    "# tool for bootstrappling:\n",
    "def sample(data): \n",
    "    return np.random.choice(data,size = len(data),replace = True)\n",
    "\n",
    "theta_n_star_hats = [statistic(sample(data)) for _ in range(B)]\n",
    "\n",
    "R_star_ns = [theta_n_star_hat - theta_n_hat for theta_n_star_hat in theta_n_star_hats] \n",
    "\n",
    "# CDF for R_star_ns for \n",
    "m = min(R_star_ns)\n",
    "M = max(R_star_ns)\n",
    "H_abscisa = np.linspace(m-1,M+1, 1_000)\n",
    "H = np.array([sum(R_star_ns <= r)/B for r in H_abscisa])\n",
    "\n",
    "## CDF for theta_n_stars\n",
    "p = min(theta_n_star_hats)\n",
    "q = max(theta_n_star_hats)\n",
    "F_abscisa = np.linspace(p-1,q+1, 1_000)\n",
    "F = np.array([sum(theta_n_star_hats <= r)/B for r in F_abscisa])\n",
    "\n",
    "alpha = .05\n",
    "# How to invert H when it is discrete:\n",
    "# Where is dist between H and y smallest?\n",
    "def H_inverse(y):\n",
    "    # distance to x\n",
    "    d = np.abs(H - y)\n",
    "    return H_abscisa[np.argmin(d)]\n",
    "\n",
    "a = theta_n_hat - H_inverse(1-alpha/2)\n",
    "b = theta_n_hat - H_inverse(alpha/2)\n",
    "a<= theta_n_hat,theta_n_hat<= b "
   ]
  },
  {
   "cell_type": "code",
   "execution_count": 6,
   "id": "90d1f800-5964-489f-b610-c52e99bc2b37",
   "metadata": {},
   "outputs": [
    {
     "data": {
      "image/png": "[encoded data removed]",
      "text/plain": [
       "<Figure size 432x288 with 1 Axes>"
      ]
     },
     "metadata": {
      "needs_background": "light"
     },
     "output_type": "display_data"
    }
   ],
   "source": [
    "import matplotlib.pyplot as plt\n",
    "plt.plot(F_abscisa,F)\n",
    "plt.title(\"CDF of theta*ns\")\n",
    "plt.axvline(x=a,label = \"a\", color = 'green')\n",
    "plt.axvline(x=b, label = 'b', color='blue')\n",
    "# plt.axvline(x=1, label = 'true', color = 'red')\n",
    "plt.legend()\n",
    "plt.show();"
   ]
  },
  {
   "cell_type": "code",
   "execution_count": 7,
   "id": "cd1b18cd-0ed0-4295-b991-edaaf0c98456",
   "metadata": {},
   "outputs": [
    {
     "data": {
      "image/png": "[encoded data removed]",
      "text/plain": [
       "<Figure size 432x288 with 1 Axes>"
      ]
     },
     "metadata": {
      "needs_background": "light"
     },
     "output_type": "display_data"
    }
   ],
   "source": [
    "import matplotlib.pyplot as plt\n",
    "plt.plot(F_abscisa[:-1],(F[1:]-F[:-1]) / (F_abscisa[1:]-F_abscisa[:-1]))\n",
    "plt.title(\"PDF of theta*ns\")\n",
    "plt.axvline(x=a,label = \"a\", color = 'green')\n",
    "plt.axvline(x=b, label = 'b', color='blue')\n",
    "# plt.axvline(x=1, label = 'true', color = 'red')\n",
    "plt.legend()\n",
    "\n",
    "plt.show();"
   ]
  },
  {
   "cell_type": "markdown",
   "id": "9c6bd027-fd85-4c0e-8589-ced32c270466",
   "metadata": {},
   "source": [
    "### 3. Percentile intervals"
   ]
  },
  {
   "cell_type": "markdown",
   "id": "186e62f2-641a-4e84-a3ac-7b452ca7b588",
   "metadata": {},
   "source": []
  },
  {
   "cell_type": "markdown",
   "id": "5f4929b1-2a91-4a1c-ab54-e39fbdcbeb3d",
   "metadata": {},
   "source": [
    "# Ch 9 Parametric Inference\n",
    "\n",
    "How do we estimate parameters from samples when we suspect the distribution $f$ of is from a parametric model $\\mathfrak{F} = \\{ f(x,\\theta)\\,|\\, \\theta \\in \\Theta\\}$? \n",
    "\n",
    "## 9.2 The Method of Moments\n",
    "If the parameter $\\theta \\in \\mathbb{R}^k$ then solve the system of $k$ equations  that equate the  $j$th moment $\\alpha_j(\\theta) := \\int x^j dF_\\theta(X)$ to the $j$th sample moment $\\hat{\\alpha}_n:= \\frac1n \\sum\\limits_{i=1}^n X^j_i.$ That is solve the system of equations"
   ]
  },
  {
   "cell_type": "markdown",
   "id": "4a8e7d85-bdb9-4344-bbbb-9afe14a99864",
   "metadata": {},
   "source": [
    "$$\n",
    "\\left\\{ \\begin{array}{c} \n",
    "\\alpha_1(\\theta) = \\hat{\\alpha}_1 \\\\\n",
    "\\vdots\\\\ \n",
    "\\alpha_k(\\theta) = \\hat{\\alpha}_k \n",
    "\\end{array} \\right\\}\n",
    "$$"
   ]
  },
  {
   "cell_type": "markdown",
   "id": "103d2765-11da-4790-b6a3-c206939538ad",
   "metadata": {},
   "source": [
    "for the $k$ parameters $\\theta$ and call the solution $\\hat{\\theta}_n$ the method of moment estimator. \n",
    "\n",
    "**Note:** In previous sections $\\hat{\\theta}_n$ noted the plug in estimate of the parameter $\\theta$. This is a differnt method of estimation, but the same notation is temporarily used. Later we will compare the two estimates. "
   ]
  },
  {
   "cell_type": "markdown",
   "id": "cd6d1a1d-7a2f-4a42-b137-d0391c6d3897",
   "metadata": {},
   "source": [
    "**e.g.** If $X_1,...,X_n\\sim N(\\mu,\\sigma^2)$ then solve for the estimates $\\hat{\\mu}_n$ and $\\hat{\\sigma}_n$ in the system\n",
    "$$\n",
    "\\left\\{\\begin{array}{c}\n",
    "\\hat{\\mu}_n = \\frac1n \\sum\\limits_{i=1}^n X_i\\\\\n",
    "\\hat{\\sigma}_n^2-\\hat{\\mu}_n^2 = \\frac1n \\sum\\limits_{i=1}^nX_i^2\n",
    "\\end{array}\\right\\}\n",
    "\\Leftrightarrow\n",
    "\\left\\{\\begin{array}{c}\n",
    "\\hat{\\mu}_n = \\frac1n \\sum\\limits_{i=1}^n X_i\\\\\n",
    "\\hat{\\sigma}_n^2= \\frac1n \\sum\\limits_{i=1}^n (X_i - \\bar{X}_n)^2\n",
    "\\end{array}\\right\\}\n",
    "$$"
   ]
  },
  {
   "cell_type": "markdown",
   "id": "a690a3c7-316c-4956-9fa3-77f234c6791b",
   "metadata": {},
   "source": [
    "(Note that the second equation uses the plug in estimator of the second moment, not the sample second moment or whatever.)"
   ]
  },
  {
   "cell_type": "markdown",
   "id": "0b6519a3-39ae-4881-bdc9-7662d8dd9389",
   "metadata": {},
   "source": [
    "## 9.3 Maximum Likelihood\n",
    "\n",
    "**Definition** The **likelihood function** of iid $X_1,...,X_n \\sim f(\\cdot;\\theta)$ is the statistic \n",
    "$\\prod\\limits_{i=1}^n f(X_i;\\theta)$.\n",
    "\n",
    "**Notation** The likelihood function is denoted ${\\cal L}_n(\\theta) $."
   ]
  },
  {
   "cell_type": "markdown",
   "id": "4651c8ff-59b9-49e7-a53b-81a83fe8d97e",
   "metadata": {},
   "source": [
    "**Characterization** The likelihood function is the joint density of the data treated as a function of the parameter $\\theta$.\n",
    "\n",
    "**Nature** \n",
    "Putting in a value of theta does not give a number, but rather a function $\\Omega^n \\to \\mathbb{R}$ where $\\Omega$ is the sample space. Putting in any partculat value from $\\Omega^n$ gives a real valued function of $\\theta$. Not putting in such a value still allows for calculating formal derivatives. Thus maximization through differentiation is possible. "
   ]
  },
  {
   "cell_type": "markdown",
   "id": "d6b810a5-8cb5-466a-84a3-b857aedcfaf4",
   "metadata": {},
   "source": [
    "**Definition** The **maximum likelihood estimator** (mle) of the parameter $\\theta$  is the value of $\\theta$ that maximizes ${\\cal L}_n(\\theta)$.\n",
    "\n",
    "**Notation** the mle is denoted by $\\hat{\\theta}_n$. Same notation as plug in estmate and the method of moments estimate. \n",
    "\n"
   ]
  },
  {
   "cell_type": "markdown",
   "id": "297dfa9c-45d9-472c-ae42-726a6e84e8ef",
   "metadata": {},
   "source": [
    "**Definition** The **log-likelyhood function** is $\\cal{l}_n = \\ln \\cal{L}_n$. "
   ]
  },
  {
   "cell_type": "markdown",
   "id": "cfa602b9-7d1d-4ad3-9301-55da75db04ad",
   "metadata": {},
   "source": [
    "e.g. If $X_1, . . . , X_n ∼ \\text{Bernoulli}(p)$  then \n",
    "$$\n",
    "{\\cal L}_n(P) = \\prod\\limits_{i=1}^n p^{X_i}(1-p)^{1-X_i} = p^S(1-p)^{n-S}\\\\\n",
    "{\\cal l}_n(p) =S\\log{p} +(n-S)\\log(1-p)\\\\\n",
    "\\text{ where } S = \\sum\\limits_{i=1}^n X_i\\\\\n",
    "{\\cal l'}_n(p) = 0  \\Leftrightarrow \\hat{p}_n = S/n .\n",
    "$$\n",
    "So, note that $\\hat{p}_n$ is also a statistic, and thus a random variable."
   ]
  },
  {
   "cell_type": "markdown",
   "id": "f59bc292-2bfc-4ebb-9d46-fca1a8fb75d1",
   "metadata": {
    "tags": []
   },
   "source": [
    "MLEs have some amazing properties: \n",
    "1. Consistant: $\\hat{\\theta}_n \\stackrel{P}{\\to}\\theta^*$ where $\\theta^*$ denotes the true value of the parameter $\\theta$. \n",
    "2. equivariant: if $\\hat{\\theta}_n$ is the mle of $\\theta$ then $g(\\hat{\\theta}_n)$ is the mle of $g(\\theta)$;\n",
    "3. asymptotically Normal: $\\frac{\\hat{\\theta}_n−\\theta^⋆}{\\hat{\\text{se}}} \\sim N(0,1)$;\n",
    "4. asymptotically optimal: among all estimators, the mle has the smallest variance \n",
    "5. The mle is approximately the Bayes estimator. "
   ]
  },
  {
   "cell_type": "markdown",
   "id": "be826156-5ac4-4711-8bc4-44e9a04fcd53",
   "metadata": {},
   "source": [
    "**e.g.** Let $X\\sim f(x)$ where $F(x)= \\frac{x^3}{\\theta^3} I(x\\in[0,\\theta]) \\Rightarrow f(x) = \\frac{3x^2}{\\theta^3}I(x\\in[0,\\theta])$ and let $\\xi = F^{-1}(.5)$ be the median. "
   ]
  },
  {
   "cell_type": "markdown",
   "id": "784ef15e-709c-42a2-bb1a-cbffbd480139",
   "metadata": {},
   "source": [
    "The MLE $\\hat\\xi$ of $\\xi$ is the formal expression for function of the random sample $X_1,\\dots,X_n$ that maximizes "
   ]
  },
  {
   "cell_type": "markdown",
   "id": "ebf7016f-cf7c-4fd7-8985-f40e748f5143",
   "metadata": {},
   "source": [
    "$$\n",
    "{\\cal {L}}(\\theta) = \\prod\\limits_{i=1}^n f(X_i)\\\\\n",
    "= \\frac{3^n}{\\theta^{3n}} \\prod\\limits_{i=1}^n X_i^2 I\\left(X_i\\in[0,\\theta]\\right).\n",
    "$$"
   ]
  },
  {
   "cell_type": "markdown",
   "id": "ab44ac4b-572a-4913-ada5-afcc6dc924d6",
   "metadata": {},
   "source": [
    "Clearly, for any data sample $x_1,\\dots,x_n$ used to replace the random variables $X_1,...,X_n$ the smaller $\n",
    "\\theta$ is the larger this likelihood. However, there is a lower limit on the size of $\\theta$; a constraint in the optimization. \n",
    "\n",
    "The indicator function  in $f$ has the effect that any data $x_1,\\dots,x_n$ used to replace the random variables $X_1,...,X_n$ has the constraints \n",
    "$$0\\leq x_1,\\dots,x_n \\leq \\theta \\\\\n",
    "\\Leftrightarrow 0\\leq\\text{min}\\{x_1,...,x_n\\} \\wedge \\text{max} \\{x_1,...,x_n\\}\\leq \\theta,$$\n",
    "and thus the smallest allowed value of $\\theta$ is $\\text{max} \\{x_1,...,x_n\\}$. Abstracting away from particular data, the job of random variables, the maximizer of the likelihood function is \n",
    "$$\n",
    "\\hat \\theta  = \\text{max} \\{x_1,...,x_n\\}.\n",
    "$$\n",
    "\n",
    "This leads to an MLE of $\\xi$; since $\\xi = F^{-1}(0.5) = \\frac{(.5)^3}{\\theta^3} = 2^{-1/3}\\theta$\n",
    "the MLE $\\hat\\xi$ of $\\xi$ is \n",
    "$$\n",
    "\\hat \\xi = 2^{-1/3}\\text{max} \\{x_1,...,x_n\\}.\n",
    "$$"
   ]
  },
  {
   "cell_type": "markdown",
   "id": "4db75518-80b8-47b8-83f1-b876ed750755",
   "metadata": {},
   "source": [
    "## Cramer-Rao Lower bound on variance of estimators"
   ]
  },
  {
   "cell_type": "markdown",
   "id": "8020111f-33e8-4ce8-b4bb-63bd7b481984",
   "metadata": {},
   "source": [
    "**Theorem:** (Cramer-Rao Lower Bound) \n",
    "Let $T(X_1,\\dots,X_n)$ be an an estimator of $\\theta$ such that differentiation and integration of the joint distribution $f_\\theta(x_1,\\dots x_n)$  with respect to $\\theta$ are defined. The varience of $T$ is bounded in terms of the  score function $S=\\frac{d}{d\\theta} \\log f_\\theta $ as\n",
    "$$\n",
    "\\mathbb{V}[T] \\geq \n",
    "\\frac{ \n",
    "\\left(  \\frac{d}{d\\theta} \\mathbb{E}[T] \\right)^2\n",
    "}\n",
    "{\\mathbb{E}[S^2]}.\n",
    "$$\n",
    "\n",
    "\n",
    "\n"
   ]
  },
  {
   "cell_type": "markdown",
   "id": "e3d4258f-87d2-4c65-8518-818a835a3863",
   "metadata": {},
   "source": [
    "**Proof:**\n",
    "Note that the expectation value of the score function is zero; letting $x^n$ denote $(x_1,\\dots,x_n)$ we have\n",
    "$$\n",
    "\\mathbb{E}[S] \n",
    "= \\int \\left( \\frac{d}{d\\theta} \\log \\left(f_\\theta(x^n)\\right) \\right) dF_\\theta(x^n)\n",
    "= \\int  \\left(\\frac{d}{d\\theta} \n",
    "f_\\theta(x^n) \\right)\n",
    " \\frac{1}{ f_\\theta(x) }  f_\\theta(x^n) dx^n\n",
    " =\\frac{d}{d\\theta} 1 = 0 \n",
    "$$"
   ]
  },
  {
   "cell_type": "markdown",
   "id": "55aee660-0550-4b3d-b34c-ddf7748cf7fa",
   "metadata": {},
   "source": [
    "Let $\\langle \\cdot,\\cdot \\rangle = \\int \\cdot \\cdot dF_\\theta(x^n)$ denote note the expectation of the product of two random variables over $f_\\theta$. Them by the Cauchy-Schwartz inequality \n",
    "$$\n",
    "\\langle T-\\bar T , S -\\bar S \\rangle^2 \\leq \n",
    "\\langle T-\\bar T, T-\\bar T \\rangle \\langle S - \\bar S  , S - \\bar S \\rangle\\\\\n",
    "\\Leftrightarrow (\\text{Cov}[T,S])^2 \\leq \\mathbb{V}[T] \\mathbb{V}[S]\\\\\n",
    "\\Leftrightarrow \\mathbb{V}[T] \\geq \\frac { \\left(\\text{Cov}[T,S]\\right)^2}{\\mathbb{V}[S]}.\n",
    "$$"
   ]
  },
  {
   "cell_type": "markdown",
   "id": "7048591e-28bd-4634-be81-ede70d7dfea6",
   "metadata": {},
   "source": [
    "The numerator is the square of\n",
    "$$\n",
    "\\text{Cov}[T,S] = \\mathbb{E}[(T-\\bar T)(S-\\bar S)] \n",
    "=\\mathbb{E}[(TS-\\bar T S] \n",
    "=\\mathbb{E}[(TS] \n",
    "= \\int T S dF_\\theta(x^n)\\\\\n",
    "=\\int T \\left(  \n",
    "\\frac{ \n",
    "\\frac{d}{d\\theta} f_\\theta}{f_\\theta}\n",
    "\\right) f_\\theta dx^n\n",
    "=\\frac{d}{d\\theta}\\mathbb{E}[T].\n",
    "$$\n",
    "The denominator \n",
    "$$\\mathbb{V}[S] = \\mathbb{E}[S^2] - \n",
    "(\\bar S)^2= \\mathbb{E}[S^2]. \\square\n",
    "$$"
   ]
  },
  {
   "cell_type": "markdown",
   "id": "406b0b1a-2d99-409d-849c-d25c34e06d84",
   "metadata": {},
   "source": [
    "## 9.13.3 Exponential Families\n",
    "Fix functions \n",
    "- $h:\\mathbb{R} \\to \\mathbb{R}$ \n",
    "- $T:\\mathbb{R} \\to \\mathbb{R}$ \n",
    "- $\\eta:\\mathbb{R}^n \\to \\mathbb{R}$   \n",
    "- $B:\\mathbb{R}^n \\to \\mathbb{R}$ \n",
    "\n",
    "and you have a paramterized model \n",
    "$\\mathfrak{F} = \\left\\{ f(x;\\theta) = h(x)e^{\\eta(\\theta)T(x)−B(\\theta)} | \\theta \\in \\Theta\\right\\}$ \n",
    "with parameter space $\\Theta \\subseteq \\mathbb{R}^n$ \n"
   ]
  },
  {
   "cell_type": "markdown",
   "id": "71702568-3386-46ca-b53f-ccad78cbfabc",
   "metadata": {
    "tags": []
   },
   "source": [
    "### e.g.s \n",
    "1. For fixed $n$ the Binomial  distributions \n",
    "$\\left(\\begin{array}{c} n\\\\x \\end{array}\\right) \n",
    "\\theta^x(1−\\theta)^{n−x}  \n",
    "= \\left(\\begin{array}{c} n\\\\x \\end{array}\\right) \n",
    " \\exp\\left\\{ x\\log\\left(\\frac{\\theta}{1-\\theta } \\right) +n\\log(1−\\theta)\\right\\}$\n",
    " has \n",
    " - $h(x) = \\left(\\begin{array}{c} n\\\\x \\end{array}\\right)$ \n",
    "- $T(x)=x$ \n",
    "- $\\eta(\\theta)= \\log\\left(\\frac{\\theta}{1-\\theta } \\right)$   \n",
    "- $B(\\theta) = - n\\log(1−\\theta)$ \n"
   ]
  },
  {
   "cell_type": "markdown",
   "id": "0fb96ab3-2b3d-4feb-929b-6dcbe4986913",
   "metadata": {},
   "source": [
    "2. Poisson distributions \n",
    "$f(x;\\theta)= \\frac{\\theta^x e^{-\\theta}}{x!} = \\frac1{x!}e^{x\\log(\\theta)- \\theta}$\n",
    " has \n",
    " - $h(x) = \\frac1{x!}$ \n",
    "- $T(x)=x$ \n",
    "- $\\eta(\\theta)= \\log(\\theta)  $   \n",
    "- $B(\\theta) =\\theta $ \n"
   ]
  },
  {
   "cell_type": "markdown",
   "id": "c8b7b7f6-163e-4a4e-b1fb-d63521e9bc49",
   "metadata": {},
   "source": [
    "An exponential family can be re-written as \n",
    "$$f (x; \\eta) = h(x)e^{\\eta T(x)−A(\\eta)}$$ \n",
    "with \n",
    "$$A(\\eta) =  \\log \\int h(x)e^{ \\eta T(x)} dx$$ \n",
    "where $A$ is pretty slick.\n",
    "\n",
    "( I can t follow how that integral in that exponential does what is described.)"
   ]
  },
  {
   "cell_type": "markdown",
   "id": "0f938075-1a8b-4659-8933-5c3d8303a5c4",
   "metadata": {},
   "source": [
    "**Theorem** Let $X$ have density in an exponential family. Then, \n",
    "$\\mathbb{E}(T (X)) = A'(\\eta)$, and  $\\mathbb{V}( T(X)) = A''(\\eta)$.\n"
   ]
  },
  {
   "cell_type": "markdown",
   "id": "ea203042-2979-42ea-af75-b1736113f5dc",
   "metadata": {},
   "source": [
    "**Definition** $\\eta = \\eta(\\theta)$ is called the **natural parameter** of the model. "
   ]
  },
  {
   "cell_type": "markdown",
   "id": "aeea0a69-913d-4f65-9154-f72558a1f9ea",
   "metadata": {},
   "source": [
    "**Definiition** The statistic $T(x)$ from a exponential family is called the **natural sufficient statistic** of the model. \n",
    "\n",
    "I'm unable to wrap my head around what a sufficient statistic is. \n",
    "\n",
    "**Definition** A statistic is a **sufficient statistic** of a sample with respect to a statistical model and its associated unknown parameter if no other statistic that can be calculated from the same sample provides any additional information as to the value of the parameter. "
   ]
  },
  {
   "cell_type": "markdown",
   "id": "8094c520-b8ae-42a9-b9f7-d47f6950ec12",
   "metadata": {},
   "source": [
    "**Theorem** (Fisher's factorization theorem) The statistic $T$ of samples $x$ of $ X \\sim f_\\theta(x)$ is sufficient for the parameter $\\theta$ if and only if \n",
    "$  f_{\\theta }(x)=h(x) g_{\\theta }(T(x))$ \n",
    "for some nonnegative functions $g$ and $h$. \n",
    "   \n",
    "**Interpretation** No additional information can be obtained about $f$ beyond the information from $T(x)$ if $f$ be factored into a product such that one factor, $h$, does not depend on $\\theta$ and the other factor, which does depend on  $\\theta$, depends on $x$ only through $T(x)$."
   ]
  },
  {
   "cell_type": "markdown",
   "id": "c8bc87a6-ee01-44c3-848e-25ad7d796bde",
   "metadata": {},
   "source": [
    "**e.g.** The Poisson distributions $f (x; \\eta) = \\frac{1}{x!} e^{\\eta x−e^\\eta } = \\frac{\\theta^x e^{-\\theta}}{x!}$ with $\\eta = \\log (\\theta)$. "
   ]
  },
  {
   "cell_type": "markdown",
   "id": "01ff6c55-f905-4b0a-85e9-ac99df25f2b8",
   "metadata": {},
   "source": [
    "**e.g.** This sufficient statistic formulation of exponential families makes it easy to see that the product of two distributiions from the same family is a distribution from another family. Let $X_1,...,X_n$ be iid from an exponential family and $x^n = (x_1,\\dots,x_n)$. Then $f(x^n;\\theta)$ is an exponential family:\n",
    "$$\n",
    "f(x^n; \\theta) = h_n(x^n)e^{\\eta(\\theta)T_n(x^n)−B_n(\\theta)}\n",
    "$$ \n",
    "where \n",
    "$$h_n(x^n) = \\prod_i h(x_i)\\\\\n",
    "T_n(x^n) = \\sum_i T(x_i) \\text{, and }\\\\\n",
    "B_n(\\theta) = nB(\\theta).$$"
   ]
  },
  {
   "cell_type": "markdown",
   "id": "9bfa4f0e-0154-4a88-a14e-2723dd66029d",
   "metadata": {},
   "source": [
    "#### Mutivariable exponential families\n",
    "\n",
    "If $\\theta = (\\theta_1,...,\\theta_k)$ is a vector, then we say that $f(x;\\theta)$ has exponential family form if \n",
    "$$ f(x;\\theta) = h(x)\\exp\\left\\{ \n",
    "\\sum\\limits_{j=1}^k \\eta_j(\\theta) T(x_j) - B(\\theta).\n",
    "\\right\\}$$\n",
    "\n",
    "Again, $T = (T_1,...,T_k)$ is sufficient for $\\theta$. An iid sample of size n also has exponential form with sufficient statistic \n",
    "$\\left( \\sum\\limits_{i=1}^n T_1(X_i),..., \\sum\\limits_{i=1}^n T_k(X_i)\\right)$."
   ]
  },
  {
   "cell_type": "markdown",
   "id": "afb85774-2427-454c-8b48-aa71624b4bd5",
   "metadata": {},
   "source": [
    "e.g. The normal family \n",
    "$$\n",
    "\\frac{1}{\\sqrt{2\\pi } \\sigma} \\exp\\left\\{ \\frac{-(x-\\mu)^2}{ 2\\sigma^2} \\right\\}\\\\\n",
    "=\\exp\\left\\{ \\frac{-(x-\\mu)^2}{ 2\\sigma^2} - \\frac12 \\log( 2\\pi \\sigma^2)  \\right\\}\\\\\n",
    "=\\exp\\left\\{ \\frac{\\mu}{\\sigma^2} x -\\frac1{2\\sigma^2} x^2 -\\frac{\\mu^2}{2\\sigma^2} - \\frac12 \\log( 2\\pi \\sigma^2)  \\right\\}\\\\\n",
    "$$"
   ]
  },
  {
   "cell_type": "markdown",
   "id": "f54ba444-b178-4b31-9447-2e25249108d0",
   "metadata": {},
   "source": [
    "has \n",
    "$$\\eta_1 = \\frac{\\mu}{\\sigma^2},~T_1(x) =x\\\\\n",
    "\\eta_2 =- \\frac{1}{2\\sigma^2},~T_2(x) = x^2\\\\\n",
    "B(\\theta) = -\\frac12 \\log (2\\pi\\sigma^2),~ h(x)=1 \n",
    "$$\n",
    "so that with n iid samples, $\\left(\\sum\\limits_{i=1}^n X_i,\\sum\\limits_{i=1}^n X_i^2\\right)$ is sufficient.\n"
   ]
  },
  {
   "cell_type": "markdown",
   "id": "76764ce6-6b46-4bca-8f88-dc4cb6bcc237",
   "metadata": {},
   "source": [
    "### Expectation-Maximization Algorithm (EM) \n",
    "\n",
    "Suppose we have data $Y$ whose density $f(y;\\theta)$ leads to a log-likelihood that is\n",
    "hard to maximize. But suppose we can find another \"hidden\" random variable $Z$ such that $f(y;\\theta) =\\int f(y,z;\\theta) dz$ is easy to maximize.\n",
    "\n",
    "We then set up a sequence of approximations $\\theta^i$  of $\\theta$ using the function \n",
    "$$\n",
    "J(\\theta|\\theta^j) \n",
    "= \\mathbb{E}_{\\theta^j} \\left(  \\log \\left( \n",
    "\\frac{f(Y^n,Z^n;\\theta   )}\n",
    "     {f(Y^n,Z^n;\\theta^j)} \\right) \\,\n",
    "     \\vert~ Y^n = y^n \\right)\n",
    "$$ \n",
    "where the expectation is over \n",
    "$Z^n$ (so $\\theta$ and $X$ are treated as constant by $\\mathbb{E}_{\\theta^j}$.)"
   ]
  },
  {
   "cell_type": "markdown",
   "id": "d0d5e5e3-7739-4562-a066-e66ce89496a7",
   "metadata": {},
   "source": [
    "with the following algorithm\n",
    "\n",
    "0. Pick a starting value $\\theta_0$. Now for j = 1,2,..., repeat steps 1 and 2 below:\n",
    "1. Calculate $J(\\theta|\\theta^j)$ \n",
    "2. Find $\\theta_j+1$ to maximize $J(\\theta| \\theta_j)$. \n"
   ]
  },
  {
   "cell_type": "markdown",
   "id": "c7da1f99-3faa-475c-9794-1f58f676c462",
   "metadata": {},
   "source": [
    "# Ch10 Hypothesis testing and p-values \n",
    "Suppose that we partition the parameter space $\\Theta \\subseteq \\mathbb{R}^k$ into two disjoint sets $\\Theta_0$ and $\\Theta_1$ and that we wish to test\n",
    "$$H_0 :\\theta \\in \\Theta_0 \\text{ null hypothesis },\\\\ \n",
    "  H_1 :\\theta \\in \\Theta_1 \\text{ the alternative  }.\n",
    "$$\n",
    "For notational clarity, let $\\theta^*$ be the true value of $\\theta$."
   ]
  },
  {
   "cell_type": "markdown",
   "id": "f7c08379-3fbc-439a-b418-6fb6e80bdfd4",
   "metadata": {},
   "source": [
    "**Definition** If we reject a hypothesis by the criteria of the form \n",
    "$X^n\\in R$ for some $R \\subset \\text{Range}(X^n)$, then we call $R$ the **rejection region**.\n",
    "\n",
    "**Note:** Typically a rejection region is specified by use of a statistic $T(X^n)$. A possible form is $R = \\{ x^n  \\,:\\,  T(x^n)> c\\}$ for some $c$.\n",
    "\n",
    "**e.g.** Let $X_1,\\dots,X_n \\sim N(\\theta,1)$ and consider testing $H_0: \\theta = 0$ with the rejection region \n",
    "$R = \\{x^n \\,:\\, |\\bar{x}_n| >c\\}$. That is, we will reject the hypothesis that the mean is zero if the mean is larger than some value. "
   ]
  },
  {
   "cell_type": "markdown",
   "id": "c00a73d7-7fab-435e-9789-ef1b67050c51",
   "metadata": {},
   "source": [
    "Ok, now lets discuss how we can construct rejection regions that give us confidence that we did not make an error in rejecting or not-rejecting a hypothesis. "
   ]
  },
  {
   "cell_type": "markdown",
   "id": "856fd0f9-ffec-421b-9a52-8853d67664cf",
   "metadata": {},
   "source": [
    "**Definition**: If $\\theta^* \\in \\Theta_0$ but one rejects $H_0$ then one makes a **type 1 error**. \n",
    "\n",
    "**Definition**: If $\\theta^* \\in \\Theta_0^C$ but one doesn't reject $H_0$ then one makes a **type 2 error**. \n",
    "\n",
    "We want to construct experiments that  minimize the probability of type 1 and type 2 errors. Part of that is constructing rejection regions with a clear relationship between those error types. "
   ]
  },
  {
   "cell_type": "markdown",
   "id": "e5f84070-27ca-45d2-a2a3-cdd64dccdf11",
   "metadata": {},
   "source": [
    "**Definition** The **power function** of a test with rejection region $R$ is the function $\\beta: \\Theta \\to [0,1]$ such that \n",
    "$\\beta(\\theta) = \\mathbb{P}_\\theta (X^n \\in R)$. \n",
    "\n",
    "**Interpretation:** The power function is the probability of rejecting $H_0$ given that (a) the rejection region is $R$ and that (b) the distribuion $F_\\theta$ is used to calculate probaibility. \n",
    "\n",
    "The power function has different interpretations in different subsets of the model parameter space $\\Theta$;\n",
    "- $\\beta|_{\\Theta_0} (\\theta)$ is the probability of a type 1 error, \n",
    "    - the probability of rejection when $\\theta$  is actually in the null hypothesis set, \n",
    "- $\\beta|_{\\Theta_0^C}$ is the probability of correctly rejecting $H_0$. \n",
    "    - the probability of rejection when $\\theta$ is actually not in the null hypothesis set. \n",
    "- $1-\\beta|_{\\Theta_0^C} (X \\in R)$ is the probability of a type 2 error."
   ]
  },
  {
   "cell_type": "markdown",
   "id": "985b7552-f729-4a37-ac88-3f8d95a7fa3f",
   "metadata": {},
   "source": [
    "\n",
    "A good test is designed so that both type 1 and type 2 errors are low proabbility;\n",
    "$$\n",
    "\\beta(\\theta) \\approx \\left\\{  \\begin{array}{c}\n",
    "1 \\text{ if } \\theta \\in \\Theta_0^c \\\\ \n",
    "0 \\text{ if } \\theta \\in \\Theta_0  \n",
    "\\end{array} \\right.$$\n"
   ]
  },
  {
   "cell_type": "code",
   "execution_count": 33,
   "id": "976fe393-3dc6-4f92-b0a8-083853dbd6e9",
   "metadata": {
    "tags": []
   },
   "outputs": [
    {
     "data": {
      "image/png": "[encoded data removed]",
      "text/plain": [
       "<Figure size 432x288 with 1 Axes>"
      ]
     },
     "metadata": {
      "needs_background": "light"
     },
     "output_type": "display_data"
    }
   ],
   "source": [
    "import numpy as np\n",
    "import matplotlib.pyplot as plt \n",
    "\n",
    "xs = np.linspace(0,10,100)\n",
    "\n",
    "betas = 1/(1+np.exp(-xs+5 ))\n",
    "plt.axvline(4, color = 'black')\n",
    "plt.axhline(.26, color = 'black')\n",
    "plt.axhline(.3, color = 'salmon')\n",
    "plt.axhline(.32, color = 'salmon')\n",
    "plt.axhline(.34, color = 'salmon')\n",
    "\n",
    "plt.xticks(ticks=[2,4,8], labels =[u'\\u03B8\\u2080','boundary','\\u03B8\\u2080ᶜ'] )\n",
    "plt.yticks(ticks=[0,.26,.3,1], labels =['0','size', 'levels','1'] )\n",
    "plt.title('Example β(θ)')\n",
    "plt.xlabel(u'Model parameters \\u03B8',{'size':15})\n",
    "plt.text(x=1, y=.1, s='P(type I)')\n",
    "plt.text(x=5, y=.9, s='1 - P(type I)')\n",
    "plt.plot(xs,betas);"
   ]
  },
  {
   "cell_type": "markdown",
   "id": "3e95468e-5c20-4c17-9ee7-a465a8dce869",
   "metadata": {},
   "source": [
    "The greatest danger, in terms of type I errors, is comes when the probability of type I error is the highest. The value of the power there is noteworthy. "
   ]
  },
  {
   "cell_type": "markdown",
   "id": "68fbb468-d2d9-49c1-9221-097d74902469",
   "metadata": {},
   "source": [
    "**Definition** The **size** of a test is defined to be\n",
    "$\\alpha = \\sup\\limits_{\\theta \\in \\Theta_0} \\beta(\\theta)$. \n",
    "\n",
    "- The max probability of type 1 error is the size. \n",
    "    - People like size $5\\%$. \n",
    "    - People can tollerate probabilities of type 1 error smaller than the size. \n",
    "- The minimum probability of the test correctly keeping $H_0$ is $1-\\alpha$. \n",
    "    - people like $95\\%$\n",
    "    - people can tollerate higher than $95\\%$"
   ]
  },
  {
   "cell_type": "markdown",
   "id": "72b71993-71dd-4b45-8417-0fa33b5bb0dd",
   "metadata": {},
   "source": [
    "**Definition** A test is said to have (significance) **level** $\\alpha$ if $\\alpha \\geq \\sup\\limits_{\\theta \\in \\Theta_0} \\beta(\\theta)$ (i.e. the size is greater than $\\alpha$).\n",
    "\n"
   ]
  },
  {
   "cell_type": "markdown",
   "id": "009bbbf6-1c5e-43f3-8977-8b9bf96ad64f",
   "metadata": {},
   "source": [
    "\n",
    "<details>\n",
    "<summary>Drop down to see: This language does not match up with Kossis</summary>\n",
    "<li> \n",
    "Koosis says: (This seems inconsistant with Wasserman and Casella)\n",
    "\n",
    "The probability of a Type I error is typically known as $\\alpha$, \n",
    "\n",
    "while the probability of a Type II error is typically known as Beta, \n",
    "\n",
    "and power $1-\\beta$ is the probability of falsifying the null hypothesis when it is indeed false.\n",
    "\n",
    "Trying to bumper sticker it\n",
    "\n",
    "- Alpha is chance you look right when you are wrong. \n",
    "- Beta is chance you look wrong when you are right. \n",
    "- Power is chance you look right when you are right. \n",
    "-----\n",
    "</details>\n"
   ]
  },
  {
   "cell_type": "markdown",
   "id": "1441d5e4-418e-4238-919c-7fa0d8b62c30",
   "metadata": {},
   "source": [
    "Review before moving on: \n",
    "- $z_\\alpha = \\Phi^{−1}(1 − α)$ where $\\Phi$ is the CDF of $N(0,1)$.\n",
    "- the standard deviation of $\\hat\\theta_n$ is called **standard error**. "
   ]
  },
  {
   "cell_type": "markdown",
   "id": "91d59df9-d3ae-426b-b390-0d222f6e4653",
   "metadata": {},
   "source": [
    "**e.g.** Let $X_1,\\dots,X_n \\sim N(\\theta,1)$ and consider testing $H_0: \\theta = 0$ with the rejection region \n",
    "$R = \\{x^n | \\bar{x}_n >c\\}$.  To make the test have size \n",
    "$\\alpha:=\\sup\\limits_{\\theta \\in \\Theta_0}\\beta(\\theta)$, \n",
    "which in this $\\Theta_0 = \\{0\\} $ case is $\\alpha = \\beta(0) =\\mathbb{P}_{\\theta = 0}(\\bar{X}_n >c ) $, "
   ]
  },
  {
   "cell_type": "markdown",
   "id": "c560afa2-6d6a-4d2b-9033-d10542e5ef9b",
   "metadata": {},
   "source": [
    "use $c$ such that \n",
    "$$\n",
    "\\alpha = \\mathbb{P}_{\\theta =0} (\\bar{X}_n>c) \\\\\n",
    "\\Leftrightarrow \n",
    "\\alpha = \\mathbb{P}_{\\theta =0} \\left(\\sqrt{n}\\frac{\\bar{X}_n-0}{1}>c \\sqrt{n}\\right) \\\\\n",
    "\\Leftrightarrow \\alpha = \\mathbb{P}_{\\theta =0} \\left(Z>c \\sqrt{n}\\right) $$\n",
    "$$\n",
    "\\Leftrightarrow \\alpha = 1-\\Phi\\left(c\\sqrt{n}\\right) \\\\\n",
    "\\Leftrightarrow \\Phi\\left( c\\sqrt{n} \\right) = 1-\\alpha  \\\\\n",
    "\\Leftrightarrow  c\\sqrt{n}  = z_\\alpha  \\\\\n",
    "\\Leftrightarrow  c  = \\frac{z_\\alpha }{\\sqrt{n}}.\n",
    "$$"
   ]
  },
  {
   "cell_type": "markdown",
   "id": "68e32dd3-0fda-4d96-bb74-a136878c2ba8",
   "metadata": {},
   "source": [
    "Interpretation: Since the variance of the sample distribution $\\bar{X}_n$ in terms of the population variance $\\sigma$ is $\\sigma/\\sqrt{n}$, the number $Z_\\alpha/\\sqrt{n}$ is the number of standard deviatoins out in the sampling distribution required to get to $F_{\\bar{X}_n}\\left(Z_\\alpha/\\sqrt{n}\\right) >1-\\alpha$"
   ]
  },
  {
   "cell_type": "markdown",
   "id": "04c6f5fa-bc6d-45d8-9ff1-1fef5d754c27",
   "metadata": {},
   "source": [
    "This chapter considers 4 tests\n",
    "1. Wald\n",
    "2. $\\chi^2$\n",
    "3. permutation\n",
    "4. likelihood ratio "
   ]
  },
  {
   "cell_type": "markdown",
   "id": "b6fbae00-d492-44f4-90e1-2f01106b4d43",
   "metadata": {},
   "source": [
    "## Wald test\n",
    "\n",
    "In testing \n",
    "$$\n",
    "H_0 :\\theta=\\theta_0 \\text{ versus  } H_1 :\\theta \\neq \\theta_0,\n",
    "$$\n",
    "let $\\hat \\theta_n$ be an estimate of $\\theta$ and let $\\text{se}_n$ be the standard error of $\\hat \\theta_n$. \n",
    "- assume that $\\hat \\theta$ is asymptotically Normal so that $\\frac{\\hat \\theta - \\theta_0}{\\text{se}} \\stackrel{Dist}{\\to} N(0,1)$ and \n",
    "- rejejct $H_0$ if $\\frac{\\hat \\theta - \\theta_0}{\\text{se}}> z_{\\alpha/2}$ for your choice of $\\alpha$."
   ]
  },
  {
   "cell_type": "markdown",
   "id": "ed29f722-2224-4442-b113-084937256198",
   "metadata": {},
   "source": [
    "**Theorem**. Asymptotically, the Wald test has size $α$, that is, \n",
    "$P_{θ_0} \\left( \\left|\\frac{\\hat{\\theta}_n - \\theta_0}{\\text{se}} \\right| >z_{α/2} \\right) \\to \\alpha$ as $n \\to\\infty$. "
   ]
  },
  {
   "cell_type": "markdown",
   "id": "0d5d8fcd-0d53-40be-950f-47992eab4ca0",
   "metadata": {},
   "source": [
    "**Interpretation** With large samples, one can be confident that the Wald test has a desired probability of false positives. "
   ]
  },
  {
   "cell_type": "markdown",
   "id": "93d09a3b-83e7-44b9-b256-8d19271e706a",
   "metadata": {},
   "source": [
    "**Theorem** Suppose the true value of $\\theta$ is $\\theta_⋆  \\neq \\theta_0$.The probability of correctly rejecting the null hypothesis with the Wald test is given (approximately) by \n",
    "$$\n",
    "β(θ_⋆) \\approx 1-\\Phi \\left( \\frac{\\hat \\theta - \\theta_0}{\\text{se}}+ z_{\\alpha/2}\\right)\n",
    "-\\Phi \\left(\\frac{\\hat \\theta - \\theta_0}{\\text{se}}- z_{\\alpha/2}  \\right)\n",
    "$$"
   ]
  },
  {
   "cell_type": "markdown",
   "id": "774cd13f-625f-4ea1-bd54-5862b6d6c844",
   "metadata": {},
   "source": [
    "**Theorem**. The size $\\alpha$ Wald test rejects $H_0$ if and only if $\\theta_0 \\notin C$ where\n",
    "$C=(\\hat θ−\\text {se}z_{α/2}, \\hatθ + \\text{se}z_{α/2})$.\n",
    "\n",
    "Thus, testing the hypothesis is equivalent to checking whether the null value of the parameter \n",
    "is in the confidence interval."
   ]
  },
  {
   "cell_type": "markdown",
   "id": "d899888e-c295-413c-b3fd-7659237740e3",
   "metadata": {},
   "source": [
    "## p-values\n",
    "\n",
    "As we reduce the level $\\alpha$ we change the region $R_\\alpha$ of rejection by making it smaller. Holding the observation $x^n$ constant and reducing $\\alpha$ we can imagine taking $\\alpha$ so low that our statistic $T(x^n)$ is no longer in  $R_\\alpha$. \n",
    "\n",
    "**Definition** There is a smallest level $\\alpha$ at which the test rejects; we call this level **the p-value**. I believe the owner of this p-value is an observation. \n",
    "\n",
    "But abstracting away from particular observations by using a random variable...\n",
    "\n",
    "**Definition** Suppose that for every $\\alpha \\in (0, 1)$ we have a size $\\alpha$ test with rejection region $R_\\alpha$. Then, $\\text{p-value}(X^n)=\\inf \\{ \\alpha  \\,|\\, T(X^n) \\in R_\\alpha \\}$ .\n",
    "\n",
    "Informally, the p-value is a measure of the evidence against $H_0$: the smaller the p-value, the stronger the evidence against $H_0$. However,  p-value is *not* the probability that the null hypothesis is true.\n",
    "\n",
    "Also informally: The p-value is the probability (under H0) of observing a value of the test statistic the same as or more extreme than what was actually observed.\n",
    "\n",
    "Theorem 10.12 onward... too much for today."
   ]
  },
  {
   "cell_type": "markdown",
   "id": "987aeb52-b0ef-44d2-a671-2c1329d722d5",
   "metadata": {},
   "source": [
    "## $\\chi^2$ test\n",
    "\n",
    "Let $Z_1,...,Z_k$ be independent, standard Normals and  $V = \\sum\\limits_{i=1}^k Z_i^2$. \n",
    "Then $V$ has a **$\\chi^2$** distribution with $k$ degrees of freedom ($V \\sim \\chi^2_k$) and the probability density of $V$ is\n",
    "$$f(v) \n",
    "= \\frac{v^{\\frac k2−1} e^{−\\frac v2} }{2^{\\frac k2} \\Gamma\\left(\\frac k2\\right)}\\\\\n",
    "=\\frac1{2\\Gamma\\left(\\frac k2\\right)} \\left( \\frac{v}{2} \\right)^{k/2 -1} e^{−\\frac v2}\n",
    "$$\n",
    "\n",
    "Note: The $\\chi^2$ distribution is a $\\Gamma(\\alpha,\\beta)$ distribution with $\\beta =2$ and $ \\alpha = k/2$ and so has mean $\\alpha\\beta = k$, variance $\\alpha\\beta^2 = 2k$"
   ]
  },
  {
   "cell_type": "markdown",
   "id": "3e2f3e3e-d669-4a4a-92f0-df385d873753",
   "metadata": {},
   "source": [
    "## Pearson's $\\chi^2$ test for multinomial data\n",
    "\n",
    "Let $p_0 = (p_{01}, . . . , p_{0k})$ be some fixed vector and suppose we want to test \n",
    "$H_0 :p=p_0$ versus $H_1 :p \\neq p_0$.\n",
    "\n",
    "**Definition** Pearson’s $\\chi^2$ statistic is\n",
    "$T = \\sum\\limits_{i=1}^k \\frac {(X_j −n p_{0j})^2}{np_{0j}}$"
   ]
  },
  {
   "cell_type": "markdown",
   "id": "ff1c3231-a92b-49a5-96d1-9255fdb9377e",
   "metadata": {},
   "source": [
    "e.g. Observation of Mendel's peas to test his theory of inheritance."
   ]
  },
  {
   "cell_type": "markdown",
   "id": "46b724a1-491c-4435-9e30-24e936abd2a7",
   "metadata": {},
   "source": [
    "## Permutation test\n",
    "that two samples are from the same distribution.\n",
    "\n",
    "Suppose that $X_1, . . ., X_m \\sim F_X$ and $Y_1, . . ., Y_n ∼ F_Y$ are two independent samples and \n",
    "$H_0 :F_X = F_Y \\text{ versus }  H_1 :F_X \\neq F_Y.$\n",
    "\n",
    "Let $Z = (x_1,...,x_m,y_1,...,y_n)$, $G$ be the group of perumtation on $n+m$ objects, and $T(Z)$ be some test statistic. (e.g. $|\\bar{X}_m − \\bar{Y}_n|$). Let $T(gZ)=T_g$. \n",
    "\n",
    "**Definiton** The **permutation distribution** of $T$ is the discrete CDF $F(t) = \\frac{1}{ N!} \\sum\\limits_{g\\in G} I( T(gZ) > t)$ that puts mass $1/N!$ on each $T_g$.\n",
    "\n",
    "That is, the permutation distribution $F(t)$ is the fraction of permutatioins that give $T>t$. \n",
    "\n",
    "Assuming we reject when T is large, the p-value is\n",
    "$ \\frac{1}{ N!} \\sum\\limits_{g\\in G} I(T(gZ) > t_{obs})$"
   ]
  },
  {
   "cell_type": "markdown",
   "id": "d0484060-0a04-4286-b6aa-3668aa3b4fce",
   "metadata": {},
   "source": [
    "**e.g.** The fraction of words that are 3 letter words from 8 essays from author A are in the list A, \n",
    "The fraction of words that are 3 letter words from 10 essays from author B are in the list B.  \n"
   ]
  },
  {
   "cell_type": "code",
   "execution_count": 42,
   "id": "ff32fec0-f8f3-4e50-b084-d8227190cf67",
   "metadata": {},
   "outputs": [],
   "source": [
    "import numpy as np\n",
    "from itertools import permutations \n",
    "\n",
    "\n",
    "A = [.225 ,.262 ,.217 ,.240 ,.230, .229, .235, .217]\n",
    "B = [.209, .205 ,.196 ,.210, .202 ,.207, .224 ,.223 ,.220, .201]\n",
    "\n",
    "def d_means(sample_A,sample_B):\n",
    "    a_bar = np.mean(sample_A)\n",
    "    b_bar = np.mean(sample_B)\n",
    "    return a_bar - b_bar\n",
    "\n",
    "Z = A+B \n",
    "diffs = []\n",
    "\n",
    "def get_random_permutation(L):\n",
    "    return list(random.sample(L,len(L)))\n",
    "    \n",
    "for _ in range(10_000):\n",
    "    Z_prime = get_random_permutation(Z)\n",
    "    diff = d_means(Z_prime[:len(A)],Z_prime[len(A):])\n",
    "    diffs.append(diff)\n",
    "\n",
    "xs = np.linspace(min(diffs) , max(diffs),100)\n",
    "F_perm = [sum(np.array(diffs) < x) for x in xs] #CDF\n",
    "f_perm = np.array(F_perm[1:]) - np.array(F_perm[:-1]) #PDF"
   ]
  },
  {
   "cell_type": "code",
   "execution_count": 42,
   "id": "e3099ad5-2405-4ae7-a4a2-3801f540d170",
   "metadata": {},
   "outputs": [
    {
     "data": {
      "image/png": "[encoded data removed]",
      "text/plain": [
       "<Figure size 432x288 with 1 Axes>"
      ]
     },
     "metadata": {
      "needs_background": "light"
     },
     "output_type": "display_data"
    }
   ],
   "source": [
    "import matplotlib.pyplot as plt\n",
    "plt.plot(xs[:-1],f_perm)\n",
    "plt.axvline(x= d_means(A,B), color = 'red', label = 'Observed')\n",
    "plt.title('Permutation PDF');"
   ]
  },
  {
   "cell_type": "markdown",
   "id": "a1ebe5d4-9f8b-4e5c-b316-5c4c6a2ec704",
   "metadata": {},
   "source": [
    "# Likelihood ratiotest\n",
    "\n",
    "For testing a vector-valued parameter $\\theta \\in \\Theta \\subseteq \\mathbb{R}$. \n",
    "\n",
    "**Definition**. Consider testing\n",
    "$H_0 : \\theta \\in\\Theta_0 \\text{versus} H_1 :\\theta \\notin \\Theta_0.$\n",
    "The **likelihood ratio statistic** is\n",
    "$$\n",
    "λ(X^n) = 2\\log \n",
    "\\left( \n",
    "\\frac{\\sup\\limits_{\\theta \\in \\Theta}   {\\cal L}(\\theta)  } \n",
    "            {\\sup\\limits_{\\theta \\in \\Theta_0 }{\\cal L}(\\theta)  }\n",
    "\\right)\n",
    "=2\\log \\left( \n",
    "\\frac{ {\\cal L}(\\hat \\theta)} \n",
    "             { {\\cal L}(\\hat \\theta_0)  }\n",
    "\\right)\n",
    "$$\n",
    "where $\\hat \\theta$ is the mle and $\\hat\\theta_0$\u0011 is the mle when $θ$ is restricted to lie in $\\Theta_0$\n"
   ]
  },
  {
   "cell_type": "markdown",
   "id": "21d30b0e-925f-41cc-9512-7225aff55b4c",
   "metadata": {},
   "source": [
    "**Theorem** $\\lambda(x^n) \\stackrel{dist}{\\to}  \\chi^2_{r−q}$ with \n",
    "$\\text{p-value}(X^n) = P(\\chi^2_{r−q} > \\lambda)$ where $r-q$ is the number of free parameters in (aka the dimension of) $\\theta_0$. "
   ]
  },
  {
   "cell_type": "markdown",
   "id": "53bea206-33f6-480e-9e45-f3b61c12ac68",
   "metadata": {},
   "source": [
    "e.g. with Mendell's peas, which is multinomial, with $\\Theta_0 = \\{ p_0\\}$.\n",
    "\n",
    "The pdf of a multinomial distribution with $p = (p_1,...,p_k)$ is\n",
    "$f(x)=\n",
    "\\left( \\begin{array}{c}\n",
    "n\\\\\n",
    "x_1 . . . x_k \n",
    "\\end{array}\\right)\n",
    "p_1^{x_1} ···p_k^{x_k}$ \n",
    "\n",
    "Recall that if X = (X1 , . . . , Xk ) has a multinomial (n, p) distribution, then the mle of p is \n",
    "$$\n",
    "\\hat p = (\\hat p_1, . . . , \\hat p_k) = (X_1/n, . . . , X_k/n)\n",
    "$$"
   ]
  },
  {
   "cell_type": "markdown",
   "id": "16f00078-bde3-4843-b856-6635c9be0ee2",
   "metadata": {},
   "source": [
    "therefore \n",
    "$$\n",
    "\\lambda = 2\\log \\left(\n",
    "\\frac{ \n",
    "        {\\cal L}(\\hat p)\n",
    "      } \n",
    "      { \n",
    "        {\\cal L}(\\hat p_0)  \n",
    "       }\n",
    "\\right)\n",
    "$$"
   ]
  },
  {
   "cell_type": "markdown",
   "id": "0cf334b1-1881-49c8-8875-3370b1a2e9fd",
   "metadata": {},
   "source": [
    "$$\n",
    "= 2\\log \\left( \\frac{\\prod_i (X_i/n)^{X_i} } { p_i^{X_i}  }\\right)\n",
    "= \\sum_i 2{X_i}\\log \\left( \\frac{ (X_i/n) } { p_i  }\\right)\n",
    "$$\n",
    "and using the experimental data\n",
    "$p-value = \\mathbb{P}(χ^2_3 > .48) = .92.$"
   ]
  },
  {
   "cell_type": "markdown",
   "id": "298d168d-0a4a-4c71-aed3-a27303dd27c9",
   "metadata": {},
   "source": [
    "## Multiple testing\n",
    "\n",
    "Austin called this statistics packing. "
   ]
  },
  {
   "cell_type": "markdown",
   "id": "9901c71d-d3b8-4601-bbf3-ad4734b2f0d8",
   "metadata": {},
   "source": [
    "\n",
    "## 10.8 Goodness-of-fit Tests\n",
    "When we want to check whether the data come from an assumed parametric model. There are many such tests; here is one for multinomial models. \n",
    "\n",
    "For a partition $I_1,...,I_k$ of $\\mathbb{R}$ into k disjoint intervals\n",
    "$p_j(\\theta) =\n",
    "\\int_{I_i}f(x;\\theta)dx$\n",
    "is the probability that an observation falls into interval $I_j$ under the assumed model. \n",
    "\n",
    "Let $N_j$ be the number of observations that fall into $I_j$. The likelihood for \n",
    "$\\theta = (\\theta_1,...,\\theta_s)$  based on the $N_i$ is the multinomial likelyhood \n",
    "$$Q(\\theta) = \\prod_i p_i(\\theta)^{N_j}$$\n",
    "Maximize $Q$ for an estimate $\\tilde{\\theta}$ of $\\theta$. \n",
    "\n",
    "Then the statistic $Q:=\\frac{(N_j −n p_j(\\tilde θ))^2}{n p_j(\\tilde θ)} \\stackrel{dist}{\\to} \\chi^2_{k−1−s}$ \n"
   ]
  },
  {
   "cell_type": "markdown",
   "id": "5e1efce5-4530-4466-8082-391b9948e3f0",
   "metadata": {},
   "source": [
    "**Theorem** p-value for the test is $\\mathbb{P}(\\chi^2_{k−1−s} > q)$ where $q$ denotes the observed value of $Q$."
   ]
  },
  {
   "cell_type": "markdown",
   "id": "1296deae-fb4f-4776-8d06-f25b2c81fa1a",
   "metadata": {},
   "source": [
    "## 10.10.2 The t-test\n",
    "\n",
    "Let $X_1,...,X_n ∼ N(μ,σ^2)$ where $θ = (μ,σ^2)$ are both unknown. Suppose we want to test $μ=μ_0$ versus $μ \\neq μ_0$. Let\n",
    "$$\n",
    "T= \\frac{(\\bar X_n − μ_0)}{  S_n/\\sqrt{n} }\n",
    "$$ \n",
    "Althoough $T\\sim N(0,1)$ for large $n$, the exact distribution of the statistic $T$ is called the t-distribution with n-1 degrees of freedom.\n",
    "\n",
    "**Definition** A random variable T has a **t-distribution with $k$ degrees** of freedom if it has density\n",
    "$$\n",
    "f(x) \n",
    "= \n",
    "\\frac{\n",
    "       \\Gamma\\left(\\frac{k+1}{2}\\right)\n",
    "       }\n",
    "      {\n",
    "      \\sqrt{k\\pi}\\Gamma\\left(\\frac{k}{2}\\right)\n",
    "      }\n",
    "\\frac{1}{   \\left(1+\\frac{x^2}{k}\\right)^{(k+1)/2}\n",
    "        }\n",
    "$$"
   ]
  },
  {
   "cell_type": "markdown",
   "id": "af17aeb4-52b8-4c9d-8cff-be90acd3d42d",
   "metadata": {},
   "source": [
    "To test $H_0 :μ =μ_0$ where $μ=E(X_i)$ is the mean, we can use the Wald test. But when \n",
    "- the data are assumed to be Normal and \n",
    "- the sample size is small (<30), \n",
    "it is common instead to use the $t-test. \n",
    "\n",
    "**Definition** In the t-test we reject the null hypothesis $\\mu = \\mu_0$ when $|T| > t_{n−1,α/2}$. Then we get a size $\\alpha$ test."
   ]
  },
  {
   "cell_type": "markdown",
   "id": "93e5f4b1-47d2-42d0-82f1-d82a1e5dc214",
   "metadata": {},
   "source": []
  },
  {
   "cell_type": "markdown",
   "id": "b1ff3c7b-4131-46f6-a218-af28c2eb1aea",
   "metadata": {},
   "source": [
    "# Ch 11  Bayesian Inference\n",
    "\n",
    "The frequentist point of view is based on the following postulates:\n",
    "- F1 Probability refers to limiting relative frequencies. Probabilities are objective properties of the real world.\n",
    "- F2 Parameters are fixed, unknown constants. Because they are not fluctuating, no useful probability statements can be made about parameters.\n",
    "- F3 Statistical procedures should be designed to have well-defined long run frequency properties. For example, a 95 percent confidence interval should trap the true value of the parameter with limiting frequency at least 95 percent."
   ]
  },
  {
   "cell_type": "markdown",
   "id": "094ec8f8-b7af-412c-a973-ca9a3844b477",
   "metadata": {},
   "source": [
    "The Beysian point of view is \n",
    "- B1 Probability describes degree of belief, not limiting frequency. As such, we can make probability statements about lots of things, not just data which are subject to random variation. For example, I might say that “the probability that Albert Einstein drank a cup of tea on August 1, 1948” is 0.35. This does not refer to any limiting frequency. It reflects my strength of belief that the proposition is true.\n",
    "- B2 We can make probability statements about parameters, even though they are fixed constants.\n",
    "- B3 We make inferences about a parameter θ by producing a probability distribution for θ. Inferences, such as point estimates and interval esti- mates, may then be extracted from this distribution."
   ]
  },
  {
   "cell_type": "markdown",
   "id": "b17211d4-71c3-4bc7-ad2c-ec06052b3121",
   "metadata": {},
   "source": [
    "## 11.2 The Bayesian Method\n",
    "1. We choose a probability density $f(\\theta)$ — called the **prior distribution** — that expresses our beliefs about a parameter $\\theta$ before we see any data.\n",
    "2. We choose a statistical model $f(x|θ)$ that reflects our beliefs about x given $θ$. Notice that we now write this as $f(x|θ)$ instead of f(x;θ) as we did for frequentist statistics.\n",
    "3. After observing data $X_1,...,X_n$, we update our beliefs and calculate the **posterior distribution** $f(\\theta|X_1,...,X_n)$."
   ]
  },
  {
   "cell_type": "markdown",
   "id": "a6b05df9-2bfb-4b32-8c65-02ffee3a6214",
   "metadata": {},
   "source": [
    "The posterior distribution is calculated from the prior distribution and the data by Bayes's theorem\n",
    "$$f(θ|x^n) = \\frac{ f(x^n|θ)f(θ) } {\\int f (x^n|θ)f (θ)dθ}.$$\n",
    "Renaming the normalization constant $C$\n",
    "$$f(θ|x^n) =  C f(x^n|θ)f(θ) = C \\prod\\limits_i f(x_i|θ)f(\\theta) = C {\\cal L}(\\theta) f(\\theta)$$\n",
    "\n",
    "That is \"Posterior is proportional to Likelihood times Prior\""
   ]
  },
  {
   "cell_type": "markdown",
   "id": "1565232b-bfc5-4274-ad03-32d56801b33b",
   "metadata": {},
   "source": [
    "**Example** Let $X_1, . . . , X_n ∼ \\text{Bernoulli}(p)$. Take the uniform pdf $f:[0,1]\\to \\mathbb{R} \\text{ such that } f(p) = 1 ~\\forall ~ p \\in [0,1]$ as a prior. By Bayes’ theorem, the posterior has the form\n",
    "$f(p|x^n) ∝ f(p){\\cal L}_n(p) = p^{s}(1 − p)^{n−s} = p^{s+1−1}(1 − p)^{n−s+1−1}$\n",
    "where $s = \\sum_{i=1}^n x_i$ is the number of successes. Then \n",
    "$$\\text{prior } f(p) = \\beta(1,1)(p)\\\\\n",
    "\\text{posterior } f(p|x^n) = \\beta(s+1,n-s+1)(p)\n",
    "$$"
   ]
  },
  {
   "cell_type": "markdown",
   "id": "7194c4b3-0b42-4cb9-b601-4b1e6a6f4e97",
   "metadata": {},
   "source": [
    "**Definition** When the prior and the posterior are in the same (exponential) family (model), we say that the prior is **conjugate** with respect to the model."
   ]
  },
  {
   "cell_type": "markdown",
   "id": "dad9911b-bf2c-4790-9029-2b35dbd1aadc",
   "metadata": {},
   "source": [
    "## 11.6 Flat Priors, Improper Priors, and “Noninformative” Priors\n",
    "Where does one get the prior $f(θ)$? \n",
    "\n",
    "School of thought, \n",
    "- **subjectivism** says that the prior should reflect our subjective opinion about $θ$ (before the data are collected). \n",
    "- use a “noninformative prior” like a flat prior $f(θ) ∝$ constant.\n",
    "\n",
    "Problem: \n",
    "Flat priors are not transformation invariant."
   ]
  },
  {
   "cell_type": "markdown",
   "id": "5e421165-ca6a-4823-b51a-4503fe7d160e",
   "metadata": {},
   "source": [
    "**Jeffreys’ Prior** Take\n",
    "$f(\\theta) ∝ I(\\theta)^{1/2}$\n",
    "where \n",
    "- the Fisher information function \n",
    "$I(\\theta) = \\sum\\limits_{i=1}^n \\mathbb{V}_θ (s(X_i; θ))$,\n",
    "and \n",
    "- the score function (statistic) \n",
    "$s(X;θ)= \\frac{\\partial \\log f(X;θ)}{\\partial \\theta}$."
   ]
  },
  {
   "cell_type": "markdown",
   "id": "e3f7c573-40d5-4e36-8f6f-95540c4aebac",
   "metadata": {},
   "source": [
    "## 11.8 Bayesian Testing\n",
    "Hypothesis testing from a Bayesian point of view is a complex topic; some choice of priors lead to intractable cancluations. "
   ]
  },
  {
   "cell_type": "markdown",
   "id": "b0558964-d24c-4ab6-a82c-10a4c98ca276",
   "metadata": {},
   "source": [
    "# Ch 12 Statistical Decision Theory\n",
    "\n",
    "a formal theory for comparing statistical procedures.\n",
    "\n",
    "- loss\n",
    "- risk \n",
    "- minimax risk rule \n",
    "- admissable estimators\n",
    "- Stein’s Paradox and estimator\n",
    "\n",
    "all Opaque. :( "
   ]
  }
 ],
 "metadata": {
  "kernelspec": {
   "display_name": "Python 3 (ipykernel)",
   "language": "python",
   "name": "python3"
  },
  "language_info": {
   "codemirror_mode": {
    "name": "ipython",
    "version": 3
   },
   "file_extension": ".py",
   "mimetype": "text/x-python",
   "name": "python",
   "nbconvert_exporter": "python",
   "pygments_lexer": "ipython3",
   "version": "3.9.12"
  }
 },
 "nbformat": 4,
 "nbformat_minor": 5
}
