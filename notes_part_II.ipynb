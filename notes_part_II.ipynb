{
 "cells": [
  {
   "cell_type": "markdown",
   "id": "15d8f3fa-5c72-4f71-ac7d-9250f5547e77",
   "metadata": {
    "tags": []
   },
   "source": [
    "# Part II: Statistical Inference\n",
    "\n",
    "How do we go from data to knowledge?"
   ]
  },
  {
   "cell_type": "markdown",
   "id": "ccc6235b-1b72-427f-a37f-05e56a96ecee",
   "metadata": {
    "tags": [],
    "toc-hr-collapsed": true
   },
   "source": [
    "# Ch6 Models, Statistical Inference and Learning\n",
    "The problem: Given a sample $X_1,...,X_n ∼ F$, how do we infer the distribution $F$ they came from?\n",
    "\n",
    "**Definition:** A **statistical model** is a set $\\mathfrak{F}$ of distributions (or densities or regression\n",
    "functions). \n",
    "\n",
    "**Definition:** A **parametric model** is a statistical model \n",
    "$\\mathfrak{F}=\\left\\{ f(x; \\theta)\\, |\\, \\theta \\in \\Theta\\subset \\mathbb{R}^n\\right\\}$ that can be parameterized by a finite number $n$ of parameters $\\theta$.\n",
    "\n",
    "**Definition:** If $\\theta$ is a vector of parameters of a parametric model but we are only interested in one component of $\\theta$, we call the remaining parameters **nuisance parameters**."
   ]
  },
  {
   "cell_type": "markdown",
   "id": "4a587c99-1ab6-42b7-9894-1bba2248fb66",
   "metadata": {},
   "source": [
    "### 6.3.1 Point Estimation\n",
    "**Definition:**  **Point estimation** refers to providing a single “best guess” of some quantity of interest from a random sample $X_1,\\dots,X_n$. \n",
    "\n",
    "Note that quantity can mean number, vector, function, et cetera.\n",
    "\n",
    "**Definition:** A (point) **estimator** of a quantity of interest $\\theta$ is a statistic $\\hat\\theta(X_1,\\dots,X_n)$ such that, for any data $x_1,\\dots,x_n$, the quantity $\\hat \\theta(x_1,\\dots,x_n) \\approx \\theta.$\n",
    "\n",
    "**e.g.s** The quantity of interest could be \n",
    "- a parameter in a parametric model, \n",
    "    - e.g. the mean $\\mu$ of a CDF of a random variable $X$.\n",
    "- a cdf $F$, \n",
    "    - e.g. the CDF of the random variable $X$. \n",
    "- a probability density function $f$, \n",
    "- a regression function $r$, or \n",
    "    - e.g. the ine of best fit to the random variable $(X,Y)$ where $X$ and $Y$ are not independent.\n",
    "- a prediction for a future value $Y$ of some random variable."
   ]
  },
  {
   "cell_type": "markdown",
   "id": "2abc5414-4433-45d3-8ca1-2b8132ab6c32",
   "metadata": {},
   "source": [
    "**Notation:** We denote a point estimate of $\\theta$ by $\\hat{\\theta}$ or $\\hat{\\theta}_n$ to emphasise its dependence on a random sample of size $n$. Note that $\\theta$ is a fixed, unknown quantity (in the frequentist interpretation). "
   ]
  },
  {
   "cell_type": "markdown",
   "id": "67a2ba9f-17c2-4f3d-8497-148543e9fc2c",
   "metadata": {},
   "source": [
    "**e.g.** \n",
    "1. If $X\\sim F$ has mean $\\mu$ then the sample mean $\\hat{\\mu}_n = \\bar{X}_n = \\frac1n \\sum\\limits_{i=1}^n X_i$ is a point estimator of the parameter $\\mu$. "
   ]
  },
  {
   "cell_type": "markdown",
   "id": "402d65fd-5fa3-4ee1-a52d-02a0408d0db2",
   "metadata": {},
   "source": [
    "2. If $X\\sim F$ then the emperical cumulative distribution $\\hat{F}(x) = \\frac{1}{n} \\sum\\limits_{i=1}^n I(X_i\\geq x)$ is a (point) estimator of the CDF $F$."
   ]
  },
  {
   "cell_type": "markdown",
   "id": "491ded70-08c5-4d45-8c66-337d098f79e8",
   "metadata": {},
   "source": [
    "3. The statistic $\\bar{X}_n$ is an estimator of the predicted future value $\\mathbb{E}(X)$ of $X$. \n",
    "\n",
    "4. If the linear function of best fit to some phenomena is the function $L(x)=mx$, then $\\hat{L}$ such that $\\hat{L}(x) = \\hat{m}x=\\left((X^n)^T (X^n)\\right)^{-1} (X^n)^T Yx$ is a (point) estimator of the linear function $L$. \n"
   ]
  },
  {
   "cell_type": "markdown",
   "id": "500f31d9-17ef-454d-9eb9-68a4d4c27842",
   "metadata": {},
   "source": [
    "#### Distributions for point estimators"
   ]
  },
  {
   "cell_type": "markdown",
   "id": "e1925bb8-ae29-4161-83fd-eb475485b116",
   "metadata": {},
   "source": [
    "Point estimators have distributions. \n",
    "\n",
    "**e.g.** The statistic known as the sample mean $\\bar X_n$ of a random variable $X$ is a estimator of the population mean $\\mu=\\mathbb{E}(X)$ of $X$; that is $\\hat{\\mu}_n:=\\bar X_n$ is an estimator of $\\mu$. That estimator has a distribution. In particular, but a bit besides the point, by the central limit theorem, for large values of $n$ that distributionis close to a normal distribution. \n",
    "\n",
    "Sometimes the parameter being estimated $\\theta$ is a characteristic of the distribution. For that reason we now use the notation for CDFs $F(X: \\theta)$ to indicate that the CDF $F(\\cdot;\\theta)$ is an element of a parameterized model.\n"
   ]
  },
  {
   "cell_type": "markdown",
   "id": "6af396e7-4382-4035-940f-84df0d7b6ac0",
   "metadata": {},
   "source": [
    "#### LOTUS for point enstimators\n",
    "Recall from ch2.11 that the distribution  $F_{\\hat{\\theta}}$ of a statistic $\\hat{\\theta}(X^n)$ of a random variable $X$ is  derived from the change of variables \n",
    "$\\hat \\theta_n = \\hat\\theta_n(X_1,\\dots,X_n)$. (A point estimator is a statistic, so the same is true of it's distribution.) In terms of the family of sets $A_t = \\{x^n\\,|\\, \\hat{\\theta}(x^n)< t\\}$ and the CDF $F_X(\\cdot;\\theta)$ the distribution of a statistic is\n",
    "$$\n",
    "\\begin{array}{ll}\n",
    "F_{\\hat\\theta_n}(t) \n",
    "&=\\idotsint_{A_t} dF_{X_1,\\dots ,X_n } (x_1,\\dots,x_n;\\theta)\\\\\n",
    "&=\\idotsint_{A_t}  \\phantom{d}f_{X_1,\\dots ,X_n } (x_1,\\dots,x_n;\\theta)\\, dx_1\\dots\\,dx_n\\\\\n",
    "&=\\idotsint_{A_t} \\prod\\limits_{i=1}^n \\left[f_X(x_i;\\theta)\\right] \\,dx_1\\dots\\,dx_n.\n",
    "\\end{array}\n",
    "$$\n",
    "where the joint distribution on IID variables $f_{X^n}(x_1,...,x_n; \\theta) = \\prod\\limits_{i=1}^n f_X(x_i;\\theta)$ has been used. \n",
    "\n",
    "Further recall that to calculate expectation values (and other moments) this is not needed: \n",
    "$$\n",
    "\\mathbb{E}\\left(\\hat{\\theta}_n(X^n)\\right) \n",
    "=\\int_{t\\in\\mathbb{R}}t dF_{\\hat\\theta_n}(t) \n",
    "\\stackrel{LOTUS}{=} \\idotsint\\limits_{\\mathbb{R}^n}\\hat{\\theta}_n(x^n)  \\,dF_X(x_1)\\dots\\,dF_X(x_n)\n",
    "$$ "
   ]
  },
  {
   "cell_type": "markdown",
   "id": "422b818a-ca04-4bc2-a93d-135c7d9024ac",
   "metadata": {},
   "source": [
    "#### Measures of estimation\n",
    "##### Bias"
   ]
  },
  {
   "cell_type": "markdown",
   "id": "04ee0d98-8c18-453a-bbc9-99aa11a905a9",
   "metadata": {},
   "source": [
    "**Definition:** The **bias** of a (point) estimator $\\hat \\theta_n$ of a parameter $\\theta$ is defined by\n",
    "$\\text{bias}(\\hat{\\theta}_n) = \\mathbb{E}_{\\hat \\theta_n}(\\hat{\\theta}_n − \\theta)$ ."
   ]
  },
  {
   "cell_type": "markdown",
   "id": "3239674f-5670-47e9-a88c-3e1d1db3517a",
   "metadata": {},
   "source": [
    "**e.g.** The \"plug in variance\" \n",
    "$V = \\frac{1}{n} \\sum\\limits_{i=1}^n (X_i − \\bar{X_n} )^2$ of a continuous random variable $X$ is a biased estimator of the variance of $X$ because \n",
    "$$\\mathbb{E}(V - \\sigma^2) = \\frac{n-1}{n}\\sigma^2 - \\sigma^2 = -\\frac1n \\sigma^2.\n",
    "$$\n",
    "\n",
    "**non-e.g.** The the sample variance \n",
    "$S^2_n = \\frac{1}{n-1} \\sum\\limits_{i=1}^n (X_i − \\bar{X_n} )^2$ of a random variable $X$ is a un-biased estimator of the variance of $X$ because \n",
    "$$\\mathbb{E}(S_n^2 - \\sigma^2)  =0.$$ "
   ]
  },
  {
   "cell_type": "markdown",
   "id": "05bea800-b0e4-4319-8209-2de63016f126",
   "metadata": {},
   "source": [
    "##### Consistnency \n",
    "**Definition** An estimator $\\hat{\\theta}_n$ of a parameter $\\theta$ is **consistent** if $\\hat\\theta_n\\stackrel{P}{\\to}\\theta$ as $n\\to\\infty$."
   ]
  },
  {
   "cell_type": "markdown",
   "id": "344bddc8-f332-4afc-adb6-2f1b035a91ef",
   "metadata": {},
   "source": [
    "I gather that the idea of having a consistant estimator used to consume a lot of reserach, but now it is less cool. "
   ]
  },
  {
   "cell_type": "markdown",
   "id": "429fbe22-50f3-4c64-a6d0-1914fb69e6a5",
   "metadata": {},
   "source": [
    "**e.g.s** Both the sample variance and the plug in variance are consistent estimators of the variance of a random variable. "
   ]
  },
  {
   "cell_type": "markdown",
   "id": "cc9e485c-c2e6-4aab-a1d2-6f01ce952b51",
   "metadata": {},
   "source": [
    "##### MSE\n",
    "If we know the value of the parameter being estimated we can calculate the MSE.\n",
    "\n",
    "**Definition** The **mean squared error**, or $\\text{mse}$, \n",
    "of a point estimate $\\hat{\\theta}_n$ of a parameter $\\theta$ is \n",
    "$\\text{mse}\\left(\\hat \\theta_n\\right) = \\mathbb{E}_{\\hat \\theta_n}(  \\hat{\\theta}_n − \\theta)^2$, which is the square of the standard deviation with known mean. "
   ]
  },
  {
   "cell_type": "markdown",
   "id": "7c77f1b1-42cf-4e47-9ff5-fa52de38eaae",
   "metadata": {},
   "source": [
    "##### SE \n",
    "If we do not know the value of the parameter being estimated then we can calculate the following. \n",
    "\n",
    "**Definition:** The **standard error** of an estimator $\\hat{\\theta}_n$ is the standard deviation of that estimator (with unknown mean). "
   ]
  },
  {
   "cell_type": "markdown",
   "id": "597507ee-7d42-4f21-8202-2845221c7481",
   "metadata": {},
   "source": [
    "**Notation:** $\\text{se}_n = \\text{se}(\\hat{\\theta}_n) \n",
    "= \\sqrt{\\mathbb{V}_{\\hat \\theta_n } (\\hat{\\theta}_n)}\n",
    " = \\sqrt{\\int \\left( \\hat\\theta_n  - \\mathbb{E}_{\\hat \\theta_n}(\\hat \\theta_n) \\right)^2 dF_{\\hat\\theta_n}(x)}.$"
   ]
  },
  {
   "cell_type": "markdown",
   "id": "86172d5c-b2b8-4b4c-85a4-a4f85f986ff9",
   "metadata": {},
   "source": [
    "Note that I used to be confused about the subscript to be used on $\\mathbb{V}$, should it be $\\hat{\\theta}_n$ or $X^n$? But now I think it does not matter because of the law of the unconcious statistician (LOTUS). \n",
    "\n",
    "However, since $\\hat{\\theta}_n$ does not depend on $X$, but rather $X^n$, the subscript $X$ would be inappropriate.   "
   ]
  },
  {
   "cell_type": "markdown",
   "id": "8aa374a9-f8de-41ee-918f-0bf287b7f52f",
   "metadata": {},
   "source": [
    "Often, the standard error depends on the unknown parameter $\\theta$ of the CDF $F_X(\\cdot;\\theta)$. In those cases, $\\text{se}$ is an unknown quantity but we usually can estimate it. The estimated standard error is denoted by $\\hat{\\text{se}}$."
   ]
  },
  {
   "cell_type": "markdown",
   "id": "e4c1aa92-16e6-40a2-ae45-da1448199deb",
   "metadata": {},
   "source": [
    "That is tricky, so slow down; \n",
    "- estimators have standard error. \n",
    "    - one can form an estimator of the standard error of an estimator.  "
   ]
  },
  {
   "cell_type": "markdown",
   "id": "02732b6e-fa0e-43b2-9d0c-89197dda9f49",
   "metadata": {},
   "source": [
    "#### MSE as bias plus variance. \n",
    "\n",
    "**Theorem:** $\\text{mse}= \\text{bias}^2 + \\mathbb{V}$."
   ]
  },
  {
   "cell_type": "markdown",
   "id": "ca11c163-4041-4bb1-bb71-6bf4cdec5715",
   "metadata": {},
   "source": [
    "**Proof** (from my notes on Unpingco)\n",
    "$$\n",
    "\\text{MSE}(\\hat \\theta) \n",
    "= \\mathbb{E}_{\\hat \\theta_n}( \\theta -  \\hat{\\theta}_n )^2$$"
   ]
  },
  {
   "cell_type": "markdown",
   "id": "97517f70-0b77-4f8c-8b21-2a3cc2a1a163",
   "metadata": {},
   "source": [
    "$$\n",
    "= \\mathbb{E}_{\\hat \\theta_n} \n",
    "\\left[ \n",
    "\\left( \\theta -\\mathbb{E}_{\\hat{\\theta}_n }(\\hat \\theta) \\right) \n",
    "+ \n",
    "\\left( \\mathbb{E}_{ \\hat\\theta_n} ( \\hat \\theta_n) - \\hat{ \\theta } \\right)\n",
    "     \\right]^2 \n",
    "$$"
   ]
  },
  {
   "cell_type": "markdown",
   "id": "6792c7e0-8eae-4e82-b7d0-4c4b861823e5",
   "metadata": {},
   "source": [
    "$$\n",
    "= \\mathbb{E}_{\\hat \\theta_n} \\left[  (\\theta                                     -\\mathbb{E}_{\\hat \\theta_n}(\\hat \\theta) )^2 \n",
    "                                + ( \\mathbb{E}_{\\hat \\theta_n}(\\hat \\theta)  - \\hat{ \\theta }                    )^2   \n",
    "+ 2(\\theta -\\mathbb{E}_{\\hat\\theta_n}(\\hat \\theta) ) ( \\mathbb{E}_{\\hat \\theta_n}(\\hat \\theta)  - \\hat{ \\theta } )\\right] \\\\\n",
    "= \n",
    "\\mathbb{E}_{\\hat \\theta_n} \\left[  (\\theta                                     -\\mathbb{E}_{\\hat \\theta_n}(\\hat \\theta) )^2 \n",
    "                                + ( \\mathbb{E}_{\\hat \\theta_n}(\\hat \\theta)  - \\hat{ \\theta }                    )^2   \\right] \n",
    "+ 2(\\theta -\\mathbb{E}_{\\hat\\theta_n}(\\hat \\theta) ) ( \\mathbb{E}_{\\hat \\theta_n}(\\hat \\theta)  - \\mathbb{E}_{\\hat\\theta_n}(\\hat{ \\theta } ))\n",
    "$$\n",
    "\n",
    "$$\n",
    "=\\left(\\theta -\\mathbb{E}_{\\hat \\theta_n}(\\hat \\theta) \\right)^2 \n",
    "+ \\mathbb{E}_{\\hat \\theta_n}\\left( \\mathbb{E}_{\\hat \\theta_n}(\\hat \\theta)  - \\hat{ \\theta } \\right)^2 $$\n",
    "\n",
    "$$= \n",
    "\\text{bias}^2(\\hat{\\theta}) \n",
    "+\n",
    "\\text{var}(\\hat{\\theta}). \\square \n",
    "$$"
   ]
  },
  {
   "cell_type": "markdown",
   "id": "9d3b7a97-e449-4bc7-be28-8ecf9904cf65",
   "metadata": {},
   "source": [
    "**Theorem:** If both bias and variance go to zero with increasing $n$ then the estimator is consistent. \n",
    "\n",
    "**Proof:** If bias and variance go to zero then $\\text{MSE}$ does too. Thus \n",
    "$\\hat\\theta \\stackrel{QM}{\\to} \\theta \\Rightarrow\\hat\\theta \\stackrel{P}{\\to} \\theta. \\square$ "
   ]
  },
  {
   "cell_type": "markdown",
   "id": "e7f5768b-6031-4efb-999f-ac22c7b66a97",
   "metadata": {},
   "source": [
    "**Definition:** An estimator $\\hat \\theta$ of a parameter $\\theta$ is **asymptotically normal** if\n",
    "$\\frac{\\hat{\\theta}_n − \\theta}{\\text{se} } \\stackrel{dist}{\\to} N (0, 1)$. "
   ]
  },
  {
   "cell_type": "markdown",
   "id": "414bb8fe-ea86-4165-a979-2173b48b142e",
   "metadata": {},
   "source": [
    "It is striking how many estimators are asymptotically normal."
   ]
  },
  {
   "cell_type": "markdown",
   "id": "4bcaaae5-c613-4f71-8ad9-5972ec5c2562",
   "metadata": {},
   "source": [
    "## 6.3.2 Confidence Intervals/sets"
   ]
  },
  {
   "cell_type": "markdown",
   "id": "efd7eb14-ec08-47f2-b694-f303452b07f6",
   "metadata": {},
   "source": [
    "By contrast with point estimation... \n",
    "\n",
    "When using a continuous random variable $X$ the probability of being correct with a point estimation is zero; e.g. $\\mathbb{P}(\\mu = \\bar{X}_n)=0$.\n",
    "\n",
    "While there is obvious utility in estimating the value of a parameter using a value (e.g. the number 3.1 is an estimate of the parameter $\\pi$) there is also bennefit in estimating the value of a parameter using an interval. The goal in the latter is to find an interval $(a,b)$ of small width such that there is a high probability that the value of the parameter is in the interval; $\\mathbb{P}(\\mu\\in (a,b))\\approx 1$ . "
   ]
  },
  {
   "cell_type": "markdown",
   "id": "22af3a0d-d0a1-4863-bed6-ea6d99ec914e",
   "metadata": {},
   "source": [
    "**Defintion:** For a parmeter $\\theta$ and an interval $(a,b)$, the probability that the parameter is in the interval $\\mathbb{P}(\\theta\\in (a,b))$ is the <u>coverage probability</u> of the interval $(a,b)$. \n",
    "    \n",
    "But how do we obtain coverage probabilities we want from statistics/data? "
   ]
  },
  {
   "cell_type": "markdown",
   "id": "5adfcbce-a4e4-4973-ba01-1c37d3de465a",
   "metadata": {},
   "source": [
    "($\\alpha$ significance interval? \n",
    "\n",
    "**Definition** A $1 −\\alpha$ **confidence interval estimator** for a parameter $\\theta$ is an interval valued statistic $C_n = (a, b)$ where the random variables $a = a(X_1,...,X_n)$ and $b = b(X_1,...,X_n)$ are functions of the data such that\n",
    "$\\mathbb{P}_{X^n}(   C_n  \\ni \\theta\\,;\\,\\theta) ≥ 1−\\alpha$."
   ]
  },
  {
   "cell_type": "markdown",
   "id": "7f866f3a-febc-400e-a054-965f371c274d",
   "metadata": {},
   "source": [
    "Note that <a href src=\"https://www.stat.purdue.edu/~fmliang/STAT611/st611lect9.pdf\"> Liang</a> calls the interval with random variable upper and lower bounds the <u>interval estimator</u>. I think this is nice to linguistically differentiate between a confdence interval estimator (an interval valued random variable) and a confidence interval (an interval obtained by evaluating at an outcome of a random sample). \n",
    "\n",
    "Remember that $\\theta$ is a fixed quantity, so the idea is that the data specify an interval, and the probability that the data specify an interval containing the parameter is bounded. "
   ]
  },
  {
   "cell_type": "markdown",
   "id": "a5bb32c4-f980-4383-9a53-01454442363e",
   "metadata": {},
   "source": [
    "**Definition:** If $(a,b)$ is a confidence interval of a statistic $\\theta$ then $a$ is called the <u>lower confidence limit</u> and b is called the <u>upper confidence limit</a>.\n",
    "\n",
    "**Definition:** $1-\\alpha$ is called the <u>confidence coefficient</u>."
   ]
  },
  {
   "cell_type": "markdown",
   "id": "55764aea-ff15-480e-9ad8-a951e6e85cd7",
   "metadata": {},
   "source": [
    "Another way to think about it is that a confidence interval is a confidence level with a interval estimator. "
   ]
  },
  {
   "cell_type": "markdown",
   "id": "4282dcc1-09b2-4700-871e-bc5c9ce3bd61",
   "metadata": {},
   "source": [
    "**Note** on the most common misunderstanding of confidence intervals: In $\\mathbb{P}( \\theta \\in C_n\\,;\\, \\theta )$ the symbol $\\theta$ is fixed while $C_n$ is an interval valued random variable. It is common for people to think that $\\theta$ somehow varies with the data here, but it is $C_n$ that varies with the data."
   ]
  },
  {
   "cell_type": "markdown",
   "id": "a5b97d90-67ce-41fd-a1fb-fe6b7dfedab6",
   "metadata": {},
   "source": [
    "**Definition:** If $\\theta$ is a vector then we use a **confidence set** (such as a sphere or an ellipse) instead of an interval."
   ]
  },
  {
   "cell_type": "markdown",
   "id": "87f21be4-6684-46a5-92c3-96d6c244ec30",
   "metadata": {},
   "source": [
    "Addressing common confusion about confidence sets\n",
    "- It is not a statement about the probability of $\\theta$ being some number, since $\\theta$ is fixed. \n",
    "- It is pretty un-physical to say that if you repeat data collection 100 times that you will obtain 100 intervals, with 95% of those intervals containng the true value $\\theta$, since we do not repeat experiments in real life. Rather, we typically have just one sample. \n",
    "- There have been many experiments of many kinds performed in the past to obtain data and 95% confidence intervals. The best interpretation is that 5% of those experiments led to confidence intervals that did not contain the true value. "
   ]
  },
  {
   "cell_type": "markdown",
   "id": "3be21af6-f057-43cb-81ac-87587321a7a5",
   "metadata": {},
   "source": [
    "### Pivots facilitate estimation CIs"
   ]
  },
  {
   "cell_type": "markdown",
   "id": "93c1a891-17fd-414c-9174-7515e0f5f339",
   "metadata": {},
   "source": [
    "This definition is not in Wasserman, but since the term is used I looked it up and found <a href src=\"https://www.stat.purdue.edu/~fmliang/STAT611/st611lect9.pdf\">this</a> dfn, 9.2.1. Also note that \"In general, differences are pivotal for location problems, while ratios are pivotal for scale problems\". I think this means that  "
   ]
  },
  {
   "cell_type": "markdown",
   "id": "d644c758-efa6-46e6-9140-f9395fda31b6",
   "metadata": {},
   "source": [
    "**Definition:** Let $\\hat{\\theta}_n(X^n)$ be a point estimator of the parameter $\\theta$. Assume that $X\\sim F_{X}(\\cdot;\\theta)$, meaning the distribution for $X$ has a parameter $\\theta$. A function of the estimator and parameter  $R\\left(\\hat{\\theta}_n|\\theta\\right)$ is a **pivotal quantity** of $\\theta$ if its distribution $F_{R\\left(\\hat{\\theta}_n|\\theta\\right)}$ is independent of the parameter $\\theta$. "
   ]
  },
  {
   "cell_type": "markdown",
   "id": "9f2e67da-795f-4a2c-9d4f-1e943c5d307f",
   "metadata": {},
   "source": [
    "This <a href src=\"https://pages.stat.wisc.edu/~shao/stat610/stat610-16.pdf\">slide</a> says a pivot is not a statistic. Why isn't a pivot a statistic despite being a function of statistic? I'll have to sort this out another day.\n",
    "\n"
   ]
  },
  {
   "cell_type": "markdown",
   "id": "5ec771a4-91be-4a41-8cd3-8b1b593c1e42",
   "metadata": {},
   "source": [
    "Typically these distributions $F_R$ of pivots R are $N(0,1),~t,~\\chi,$ or $F$ dsitributions.  "
   ]
  },
  {
   "cell_type": "markdown",
   "id": "af367228-4f99-4122-8c16-91a2e311bf77",
   "metadata": {},
   "source": [
    "The idea is that after finding a pivot the equation $\\mathbb{P}(a\\leq R(\\cdot|\\theta) \\leq b)=1-\\alpha$ can be rearranged to isolate $\\theta$ in an equaltiy of the form $\\mathbb{P} \\left( L\\leq \\theta \\leq U \\right)=1-\\alpha$ with upper and lower confidence limits $L,U$ independent of $\\theta$. "
   ]
  },
  {
   "cell_type": "markdown",
   "id": "060b0a5b-12c4-4d25-b181-9234d7729869",
   "metadata": {},
   "source": [
    "#### Z\n",
    "How to obtain a confidence interval of the estimator $\\bar{X}_n$ of population mean $\\mu$ of a normal distribution when variance is known via the pivot $\\frac{\\bar{X}_n-\\mu}{\\sigma/\\sqrt{n}} \\sim {\\cal N}(0,1)$:"
   ]
  },
  {
   "cell_type": "markdown",
   "id": "dc2d77c6-5a01-4f20-aec6-1ba6e0704b8b",
   "metadata": {},
   "source": [
    "If it is known that $X\\sim N(\\mu,\\sigma)$ with $\\mu$ unknown and $\\sigma$ known then, $\\bar{X}_n$ is an estimator of $\\mu$ and \n",
    "$R(\\bar{X}^n|\\mu) = \\frac{\\bar{X}_n-\\mu}{\\sigma/\\sqrt{n}} \\sim N(0, 1)$ is a pivot of $\\mu$. (Prove it some day!)"
   ]
  },
  {
   "cell_type": "markdown",
   "id": "42f56c1c-5faa-45ae-b6c7-d28012f7d314",
   "metadata": {},
   "source": [
    "The goal is to find some interval $(a,b)$ such that $\\mathbb{P}\\left( a \\leq \\frac{\\bar{X}_n-\\mu}{\\sigma/\\sqrt{n}} \\leq b \\right) = 1-\\alpha$. One choice for $(a,b)$ is the symmetric interval $\\left( F_{N(0,1)}^{-1}\\left(\\frac{\\alpha}{2}\\right) , F_{N(0,1)}^{-1}\\left(1- \\frac{\\alpha}{2}\\right)  \\right)=:(-U,U)$, giving $1-\\alpha$ confidence interval"
   ]
  },
  {
   "cell_type": "markdown",
   "id": "6bdf74a7-7b85-46bd-8bde-03bb0b88de32",
   "metadata": {},
   "source": [
    "$$\n",
    "\\Leftrightarrow \n",
    "\\mathbb{P}\\left( \n",
    "\\bar{X}_n- F_{N(0,1)}^{-1}\\left(1-\\frac{\\alpha}{2}\\right) \\frac{\\sigma}{\\sqrt n}\n",
    "\\leq \n",
    "\\mu\n",
    "\\leq \n",
    "\\bar{X}_n+F_{N(0,1)}^{-1}\\left(1-\\frac{\\alpha}{2} \\right)\\frac{\\sigma}{\\sqrt n}\n",
    "\\right) = 1-\\alpha \\\\\n",
    "$$"
   ]
  },
  {
   "cell_type": "markdown",
   "id": "49c6dcad-e10f-49c1-8936-84e658d8d365",
   "metadata": {},
   "source": [
    "#### t \n",
    "\n",
    "How to obtain a confidence interval for the estimator $\\bar{X}_n$ of population mean $\\mu$ of normal a distribution when variance is not known via the pivot $\\frac{\\bar{X}_n-\\mu}{S_{n}/\\sqrt{n}}t_{n-1}$."
   ]
  },
  {
   "cell_type": "markdown",
   "id": "65c4259e-949c-4d07-9b8c-be5e2be5eb2f",
   "metadata": {},
   "source": [
    "If it is known that $X\\sim N(\\mu,\\sigma)$ with $\\mu$ unknown and $\\sigma$ unknown then $\\bar{X}$ is an estimator of $\\mu$ and \n",
    "$R(\\bar{X}_n|(\\mu,\\sigma)) = \\frac{\\bar{X}_n-\\mu}{S_{n}/\\sqrt{n}} \\sim F_{t_{n-1}}$. Thus $R$ is a pivot of $\\mu$. The goal is to find some interval $(a,b)$ such that $\\mathbb{P}\\left( a \\leq \\frac{\\bar{X}_n-\\mu}{S_{n}/\\sqrt{n}} \\leq b \\right) = 1-\\alpha$. One choice for $(a,b)$ is the symmetric interval $\\left( F_{t_{n-1}}^{-1}\\left(\\frac{  \\alpha}{2}\\right) , F_{t_{n-1}}^{-1}\\left(1-\\frac{\\alpha}{2}\\right)  \\right)=:(-U,U)$, giving $1-\\alpha$ confidence interval\n",
    "$$\n",
    "\\mathbb{P}\\left( \n",
    "\\bar{X}_n - F_{t_{n-1}}^{-1}\\left(1-\\frac{\\alpha}{2}\\right) \\frac{S_{n}}{\\sqrt n}\n",
    "\\leq \n",
    "\\mu\n",
    "\\leq \n",
    "\\bar{X}_n + F_{t_{n-1}}^{-1}\\left(1-\\frac{\\alpha}{2} \\right)\\frac{S_{n}}{\\sqrt n}\n",
    "\\right) = 1-\\alpha \\\\\n",
    "$$"
   ]
  },
  {
   "cell_type": "markdown",
   "id": "334b9479-4438-46ee-8c2b-1e4849a22c5d",
   "metadata": {},
   "source": [
    "#### Chi\n",
    "\n",
    "How to obtain a confidence interval for the estimator $S_n$ (sample variance) of the population variance $\\sigma$ of a normal distribution ${\\cal N}(0,\\sigma)$ via the pivot $\\frac{(n-1)S^2}{\\sigma} \\sim F_{\\chi_{n-1}}$."
   ]
  },
  {
   "cell_type": "markdown",
   "id": "11d9b30e-ead5-44d0-9a22-a3ce5dd8f257",
   "metadata": {},
   "source": [
    "Say it is known that $X$ is normally distributed with unknown $\\mu$ and $\\sigma$. "
   ]
  },
  {
   "cell_type": "markdown",
   "id": "0a08390b-a336-4b80-9a85-96831c045ebe",
   "metadata": {},
   "source": [
    "**Definition:** The <u>chi squared</u> random variable with $n$ degrees of freedom is $\\chi^2_n = \\sum_{i=1}^n X_i^2$ where $X_i\\sim {\\cal N}(0,1)$. \n",
    "\n",
    "**Theorem (Cochran's Theorem):** Let $Y^d = (Y_1,...,Y_d) \\sim {\\cal N}(\\mu  \\bar{1},\\sigma I)$. The centered and normalized sum of squares \n",
    "$$\n",
    "\\frac{1}{\\sigma} (Y^d)^T(I - \\frac1d \\bar{1}\\bar{1}^T)Y^d \n",
    "=\\frac{1}{\\sigma} (Y^d)^T M Y^d \n",
    "$$ \n",
    "is distributed as the $\\chi^2_{d-1}$."
   ]
  },
  {
   "cell_type": "markdown",
   "id": "f70f01a8-9ec0-4376-8fb9-1190aead494b",
   "metadata": {},
   "source": [
    "**Proof:** Note that the symmetric matrix $M$ has set of eigenvalues $\\{0,1\\}$. The eigenspace $V_0 = \\text{Span}\\left( b_1 \\right)$ where $b_1=\\frac1{\\sqrt{n}}\\bar{1}$ while $V_1$, has orthonomal basis $(b_2,...,b_d)$. Thus $BMB^T$ is diagonal with $\\text{Diag}(BMB^T) = (0,1,...,1)$ and is a projection matrix. It is thus idempotent and symmetric. Let $Z^d= \\frac1{\\sqrt{\\sigma}}B(Y^d - \\bar{Y}_d\\bar{1})$ and note that $$\n",
    "Z^d \\sim {\\cal N}\\left(\n",
    "                        \\frac1{\\sqrt{\\sigma}^2} [\\mu \\bar{1} - \\mathbb{E} (\\bar{Y}_d \\bar{1})],\n",
    "                        \\frac1{\\sqrt{\\sigma}^2}(B \\sigma I B^T)\n",
    "                   \\right)\n",
    "={\\cal N}(\\bar{0}, I).\n",
    "$$"
   ]
  },
  {
   "cell_type": "markdown",
   "id": "d9b391f5-399d-46ac-8815-2c558a3603de",
   "metadata": {},
   "source": [
    "Then the centered and normalized sum of squares\n",
    "$$\\begin{array}{ll}\n",
    "\\frac1\\sigma \n",
    "    \\sum\\limits_{i=1}^d (Y_i - \\bar{Y})^2 \n",
    "            &= \\frac1\\sigma (Y^d-\\bar{Y}_d)^T  (Y^d-\\bar{Y}_d) \\\\\n",
    "            &= \\frac1\\sigma (Y^d)^T       M^T M Y^d \\\\\n",
    "            &= \\frac1\\sigma (Y^d)^T       M     Y^d \\\\\n",
    "            & = \\frac1\\sigma Z^d Q\\sqrt{\\sigma} M \\sqrt{\\sigma} Q^T Z^d \\\\ \n",
    "            &= \\sum\\limits_{i=2}^{d} Z_i^2 \\sim \\chi^2_{d-1}.\n",
    "\\end{array}\\\\\n",
    "$$\n",
    "$\\square$ "
   ]
  },
  {
   "cell_type": "markdown",
   "id": "2d9e9d5d-b33c-4bc2-82ba-27f8fc564028",
   "metadata": {},
   "source": [
    "The parameter $\\sigma^2$ has estimator $S^2_n = \\frac{1}{n-1}\\sum_{i=1}^n(X_i - \\bar{X}_n)^2$. A pivot of $S^2_n$ is $\\frac{ (n-1)S^2 }{ \\sigma^2}$ which, according to Cochran's theorem, is distributed as $F_{\\chi^2_{n-1}}$, which is independent of the parameter $\\sigma$. \n",
    "\n",
    "The goal is to find some interval $(a,b)$ such that $\\mathbb{P}\\left( a \\leq \\frac{ (n-1)S^2 }{ \\sigma^2} \\leq b \\right) = 1-\\alpha$. One choice for $(a,b)$ is the interval $\\left( 0, F_{\\chi_{n-1}^2}^{-1}\\left(1-\\alpha\\right)  \\right)=:(L,U)$, giving $1-\\alpha$ confidence interval\n",
    "\n",
    "$$\n",
    "\\mathbb{P}\\left( \n",
    "\\sigma^2 \\geq \\frac{(n-1)S_n^2}{F_{\\chi^2_{n-1}}^{-1}\\left(1-\\alpha\\right)}  \n",
    "\\right) = 1-\\alpha \\\\\n",
    "$$\n",
    "\n",
    "Note that while the algebra used $\\sigma^2$, you can see in the end here that it is an unknown."
   ]
  },
  {
   "cell_type": "markdown",
   "id": "f45b551f-9895-4aed-9ca6-143522a34037",
   "metadata": {},
   "source": [
    "**Note 1** that this can be done with the estimator $\\hat{\\sigma^2}_n = \\frac1n \\sum (X_i - \\bar{X}_i)^2$ too by noting that $\\frac{n}{\\sigma^2} \\hat{\\sigma^2}_n \\sim F_{\\chi^2_{n-1}}$ and thus \n",
    "$$\n",
    "\\mathbb{P}\\left( \n",
    "\\sigma^2 \\geq \\frac{n\\hat{\\sigma^2}_n}{F_{\\chi^2_{n-1}}^{-1}\\left(1-\\alpha\\right)}  \n",
    "\\right) = 1-\\alpha \\\\\n",
    "$$.\n",
    "\n",
    "**Note 2**\n",
    "\n",
    "One can also construct the two sided $\\left(F^{-1}_{\\chi^2_{n-1}}\\left(\\frac{\\alpha}{2}\\right) , F^{-1}_{\\chi^2_{n-1}}\\left(1-\\frac{\\alpha}{2}\\right)\\right)$. That gives 4 ways to construct confidence intervals for an estimator of population variance. "
   ]
  },
  {
   "cell_type": "markdown",
   "id": "05e8001f-4a88-40f7-9b9f-b9624c34bde4",
   "metadata": {},
   "source": [
    "#### F\n",
    "\n",
    "Well I do not know this one yet. "
   ]
  },
  {
   "cell_type": "markdown",
   "id": "ae76a3f2-907a-475b-ae77-0669293580ed",
   "metadata": {},
   "source": [
    "#### U\n",
    "\n",
    "An estimator of the parameter $\\theta$ in $\\text{Uniform}(0,\\theta)$ is the statistic $M=\\max \\{X_i\\,|\\, i\\in\\{1,\\dots,n\\}\\}$. Since\n",
    "$F_M(m) = \\frac{m^n}{\\theta^n}$ the statistic $M$ is not a pivot of $\\theta$. However, $U=M/\\theta$ has distribution $F_{U}(x) = x^n$, and so the statistic $U$  is a pivot. \n",
    "\n",
    "The goal is to find some interval $(a,b)$ such that $\\mathbb{P}\\left( a \\leq U \\leq b\\right)=1-\\alpha$. One choice is to leave probability $\\alpha/2$ on each side of the CDF of $U$; choose $(a,b) = \\left( F_{U}^{-1}\\left(\\frac{\\alpha}{2} \\right) , F_{U}^{-1}\\left(1-\\frac{\\alpha}{2} \\right) \\right) = \\left( \\left(\\frac{\\alpha}{2}\\right)^{1/n}  , \\left(1-\\frac{\\alpha}{2}\\right)^{1/n}   \\right)$. giving \n",
    "$$\\mathbb{P}\\left(  \\left(\\frac{\\alpha}{2}\\right)^{1/n}  \\leq U \\leq \\left(1-\\frac{\\alpha}{2}\\right)^{1/n}  \\right) = 1-\\alpha$$\n",
    "$$\\Leftrightarrow \n",
    "\\mathbb{P}\\left(  \n",
    "M \\left(1-\\frac{\\alpha}{2}\\right)^{-1/n}  \n",
    "\\leq \\theta \\leq \n",
    "M \\left( \\frac{\\alpha}{2}\\right)^{-1/n}  \n",
    "\\right) = 1-\\alpha$$\n"
   ]
  },
  {
   "cell_type": "markdown",
   "id": "1e7245cc-e3e9-4f12-b0bd-a86622ac085c",
   "metadata": {},
   "source": [
    "#### Best interval\n",
    "\n",
    "**Theorem:** The $1-\\alpha$ interval $(a,b)$of smallest width $b-a$ for a unimodal distribution with PFD $f$ satisfies $f(a) = f(b)$ and $a<x^*< b$ where $x^*$ is the mode. \n",
    "\n",
    "This is called the highest density confidence interval. "
   ]
  },
  {
   "cell_type": "markdown",
   "id": "5e09ffdf-43fa-4c5e-8495-21c725fdbea8",
   "metadata": {},
   "source": [
    "### Misunderstanding \n",
    "\n",
    "Again, once one runs experiments to obtain outcomes $\\omega_1,\\dots,\\omega_n \\in \\Omega$ and thereby obtains data $\\{x_i = X(\\omega_i)\\in \\mathbb{R}| i\\in\\{1,\\dots,n\\} \\}$, and obtains a statement like $\\mathbb{P}(.1 \\leq\\theta \\leq .3)=95\\%$... \n",
    "\n",
    "One **does not** have a statement that the probabiliy of $\\theta$ being in the interval is $95\\%$. Rather, the statement $\\mathbb{P}(.1 \\leq\\theta \\leq .3)=95\\%$ is either true or false. The idea, rather, is either that \n",
    "1. If the $n$ experiments were run a very large number of times the resulting statements would be true $95\\%$ of the time. But this is never done in science.\n",
    "2. Our of all $95%$ CI experiments performed, $5\\%$ identified CIs that did not contain the desired parameter. "
   ]
  },
  {
   "cell_type": "markdown",
   "id": "2efce6eb-b876-4eea-a187-db02327cb1eb",
   "metadata": {},
   "source": [
    "##  ch6 Exercises \n",
    "\n",
    "6.6.1 \n",
    "\n",
    "Problem: Let $X_1,...,X_n \\sim \\text{Poisson}(\\lambda)$ and let $\\hat\\lambda_n = n^{−1} \\sum\\limits_{i=1 }^n X_i$ be an estimator of $\\lambda$. Find the $\\text{bias, se}$ and $\\text{mse}$ of this estimator. \n",
    "\n",
    "Solution: The pdf of the Poisson distribution is $ f(k) = \\frac{\\lambda^k}{k!} e^{-\\lambda}$."
   ]
  },
  {
   "cell_type": "markdown",
   "id": "25f1fb89-4655-4b8a-bb35-cbaaef3c44a1",
   "metadata": {},
   "source": [
    "The mean $\\mu$ of the Poisson distribution is \n",
    "$$\n",
    "\\mu = \\mathbb{E}(k) = \\sum\\limits_{k=1}^\\infty k \\frac{\\lambda^k}{k!} e^{-\\lambda} \n",
    "=e^{-\\lambda} \\lambda \\frac{d }{d\\lambda} \\sum\\limits_{k=0}^\\infty   \\frac{\\lambda^{k}}{k!} \n",
    "=e^{-\\lambda} \\lambda \\frac{d }{d\\lambda} e^{\\lambda}  = \\lambda\n",
    "$$"
   ]
  },
  {
   "cell_type": "markdown",
   "id": "019ca1a8-3941-4c54-a9f1-e287a265b370",
   "metadata": {},
   "source": [
    "while the variance \n",
    "$$\n",
    "\\sigma^2 = \\mathbb{E}(k^2) - \\mu^2 \\\\\n",
    "= \\sum\\limits_{k=1}^\\infty k^2 \\frac{\\lambda^k}{k!}e^{-\\lambda} - \\mu^2\\\\\n",
    "= e^{-\\lambda} \\lambda \\frac{d}{d\\lambda}  \\lambda \\frac{d}{d\\lambda} e^{\\lambda}- \\mu^2\\\\\n",
    "= e^{-\\lambda} \\lambda \\frac{d}{d\\lambda}  \\lambda e^{\\lambda}- \\mu^2\\\\\n",
    "= e^{-\\lambda} \\lambda (  \\lambda e^{\\lambda}+ e^{\\lambda})- \\mu^2\\\\\n",
    "=  \\lambda (  \\lambda + 1)- \\mu^2\\\\\n",
    "=  \\lambda^2 +\\lambda - \\lambda^2 = \\lambda.\n",
    " $$"
   ]
  },
  {
   "cell_type": "markdown",
   "id": "a31403ab-c0cd-46ad-9c8d-739559a0abf8",
   "metadata": {},
   "source": [
    "The bias of $\\hat \\lambda$ is \n",
    "$$\\mathbb{E}(\\hat \\lambda) - \\mu =0\n",
    "$$\n",
    "while the standard error is \n",
    "$$\n",
    "\\mathbb{E}[(\\hat \\lambda - \\mathbb{E}(\\hat \\lambda))^2]\\\\\n",
    "=\\mathbb{E}[(\\hat \\lambda)^2] - \\mu^2\\\\\n",
    "= \\frac1{n^2}\\mathbb{E}\\left[ \\sum\\limits_{i=1}^n X_i^2 + 2\\sum\\limits_{1\\leq i<j\\leq n}X_iX_j \\right] - \\mu^2\\\\\n",
    "= \\frac1{n^2}\\left[ n\\left( \\sigma^2 + \\mu^2 \\right) + 2 \\frac{n(n-1)}{2} \\mu^2\\right] - \\mu^2\\\\\n",
    "= \\frac{\\sigma^2}{n} + \\mu^2\\left[ \\frac1n +\\frac{n(n-1)}{n} -1 \\right] \\\\\n",
    "=  \\frac{\\sigma^2}{n}\\\\ \n",
    "=  \\frac{\\lambda}{n} \n",
    "$$"
   ]
  },
  {
   "cell_type": "markdown",
   "id": "e5ab85d3-2348-4018-8a2a-89e329df67de",
   "metadata": {},
   "source": [
    "The $\\text{mse} = \\text{bias}^2 + \\text{se} = 0 + \\frac{\\lambda}{n}$. $\\square$ "
   ]
  },
  {
   "cell_type": "markdown",
   "id": "1c513ab4-bcdb-4d09-abaa-06c24bae2be5",
   "metadata": {},
   "source": [
    "6.6.2 \n",
    "Problem: Let $X_1,...,X_n ∼ \\text{Uniform}(0,\\theta)$ and let $\\hat{\\theta}_n= \\text{max}\\{X_1,...,X_n\\}$. Find the bias, se, and mse of this estimator.\n",
    "\n",
    "Solution: \n",
    "If the greatest random variable is $X_M$ then \n",
    "$$\n",
    "\\mathbb{P}(\\hat{\\theta} > x) \n",
    "= \\mathbb{P}(X_M > x)\n",
    "= \\mathbb{P}\\left(( \\forall  i \\in \\{i,\\dots ,n \\}) X_i > x\\right)\n",
    "$$\n",
    "By independence of the $X_i$ we have that\n",
    "$$\\text{CDF}_{\\hat{\\theta}}(x) = \\mathbb{P}(\\hat{\\theta} > x) \n",
    "=\\prod\\limits_{i=1}^n \\mathbb{P}(X_i>x)\n",
    "=\\prod\\limits_{i=1}^n \\text{CDF}_{\\text{Uniform}(0,\\theta)}(x)\n",
    "$$\n",
    "$$=\n",
    "\\left\\{\\begin{array}{l}\n",
    "0 \\text{ if } x<0 \\\\ \n",
    "\\prod\\limits_{i=1}^n \\frac{x}{\\theta} \\text{ if } x\\in[0,\\theta]\\\\\n",
    "1 \\text{ if } x\\in(\\theta,\\infty)\\\\\n",
    "\\end{array}\\right\\}\n",
    "=\n",
    "\\left\\{\\begin{array}{l}\n",
    "0 \\text{ if } x<0 \\\\ \n",
    "\\left( \\frac{x}{\\theta}\\right)^n \\text{ if } x\\in[0,\\theta]\\\\\n",
    "1 \\text{ if } x\\in(\\theta,\\infty)\\\\\n",
    "\\end{array}\\right.\n",
    "$$\n",
    "and thus \n",
    "$$\\text{PDF}_{\\hat{\\theta}}(x) = \n",
    "\\left\\{\\begin{array}{l}\n",
    "0 \\text{ if } x<0 \\\\ \n",
    "\\frac{n}{\\theta} \\left(\\frac{x}\\theta \\right)^{n-1} \\text{ if } x\\in[0,\\theta]\\\\\n",
    "0 \\text{ if } x>\\theta\n",
    "\\end{array}\\right.\n",
    "$$"
   ]
  },
  {
   "cell_type": "markdown",
   "id": "f8c4a230-a37c-4596-b238-107f436ab67b",
   "metadata": {},
   "source": [
    "Then \n",
    "$$\\mathbb{E}(\\hat\\theta) = \\int_0^\\theta x \\frac{n}{\\theta^n} x^{n-1} dx \n",
    "= \\frac{n}{n+1} \\frac{\\theta^{n+1} }{\\theta^n} \n",
    "= \\frac{n}{n+1} \\theta.\n",
    "$$\n",
    "Thus, the the estimator $\\hat{\\theta}$ of the parameter $\\theta$ is underbiased with \n",
    "$$\\text{bias} = \\mathbb{E}(\\hat{\\theta}) - \\theta = \\frac{-1}{n+1}\\theta.$$\n",
    "This seems reasonable; \n",
    "- the expected max of a sample is less than the least upper bound of the interval. \n",
    "- the bias goes to zero as $n\\to\\infty$."
   ]
  },
  {
   "cell_type": "markdown",
   "id": "735c6bf2-2087-417a-97fe-b20213e8eb1b",
   "metadata": {},
   "source": [
    "The standard error of $\\hat \\theta$ is \n",
    "$$\n",
    "\\text{se}(\\hat\\theta) = \\mathbb{E}\\left[  (\\hat \\theta)^2  - \\left(\\mathbb{E}(\\hat \\theta) \\right)^2\\right]\\\\\n",
    "=\\int_0^\\theta x^2 \\frac{n}{\\theta^n} x^{n-1} dx - \\left(   \\frac{n}{n+1} \\right)^2\\theta^2\\\\\n",
    "$$"
   ]
  },
  {
   "cell_type": "markdown",
   "id": "777bccf4-0e8b-4e1d-b2e6-4d5d5f49afa4",
   "metadata": {},
   "source": [
    "$$\n",
    "= \\frac{n}{n+2} \\theta^2  - \\left(   \\frac{n}{n+1} \\right)^2 \\theta^2 \\\\\n",
    "= \\left(\\frac{n}{n+2}  -    \\frac{n^2}{(n+1)^2} \\right)^2 \\theta^2\\\\\n",
    "$$"
   ]
  },
  {
   "cell_type": "markdown",
   "id": "c4ff013b-d46a-498b-98de-2487ec493d18",
   "metadata": {},
   "source": [
    "$$\n",
    "= \\left(\\frac{n(n+1)^2 - n^2(n+2)}{(n+2) (n+1)^2} \\right) \\theta^2 \\\\\n",
    "= \\left(\\frac{n }{(n+2) (n+1)^2} \\right) \\theta^2 \\\\\n",
    "$$"
   ]
  },
  {
   "cell_type": "markdown",
   "id": "92deb8ad-f12a-4189-b9a2-660a29aeafeb",
   "metadata": {},
   "source": [
    "It is reasonable that the SE goes to zero as $n\\to\\infty$. \n",
    "\n",
    "The mean squared error is then \n",
    "$$\\text{mse}(\\hat\\theta) \n",
    "= \\text{bias}^2 + \\text{se} \n",
    "= \\left( \n",
    "\\frac{1}{(n+1)^2} + \\frac{n}{(n+2)(n+1)^2}\n",
    "\\right) \n",
    "\\theta^2\\\\\n",
    "=\\frac{2}{(n+1)(n+2)}\\theta^2.\n",
    "$$\n",
    "Again, it is reasonable that MSE goes to zero as $n\\to\\infty$. "
   ]
  },
  {
   "cell_type": "markdown",
   "id": "ebbdb21e-ea91-43bc-9505-f0a68c78cc6d",
   "metadata": {},
   "source": [
    "**6.6.3** \n",
    "\n",
    "Problem: Let $X_1,...,X_n \\sim \\text{Uniform}(0,\\theta)$ and let $\\hat{\\theta} = 2\\bar{X}_n$. Find the bias, se, and mse of this estimator of $\\theta$."
   ]
  },
  {
   "cell_type": "markdown",
   "id": "ec92b836-338a-42f3-b289-bb1ca049f756",
   "metadata": {},
   "source": [
    "**Solution**\n",
    "With $\\text{pdf}(x) = \\frac1\\theta$ on its support $[0,\\theta]$ we have\n",
    "$$\n",
    "\\mathbb{E}(X) = \\int_0^\\theta x \\frac1\\theta dx = \\frac12 \\frac{\\theta^2}{\\theta}\n",
    "=\\frac{\\theta}{2}\n",
    "$$\n",
    "and \n",
    "$$\n",
    "\\mathbb{E}(X^2) = \\int_0^\\theta x^2 \\frac1\\theta dx\n",
    "=\\frac13 \\frac{\\theta^3}{\\theta}=\\frac{\\theta^2}{3}\n",
    "$$\n",
    "and \n",
    "$$\n",
    "\\mathbb{V}(X) = \\mathbb{E}(X^2) - \\left( \\mathbb{E}(X) \\right)^2\n",
    "=\\frac{\\theta^2}{3} -\\frac{\\theta^2}{4} = \\frac{1}{12}\\theta^2.\n",
    "$$"
   ]
  },
  {
   "cell_type": "markdown",
   "id": "e76162c9-90cb-44a5-aefb-d923158f20f3",
   "metadata": {},
   "source": [
    "Therefore \n",
    "$$\n",
    "\\begin{array}{ll}\n",
    "\\text{bias}(\\hat{\\theta}) \n",
    "    &= \\mathbb{E}(\\hat{\\theta})  - \\theta \\\\\n",
    "    &= \\mathbb{E}(2\\bar X)  - \\theta \\\\\n",
    "    &= 2 \\frac{\\theta}{2}  - \\theta =0 \n",
    "\\end{array}\n",
    "$$\n",
    "but\n",
    "$$\n",
    "\\begin{array}{ll}\n",
    "\\text{se}(\\hat{\\theta})  \n",
    "    &= \\mathbb{V}(\\hat{\\theta}) \\\\\n",
    "    &= \\mathbb{V}(2\\bar{X}) \\\\\n",
    "    &= \\mathbb{V}\\left(\\frac{2}{n}  \\sum\\limits_{i=1}^n X_i\\right) \\\\\n",
    "    &=\\frac{4}{n^2} \\sum\\limits_{i=1}^n \\mathbb{V}(X_i)\\\\\n",
    "    &=\\frac{4}{n^2} n \\frac{\\theta^2}{12 } \\\\\n",
    "    &=\\frac{\\theta^2}{3n}\n",
    "\\end{array}\n",
    "$$"
   ]
  },
  {
   "cell_type": "markdown",
   "id": "855add5d-ee9b-4f3c-9a94-327ccc97abd6",
   "metadata": {},
   "source": [
    "Of course, since the estimator is unbiased, its $\\text{se}$ is equal to its $\\text{mse}$."
   ]
  },
  {
   "cell_type": "markdown",
   "id": "09c566af-f001-4d22-8566-c87e3d4cdf05",
   "metadata": {
    "tags": [],
    "toc-hr-collapsed": true
   },
   "source": [
    "\n",
    "# Ch 7 Estimating the CDF and Statistical Functions"
   ]
  },
  {
   "cell_type": "markdown",
   "id": "7deab7f5-2a96-49f6-93b3-61775d5c18ab",
   "metadata": {},
   "source": [
    "When we perform an experiment with a random variable $X$ we often do not know the CDF of $X$. We now turn to infering/estimating the CDF of a random variable from a random sample.\n",
    "\n",
    "**Definition:** The **emperical distribution function** $\\hat{F}_n:\\mathbb{R}\\to [0,1]$ of the random variable $X$ is the distribution that puts weight $1/n$ at each of the $n$ data points in a random sample;\n",
    "$$\n",
    "\\hat{F}_n(x) = \\frac{1}{n} \\sum_{i=1}^n I(x\\geq X_i ).\n",
    "$$"
   ]
  },
  {
   "cell_type": "markdown",
   "id": "a48551cc-1615-4554-b5a9-e7c2dc065019",
   "metadata": {},
   "source": [
    "The emperical distributionm function is often called the emperical cumulative distribution function (eCDF) to distinguish it from it's differential $d\\hat{F}_n$. I'd call the latter the emperical mass function (eMF) which, for a continuous random variable $X$ is an estimator of a PDF.  "
   ]
  },
  {
   "cell_type": "code",
   "execution_count": 17,
   "id": "df10ffa7-a2ef-4a53-84a3-f9317d7298ea",
   "metadata": {},
   "outputs": [
    {
     "data": {
      "text/plain": [
       "[0, 1, 2]"
      ]
     },
     "execution_count": 17,
     "metadata": {},
     "output_type": "execute_result"
    }
   ],
   "source": [
    "ds = [1,2,3]\n",
    "ds = [0] + ds[0:-1]\n",
    "ds"
   ]
  },
  {
   "cell_type": "code",
   "execution_count": 7,
   "id": "4dace73c-61f9-4520-9b25-45a6fab122e1",
   "metadata": {},
   "outputs": [
    {
     "data": {
      "text/plain": [
       "[2]"
      ]
     },
     "execution_count": 7,
     "metadata": {},
     "output_type": "execute_result"
    }
   ],
   "source": [
    "ds"
   ]
  },
  {
   "cell_type": "code",
   "execution_count": null,
   "id": "c8540641-c37e-4f47-b9b1-1c789a7a4382",
   "metadata": {},
   "outputs": [],
   "source": []
  },
  {
   "cell_type": "code",
   "execution_count": 24,
   "id": "0a0397a8-c82e-4baa-af85-4c83f4144f8b",
   "metadata": {},
   "outputs": [
    {
     "data": {
      "text/plain": [
       "0.20676140648017916"
      ]
     },
     "execution_count": 24,
     "metadata": {},
     "output_type": "execute_result"
    }
   ],
   "source": [
    "import numpy as np\n",
    "import matplotlib.pyplot as plt\n",
    "\n",
    "# Generate and sort random points and the eCDF from them. \n",
    "def pdf(xs):\n",
    "    # Using f(x) = x\n",
    "    return xs\n",
    "\n",
    "def generate_distribution(n_points=10):\n",
    "    # Generate points according to a uniform distribution on [0,1]\n",
    "    xs = sorted(np.random.rand(n_points))\n",
    "    ecdf = np.asarray([i/n_points for i,x in enumerate(xs)])\n",
    "    max_deltas = max(abs(ecdf - pdf(xs)))\n",
    "    return xs, ecdf, max_deltas\n",
    "\n",
    "def double_points(points, ordinate = False):\n",
    "    # Generate dots to connect for visualization of piecewise constant function.\n",
    "    ds = list()\n",
    "    for p in points:\n",
    "        ds += [p,p]\n",
    "    # If input to this function is ordinate, to make piecewise constant function\n",
    "    # first value is zero and last value is not needed.\n",
    "    if ordinate == True:\n",
    "        ds = [0] + ds[0:-1]\n",
    "    return ds\n",
    "\n",
    "def generate_piecewise_data(n_points):\n",
    "    xs, ecdf, max_deltas = generate_distribution(n_points)\n",
    "    xs_doubled = double_points(xs)    \n",
    "    ecdf_doubled = double_points(ecdf, ordinate=True)\n",
    "    # print(ecdf_doubled[0])\n",
    "    return xs_doubled, ecdf_doubled, max_deltas\n",
    "\n",
    "generate_piecewise_data(10)[2]"
   ]
  },
  {
   "cell_type": "code",
   "execution_count": 25,
   "id": "3305e48f-924f-4954-ad9d-c5120dd54a4f",
   "metadata": {},
   "outputs": [
    {
     "data": {
      "text/plain": [
       "[0, 1, 1, 2, 2, 3]"
      ]
     },
     "execution_count": 25,
     "metadata": {},
     "output_type": "execute_result"
    }
   ],
   "source": [
    "double_points([1,2,3],ordinate=True)"
   ]
  },
  {
   "cell_type": "code",
   "execution_count": 31,
   "id": "b84d776c-5e80-4802-ad67-2894e03e80ec",
   "metadata": {},
   "outputs": [
    {
     "data": {
      "image/png": "[encoded data removed]",
      "text/plain": [
       "<Figure size 432x288 with 1 Axes>"
      ]
     },
     "metadata": {
      "needs_background": "light"
     },
     "output_type": "display_data"
    }
   ],
   "source": [
    "plt.plot([0,1],[0,1],label=\"CDF\")\n",
    "ns = [10,20,40, 80]\n",
    "max_deltas = ns.copy() #initializing\n",
    "for i,n in enumerate(ns):\n",
    "    data = generate_piecewise_data(n)\n",
    "    plt.plot(*data[0:2], label=f\"eCDF, n={n}\")\n",
    "    max_deltas[i] = data[2]\n",
    "plt.title(\"Emperical Cumulative Distribution Function\")\n",
    "plt.ylabel(\"ECDF(x)\")\n",
    "plt.xlabel(\"x\")\n",
    "plt.legend()\n",
    "plt.show();"
   ]
  },
  {
   "cell_type": "code",
   "execution_count": 32,
   "id": "e686b7de-fb76-4ec4-b359-a31e6ebb1de4",
   "metadata": {},
   "outputs": [
    {
     "data": {
      "image/png": "[encoded data removed]",
      "text/plain": [
       "<Figure size 432x288 with 1 Axes>"
      ]
     },
     "metadata": {
      "needs_background": "light"
     },
     "output_type": "display_data"
    }
   ],
   "source": [
    "plt.xlabel(\"n\")\n",
    "plt.ylabel(\"Max Delta\")\n",
    "plt.title(\"Max Absolute Error of eCDF_n\")\n",
    "plt.plot(ns, max_deltas);"
   ]
  },
  {
   "cell_type": "markdown",
   "id": "2a5cbd6e-05e2-45d5-a7e5-8e22a0478ac6",
   "metadata": {},
   "source": [
    "**Theorem** For any value of $x$ \n",
    "1. $\\mathbb{E} \\left(\\hat F_n(x)\\right) = F(x)$\n",
    "2. $\\mathbb{V} \\left(\\hat F_n(x)\\right) = \\frac{F(x)(1-F(x))}{n}$ \n",
    "3. $\\text{MSE}\\left( \\hat F_n(x)\\right) \\stackrel{1}{=} \\mathbb{V} \\left(\\hat F_n(x)\\right)\n",
    "\\to 0 \\text{ as } n\\to \\infty   $ \n",
    "4. $\\hat F_n(x) \\stackrel{P}{\\to} F(x) \\text{ as } n\\to \\infty.$ "
   ]
  },
  {
   "cell_type": "markdown",
   "id": "f2b2266e-c1cd-445e-9041-2e75544de62f",
   "metadata": {},
   "source": [
    "That is, \n",
    "- by 1, $\\hat F_n(x)$ is an unbiased estimator of $F(x)$,\n",
    "- by 4, $\\hat F_n(x)$ is a consistant estimator of $F(x)$. \n",
    "\n",
    "But is this pointwise consistency uniform? "
   ]
  },
  {
   "cell_type": "markdown",
   "id": "51423db2-a177-42b1-82ea-6e5cbe81d4ae",
   "metadata": {},
   "source": [
    "**Glivenko-Cantelli Theorem:** If $X_1,...,X_n \\sim F$ then \n",
    "$$\\sup\\limits_x \\left| \\hat{F_n}(x) - F (x)\\right| \\stackrel{a.s.}{\\to} 0 \\text{ as } n\\to\\infty.$$"
   ]
  },
  {
   "cell_type": "markdown",
   "id": "97bccebe-96b8-49b6-b123-b73e107260bb",
   "metadata": {},
   "source": [
    "Interpretation: for data with non-zero probability, the function $\\hat F_n$ is a consistent estimator of the function $F$."
   ]
  },
  {
   "cell_type": "markdown",
   "id": "042573e6-d495-45e2-ba6c-3dbb0832f6c7",
   "metadata": {},
   "source": [
    "The details of this convergence, shown in the next two theorems, provide a foundation for construction of a confidence set based on Markov, Chebyshev, and Hoeffding’s inequalities (culminating in theorem 4.5). "
   ]
  },
  {
   "cell_type": "markdown",
   "id": "796f57be-ef10-41b2-b1de-ab2827674e7b",
   "metadata": {},
   "source": [
    "**Theorem 4.5** (Hoeffding’s Inequality, part 2) Let $X_1 , . . . , X_n \\sim \\text{Bernoulli}(p)$. Then, for any $\\epsilon > 0$,\n",
    "\n",
    "$$\\mathbb{P} ( |\\bar{X}_n − p| > \\epsilon ) \n",
    "\\leq  2e^{−2n \\epsilon^2}.$$"
   ]
  },
  {
   "cell_type": "markdown",
   "id": "3ca3c7c6-3e84-4f95-ae98-9f0c740c4d4c",
   "metadata": {},
   "source": [
    "Since $I(X>x)$ is a Bernouli random variable, \n",
    "$\\hat F_n(x)$ is a binomial random variable with mean $F(x)$. \n",
    "Thus, for all $x$, the point values $\\hat F_n(x) $ and $F(x)$ can be subsituted into theorem 4.5. Since the right is independent of the value of $x$... "
   ]
  },
  {
   "cell_type": "markdown",
   "id": "ee64ae09-943e-4396-a042-3acb15f77cfb",
   "metadata": {},
   "source": [
    "**Theorem: Dvoretzky-Kiefer-Wolfowitz (DKW) Inequality** \n",
    "$$\\mathbb{P}\\left(  \\sup\\limits_x \\vert  \\hat{F_n}(x) + F (x) | > \\epsilon \\right) ≤ 2e^{−2n\\epsilon^2 }  $$"
   ]
  },
  {
   "cell_type": "markdown",
   "id": "65e91277-c60f-443a-b5e8-1a702db922ea",
   "metadata": {},
   "source": [
    "That gives the following widely used result:\n",
    "\n",
    "## A Nonparametric $1 − \\alpha~$ Confidence Band for A CDF:\n",
    "\n",
    "Let \n",
    "$$L(x) = \\max\\left\\{\\hat{F_n}(x)−\\epsilon_{\\alpha,n}\\, , \\,0\\right\\}$$ \n",
    "and \n",
    "$$U(x) = \\min\\left\\{\\hat{F_n}(x) + \\epsilon_{\\alpha,n} \\, , \\, 1\\right\\} $$\n",
    "\n",
    "\n",
    "where \n",
    "$$\\epsilon_{\\alpha,n} = \\sqrt{  \\frac{1}{2n} \\log \\left(  \\frac{2}{\\alpha} \\right) }.$$\n",
    "Then \n",
    "$$\\mathbb{P}\\big( L(x)≤F(x)≤U(x)\\text{ for all x } \\big) \\geq 1−\\alpha.$$\n",
    "\n"
   ]
  },
  {
   "cell_type": "markdown",
   "id": "1135acc2-a7e6-4b3c-9abd-944823882b73",
   "metadata": {},
   "source": [
    "------"
   ]
  },
  {
   "cell_type": "markdown",
   "id": "4de47186-4f8d-4006-9fb0-04dd8f45a581",
   "metadata": {},
   "source": [
    "That is, random sampling allows approximation of the CDF of a random variable;\n",
    "- take $n$ samples and construct the emperical distribution function $\\hat F_n$. \n",
    "- There is a $1-\\alpha$ probability that both \n",
    "    - $\\hat F_n + \\epsilon_{\\alpha,n}$ bounds the entire CDF above \n",
    "    - $\\hat F_n - \\epsilon_{\\alpha,n}$ bounds the entire CDF below\n"
   ]
  },
  {
   "cell_type": "code",
   "execution_count": 4,
   "id": "ef9edbae-04f2-4d00-98f0-715cbda761f9",
   "metadata": {},
   "outputs": [
    {
     "data": {
      "image/png": "[encoded data removed]",
      "text/plain": [
       "<Figure size 432x288 with 1 Axes>"
      ]
     },
     "metadata": {
      "needs_background": "light"
     },
     "output_type": "display_data"
    }
   ],
   "source": [
    "import time\n",
    "import math\n",
    "import numpy as np\n",
    "import pandas as pd\n",
    "from scipy.stats import norm, cauchy\n",
    "import matplotlib.pyplot as plt\n",
    "\n",
    "n = 100\n",
    "alpha = 0.05\n",
    "epsilon = math.sqrt((1 / (2 * n)) * math.log(2 / alpha))\n",
    "\n",
    "# Wtih Normal distribution\n",
    "def generate():\n",
    "    # Randomly sample\n",
    "    samples = norm.rvs(size=n)\n",
    "    sorted_samples = sorted(samples)\n",
    "\n",
    "    # Fraction of samples less than x\n",
    "    F_n = lambda x : sum(sorted_samples < x) / n\n",
    "    # Bounds\n",
    "    L_n = lambda x : max(F_n(x) - epsilon, 0)\n",
    "    U_n = lambda x : min(F_n(x) + epsilon, 1)\n",
    "\n",
    "    # collect into df\n",
    "    df = pd.DataFrame({\n",
    "            'x': sorted_samples, \n",
    "            'F_n': np.array(list(map(F_n, sorted_samples))), \n",
    "            'U_n': np.array(list(map(U_n, sorted_samples))), \n",
    "            'L_n': np.array(list(map(L_n, sorted_samples))), \n",
    "            'CDF': np.array(list(map(norm.cdf, sorted_samples)))\n",
    "            })\n",
    "    #column to label out parts of CDF outside ob bounds.\n",
    "    df['in_bounds'] = (df['U_n'] >= df['CDF']) & (df['CDF'] >= df['L_n'])\n",
    "\n",
    "    bound_broken = np.any(~df['in_bounds'])\n",
    "    return df, bound_broken\n",
    "\n",
    "def plot(df, bound_broken):\n",
    "    plt.plot( 'x', 'L_n', data=df, color='red')\n",
    "    plt.plot( 'x', 'U_n', data=df, color='green')\n",
    "    plt.plot( 'x', 'CDF', data=df, color='purple')\n",
    "    plt.title(f'It is {bound_broken} that the CDF crosses the 95% confidence bounds.')\n",
    "    plt.legend();\n",
    "\n",
    "plot(*generate())"
   ]
  },
  {
   "cell_type": "code",
   "execution_count": 5,
   "id": "1471ef33-41a6-427e-b1db-a938c1ea10c4",
   "metadata": {},
   "outputs": [
    {
     "name": "stdout",
     "output_type": "stream",
     "text": [
      "CPU times: user 14.1 s, sys: 116 ms, total: 14.2 s\n",
      "Wall time: 14.2 s\n"
     ]
    },
    {
     "data": {
      "text/plain": [
       "0.043"
      ]
     },
     "execution_count": 5,
     "metadata": {},
     "output_type": "execute_result"
    }
   ],
   "source": [
    "%%time\n",
    "# calculate the fraction of the time that the bound is broken. \n",
    "# It is a.s. less than alpha = 0.05\n",
    "break_booleans = [generate()[1] for _ in range(1000)]\n",
    "sum(break_booleans)/len(break_booleans) # got 0.026, 0.035"
   ]
  },
  {
   "cell_type": "markdown",
   "id": "4853f54e-e0e2-485b-8079-0a36eb6a56f9",
   "metadata": {},
   "source": [
    "## 7.2 Statistical functionals"
   ]
  },
  {
   "cell_type": "markdown",
   "id": "7734ab19-6113-4212-91d3-8430793d56be",
   "metadata": {
    "tags": []
   },
   "source": [
    "**Definition:** In general any function $T$ of the CDF $F$ is called a **statistical functional**. \n",
    "\n",
    "**e.g.s** \n",
    "1. Variance is the statistical functional $\\mathbb{V}$ that assigns to the distibution $F$ (regardless of the random variable it goes with) the number\n",
    "$$\\int x^2 dF(x) −\\left( \\int xdF(x)\\right)^2$$\n",
    "\n",
    "2. Median is the statistical functional that assigns to the distribution $F$ the number\n",
    "$$F^{−1}(1/2).$$\n",
    "\n",
    "3. Sampling distributions $F_{\\hat\\theta_n}$ of estimates $\\hat{\\theta}_n$ of a parameter $\\theta$ are examples of statistical functionals. "
   ]
  },
  {
   "cell_type": "markdown",
   "id": "059125a3-abbb-4de9-94ee-e756d4309a17",
   "metadata": {
    "tags": []
   },
   "source": [
    "**Definition:** A statistical functional of the from $T(F) = \\int r(x) dF(x)$ is a <u>linear statistical functional</u>. \n",
    "\n",
    "Why? Because $T(ar +bs)=aT(r) +bT(s)$, and likely any homogeneous degreee one addition preserving statistical functional can be realized this way, so keep an eye out in future reading. "
   ]
  },
  {
   "cell_type": "markdown",
   "id": "1af8ec1d-0e92-4e55-826d-c7c8eb97f840",
   "metadata": {
    "tags": []
   },
   "source": [
    "**e.g.s Of Linear StatisticalFunctionals** \n",
    "1. Probability $\\mathbb{P}([a,b])$ on an interval $[a,b]$ is a linear statistical functional; $\\mathbb{P}_F( [a,b]) = \\int_{\\mathbb{R}} I(x\\in [a,b])dF(x) = F(b)-F(a)$. \n",
    "2. Expectation value of a random variable $X$ is a linear statistical functional that assigns to the distribution $F$ the number \n",
    "$$\\int x dF(x).$$\n",
    "2.  The expectation of any function (really expression) $R(X)$ of $X$ is a linear statistical functional since $\\mathbb{E}(R(X)):= \\int r dF_R(r)= \\stackrel{\\text{LOTUS}}{=} \\int r(x) dF(x)$  with $r$ being the first $n-1$ integrals.\n",
    "3. According to <a href src=\"https://www.math.kth.se/matstat/gru/sf2955/statfunctnl.pdf\">Koski,Example 4.2 </a>, \"variance with known mean\" is a linear statistical functional; $\\mathbb{V}(F) = \\int \\left(x- \\mu \\right)^2 dF(x)$\n",
    "4. $\\text{mse}\\left(\\hat \\theta_n\\right) = \\mathbb{E}_{\\hat \\theta_n}(  \\hat{\\theta}_n − \\theta)^2$\n"
   ]
  },
  {
   "cell_type": "markdown",
   "id": "ab8bb959-3b6e-441e-9ca5-2fd02f094327",
   "metadata": {
    "tags": []
   },
   "source": [
    "**non-e.g.s of Linear Statistical Functionals** \n",
    " \n",
    "- \"variance with unknown mean\" $\\mathbb{V}(F) = \\int \\left(x- \\int x dF(x) \\right)^2 dF(x)$, is non-linear in F. \n",
    "- The squared standard error $\\text{se}^2(\\hat{\\theta}_n) = {\\mathbb{V}_{\\hat \\theta_n } (\\hat{\\theta}_n)} = {\\int \\left( \\hat\\theta_n  - \\mathbb{E}_{\\hat \\theta_n}(\\hat \\theta_n) \\right)^2 dF_{\\hat\\theta_n}(x)}.$\n",
    "- median is an inverse of a CDF, and thus not in general homogeneous. \n",
    "    - For example the uniform distribution $F$ on $[0,1]$ has $F^{-1}(1/2) = 1/2$ but $(2F)^{-1}(1/2)=1/4$, so $\\text{Median}(2F) = \\frac12 \\text{Median}(F)$. \n",
    "- More generally than medians, aka the 50% quantile, all quantiles $Q_q$ such that $Q_q(F) = F^{-1}(q)$ are not linear statistical functionals.\n",
    "- Sampling distributions $F_{\\hat\\theta_n} =\\idotsint_{A_t} \\prod\\limits_{i=1}^n dF_X(x_i;\\theta)$ of a statistic $\\hat{\\theta}_n(X_1,...,X_n)$ are homogeneous degree $n$ in $F_X$. \n",
    "\n",
    "----"
   ]
  },
  {
   "cell_type": "markdown",
   "id": "35483fb9-0aca-41b4-9f7c-1a149690e660",
   "metadata": {},
   "source": [
    "## Plug In Estimators \n",
    "of Statistical Functionals"
   ]
  },
  {
   "cell_type": "markdown",
   "id": "68749dc6-2459-43ea-a2dd-8ba1fb8083bd",
   "metadata": {},
   "source": [
    "**Definition** The **plug-in estimator** of the statistical functional $\\theta = T (F )$ is the statistic $\\hat{\\theta}_n = T \\left( \\hat F_n \\right)$ .\n",
    "\n",
    "In other words, just plug in the emperical distribution $\\hat F_n$ for the unknown distribution $F$."
   ]
  },
  {
   "cell_type": "markdown",
   "id": "d442ee2a-e750-4935-9429-64514f79d1d8",
   "metadata": {},
   "source": [
    "**Thm 7.9** The plug-in estimator for linear statistical functional $T$ such that\n",
    "$ T (F ) =\\int r(x)dF (x) ~\\forall \\text{ distribution } F$ is the statistic\n",
    "$$ T\\left(\\hat{F_n}\\right) = \\frac1n \\sum\\limits_{i=1}^n  r(X_i).$$"
   ]
  },
  {
   "cell_type": "markdown",
   "id": "ee86a5ae-d4f9-46bf-90de-50ec56725672",
   "metadata": {},
   "source": [
    "**Proof:** Using the definition of the Dirac delta function in terms of the Heaviside function, \n",
    "$$\n",
    "\\delta(x-a) = \\frac{d}{dx} I(x\\geq a)\n",
    "$$\n",
    "We have that \n",
    "$$\n",
    "T(\\hat F) = \\int r(x)d\\hat{F_n}(x) \n",
    "= \\int_\\mathbb{R} r(x) d\\left( \\frac1n \\sum\\limits_{i=1}^n I(x\\geq X_i)\\right)\\\\\n",
    "= \\int_\\mathbb{R} \\frac1n r(x) \\sum\\limits_{i=1}^n \\delta(x-X_i) dx \n",
    "= \\frac1n \\sum\\limits_{i=1}^n r(X_i). \\square\n",
    "$$"
   ]
  },
  {
   "cell_type": "markdown",
   "id": "7ea805df-d67d-4a0b-a622-2de5d6a8d98f",
   "metadata": {},
   "source": [
    "**Theorem:** The plug in estimator $\\hat{\\mathbb{V}}_n$ of the linear statistical function known as the \"variance with known mean\"\"variance with unknown mean\" $\\int \\left(x- \\mu \\right)^2 dF(x)$ is the \"population variance\" of the random sample $X^n$."
   ]
  },
  {
   "cell_type": "markdown",
   "id": "7e60a24e-7252-4249-8910-81463e6027a2",
   "metadata": {},
   "source": [
    "**Proof:**  $\\hat{\\mathbb{V}}_n(F) = \\int \\left(x- \\mu \\right)^2 d\\hat{F}_n(x) = \\frac1n \\sum_{i=1}^n(X_i -\\mu)^2$.\n",
    "\n",
    "$\\square$"
   ]
  },
  {
   "cell_type": "markdown",
   "id": "257ea814-b1fe-40c7-a8c2-d59bbbeecd06",
   "metadata": {},
   "source": [
    "Point of confusion: the \"variance with unknown mean\" $\\mathbb{V}(F) = \\int \\left(x- \\int x dF(x) \\right)^2 dF(x)$ is not a linear statistical functional. However, the expectation value appearing within is, and somehow people make use of that to obtain\n",
    "$$\n",
    "\\hat{\\mathbb{V}}_n(\\hat F_n) \n",
    "= \\int \\left(x- \\int x d\\hat F_n(x)\\right)^2 d\\hat F_n(x)\\\\\n",
    "= \\int \\left(x - \\sum\\limits_{i=1}^n  X_i  \\frac 1n \\right)^2 d\\hat F_n(x)\\\\\n",
    "= \\frac 1n \\sum\\limits_{j=1}^n \\left(X_j- \\bar{X}_n   \\right)^2. \n",
    "$$ \n",
    "and I do not know how to describe that object; it is not a plug in estimator because of the non-linearity.\n",
    "\n",
    "Also, I do not know how to resolve the two ideas that \n",
    "- $\\mu = \\int x dF_X(x)$ (= means is the same thing?...)\n",
    "- the variance with known mean is a different object than the variance with unknown mean.\n"
   ]
  },
  {
   "cell_type": "markdown",
   "id": "e9ef5eac-fe61-4ef0-ada6-6ba8b401d995",
   "metadata": {},
   "source": [
    "**Note:** The plug in estimator of variance is\n",
    "- is NOT the sample variance; the sample variance $S^2_n :=\\frac{1}{n-1}\\sum\\limits_{j=1}^n(X_i-\\bar{X}_n)$  is a statistic and an unbaised estimator of variance of $X$.\n",
    "- is the population variance with the emperical distribution function thrown in place of the distribution, even if the population was continuous and the sample was finite.\n",
    "- is a biased estimator of the variance of $X\\sim F$ since $\\mathbb{E}(\\hat{\\mathbb{V}}_n - \\sigma^2) = \\frac1n \\sigma^2$.  \n",
    "- is a consistant estimator of the variance since $\\mathbb{E}(\\hat{\\mathbb{V}}_n - \\sigma^2) = \\frac1n \\sigma^2 \\to 0$ as $n\\to \\infty$. "
   ]
  },
  {
   "cell_type": "markdown",
   "id": "c5143102-389b-483c-8bf6-59d1e682a1aa",
   "metadata": {},
   "source": [
    "---\n",
    "**e.g.of plug in estimate with a joint distribution** \n",
    "\n",
    "**Definition** (in eg 7.13): The **sample correlation** is the plug in estimator for the  statistical functional called the population correlation with known means and variances $\\text{Cov}(X,Y)$. \n",
    "\n",
    "$\\text{Cov}(X,Y)$ uses $Z=(X,Y)\\sim F_Z$ and is the statistical functional \n",
    "$$\n",
    "T(F_Z)=\\rho_{F_Z}(X,Y) \\\\\n",
    "= \\frac{\\mathbb{E}_Z\\left[(X - \\mu_X)(Y-\\mu_Y)\\right]}{\\sigma_X\\sigma_Y}\\\\\n",
    "=  \\frac{\\int (x - \\mu_X)(y-\\mu_Y) dF_Z(x,y)}{\\sigma_X\\sigma_Y} \n",
    "$$"
   ]
  },
  {
   "cell_type": "markdown",
   "id": "7ff1bdb0-26d1-4e47-8da7-c7639bbef9cd",
   "metadata": {},
   "source": [
    "The differential of the eCFD\n",
    "$$\n",
    "d\\hat{F}_Z(x,y) \n",
    "    =\\frac{\\partial^2}{\\partial x\\partial y}\\hat{F}_Z(x,y) dxdy\\\\\n",
    "= \\frac{\\partial^2}{\\partial x\\partial y} \\frac1n\\sum_{i=1}^n I(X_i>x)I(Y_i>y) dxdy\\\\\n",
    "=\\frac{\\partial^2}{\\partial x\\partial y}\\frac1n\\sum_{i=1}^n I(X_i>x)I(Y_i>y) dxdy\\\\\n",
    "=\\frac1n\\sum_{i=1}^n \\delta(X_i-x)\\delta(Y_i-y) dxdy\n",
    "$$"
   ]
  },
  {
   "cell_type": "markdown",
   "id": "c514497f-a0d2-4bc4-8667-c108581118c8",
   "metadata": {},
   "source": [
    "So, the plug in estimator of correlation with known means and variances is the statistic \n",
    "$$\\hat{\\rho}_n(X^n,Y^n) = \n",
    "\\frac\n",
    "{\\frac1n \\sum\\limits_{i=1}^n(X_i - \\mu_X)(Y_i - \\mu_Y)}\n",
    "{\\sigma_X \\sigma_Y}\n",
    "$$\n",
    "\n",
    "which is \n",
    "- not covariance divided by sample standard deviations \n",
    "- is  covariance divided by population standard deviations. \n",
    "\n",
    "---"
   ]
  },
  {
   "cell_type": "markdown",
   "id": "d5ea44b0-ff3c-484d-a685-3330bd539a32",
   "metadata": {},
   "source": [
    "**Point of confusion:**\n",
    "\n",
    "The population correlation with  unknown variances and known means appears to be a non-linear functional;\n",
    "$$\n",
    "T(F_Z)=\\rho_{F_Z}(X,Y) \\\\\n",
    "= \\frac{\\mathbb{E}_Z\\left[(X - \\mu_X)(Y-\\mu_Y)\\right]}\n",
    "{\n",
    "    \\sqrt{\\mathbb{E}((X- \\mu_X)^2)\\mathbb{E}((Y- \\mu_Y)^2)}\n",
    "}\\\\\n",
    "=  \\frac{\\int (x - \\mu_X)(y-\\mu_Y) dF_Z(X,Y)}{\n",
    "\\sqrt{\\int (x- \\mu_X)^2 dF_X(x)}\n",
    "\\sqrt{\\int (y- \\mu_Y)^2 dF_Y(y)}\n",
    "} \n",
    "$$\n",
    "has estimator that is not a plug in estimator\n",
    "$$\\hat{\\rho}_n(X^n,Y^n) = \n",
    "\\frac\n",
    "{\\sum\\limits_{i=1}^n(X_i - \\mu_X)(Y_i - \\mu_Y)}\n",
    "{\\sqrt{\\sum\\limits_{i=1}^n(X-\\mu_X)^2 \\sum\\limits_{j=1}^n(Y-\\mu_Y)^2}}\n",
    "$$\n",
    "\n",
    "Similarly the population correlation with unknown means and unknown variances has estimator... \n",
    "$$\\hat{\\rho}_n(X^n,Y^n) = \n",
    "\\frac\n",
    "{\\sum\\limits_{i=1}^n(X_i - \\bar{X}_n)(Y_i - \\bar{Y}_n)}\n",
    "{\\sqrt{\\sum\\limits_{i=1}^n(X-\\bar{X}_n)^2 \\sum\\limits_{j=1}^n(Y-\\bar{Y}_n)^2}}\n",
    "$$\n",
    "\n",
    "And the population vorrelation with unknown means and known variances \n",
    "$$\\hat{\\rho}_n(X^n,Y^n) = \n",
    "\\frac\n",
    "{\\frac1n\\sum\\limits_{i=1}^n(X_i - \\bar{X}_n)(Y_i - \\bar{Y}_n)}\n",
    "{\\sigma_X \\sigma_Y}\n",
    "$$\n"
   ]
  },
  {
   "cell_type": "markdown",
   "id": "8c35c731-1b15-4273-99f3-19a8d94da82b",
   "metadata": {},
   "source": [
    "## Multivariate emperical distributions\n",
    "\n",
    "This is not in Wasserman, but I want to make sure it works out.\n",
    "\n",
    "A multivariate cumulative distribution on the random variable $\\vec X \\in \\{f:\\Omega \\to \\mathbb{R}^d \\}$ is \n",
    "$$F(\\vec x) =   \\mathbb{P}\\left( \\wedge_{j=1}^n (X_j \\leq x_j) \\right).\n",
    "$$\n",
    "\n",
    "In what follows I will denote \n",
    "$$\n",
    "\\wedge_{j=1}^d(X_j\\leq x_j) \\text{ as }   \\vec X \\leq \\vec x.\n",
    "$$\n",
    "\n",
    "The associated PDF is\n",
    "$$\n",
    "f(\\vec x) = \\frac{\\partial^d}{\\prod_{j=1}^n dx_j} F(\\vec x)\n",
    "$$\n",
    "and \n",
    "$$F(\\vec x) = \\int_{-\\infty}^{x_1} \\cdots \\int_{-\\infty}^{x_d} f(\\vec x) \\prod_{j=1}^d dx_j.$$\n",
    "\n",
    "An emperical distribution function on a random sample $\\vec X_1,\\dots,\\vec X_i,\\dots,\\vec X_n \\in \\{ f: \\Omega \\to \\mathbb{R}^d\\}$ of size $n$ is \n",
    "$$\n",
    "\\hat F \\left(\\vec x \\right) \n",
    "= \\frac1n \\sum\\limits_{i=1}^n I\\left( \n",
    "\\vec x \\leq \\vec X_i\n",
    "\\right)\\\\\n",
    "= \n",
    "\\frac1n \\sum\\limits_{i=1}^n I\\left( \n",
    "\\wedge_{j=1}^d  \\left( x_{j} \\leq  X_{ij} \\right)\n",
    "\\right)\\\\\n",
    "= \n",
    "\\frac1n \\sum\\limits_{i=1}^n \\prod\\limits_{j=1}^d I\\left( \n",
    " x_{j} \\leq  X_{ij}\n",
    "\\right)\\\\\n",
    "$$\n",
    "\n",
    "\n",
    "For a linear statistical functional $T$ with kernel $K(\\vec x)$ the plug in estimator is \n",
    "$$\n",
    "\\hat T \n",
    "= \\int K(\\vec x )d\\hat F(\\vec x) \\\\\n",
    "$$\n",
    "\n",
    "$$\n",
    "= \\int K(\\vec x )\\frac{\\partial^d}{\\prod_{j=1}^d dx_j}\\hat F(\\vec x) \\prod_{j=1}^d dx_j\\\\\n",
    "$$\n",
    "\n",
    "$$\n",
    "= \\frac1n \\sum\\limits_{i=1}^n \n",
    "\\int K(\\vec x )\n",
    "\\frac{\\partial^d}{\n",
    "      \\prod_{j=1}^d dx_j\n",
    "      }\n",
    "\\prod\\limits_{j'=1}^d H(x_{j'} - X_{ij'})\n",
    "\\prod_{j=1}^d dx_j\\\\\n",
    "$$\n",
    "\n",
    "$$\n",
    "= \\frac1n \\sum\\limits_{i=1}^n \n",
    "\\int K(\\vec x )\n",
    "\\frac{\\partial^d}{\\prod_{j=2}^n dx_j}\n",
    "\\delta(x_{1} - X_{i1})\\prod\\limits_{j'= 2}^d H(x_{j'} - X_{ij'})\n",
    "\\prod_{j=1}^d dx_j\\\\\n",
    "$$\n",
    "\n",
    "$$\n",
    "= \\frac1n \\sum\\limits_{i=1}^n \n",
    "\\int K(\\vec x )\n",
    "\\prod_{j=1}^d\n",
    "\\delta(x_{j} - X_{ij})\n",
    "\\prod_{j=1}^d dx_j\\\\\n",
    "$$\n",
    "\n",
    "$$\n",
    "= \\frac1n \\sum\\limits_{i=1}^n  K(\\vec{X}_i )\n",
    "$$"
   ]
  },
  {
   "cell_type": "markdown",
   "id": "789dde9a-fe27-42e0-bd25-9281518f1cff",
   "metadata": {},
   "source": [
    "That is to say, it does indeed work out :)"
   ]
  },
  {
   "cell_type": "markdown",
   "id": "4e1dd2fd-8035-41f1-b44a-c0c1eaf691bb",
   "metadata": {},
   "source": [
    "I'd love to plot a two variable eCDF. \n",
    "\n",
    "statsmodels <a href src=\"https://www.statsmodels.org/dev/distributions.html#module-statsmodels.distributions.empirical_distribution\">does not </a> have this feature yet.\n",
    "\n",
    "<a href src=\"https://stackoverflow.com/questions/69240432/is-there-a-python-implementation-of-multidimensional-ecdfs\">This guy</a> said he'd make it in 2021.... \n",
    "\n",
    "<a href src=\"https://arxiv.org/pdf/2005.03246.pdf\">This paper</a> discusses the complexity."
   ]
  },
  {
   "cell_type": "code",
   "execution_count": 42,
   "id": "35afc4fe-fc73-4946-aaa7-427ba944850e",
   "metadata": {},
   "outputs": [
    {
     "data": {
      "image/png": "[encoded data removed]",
      "text/plain": [
       "<Figure size 432x288 with 1 Axes>"
      ]
     },
     "metadata": {
      "needs_background": "light"
     },
     "output_type": "display_data"
    }
   ],
   "source": [
    "# What does statsmodels have for eCDF? \n",
    "import numpy as np \n",
    "from statsmodels.distributions import empirical_distribution as eds\n",
    "\n",
    "# Draw samples according to a unifrom distribution on [0,1]^2\n",
    "# or a normal dist on R^2\n",
    "n=100\n",
    "xs = np.sort(np.random.rand(n)) #not drawn according to a dist \n",
    "\n",
    "# construct a rectangle wise constant function \n",
    "E = eds.ECDF(xs) # does no have a multivariate version yet. \n",
    "plt.plot(xs,E(xs));"
   ]
  },
  {
   "cell_type": "markdown",
   "id": "8fb9ece4-dacb-413a-b50c-eff2dab8b77d",
   "metadata": {},
   "source": [
    "## Quantile Functional\n",
    "**Definition:** The statistical functional $Q_p$ such that $Q_p(F) = \\inf F^{-1}(p)$ the <u>p-th quantile</u>. \n",
    "\n",
    "Actually to avoid ambiguity where the CDF is constant, we defined \n",
    "$Q_p(F) = \\inf\\{x \\,|\\,F(x)< p\\}$. That especially matters for what follows. I note that this infimum does not apply to multivariable cases. \n",
    "\n",
    "**Definition:** The number $Q_p(\\hat{F_n} )$ is the $p$th **sample quantile** of the CDF $F$."
   ]
  },
  {
   "cell_type": "markdown",
   "id": "f1c04eb7-562a-445d-872a-dbb6f0c71e8f",
   "metadata": {
    "toc-hr-collapsed": true
   },
   "source": [
    "# Ch8 The Bootstrap"
   ]
  },
  {
   "cell_type": "markdown",
   "id": "14b3dbc5-2858-4eff-9197-b2873ae397a1",
   "metadata": {},
   "source": [
    "**Definition:** A <u>resampling</u> of the random sample $X_1,...,X_n$ of the random variable $X$ is a sequence of $n$ randomly chosen elements of the random sample:  $(X_{1,j}^*,...,X_{n,j}^*)$ with $X_{i,j}^* \\in \\{X_1,...,X_n\\}$.\n",
    "\n",
    "I denote a random sample by $X^n$ and a resampling of that random sample as $X^{n*}$. One can generate a finite sequence of $B$ re-samplings $X^{n*}_1,...,X^{n*}_B$."
   ]
  },
  {
   "cell_type": "markdown",
   "id": "c644fe56-8a8b-435b-a026-6bb56706a687",
   "metadata": {},
   "source": [
    "**Definition:** A **simulation** of size $B$ of a statistic $T_n=T_n(X_1,...,X_n)$ of a random variable $X$ is a sample $T_{n,1}^∗, ..., T_{n,B}^∗$ of $T_n$ generated by re-sampling;  $T_{n,j}^* = T_n(X_{1,j}^*,...,X_{n,j}^*)$ for $j=1,...,B$."
   ]
  },
  {
   "cell_type": "markdown",
   "id": "0da1c523-74b8-44f8-859b-d80c4e3d94a2",
   "metadata": {},
   "source": [
    "Simulations privide eCDFs of a statistic. \n",
    "$$\n",
    "\\hat{F}_{T_n}(t) = \\frac1B \\sum_{j=1}^B I(T^*_{n,j}<t) \\stackrel{p}{\\to} F_{T_n}(t) \\text{ as } B\\to \\infty.\n",
    "$$\n",
    "This is the heart of bootstrapping."
   ]
  },
  {
   "cell_type": "markdown",
   "id": "b4a25722-04fb-4b25-88f5-898b1946c7ba",
   "metadata": {
    "tags": []
   },
   "source": [
    "## Bootstrap Variance Estimation\n",
    "\n",
    "The \"plug in estimator\" for variance with unknown mean from bootstrapping is \n",
    "$$v_{\\text{boot}} = \\frac1B \\sum\\limits_{i=1}^B (T_{n,i}^∗-\\overline{T_n^*}_B)^2\\\\ \\stackrel{P}{\\to}\\mathbb{E}_{T_n}((T_{n}-\\mu_{T_n})^2) = \\mathbb{V}_{T_n}(T_n)\n",
    "\\text{ as } B\\to \\infty.$$\n",
    "\n",
    "(Note that \"plug in estimator\" is an over-use of the word because the vairance with unknown mean is not a linear functional.)\n",
    "\n",
    "Thus, we can approximate the variance $\\mathbb{V}_{T_n}(T_n)$ arbitrarily well by using a large enough $B$ bootstrap sample $T_{n,1}^∗, ..., T_{n,B}^∗$ of $T_n$. "
   ]
  },
  {
   "cell_type": "code",
   "execution_count": 60,
   "id": "59f3270e-3e63-4fce-a206-40b35eb3d148",
   "metadata": {},
   "outputs": [
    {
     "name": "stdout",
     "output_type": "stream",
     "text": [
      "Normal--------------------------------------------------\n",
      "The variance of max_statistic is approximately 0.05323181733762108.\n",
      "The variance of mean_statistic is approximately 0.009374808231446754.\n",
      "The variance of variance_statistic is approximately 0.018114690859227442.\n",
      "Power--------------------------------------------------\n",
      "The variance of max_statistic is approximately 7.597733660298064e+35.\n",
      "The variance of mean_statistic is approximately 4.597637923397931e+32.\n",
      "The variance of variance_statistic is approximately 1.770560614204026e+69.\n"
     ]
    }
   ],
   "source": [
    "import numpy as np\n",
    "from scipy import stats\n",
    "\n",
    "n, B = 100, 10_000\n",
    "# Obtain one random sample (from each example distribution). \n",
    "norm_data = stats.norm().rvs(n) \n",
    "uniform_data = stats.uniform().rvs(n) \n",
    "powerlaw_data = stats.pareto(b=0.1).rvs(n)# b/x^{b+1}, so b<=1 implies E(X) DNE.\n",
    "\n",
    "def resample(data): \n",
    "    return np.random.choice(data, size = n,replace = True)\n",
    "\n",
    "statistics =     [np.max,         np.mean,         np.var]\n",
    "statistics_str = [\"max_statistic\",\"mean_statistic\",\"variance_statistic\"]\n",
    "\n",
    "def simulation(data, statistic):\n",
    "    simulation_of_statistic = [statistic(resample(data)) for _ in range(B)]\n",
    "    return simulation_of_statistic\n",
    "\n",
    "def bootstrap_estimation_of_variance(data, statistic):\n",
    "    simulation_of_statistic = simulation(data, statistic)\n",
    "    # Return variation of simulation as approximation of variation of statistic.\n",
    "    v_boost = np.var(simulation_of_statistic) \n",
    "    return v_boost\n",
    "\n",
    "bev = bootstrap_estimation_of_variance\n",
    "\n",
    "print(\"Normal\"+\"-\"*50)\n",
    "for i, statistic in enumerate(statistics):\n",
    "    # Variance of max, mean, and variance are small for a normal distribution. \n",
    "    print(f\"The variance of {statistics_str[i]} \"\n",
    "          + f\"is approximately {bev(norm_data,statistic)}.\")\n",
    "\n",
    "print(\"Power\"+\"-\"*50)\n",
    "for i, statistic in enumerate(statistics):\n",
    "    # but large for that power law f(x) = p/x^{p+1}, p<1 on x>1.\n",
    "    # In particular, all three of these are estimates of infinity.\n",
    "    print(f\"The variance of {statistics_str[i]}\"\n",
    "          + f\" is approximately {bev(powerlaw_data,statistic)}.\")"
   ]
  },
  {
   "cell_type": "markdown",
   "id": "3293f328-c9b9-469e-acf1-e4cca0e9e46c",
   "metadata": {},
   "source": [
    "## 8.3 Bootstrap Confidence Intervals\n",
    "\n",
    "Or \"confidence intervals for estimators where the confidence intervals are derived from bootstrapping.\" \n",
    "\n",
    "Three common ways to get confidence intervals from boot strapping:\n",
    "1. The normal interval method\n",
    "2. Using a pivotal quantity\n",
    "3. Percentile intervals"
   ]
  },
  {
   "cell_type": "markdown",
   "id": "4c60acd5-7b1d-4fa3-8955-e2a26cf07b45",
   "metadata": {},
   "source": [
    "### 1. The Normal interval method\n",
    "If $\\hat{\\theta}_n$ is an estimator of a parameter $\\theta$ and the distribution of the estimator $\\hat{\\theta}_n$ is close to normal, then \n",
    "$$\n",
    "\\left(\n",
    "\\hat{\\theta}_n- F_{\\text{Norm}}^{-1}(1-\\alpha/2) \\sqrt{ \\mathbb{V}_{\\rm boot}(\\hat{\\theta}_n) }\n",
    "\\,,\\,\n",
    "\\hat{\\theta}_n + F_{\\text{Norm}}^{-1}(1-\\alpha/2)\\sqrt{ \\mathbb{V}_{\\rm boot}(\\hat{\\theta}_n) }\n",
    "\\right)\n",
    "$$ \n",
    "is an approximate $1-\\alpha$ confidence interval for the parameter $\\theta$. "
   ]
  },
  {
   "cell_type": "markdown",
   "id": "a841b371-49b6-4a23-807b-136c8b4dcaf3",
   "metadata": {},
   "source": [
    "### 2. Pivotal Quantity or Pivot"
   ]
  },
  {
   "cell_type": "markdown",
   "id": "1289bd65-50d7-48d9-b93c-6587506b6522",
   "metadata": {},
   "source": [
    "Recall:\n",
    "\n",
    "**Definition:** Let $\\hat{\\theta}_n(X^n)$ be a point estimator of the parameter $\\theta$. Assume that $X\\sim F_{(X|\\theta)}$, meaning the distribution for $X$ has a parameter $\\theta$. A statistic $R\\left(\\hat{\\theta}_n|\\theta\\right)$ is a **pivotal quantity** of $\\theta$ if its distribution $F_{R\\left(\\hat{\\theta}_n|\\theta\\right)}$ is independent of the parameter $\\theta$. "
   ]
  },
  {
   "cell_type": "markdown",
   "id": "3f5736bb-3d38-43fc-9bfc-e7bf25b804cc",
   "metadata": {},
   "source": [
    "Let $T$ be a statistical functional, let $\\theta := T(F)$ for some particular $F$,  and let $\\hat{\\theta}_n = T(\\hat{F}_n)$ be the plug in estimator of $\\theta$. Then $R_n := \\hat{\\theta}_n − \\theta$ is a pivotal quantity for $\\theta$; the distribution $F_{R_n}$ does not depend on $\\theta$. (How can I see that? )"
   ]
  },
  {
   "cell_type": "markdown",
   "id": "818027fc-4145-4d5b-85f7-6efdfd430dce",
   "metadata": {},
   "source": [
    "Then\n",
    "$$\n",
    "\\mathbb{P}(a\\leq R_n \\leq b) = 1-\\alpha\\\\\n",
    "\\Leftrightarrow \n",
    "\\mathbb{P}(a\\leq \\hat{\\theta}_n − \\theta \\leq b) = 1-\\alpha\\\\\n",
    "\\Leftrightarrow \n",
    "\\mathbb{P}( \\hat{\\theta}_n -b \\leq   \\theta \\leq \\hat{\\theta}_n-a) = 1-\\alpha\\\\\n",
    "$$\n",
    "We need a choice of $a$ and $b$. One choice is to let $H$ denote the CDF **of the pivot**, $H(r) := \\mathbb{P}_F \\left(R_n \\leq r\\right)$, and choose $a=H^{-1}\\left( \\frac{\\alpha}{2} \\right)$ and $b=H^{-1}\\left(1-\\frac{\\alpha}{2} \\right)$, giving the $1-\\alpha$ confidence interval \n",
    "$$\n",
    "(L,U) = \\left(      \n",
    "\\hat{\\theta}_n - H^{-1}\\left(1-\\frac{\\alpha}{2} \\right), \n",
    "\\hat{\\theta}_n - H^{-1}\\left(  \\frac{\\alpha}{2} \\right)\n",
    "\\right)\n",
    "$$"
   ]
  },
  {
   "cell_type": "markdown",
   "id": "a5f28c5f-67e5-46ae-be9b-0840e9fa1bba",
   "metadata": {},
   "source": [
    "However, we do no know $H$. We can form a bootstrap estimate for the CDF of $R$\n",
    "$$\n",
    "H_B(r) = \\frac1B \\sum\\limits_{j=1}^B I\\left(R^*_{n,j}\\leq r\\right)\n",
    "$$"
   ]
  },
  {
   "cell_type": "markdown",
   "id": "06141a91-c17c-4d2d-bd5e-463c77b09ac0",
   "metadata": {},
   "source": [
    "where $R^*_{n,j} = \\hat{\\theta}^*_{n,j} - \\theta $ is computed from the bootstrap replications $ \\theta_{n,1}^∗, . . . , \\theta_{n,B}^∗$ of the statistic $\\hat{\\theta}_n(X_1,\\dots,X_n)$. \n",
    "\n",
    "Further, since $\\theta$ is unknown, it must be estimated. The two choices you might consider are \n",
    "1. the value at the original sample $\\hat{\\theta}_n = \\hat{\\theta}_n(X_1,...,X_n)$\n",
    "2. the average value over the simulation, $\\bar{\\theta}_n^* = \\frac1B \\sum_{j=1}^B \\hat{\\theta}_{n,j}$"
   ]
  },
  {
   "cell_type": "markdown",
   "id": "7542d5b3-0a4a-442e-8b35-65d0889bb985",
   "metadata": {},
   "source": [
    "Option 2 looks appealing because of  it's averaging like appearance, but option 1 is correct because we aim to center a interval around $\\hat{\\theta}_n$. Thus\n",
    "$$R^*_{n,j} \\approx \\hat{\\theta}^*_{n,j} -  \\hat{\\theta}_n $$\n",
    "\n",
    "This gives the estimate \n",
    "$$\n",
    "(L_B,U_B) = \\left(      \n",
    "\\hat{\\theta}_n - H_B^{-1}\\left(1-\\frac{\\alpha}{2} \\right), \n",
    "\\hat{\\theta}_n - H_B^{-1}\\left(  \\frac{\\alpha}{2} \\right)\n",
    "\\right)\n",
    "$$"
   ]
  },
  {
   "cell_type": "markdown",
   "id": "b5cb2d92-980c-46ee-b37c-801baf403923",
   "metadata": {},
   "source": [
    "**Definition** The interval $(L_B,U_B)$ is the $1-\\alpha$  <u>bootstrap pivotal confidence interval</u> for $\\theta$. \n",
    "\n",
    "Note that the article in that definition is \"the\" and not \"a\" because this interval is a statistic; the interval will be different each time data is obtained and bootstrapping is performed, but this interval valued statistic is the abstraction away from that data. "
   ]
  },
  {
   "cell_type": "markdown",
   "id": "ce9e2a43-fb56-4636-8c8e-aae0b704818f",
   "metadata": {},
   "source": [
    "#### e.g. 95% pivotal confidence interval for the max statistic of Expon\n",
    "Point of confusion:\n",
    "- I'm supposed to start with a particular linear functional $T$ and paricular distribution $F$ and let $\\theta = T(F)$, and then form the plug in estimate of $\\theta$. I did not do that. \n",
    "    - I'm confused about the use of a linear statistical functional here; statistical functionals that take a CDF F and compute a quantity for a sample of size n are homogeneous degree n. For example, if T maps F  to sample mean for a sample of size n, then $T(F) = \\int \\bar{X}_n \\prod_{i=1}^n dF_X(x_i)$ and so $T$ is homogeneous degree n. So, the suggestion does not make sense to me. \n",
    "    - The max statistic is an estimator of the expectation value of the max statistic. So $T(F) = \\int m dF_M(m)$ where $F_M(m) = \\mathbb{P}(\\wedge_{i=1}^n X_i<m) = \\prod_{i=1}^m  \\mathbb{P}( X_i<m) =  \\prod_{i=1}^m F_X(m) = F^n_X(m)$. Thus $T(F) = \\int m dF^n_X(m)$ is homogeneous degree n, not linear. \n",
    "\n"
   ]
  },
  {
   "cell_type": "code",
   "execution_count": 80,
   "id": "7139a508-8684-40ab-bec6-80c2000076a7",
   "metadata": {},
   "outputs": [
    {
     "data": {
      "image/png": "[encoded data removed]",
      "text/plain": [
       "<Figure size 432x288 with 1 Axes>"
      ]
     },
     "metadata": {
      "needs_background": "light"
     },
     "output_type": "display_data"
    }
   ],
   "source": [
    "import numpy as np\n",
    "from scipy import stats\n",
    "\n",
    "alpha = .05 # Confidence level\n",
    "n = 100 # Sample size\n",
    "B = 10_000 # Simulation size\n",
    "\n",
    "# A sample form the underlying dist of Xs.\n",
    "#data = stats.norm().rvs(n) \n",
    "data = stats.expon().rvs(n) \n",
    "\n",
    "def statistic(xs):\n",
    "    return np.max(xs)\n",
    "\n",
    "theta_n_hat = statistic(data)\n",
    "\n",
    "def sample(data): \n",
    "    # Tool for bootstrappling\n",
    "    return np.random.choice(data,size = len(data),replace = True)\n",
    "\n",
    "# Simulate \\hat{\\theta}_n.\n",
    "theta_n_star_hats = [statistic(sample(data)) for _ in range(B)]\n",
    "\n",
    "# Simulate the pivot R. \n",
    "# Since we do not know theta, we put in theta_n_hat as an estimate.\n",
    "R_star_ns = [theta_n_star_hat - theta_n_hat \n",
    "                 for theta_n_star_hat in theta_n_star_hats] \n",
    "\n",
    "# CDF for R_star_ns for construction of CI.\n",
    "m = min(R_star_ns)\n",
    "M = max(R_star_ns)\n",
    "H_abscisa = np.linspace(m-1,M+1, 1_000)\n",
    "H = np.array([sum(R_star_ns <= r)/B for r in H_abscisa])\n",
    "\n",
    "# How to invert H when it is discrete:\n",
    "# Where is dist between H and y smallest?\n",
    "def H_inverse(y):\n",
    "    # distance to x\n",
    "    d = np.abs(H - y)\n",
    "    return H_abscisa[np.argmin(d)]\n",
    "\n",
    "# Calculate CI (a,b)\n",
    "L_B = theta_n_hat - H_inverse(1-alpha/2)\n",
    "U_B = theta_n_hat - H_inverse(alpha/2)\n",
    "\n",
    "## eCDF for theta_n_stars for visualization.\n",
    "p = min(theta_n_star_hats)\n",
    "q = max(theta_n_star_hats)\n",
    "# Set window for visualizing F\n",
    "a = min([p,L_B])\n",
    "b = max([q,U_B])\n",
    "F_abscisa = np.linspace(a,b, 1_000)\n",
    "F = np.array([sum(theta_n_star_hats <= r)/B for r in F_abscisa])\n",
    "\n",
    "# Visualize the max of the simulation lying in the interval.\n",
    "# It does not show up well, so I'll explore in the next cell.\n",
    "import matplotlib.pyplot as plt\n",
    "plt.plot(F_abscisa,F)\n",
    "plt.title(\"CDF of theta*ns \")\n",
    "plt.axvline(x=L_B,label = \"L_B\", color = 'green', linestyle = '--')\n",
    "plt.axvline(x=U_B, label = 'U_B', color='blue', linestyle = '--')\n",
    "# plt.axvline(x=1, label = 'true', color = 'red')\n",
    "plt.legend()\n",
    "plt.show();"
   ]
  },
  {
   "cell_type": "code",
   "execution_count": 84,
   "id": "e3236184-ab23-464c-bedb-3a3a64d3247d",
   "metadata": {},
   "outputs": [
    {
     "data": {
      "text/plain": [
       "(0.0018770835637895722, 5.978384653430292)"
      ]
     },
     "execution_count": 84,
     "metadata": {},
     "output_type": "execute_result"
    }
   ],
   "source": [
    "H_inverse(1-alpha/2), theta_n_hat - H_inverse(alpha/2)"
   ]
  },
  {
   "cell_type": "code",
   "execution_count": 87,
   "id": "0cc92341-19e0-4082-b4e7-c191300caa37",
   "metadata": {},
   "outputs": [
    {
     "name": "stdout",
     "output_type": "stream",
     "text": [
      "It is True that L_B <= theta_n_hat since 4.186478945182607 <= 4.188356028746397.\n",
      "It is True that theta_n_hat <= U_B since 4.188356028746397 <= 5.978384653430292.\n",
      "The min and max values of the simulation are  2.2626678652827197, 4.188356028746397.\n"
     ]
    },
    {
     "data": {
      "text/plain": [
       "(4.186478945182607, 4.188356028746397, 5.978384653430292)"
      ]
     },
     "execution_count": 87,
     "metadata": {},
     "output_type": "execute_result"
    }
   ],
   "source": [
    "# Verify\n",
    "print(f\"It is {L_B<= theta_n_hat} that L_B <= theta_n_hat since {L_B} <= {theta_n_hat}.\")\n",
    "print(f\"It is {theta_n_hat<= U_B} that theta_n_hat <= U_B since {theta_n_hat} <= {U_B}.\")\n",
    "print(f\"The min and max values of the simulation are  {min(theta_n_star_hats)}, {max(theta_n_star_hats)}.\")\n",
    "L_B,max(data),U_B"
   ]
  },
  {
   "cell_type": "code",
   "execution_count": 82,
   "id": "cd1b18cd-0ed0-4295-b991-edaaf0c98456",
   "metadata": {},
   "outputs": [
    {
     "data": {
      "image/png": "[encoded data removed]",
      "text/plain": [
       "<Figure size 432x288 with 1 Axes>"
      ]
     },
     "metadata": {
      "needs_background": "light"
     },
     "output_type": "display_data"
    }
   ],
   "source": [
    "# There is a lot of mass at the max of the original sample; \n",
    "# most resamples contain the largest element of the original sample.\n",
    "import matplotlib.pyplot as plt\n",
    "plt.plot(F_abscisa[:-1],(F[1:]-F[:-1]) / (F_abscisa[1:]-F_abscisa[:-1]))\n",
    "plt.title(\"PDF of theta*ns\")\n",
    "plt.axvline(x=L_B,label = \"L_B\", color = 'green', linestyle = '--')\n",
    "plt.axvline(x=U_B, label = 'U_B', color='blue', linestyle = '--')\n",
    "# plt.axvline(x=1, label = 'true', color = 'red')\n",
    "plt.legend()\n",
    "plt.show();"
   ]
  },
  {
   "cell_type": "markdown",
   "id": "9c6bd027-fd85-4c0e-8589-ced32c270466",
   "metadata": {},
   "source": [
    "### 3. Percentile intervals\n",
    "Never went through this; pg 116. "
   ]
  },
  {
   "cell_type": "markdown",
   "id": "186e62f2-641a-4e84-a3ac-7b452ca7b588",
   "metadata": {},
   "source": []
  },
  {
   "cell_type": "markdown",
   "id": "5f4929b1-2a91-4a1c-ab54-e39fbdcbeb3d",
   "metadata": {
    "tags": [],
    "toc-hr-collapsed": true
   },
   "source": [
    "# Ch 9 Parametric Inference\n",
    "\n",
    "How do we estimate parameters from samples when we suspect the distribution $f$ of is from a parametric model $\\mathfrak{F} = \\{ f(x,\\theta)\\,|\\, \\theta \\in \\Theta\\}$? \n",
    "\n",
    "## 9.2 The Method of Moments\n",
    "If the parameter $\\theta \\in \\mathbb{R}^k$ then solve the system of $k$ equations  that equate the  $j$th moment $\\alpha_j(\\theta) := \\int x^j dF_\\theta(X)$ to the $j$th sample moment $\\hat{\\alpha}_j:= \\frac1n \\sum\\limits_{i=1}^n X^j_i.$ That is solve the system of equations"
   ]
  },
  {
   "cell_type": "markdown",
   "id": "4a8e7d85-bdb9-4344-bbbb-9afe14a99864",
   "metadata": {},
   "source": [
    "$$\n",
    "\\left\\{ \\begin{array}{c} \n",
    "\\alpha_1(\\theta) = \\hat{\\alpha}_1 \\\\\n",
    "\\vdots\\\\ \n",
    "\\alpha_k(\\theta) = \\hat{\\alpha}_k \n",
    "\\end{array} \\right\\}\n",
    "$$"
   ]
  },
  {
   "cell_type": "markdown",
   "id": "103d2765-11da-4790-b6a3-c206939538ad",
   "metadata": {},
   "source": [
    "for the $k$ parameters $\\theta$ and call the solution $\\hat{\\theta}_n^{\\text{MOM}}$ the method of moments estimator of $\\theta$. "
   ]
  },
  {
   "cell_type": "markdown",
   "id": "cd6d1a1d-7a2f-4a42-b137-d0391c6d3897",
   "metadata": {},
   "source": [
    "**e.g.** If $X_1,...,X_n\\sim N(\\mu,\\sigma^2)$ then solve for $(\\mu,\\sigma)$ in \n",
    "$$\n",
    "\\left\\{\\begin{array}{c}\n",
    "\\int x dF = \\frac1n \\sum\\limits_{i=1}^n X_i\\\\\n",
    "\\int x^2 dF = \\frac1n \\sum\\limits_{i=1}^nX_i^2\n",
    "\\end{array}\\right\\}\n",
    "\\Leftrightarrow\n",
    "\\left\\{\\begin{array}{c}\n",
    "\\mu = \\frac1n \\sum\\limits_{i=1}^n X_i\\\\\n",
    "{\\sigma}^2-{\\mu}^2 = \\frac1n \\sum\\limits_{i=1}^nX_i^2\n",
    "\\end{array}\\right\\}\n",
    "\\Leftrightarrow\n",
    "\\left\\{\\begin{array}{c}\n",
    "{\\mu} = \\frac1n \\sum\\limits_{i=1}^n X_i\\\\\n",
    "{\\sigma}= \\frac1n \\sum\\limits_{i=1}^n (X_i - \\bar{X}_n)^2\n",
    "\\end{array}\\right\\}.\n",
    "$$\n",
    "The solution is $\\hat{\\theta}_n^{\\text{MOM}} = (\\hat{\\mu}_n^{\\text{MOM}},\\hat{\\sigma}_n^{\\text{MOM}}) : = \\left(  \\frac1n \\sum\\limits_{i=1}^n X_i \\,,~  \\frac1n \\sum\\limits_{i=1}^n (X_i - \\bar{X}_n)^2 \\right)$"
   ]
  },
  {
   "cell_type": "markdown",
   "id": "a690a3c7-316c-4956-9fa3-77f234c6791b",
   "metadata": {},
   "source": [
    "That is, in this case the MOM estimator of the mean and variance are the equal to the plugin estimators. This will not always happen. \n"
   ]
  },
  {
   "cell_type": "markdown",
   "id": "0b6519a3-39ae-4881-bdc9-7662d8dd9389",
   "metadata": {},
   "source": [
    "## 9.3 Maximum Likelihood\n",
    "\n",
    "**Definition** The **likelihood function** of a simaple $X_1,...,X_n$ of a random variable $X \\sim f(\\cdot;\\theta)$ is the statistic \n",
    "$\\prod\\limits_{i=1}^n f(X_i;\\theta)$ thought of as a function of $\\theta$.\n",
    "\n",
    "Note the abuse of notation; $\\theta$ stands for a fixed number, and in MLE people use it as an algebraic variable. Sometimes people introduce notation like $\\theta^*$ is the actual value of $\\theta$.... I'll try not to, and live in my discomfort with ambiguity.\n",
    "\n",
    "**Notation** The likelihood function is denoted ${\\cal L}_n(\\theta) $."
   ]
  },
  {
   "cell_type": "markdown",
   "id": "4651c8ff-59b9-49e7-a53b-81a83fe8d97e",
   "metadata": {},
   "source": [
    "**Characterization** The likelihood function is the joint density of the data treated as a function of the parameter $\\theta$.\n",
    "\n",
    "**Nature** \n",
    "Putting in a value of theta does not give a number, but rather a statistic $\\Omega^n \\to \\mathbb{R}$ where $\\Omega$ is the sample space. \n",
    "- Putting in any partcular value from $\\Omega^n$ gives a real valued function of $\\theta$. \n",
    "- Not putting in such a value still allows for calculating formal derivatives. Thus \"maximization\" through differentiation is possible. "
   ]
  },
  {
   "cell_type": "markdown",
   "id": "d6b810a5-8cb5-466a-84a3-b857aedcfaf4",
   "metadata": {},
   "source": [
    "**Definition** The **maximum likelihood estimator** (mle) of the parameter $\\theta$  is the value $\\hat{\\theta}^{\\text{MLE}}_n$ of $\\theta$ that (formally) \"maximizes\" ${\\cal L}_n(\\theta)$."
   ]
  },
  {
   "cell_type": "markdown",
   "id": "297dfa9c-45d9-472c-ae42-726a6e84e8ef",
   "metadata": {},
   "source": [
    "**Definition** The **log-likelyhood function** is $\\cal{l}_n = \\ln \\cal{L}_n$. "
   ]
  },
  {
   "cell_type": "markdown",
   "id": "cfa602b9-7d1d-4ad3-9301-55da75db04ad",
   "metadata": {},
   "source": [
    "---\n",
    "e.g. If $X_1, . . . , X_n ∼ \\text{Bernoulli}(p)$  then \n",
    "$$\n",
    "{\\cal L}_n(p) = \\prod\\limits_{i=1}^n p^{X_i}(1-p)^{1-X_i} = p^S(1-p)^{n-S}, \\\\\n",
    "\\text{ and }\\\\\n",
    "{\\cal l}_n(p) =S\\log{p} +(n-S)\\log(1-p)\\\\\n",
    "\\text{ where } S = \\sum\\limits_{i=1}^n X_i.\n",
    "$$\n",
    "Solving\n",
    "$$\n",
    "{\\cal l'}_n(p) = 0  \\Leftrightarrow p = S/n \n",
    "$$\n",
    "The solution is now obviously $ S/n$, which is a way of writing $\\bar{X}_n$,  and so we define\n",
    "$$\n",
    "\\hat{p}^{\\text{MLE}}_n  = \\bar{X}_n.\n",
    "$$\n",
    "---"
   ]
  },
  {
   "cell_type": "markdown",
   "id": "6f7b8072-96a6-42a6-a730-b3fea9d5827d",
   "metadata": {},
   "source": [
    "e.g. If $X=(X_1,...,X_c) \\sim \\text{Mult}(n,p)$ is the counts from each of $c$ categories where category $k$ has probability $p_k$ then the likelihood function is\n",
    "$$\n",
    "{\\cal L}(p) = \\prod\\limits_{k=1}^c (p_k)^{X_k}\n",
    "$$\n",
    "and the log likelyhood is \n",
    "$$\n",
    "l(p) = \\sum\\limits_{k=1}^c X_k\\ln p_k \\,.\n",
    "$$"
   ]
  },
  {
   "cell_type": "markdown",
   "id": "a9ba94e8-da40-4001-9251-813426f3376c",
   "metadata": {},
   "source": [
    "The MLE is the solution to the optimization with constraint\n",
    "$$\n",
    "\\underset{p| \\sum p_k=1}{\\text{argmax}} \\, l(p) \\, \n",
    "$$"
   ]
  },
  {
   "cell_type": "markdown",
   "id": "43e997bc-e8c4-48a6-bfa2-ff78ab5edcec",
   "metadata": {},
   "source": [
    "The lagrangian is \n",
    "\n",
    "$$\n",
    "L(p, \\lambda) = l(p) +\\lambda(\\sum_k p_k-1)\n",
    "$$\n",
    "\n",
    "with stationary conditions\n",
    "\n",
    "$$\n",
    "(\\forall k)\\,\\frac{x_k}{p_k}+\\lambda =0 \\\\\n",
    "\\sum_kp_k=1\n",
    "$$\n",
    "\n",
    "Rearranging the first line, summing over $k$, and inposing the second line gives\n",
    "\n",
    "$$\n",
    "\\sum X_k = -\\lambda \\iff \\lambda = -n \\, \n",
    "$$\n",
    "\n",
    "Therefore the MLE is \n",
    "\n",
    "$$\n",
    "\\hat{P}_l = \\frac{X_k}{n}\\,.\n",
    "$$\n",
    "\n",
    "----"
   ]
  },
  {
   "cell_type": "markdown",
   "id": "8c1c82bc-efd0-4824-bd7f-bacb45f8baed",
   "metadata": {},
   "source": [
    "\n"
   ]
  },
  {
   "cell_type": "markdown",
   "id": "aadb975f-89fd-42c1-8ae9-305d8bc569e2",
   "metadata": {},
   "source": [
    "**e.g.** Let $X\\sim f(x)$ where $F(x)= \\frac{x^3}{\\theta^3} I(x\\in[0,\\theta]) \\Rightarrow f(x) = \\frac{3x^2}{\\theta^3}I(x\\in[0,\\theta])$ and let $\\xi = F^{-1}(.5)$ be the median. "
   ]
  },
  {
   "cell_type": "markdown",
   "id": "a53a4262-ad75-4b36-8947-3d1ea3a343ad",
   "metadata": {},
   "source": [
    "The MLE $\\hat\\xi$ of $\\xi$ is the formal expression for function of the random sample $X_1,\\dots,X_n$ that maximizes "
   ]
  },
  {
   "cell_type": "markdown",
   "id": "22262517-2453-4438-9abe-d68db5aa5fe0",
   "metadata": {},
   "source": [
    "$$\n",
    "{\\cal {L}}(\\theta) = \\prod\\limits_{i=1}^n f(X_i)\\\\\n",
    "= \\frac{3^n}{\\theta^{3n}} \\prod\\limits_{i=1}^n X_i^2 I\\left(X_i\\in[0,\\theta]\\right).\n",
    "$$"
   ]
  },
  {
   "cell_type": "markdown",
   "id": "1887a13e-cd80-4a28-a145-f7794126c185",
   "metadata": {},
   "source": [
    "The smaller $\\theta$ is the larger this likelihood until $\\theta$ dips below one of the $X_i$, since this brings $\\cal L$ to zero. To try to make this concrete, think in terms of data $(x_1,\\dots,x_n)$. That is, we need to impose the constraint on $\\theta$ that \n",
    "$$0\\leq x_1,\\dots,x_n \\leq \\theta \\\\\n",
    "\\Leftrightarrow 0\\leq\\text{min}\\{x_1,...,x_n\\} \\wedge \\text{max} \\{x_1,...,x_n\\}\\leq \\theta.$$\n",
    "The smallest allowed value of $\\theta$ is $\\text{max} \\{x_1,...,x_n\\}$. Abstracting away from particular data, the job of random variables, the maximizer of the likelihood function is \n",
    "$$\n",
    "\\hat{\\theta}^{\\text{MLE}}_n  = \\text{max} \\{x_1,...,x_n\\}.\n",
    "$$\n",
    "\n",
    "This leads to an MLE of the median $\\xi$; since \n",
    "$$\n",
    "\\xi = F^{-1}(0.5) = \\frac{(.5)^3}{\\theta^3} = 2^{-1/3}\\theta^{-3}\n",
    "$$\n",
    "the MLE of $\\xi$ is \n",
    "$$\n",
    "\\hat{\\xi}^{\\text{MLE}} = 2^{-1/3}\\left(\\text{max} \\{x_1,...,x_n\\}\\right)^{-3}.\n",
    "$$"
   ]
  },
  {
   "cell_type": "markdown",
   "id": "9f1b0bc4-e922-4f0c-89ec-fd33850c5142",
   "metadata": {},
   "source": [
    "---"
   ]
  },
  {
   "cell_type": "markdown",
   "id": "f59bc292-2bfc-4ebb-9d46-fca1a8fb75d1",
   "metadata": {
    "tags": []
   },
   "source": [
    "MLEs have some amazing properties: \n",
    "1. Consistant: $\\hat{\\theta}_n \\stackrel{P}{\\to}\\theta \\text{ as } n\\to \\infty$\n",
    "2. equivariant: $g(\\hat{\\theta}^{\\text{MLE}}_n)$ is the mle of $g(\\theta)$;\n",
    "3. asymptotically Normal: $\\frac{\\hat{\\theta}^{\\text{MLE}}_n−\\theta}{\\hat{\\text{se}}\\left(\\hat{\\theta}_n^{\\text{MLE}}\\right)} \\sim N(0,1)$;\n",
    "4. asymptotically optimal: among all estimators, the mle has the smallest variance \n",
    "5. The mle is approximately the Bayes estimator. "
   ]
  },
  {
   "cell_type": "markdown",
   "id": "b1974500-3358-48ee-b223-969ed18d0c22",
   "metadata": {},
   "source": [
    "These thorems are nicely understood in terms of the following objects;\n",
    "\n",
    "**Definition:** The <u>score</u> function of the model ${\\cal F}=\\{f(\\cdot;\\theta) | \\theta \\in \\Theta\\}$ is \n",
    "$$s(\\theta) =  \\frac{\\partial}{\\partial \\theta} \\ln \\left(f(X,\\theta)\\right) \\,.$$"
   ]
  },
  {
   "cell_type": "markdown",
   "id": "ea5caee1-b6d1-4f08-a63a-b9ce837eb7f3",
   "metadata": {},
   "source": [
    "Note that the expectation of the score function is zero; \n",
    "$$\n",
    "\\begin{align*}\n",
    "\\mathbb{E}[s(\\theta)] \n",
    " &= \\int s(\\theta) dF(x;\\theta) \\\\\n",
    " &= \\int\\frac{\\frac{\\partial }{\\partial \\theta} f(x;\\theta)}{f(x;\\theta)} f(x;\\theta) dx \\\\\n",
    "    & = \\frac{\\partial }{\\partial \\theta} \\int dF(x;\\theta)\\\\ \n",
    "    & = \\frac{\\partial }{\\partial \\theta} 1 =0\n",
    "\\end{align*}\n",
    "$$"
   ]
  },
  {
   "cell_type": "markdown",
   "id": "a8abd584-d296-4d18-8b01-7950b60a1f92",
   "metadata": {},
   "source": [
    "Note that I would prefer that the score be defined as under a random sample\n",
    "$$\n",
    "s_n(\\theta) = \\frac{\\partial}{\\partial \\theta}  \\sum_{i=1}^n \\ln(f(X_i;\\theta))\n",
    "$$\n",
    "since this is just the derivative of the log likelyhood, and then one can think of the score as the rate of change of the log likelihood with respect to parameter, and the MLE is the value of the parameter at which the score is zero. <a href src=\"https://en.wikipedia.org/wiki/Fisher_information#Definition\">Wikipedia's</a> page on Fisher information does define the score this way. I resolve this with the subscript $n$ notation. \n",
    "\n",
    "Also notice that if $\\theta$ is a vector then the gradient with respect to that vector is the appropriate generalization.\n",
    "\n",
    "What of the second derivative?"
   ]
  },
  {
   "cell_type": "markdown",
   "id": "e70b6649-0314-47fe-8127-f9fb1e549c41",
   "metadata": {},
   "source": [
    "**Definition:** The <u>Fisher information</u> of the model ${\\cal F}$ under the random sample $X^n$ is the function\n",
    "$$\n",
    "{\\cal I}_n(\\theta) = \\mathbb{V}(s_n(\\theta)) \\, . \n",
    "$$\n",
    "\n",
    "\n"
   ]
  },
  {
   "cell_type": "markdown",
   "id": "30067b9d-a09f-4b8d-b2b6-c2e11bf8068e",
   "metadata": {},
   "source": [
    "How is this the second derivative? \n",
    "\n",
    "**Theorem:** \n",
    "${\\cal I}_n(\\theta) = - \\mathbb{E}[\\partial_\\theta s_n(\\theta)]$. \n",
    "\n",
    "**Proof:**\n",
    "$$\n",
    "\\begin{align*}\n",
    "\\mathbb{E}\\left( \\partial_\\theta^2 \\ln f \\right) \n",
    " & = \\mathbb{E}\\left( \\frac{f f'' - f'f'}{f^2}\\right)\\\\\n",
    " & =\\mathbb{E}\\left( \\frac{f''}{f} - \\frac{f'^2}{f^2} \\right)\\\\\n",
    " & =\\mathbb{E}\\left( \\frac{f''}{f}     \\right) \n",
    "  - \\mathbb{E} \\left(\\partial_\\theta s \\right)\\\\\n",
    " & =\\int \\frac{f''}{f} f dx \n",
    "  - \\mathbb{E} \\left(  s'^2 \\right)\\\\\n",
    " & = \\partial_\\theta^2 \\int  f dx\n",
    "   - \\mathbb{E} \\left( s'^2 \\right)\\\\\n",
    " & =  - \\mathbb{E} \\left( s'^2 \\right)\\\\\n",
    "\\end{align*}\n",
    "$$"
   ]
  },
  {
   "cell_type": "markdown",
   "id": "668c0073-ec3f-4733-9df3-7576f3f14b9c",
   "metadata": {},
   "source": [
    "So, the Fisher informatino matrix is alternatively\n",
    "- The variance of the score, where the score is therate of change of the log likelyhood with respect to parameter(s).\n",
    "- The negative Hessian of the log likelyhood, thus giving the concavity of the log likelyhood.\n",
    "\n",
    "There is also an information theoretic interpretation that I do not know yet. "
   ]
  },
  {
   "cell_type": "markdown",
   "id": "4db75518-80b8-47b8-83f1-b876ed750755",
   "metadata": {},
   "source": [
    "## Cramer-Rao Lower bound on variance of estimators"
   ]
  },
  {
   "cell_type": "markdown",
   "id": "8020111f-33e8-4ce8-b4bb-63bd7b481984",
   "metadata": {},
   "source": [
    "**Theorem:** (Cramer-Rao Lower Bound) \n",
    "Let $T(X_1,\\dots,X_n)$ be an an estimator of $\\theta$ such that differentiation and integration of the joint distribution $f_\\theta(x_1,\\dots x_n)$  with respect to $\\theta$ are defined. The varience of $T$ is bounded in terms of the  score function $S=\\frac{d}{d\\theta} \\log f_\\theta $ as\n",
    "$$\n",
    "\\mathbb{V}[T] \\geq \n",
    "\\frac{ \n",
    "\\left(  \\frac{d}{d\\theta} \\mathbb{E}[T] \\right)^2\n",
    "}\n",
    "{\\mathbb{E}[S^2]}.\n",
    "$$\n",
    "\n",
    "\n",
    "\n"
   ]
  },
  {
   "cell_type": "markdown",
   "id": "e3d4258f-87d2-4c65-8518-818a835a3863",
   "metadata": {},
   "source": [
    "**Proof:**\n",
    "Note that the expectation value of the score function is zero; letting $x^n$ denote $(x_1,\\dots,x_n)$ we have\n",
    "$$\n",
    "\\mathbb{E}[S] \n",
    "= \\int \\left( \\frac{d}{d\\theta} \\log \\left(f_\\theta(x^n)\\right) \\right) dF_\\theta(x^n)\n",
    "= \\int  \\left(\\frac{d}{d\\theta} \n",
    "f_\\theta(x^n) \\right)\n",
    " \\frac{1}{ f_\\theta(x) }  f_\\theta(x^n) dx^n\n",
    " =\\frac{d}{d\\theta} 1 = 0 \n",
    "$$"
   ]
  },
  {
   "cell_type": "markdown",
   "id": "55aee660-0550-4b3d-b34c-ddf7748cf7fa",
   "metadata": {},
   "source": [
    "Let $\\langle \\cdot,\\cdot \\rangle = \\int \\cdot \\cdot dF_\\theta(x^n)$ denote note the expectation of the product of two random variables over $f_\\theta$. Them by the Cauchy-Schwartz inequality \n",
    "$$\n",
    "\\langle T-\\bar T , S -\\bar S \\rangle^2 \\leq \n",
    "\\langle T-\\bar T, T-\\bar T \\rangle \\langle S - \\bar S  , S - \\bar S \\rangle\\\\\n",
    "\\Leftrightarrow (\\text{Cov}[T,S])^2 \\leq \\mathbb{V}[T] \\mathbb{V}[S]\\\\\n",
    "\\Leftrightarrow \\mathbb{V}[T] \\geq \\frac { \\left(\\text{Cov}[T,S]\\right)^2}{\\mathbb{V}[S]}.\n",
    "$$"
   ]
  },
  {
   "cell_type": "markdown",
   "id": "7048591e-28bd-4634-be81-ede70d7dfea6",
   "metadata": {},
   "source": [
    "The numerator is the square of\n",
    "$$\n",
    "\\text{Cov}[T,S] = \\mathbb{E}[(T-\\bar T)(S-\\bar S)] \n",
    "=\\mathbb{E}[(TS-\\bar T S] \n",
    "=\\mathbb{E}[(TS] \n",
    "= \\int T S dF_\\theta(x^n)\\\\\n",
    "=\\int T \\left(  \n",
    "\\frac{ \n",
    "\\frac{d}{d\\theta} f_\\theta}{f_\\theta}\n",
    "\\right) f_\\theta dx^n\n",
    "=\\frac{d}{d\\theta}\\mathbb{E}[T].\n",
    "$$\n",
    "The denominator \n",
    "$$\\mathbb{V}[S] = \\mathbb{E}[S^2] - \n",
    "(\\bar S)^2= \\mathbb{E}[S^2]. \\square\n",
    "$$"
   ]
  },
  {
   "cell_type": "markdown",
   "id": "406b0b1a-2d99-409d-849c-d25c34e06d84",
   "metadata": {},
   "source": [
    "## 9.13.3 Exponential Families\n",
    "Fix functions \n",
    "- $h:\\mathbb{R} \\to \\mathbb{R}$ \n",
    "- $T:\\mathbb{R} \\to \\mathbb{R}$ \n",
    "- $\\eta:\\mathbb{R}^n \\to \\mathbb{R}$   \n",
    "- $B:\\mathbb{R}^n \\to \\mathbb{R}$ \n",
    "\n",
    "and you have a paramterized model \n",
    "$\\mathfrak{F} = \\left\\{ f(x;\\theta) = h(x)e^{\\eta(\\theta)T(x)−B(\\theta)} | \\theta \\in \\Theta\\right\\}$ \n",
    "with parameter space $\\Theta \\subseteq \\mathbb{R}^n$ \n"
   ]
  },
  {
   "cell_type": "markdown",
   "id": "71702568-3386-46ca-b53f-ccad78cbfabc",
   "metadata": {
    "tags": []
   },
   "source": [
    "### e.g.s \n",
    "1. For fixed $n$ the Binomial  distributions \n",
    "$\\left(\\begin{array}{c} n\\\\x \\end{array}\\right) \n",
    "\\theta^x(1−\\theta)^{n−x}  \n",
    "= \\left(\\begin{array}{c} n\\\\x \\end{array}\\right) \n",
    " \\exp\\left\\{ x\\log\\left(\\frac{\\theta}{1-\\theta } \\right) +n\\log(1−\\theta)\\right\\}$\n",
    " has \n",
    " - $h(x) = \\left(\\begin{array}{c} n\\\\x \\end{array}\\right)$ \n",
    "- $T(x)=x$ \n",
    "- $\\eta(\\theta)= \\log\\left(\\frac{\\theta}{1-\\theta } \\right)$   \n",
    "- $B(\\theta) = - n\\log(1−\\theta)$ \n"
   ]
  },
  {
   "cell_type": "markdown",
   "id": "0fb96ab3-2b3d-4feb-929b-6dcbe4986913",
   "metadata": {
    "tags": []
   },
   "source": [
    "2. Poisson distributions \n",
    "$f(x;\\theta)= \\frac{\\theta^x e^{-\\theta}}{x!} = \\frac1{x!}e^{x\\log(\\theta)- \\theta}$\n",
    " has \n",
    " - $h(x) = \\frac1{x!}$ \n",
    "- $T(x)=x$ \n",
    "- $\\eta(\\theta)= \\log(\\theta)  $   \n",
    "- $B(\\theta) =\\theta $ \n"
   ]
  },
  {
   "cell_type": "markdown",
   "id": "c8b7b7f6-163e-4a4e-b1fb-d63521e9bc49",
   "metadata": {
    "tags": []
   },
   "source": [
    "An exponential family can be re-written as \n",
    "$$f (x; \\eta) = h(x)e^{\\eta T(x)−A(\\eta)}$$ \n",
    "with \n",
    "$$A(\\eta) =  \\log \\int h(x)e^{ \\eta T(x)} dx$$ \n",
    "where $A$ is pretty slick.\n",
    "\n",
    "( I can t follow how that integral in that exponential does what is described.)"
   ]
  },
  {
   "cell_type": "markdown",
   "id": "0f938075-1a8b-4659-8933-5c3d8303a5c4",
   "metadata": {},
   "source": [
    "**Theorem** Let $X$ have density in an exponential family. Then, \n",
    "$\\mathbb{E}(T (X)) = A'(\\eta)$, and  $\\mathbb{V}( T(X)) = A''(\\eta)$.\n"
   ]
  },
  {
   "cell_type": "markdown",
   "id": "ea203042-2979-42ea-af75-b1736113f5dc",
   "metadata": {},
   "source": [
    "**Definition** $\\eta = \\eta(\\theta)$ is called the **natural parameter** of the model. "
   ]
  },
  {
   "cell_type": "markdown",
   "id": "328bd974-1dd8-4996-93ba-13fe040af2fb",
   "metadata": {},
   "source": [
    "**Definition** A statistic is a **sufficient statistic** of a sample with respect to a statistical model and its associated unknown parameter if no other statistic that can be calculated from the same sample provides any additional information as to the value of the parameter. \n",
    "\n",
    "**Definition** The statistic $T_n(X^n):=\\sum_{i=1}^n T(X_i)$ where $T$ is from an exponential family is called the **natural sufficient statistic** of the model. \n"
   ]
  },
  {
   "cell_type": "markdown",
   "id": "42f50798-db9a-44bf-8135-dade703c3046",
   "metadata": {},
   "source": [
    "---\n",
    "I was unable to wrap my head around what a sufficient statistic is from Wasserman alone, so I asked ChatGPT. It says an alternative definition is as follows. \n",
    "\n",
    "**Definition:** A statistic $T_n(X^n)$ is a <u>sufficient statistic</u> for the parameter $\\theta$ of the model ${\\cal F}= \\{ f_\\theta | \\theta \\in \\Theta\\}$ if $f_\\theta(X^n | T(X^n)=t)$ is independent of $\\theta$.\n",
    "\n",
    "For an arbitrary exponential model, the joint distribution\n",
    "\n",
    "$$\n",
    "\\begin{align}\n",
    "f_\\theta(x^n | T(X^n)=t) \n",
    "&= \\frac1{\\cal N}\\prod_i h(x_i) \\exp\\left( \\eta(\\theta) \\sum_i T(X_i) -nB(\\theta)  \\right) \\\\ \n",
    "&= \\frac1{\\cal N}\\prod_i h(x_i) \\exp\\left( \\eta(\\theta) \\sum_i t -nB(\\theta)  \\right) \\\\ \n",
    "&= \\frac{\n",
    "            \\prod_i h(x_i) \\exp \\left( \n",
    "                \\eta(\\theta) \\sum_i t -nB(\\theta)  \n",
    "                \\right) \n",
    "        }\n",
    "        {\n",
    "        \\int \\prod_i h(x^n) \\exp\\left( \\eta(\\theta) \\sum_i t -nB(\\theta)  \\right) dx^n\n",
    "        }\\\\ \n",
    "&=\\prod_i h(x_i) \n",
    "\\end{align}\n",
    "$$ \n",
    "where ${\\cal N}$ stands for a normalization factor. \n",
    "\n",
    "----"
   ]
  },
  {
   "cell_type": "markdown",
   "id": "8094c520-b8ae-42a9-b9f7-d47f6950ec12",
   "metadata": {},
   "source": [
    "**Theorem** (Fisher's factorization theorem) The statistic $T$ of samples $x$ of $ X \\sim f_\\theta(x)$ is sufficient for the parameter $\\theta$ if and only if \n",
    "$  f_{\\theta }(x)=h(x) g_{\\theta }(T(x))$ \n",
    "for some nonnegative functions $g$ and $h$. \n",
    "   \n",
    "**Interpretation** No additional information can be obtained about $f$ beyond the information from $T(x)$ if $f$ be factored into a product such that one factor, $h$, does not depend on $\\theta$ and the other factor, which does depend on  $\\theta$, depends on $x$ only through $T(x)$."
   ]
  },
  {
   "cell_type": "markdown",
   "id": "c8bc87a6-ee01-44c3-848e-25ad7d796bde",
   "metadata": {},
   "source": [
    "**e.g.** The Poisson distributions have $T(x)=x$, as seen above, and factorization of the PDF $f (x; \\eta) = \\frac{\\theta^x e^{-\\theta}}{x!}= \\frac{1}{x!} e^{\\eta x−e^\\eta } =h(x)g_\\theta(T(x)) $ with $\\eta = \\log (\\theta)$. "
   ]
  },
  {
   "cell_type": "markdown",
   "id": "01ff6c55-f905-4b0a-85e9-ac99df25f2b8",
   "metadata": {},
   "source": [
    "**e.g.** This sufficient statistic formulation of exponential families makes it easy to see that the product of two distributiions from the same family is a distribution from another family. Let $X_1,...,X_n$ be iid from an exponential family and $x^n = (x_1,\\dots,x_n)$. Then $f(x^n;\\theta)$ is an exponential family:\n",
    "$$\n",
    "f(x^n; \\theta) = h_n(x^n)e^{\\eta(\\theta)T_n(x^n)−B_n(\\theta)}\n",
    "$$ \n",
    "where \n",
    "$$\n",
    "h_n(x^n) = \\prod_i h(x_i),~\\\\\n",
    "T_n(x^n) = \\sum_i T(x_i) \\text{, and }\\\\\n",
    "B_n(\\theta) = nB(\\theta).\n",
    "$$"
   ]
  },
  {
   "cell_type": "markdown",
   "id": "9bfa4f0e-0154-4a88-a14e-2723dd66029d",
   "metadata": {},
   "source": [
    "#### Mutivariable exponential families\n",
    "\n",
    "If $\\theta = (\\theta_1,...,\\theta_k)$ is a vector, then we say that $f(x;\\theta)$ has exponential family form if \n",
    "$$ f(x;\\theta) = h(x)\\exp\\left\\{ \n",
    "\\sum\\limits_{j=1}^k \\eta_j(\\theta) T_j(x) - B(\\theta).\n",
    "\\right\\}$$\n",
    "\n",
    "Again, $T = (T_1,...,T_k)$ is sufficient for $\\theta$. An iid sample of size n also has exponential form with sufficient statistic \n",
    "$\\left( \\sum\\limits_{i=1}^n T_1(X_i),..., \\sum\\limits_{i=1}^n T_k(X_i)\\right)$."
   ]
  },
  {
   "cell_type": "markdown",
   "id": "afb85774-2427-454c-8b48-aa71624b4bd5",
   "metadata": {},
   "source": [
    "e.g. The normal family \n",
    "$$\n",
    "\\frac{1}{\\sqrt{2\\pi } \\sigma} \\exp\\left\\{ \\frac{-(x-\\mu)^2}{ 2\\sigma^2} \\right\\}\\\\\n",
    "=\\exp\\left\\{ \\frac{-(x-\\mu)^2}{ 2\\sigma^2} - \\frac12 \\log( 2\\pi \\sigma^2)  \\right\\}\\\\\n",
    "=\\exp\\left\\{ \\frac{\\mu}{\\sigma^2} x -\\frac1{2\\sigma^2} x^2 -\\frac{\\mu^2}{2\\sigma^2} - \\frac12 \\log( 2\\pi \\sigma^2)  \\right\\}\\\\\n",
    "$$"
   ]
  },
  {
   "cell_type": "markdown",
   "id": "f54ba444-b178-4b31-9447-2e25249108d0",
   "metadata": {},
   "source": [
    "has \n",
    "$$\\eta_1 = \\frac{\\mu}{\\sigma^2},~T_1(x) =x\\\\\n",
    "\\eta_2 =- \\frac{1}{2\\sigma^2},~T_2(x) = x^2\\\\\n",
    "B(\\theta) = -\\frac{\\mu^2}{2\\sigma^2} -\\frac12 \\log (2\\pi\\sigma^2),~ h(x)=1 \n",
    "$$\n",
    "so that with n iid samples, $\\left(\\sum\\limits_{i=1}^n X_i,\\sum\\limits_{i=1}^n X_i^2\\right)$ is sufficient.\n"
   ]
  },
  {
   "cell_type": "markdown",
   "id": "ae265e33-b0f4-4783-a3c5-3b4bcdd858f7",
   "metadata": {},
   "source": [
    "---\n",
    "\n",
    "This was not enough to convince me that exponential families are awesome. So I asked ChatGPT and got the following \n",
    "\n",
    "#### Sufficiency of Statistic \n",
    "\n",
    "$T$ is a sufficient statistic.\n",
    "\n",
    "#### Conjugate priors\n",
    "\n",
    "In Bayesian statistics, if the prior is from ${\\cal F}$ then the posterior if from ${\\cal F}$. \n",
    "\n",
    "#### Closure under sampling\n",
    "\n",
    "$T(X)$ is from the same exponential family as $\\sum_i T(X_i)$.\n",
    "\n",
    "\n",
    "\n",
    "---"
   ]
  },
  {
   "cell_type": "markdown",
   "id": "76764ce6-6b46-4bca-8f88-dc4cb6bcc237",
   "metadata": {},
   "source": [
    "### Expectation-Maximization Algorithm (EM) \n",
    "\n",
    "Suppose we have data $Y$ whose density $f(y;\\theta)$ leads to a log-likelihood that is\n",
    "hard to maximize. But suppose we can find another \"hidden\" random variable $Z$ such that $f(y;\\theta) =\\int f(y,z;\\theta) dz$ is easy to maximize.\n",
    "\n",
    "We then set up a sequence of approximations $\\theta^i$  of $\\theta$ using the function \n",
    "$$\n",
    "J(\\theta|\\theta^j) \n",
    "= \\mathbb{E}_{\\theta^j} \\left(  \\log \\left( \n",
    "\\frac{f(Y^n,Z^n;\\theta   )}\n",
    "     {f(Y^n,Z^n;\\theta^j)} \\right) \\,\n",
    "     \\vert~ Y^n = y^n \\right)\n",
    "$$ \n",
    "where the expectation is over \n",
    "$Z^n$ (so $\\theta$ and $X$ are treated as constant by $\\mathbb{E}_{\\theta^j}$.)"
   ]
  },
  {
   "cell_type": "markdown",
   "id": "d0d5e5e3-7739-4562-a066-e66ce89496a7",
   "metadata": {},
   "source": [
    "with the following algorithm\n",
    "\n",
    "0. Pick a starting value $\\theta_0$. Now for j = 1,2,..., repeat steps 1 and 2 below:\n",
    "1. Calculate $J(\\theta|\\theta^j)$ \n",
    "2. Find $\\theta_j+1$ to maximize $J(\\theta| \\theta_j)$. \n"
   ]
  },
  {
   "cell_type": "markdown",
   "id": "a298fdf8-00e4-482f-b223-f205fae56d16",
   "metadata": {},
   "source": [
    "Note: I learned later that $J$ as defined above is the negative of the evidence lower bound, and the EM tries to maximize the evidence lower bound. "
   ]
  },
  {
   "cell_type": "markdown",
   "id": "c7da1f99-3faa-475c-9794-1f58f676c462",
   "metadata": {},
   "source": [
    "# Ch10 Hypothesis testing and p-values \n",
    "Suppose that we partition the parameter space $\\Theta \\subseteq \\mathbb{R}^k$ into two disjoint sets $\\Theta_0$ and $\\Theta_1$ and that we wish to test\n",
    "$$H_0 :\\theta \\in \\Theta_0 \\text{ null hypothesis },\\\\ \n",
    "  H_1 :\\theta \\in \\Theta_1 \\text{ the alternative  }.\n",
    "$$\n",
    "For notational clarity, let $\\theta^*$ be the true value of $\\theta$."
   ]
  },
  {
   "cell_type": "markdown",
   "id": "f7c08379-3fbc-439a-b418-6fb6e80bdfd4",
   "metadata": {},
   "source": [
    "**Definition** If we reject a hypothesis by the criteria of the form \n",
    "$X^n\\in R$ for some $R \\subset \\text{Range}(X^n)$, then we call $R$ the **rejection region**.\n",
    "\n",
    "**Note:** Typically a rejection region is specified by use of a statistic $T(X^n)$. A possible form is $R = \\{ x^n  \\,:\\,  T(x^n)> c\\}$ for some $c$.\n",
    "\n",
    "**e.g.** Let $X_1,\\dots,X_n \\sim N(\\theta,1)$ and consider testing $H_0: \\theta = 0$ with the rejection region \n",
    "$R = \\{x^n \\,:\\, |\\bar{x}_n| >c\\}$. That is, we will reject the hypothesis that the mean of the distribution is zero if the observed mean is larger than some value $c$. "
   ]
  },
  {
   "cell_type": "markdown",
   "id": "c00a73d7-7fab-435e-9789-ef1b67050c51",
   "metadata": {},
   "source": [
    "How can we construct rejection regions that give us confidence we correctly reject a  a hypothesis?"
   ]
  },
  {
   "cell_type": "markdown",
   "id": "856fd0f9-ffec-421b-9a52-8853d67664cf",
   "metadata": {},
   "source": [
    "**Definition**: If $\\theta^* \\in \\Theta_0$ but one rejects $H_0$ then one makes a **type 1 error**. \n",
    "\n",
    "**Definition**: If $\\theta^* \\in \\Theta_0^C$ but one doesn't reject $H_0$ then one makes a **type 2 error**. \n",
    "\n",
    "We want to construct experiments that  minimize the probability of type 1 and type 2 errors. Part of that is constructing rejection regions with a clear relationship between those error types. "
   ]
  },
  {
   "cell_type": "markdown",
   "id": "e5f84070-27ca-45d2-a2a3-cdd64dccdf11",
   "metadata": {},
   "source": [
    "---\n",
    "## Power Function\n",
    "Warning: the definitions of power, size, and level vary between sources. This is my best attempt to keep Wasserman's notations. \n",
    "\n",
    "**Definition** The **power function** of a test with rejection region $R$ is the function $\\beta: \\Theta \\to [0,1]$ such that \n",
    "$\\beta(\\theta) = \\mathbb{P}_\\theta (X^n \\in R)$. \n",
    "\n",
    "**Interpretation:** The power function is the probability of rejecting $H_0$ given that (a) the rejection region is $R$ and that (b) the distribution $F_\\theta$ from the model ${\\cal F} = \\{F_\\theta : \\theta \\in \\Theta \\}$ is used to calculate probability. \n",
    "\n",
    "The power function has different interpretations in different subsets of the model parameter space $\\Theta$;\n",
    "- $\\beta|_{\\Theta_0} (\\theta)$ is the probability of a type 1 error, \n",
    "    - the probability of rejection when $\\theta$  is actually in the null hypothesis set, \n",
    "- $\\beta|_{\\Theta_0^C}(\\theta)$ is the probability of correctly rejecting $H_0$. \n",
    "    - the probability of rejection when $\\theta$ is actually not in the null hypothesis set. \n",
    "    - thus $1-\\beta|_{\\Theta_0^C} (\\theta)$ is the probability of a type 2 error."
   ]
  },
  {
   "cell_type": "markdown",
   "id": "985b7552-f729-4a37-ac88-3f8d95a7fa3f",
   "metadata": {},
   "source": [
    "\n",
    "A good test is designed so that both type 1 and type 2 errors are low proabbility;\n",
    "$$\n",
    "\\beta(\\theta) \\approx \\left\\{  \\begin{array}{c}\n",
    "1 \\text{ if } \\theta \\in \\Theta_0^c \\\\ \n",
    "0 \\text{ if } \\theta \\in \\Theta_0  \n",
    "\\end{array} \\right.$$\n",
    "A nice example \n",
    "- $\\Theta_0 = [0,4]$\n",
    "- $\\Theta_0 \\cup \\Theta_0^c = [0,10]$\n",
    "- $\\beta:[0,10]\\to [0,1]$ with $\\beta(\\theta)=\\sigma(\\theta-5)$ "
   ]
  },
  {
   "cell_type": "code",
   "execution_count": 160,
   "id": "976fe393-3dc6-4f92-b0a8-083853dbd6e9",
   "metadata": {
    "tags": []
   },
   "outputs": [
    {
     "data": {
      "image/png": "[encoded data removed]",
      "text/plain": [
       "<Figure size 432x288 with 1 Axes>"
      ]
     },
     "metadata": {
      "needs_background": "light"
     },
     "output_type": "display_data"
    }
   ],
   "source": [
    "import numpy as np\n",
    "import matplotlib.pyplot as plt \n",
    "\n",
    "fig, ax = plt.subplots()\n",
    "thetas, beta = np.linspace(0,10,100),  lambda x : 1/(1+np.exp(-xs+5 ))\n",
    "plt.plot(thetas,beta(thetas))\n",
    "plt.axvline(4, color = 'black')# boundary b/w Theta_0 and Theta_0^c. \n",
    "plt.axhline(.26, color = 'black') # Size of test, defined below. \n",
    "plt.hlines(y=[.3,.32,.34], xmin=0, xmax = 10, color = 'salmon') # Levels\n",
    "\n",
    "plt.xticks([])\n",
    "plt.yticks(ticks=[0,.26,.3,1], labels =['0','size', 'levels','1'] )\n",
    "my_colors = ['black', 'black', 'r','black']\n",
    "for ticklabel, tickcolor in zip(plt.gca().get_yticklabels(), my_colors):\n",
    "    ticklabel.set_color(tickcolor)\n",
    "plt.title('Example Power Function β(θ)')\n",
    "plt.xlabel(u'Model Parameter \\u03B8',{'size':15},labelpad=35)\n",
    "plt.text(x=1, y=.1, s='P(type I)', color='C0') # what color is the curve?\n",
    "plt.text(x=5, y=.9, s='1-P(type II)',color='C0')\n",
    "\n",
    "ax.annotate('\\u0398\\u2080', xy=(0.2, -0.03), xytext=(0.2, -0.15),\n",
    "            fontsize=14, ha='center', va='bottom', xycoords='axes fraction', \n",
    "            # bbox=dict(boxstyle='square', fc='0.8'),\n",
    "            arrowprops=dict(arrowstyle='-[, widthB=4.9, lengthB=.4', lw=1.0))\n",
    "\n",
    "ax.annotate('\\u0398\\u2080ᶜ', xy=(0.7, -0.03), xytext=(0.7, -0.15),\n",
    "            fontsize=14, ha='center', va='bottom', xycoords='axes fraction', \n",
    "            # bbox=dict(boxstyle='square', fc='0.8'),\n",
    "            arrowprops=dict(arrowstyle='-[, widthB=7.0, lengthB=.6', lw=1.0));"
   ]
  },
  {
   "cell_type": "markdown",
   "id": "3e95468e-5c20-4c17-9ee7-a465a8dce869",
   "metadata": {},
   "source": [
    "The greatest danger, in terms of type I errors, is comes when the probability of type I error is the highest. The value of the power there is noteworthy. "
   ]
  },
  {
   "cell_type": "markdown",
   "id": "68fbb468-d2d9-49c1-9221-097d74902469",
   "metadata": {},
   "source": [
    "## Size and Level\n",
    "**Definition** The **size** of a test is defined to be\n",
    "$\\sup\\limits_{\\theta \\in \\Theta_0} \\beta(\\theta)$. \n",
    "\n",
    "- The max probability of type 1 error is the size. \n",
    "    - People like size $5\\%$. \n",
    "    - People can tollerate probabilities of type 1 error smaller than the size. \n",
    "- The minimum probability of the test correctly keeping $H_0$ is $1-\\text{Size}$. \n",
    "    - people like $95\\%$\n",
    "    - people can tollerate higher than $95\\%$"
   ]
  },
  {
   "cell_type": "markdown",
   "id": "72b71993-71dd-4b45-8417-0fa33b5bb0dd",
   "metadata": {},
   "source": [
    "**Definition** A test is said to have (significance) **level** $\\alpha$ if $\\alpha \\geq \\sup\\limits_{\\theta \\in \\Theta_0} \\beta(\\theta)$ (i.e. $\\alpha$ is greater than the size).\n",
    "\n"
   ]
  },
  {
   "cell_type": "markdown",
   "id": "709d45bb-bb93-403a-988d-660f42032fd2",
   "metadata": {},
   "source": [
    "Petz says that the standard way of doing things is to \n",
    "1. put a bound on error of the first kind (namely, level bounds size)\n",
    "2. crank up $n$ until error of the second kind is tolerably low. "
   ]
  },
  {
   "cell_type": "markdown",
   "id": "009bbbf6-1c5e-43f3-8977-8b9bf96ad64f",
   "metadata": {},
   "source": [
    "\n",
    "<details>\n",
    "<summary>Drop down to see: This language does not match up with Kossis</summary>\n",
    "<li> \n",
    "Koosis says: (This seems inconsistant with Wasserman and Casella)\n",
    "\n",
    "The probability of a Type I error is typically known as $\\alpha$, \n",
    "\n",
    "while the probability of a Type II error is typically known as Beta, \n",
    "\n",
    "and power $1-\\beta$ is the probability of falsifying the null hypothesis when it is indeed false.\n",
    "\n",
    "Trying to bumper sticker it\n",
    "\n",
    "- Alpha is chance you look right when you are wrong. \n",
    "- Beta is chance you look wrong when you are right. \n",
    "- Power is chance you look right when you are right. \n",
    "-----\n",
    "</details>\n"
   ]
  },
  {
   "cell_type": "markdown",
   "id": "1441d5e4-418e-4238-919c-7fa0d8b62c30",
   "metadata": {},
   "source": [
    "---\n",
    "Review before moving on: \n",
    "- Notation: $z_\\alpha = \\Phi^{−1}(1 − α)$ where $\\Phi$ is the CDF of $N(0,1)$.\n",
    "- the standard deviation with unknwm mean of $\\hat\\theta_n$ is called **standard error**. "
   ]
  },
  {
   "cell_type": "markdown",
   "id": "099a8cc5-fea8-4b1d-9388-014ad6253c5c",
   "metadata": {},
   "source": [
    "<details>\n",
    "<summary>\n",
    "e.g. Let $X_1,\\dots,X_n \\sim N(\\theta,1)$ and $H_0: \\theta = 0$ with \n",
    "$R = \\{x^n | \\bar{x}_n >c\\}$.\n",
    "</summary>\n",
    "<li> \n",
    "  Say you have a size $\\alpha=5\\%$, that you want or need to use. In designing the experiment, you need to make a decision about how large $n$ should be. \n",
    "\n",
    "To make the test have size \n",
    "$\\alpha:=\\sup\\limits_{\\theta \\in \\Theta_0}\\beta(\\theta)$, \n",
    "which in this $\\Theta_0 = \\{0\\} $ case is $\\alpha = \\beta(0) =\\mathbb{P}_{\\theta = 0}(\\bar{X}_n >c ) $, \n",
    "\n",
    "use $c$ such that \n",
    "$$\n",
    "\\alpha = \\mathbb{P}_{\\theta =0} (\\bar{X}_n>c) \\\\\n",
    "\\Leftrightarrow \n",
    "\\alpha = \\mathbb{P}_{\\theta =0} \\left(\\sqrt{n}\\frac{\\bar{X}_n-0}{1}>c \\sqrt{n}\\right) \\\\\n",
    "\\Leftrightarrow \\alpha = \\mathbb{P}_{\\theta =0} \\left(Z>c \\sqrt{n}\\right) $$\n",
    "$$\n",
    "\\Leftrightarrow \\alpha = 1-\\Phi\\left(c\\sqrt{n}\\right) \\\\\n",
    "\\Leftrightarrow \\Phi\\left( c\\sqrt{n} \\right) = 1-\\alpha  \\\\\n",
    "\\Leftrightarrow  c\\sqrt{n}  = z_\\alpha  \\\\\n",
    "\\Leftrightarrow  c  = \\frac{z_\\alpha }{\\sqrt{n}}.\n",
    "$$\n",
    "Thus, when you use a larger value of $n$ you can use a smaller value of $c$.  \n",
    "\n",
    "Interpretation: Since the variance of the sample distribution $\\bar{X}_n$ in terms of the population variance $\\sigma=1$ is $\\sigma/\\sqrt{n}=1/\\sqrt{n}$, the number $Z_\\alpha/\\sqrt{n}$ is the number of standard deviations out in the sampling distribution required to get to $F_{\\bar{X}_n}\\left(Z_\\alpha/\\sqrt{n}\\right) >1-\\alpha$.\n",
    "<\\details>"
   ]
  },
  {
   "cell_type": "markdown",
   "id": "04c6f5fa-bc6d-45d8-9ff1-1fef5d754c27",
   "metadata": {},
   "source": [
    "This chapter considers 4 tests\n",
    "1. Wald\n",
    "2. $\\chi^2$\n",
    "3. permutation\n",
    "4. likelihood ratio "
   ]
  },
  {
   "cell_type": "raw",
   "id": "796268a3-09d0-4dda-8027-9bae11953d7e",
   "metadata": {},
   "source": []
  },
  {
   "cell_type": "markdown",
   "id": "b6fbae00-d492-44f4-90e1-2f01106b4d43",
   "metadata": {},
   "source": [
    "## Wald test\n",
    "\n",
    "In testing \n",
    "$$\n",
    "H_0 :\\theta=\\theta_0\\\\ \n",
    "\\text{ versus  }\\\\ \n",
    "H_1 :\\theta \\neq \\theta_0,\n",
    "$$\n",
    "let $\\hat \\theta_n$ be an estimate of $\\theta$ and let $\\text{se}_n$ be the standard error (with unknown mean) of $\\hat \\theta_n$. \n",
    "- assume $\\frac{\\hat \\theta - \\theta_0}{\\text{se}} \\stackrel{Dist}{\\to} N(0,1)$ (i.e. $\\hat \\theta$ is asymptotically normal) and \n",
    "    - of course, you do not have to know $\\theta^*$ to make this assumption.\n",
    "- rejejct $H_0$ if $\\lvert \\frac{\\hat \\theta - \\theta_0}{\\text{se}}\\rvert> z_{\\alpha/2}$ for your choice of $\\alpha$."
   ]
  },
  {
   "cell_type": "markdown",
   "id": "8a9cccef-7f7c-42a5-b1fa-be4373f2e601",
   "metadata": {},
   "source": [
    "The following tells you how to use the test.\n",
    "\n",
    "**Theorem**. The size $\\alpha$ Wald test rejects $H_0$ if and only if $\\theta_0 \\notin C$ where\n",
    "$C=(\\hat  \\theta  −\\text {se}z_{α/2}, \\hat \\theta   + \\text{se}z_{α/2})$.\n",
    "\n",
    "Thus, testing the hypothesis is equivalent to checking whether the null value of the parameter is in the confidence interval.\n",
    "\n",
    "Additional theory:"
   ]
  },
  {
   "cell_type": "markdown",
   "id": "ed29f722-2224-4442-b113-084937256198",
   "metadata": {},
   "source": [
    "**Theorem**. Asymptotically, the Wald test has size $α$, that is, \n",
    "$P_{ \\theta  _0} \\left( \\left|\\frac{\\hat{\\theta}_n - \\theta_0}{\\text{se}} \\right| >z_{α/2} \\right) \\to \\alpha$ as $n \\to\\infty$. "
   ]
  },
  {
   "cell_type": "markdown",
   "id": "0d5d8fcd-0d53-40be-950f-47992eab4ca0",
   "metadata": {},
   "source": [
    "**Interpretation** With large samples, one can be confident that the Wald test has a desired probability of false positives. "
   ]
  },
  {
   "cell_type": "markdown",
   "id": "699a462c-6c44-48c8-a2f7-9999988fe6d4",
   "metadata": {},
   "source": [
    "**Theorem** Suppose the true value of $\\theta$ is $\\theta_⋆  \\neq \\theta_0$.The probability of correctly rejecting the null hypothesis with the Wald test is given (approximately) by \n",
    "$$\n",
    "β( \\theta  _⋆) \\approx 1-\\Phi \\left( \\frac{\\hat \\theta - \\theta_0}{\\text{se}}+ z_{\\alpha/2}\\right)\n",
    "-\\Phi \\left(\\frac{\\hat \\theta - \\theta_0}{\\text{se}}- z_{\\alpha/2}  \\right)\n",
    "$$\n",
    "\n",
    "Again, that is theory and you do not need to know $\\theta^*$ in the use of the wald test; to use the wald test all you need is the first theorem above. "
   ]
  },
  {
   "cell_type": "markdown",
   "id": "d82cc4ec-0598-406d-b144-34477dc419e3",
   "metadata": {},
   "source": [
    "### Test of equal means\n",
    "\n",
    "Let \n",
    "- $X$ be a random variable with unknown mean $\\mu_X$ and unknown variance $\\sigma_X$\n",
    "- $Y$ be a random variable with unknown mean $\\mu_Y$ and unknown variance $\\sigma_Y$.\n",
    "\n",
    "(We need not assume either $X$ or $Y$ is normally distributed.)\n",
    "\n",
    "Consider the hypothesis\n",
    "$$\n",
    "H_0: \\mu_X=\\mu_Y\\\\\n",
    "H_1: \\mu_X\\neq \\mu_Y.\n",
    "$$\n",
    "\n",
    "This hypothesis can be tested with a \n",
    "- random sample $X^n$ of size $n$ of $X$\n",
    "- random sample $Y^m$ of size $m$ of $Y$\n",
    "\n",
    "by constructing \n",
    "- the estimator $\\bar{X}_n$ of $\\mu_X$\n",
    "- the estimator $\\bar{Y}_m$ of $\\mu_Y$\n",
    "\n",
    "and noting that"
   ]
  },
  {
   "cell_type": "markdown",
   "id": "bf5784ad-cbef-4bc2-b05f-3635f29a6e28",
   "metadata": {},
   "source": [
    "$$\n",
    "\\bar{X}_n\\stackrel{CLT}{\\approx} \n",
    "    {\\cal N}\\left(\\mu_X,\\frac{\\sigma_X}{\\sqrt{n}}\\right)\\\\\n",
    "\\bar{Y}_m\\stackrel{CLT}{\\approx} \n",
    "    {\\cal N}\\left(\\mu_Y,\\frac{\\sigma_Y}{\\sqrt{m}}\\right)\\\\\n",
    "$$"
   ]
  },
  {
   "cell_type": "markdown",
   "id": "2e1eb4c7-53cd-4ca9-bd41-77352430ddd0",
   "metadata": {},
   "source": [
    "Further, since $\\bar{X}_n$ and $\\bar{Y}_m$ are independent, the estimator of $\\delta=\\mu_X-\\mu_Y$ has \n",
    "$$\n",
    "\\mathbb{V}(\\bar{X}_n - \\bar{Y}_m) \n",
    "= \n",
    "\\mathbb{V}(\\bar{X}_n) + \\mathbb{V}(\\bar{Y}_m) \n",
    "\\stackrel{CLT}{=} \\frac{\\sigma^2_X}{n} + \\frac{\\sigma^2_Y}{m}\n",
    "$$\n",
    "Thus, \n",
    "$$\n",
    "\\hat{\\delta} = \\bar{X}_n-\\bar{Y}_m \\sim {\\cal N}\\left( \\mu_X-\\mu_Y, \n",
    "\\sqrt{\n",
    "    \\frac{\\sigma_X^2}{n}  + \\frac{\\sigma_Y^2}{m}  \n",
    "    }\n",
    "\\right).\n",
    "$$"
   ]
  },
  {
   "cell_type": "markdown",
   "id": "dfb818ef-5f14-464a-903c-b96582d0dcd9",
   "metadata": {},
   "source": [
    "Therefore, under $H_0: \\delta = 0$ the statistic \n",
    "$$\n",
    "W = \\frac{\\hat{\\delta}}{\n",
    "    \\sqrt{\n",
    "        \\frac{s^2_{X,n}}{n} + \\frac{s^2_{Y,m}}{m}\n",
    "    }\n",
    "} \\sim {\\cal N}(0,1)\n",
    "$$\n",
    "where $s^2_{R,n}, ~R\\in\\{X,Y\\}$  can be either \n",
    "- the sample variance estimator of variance with unknown mean $s^2_{X,n} = \\frac{1}{n-1} \\sum_{i=1}^m\\left( X_i - \\bar{X}_n\\right)^2$\n",
    "- the plug in estimator of variance with unknown mean $s^2_{X,n} = \\frac{1}{n} \\sum_{i=1}^m\\left( X_i - \\bar{X}_n\\right)^2$"
   ]
  },
  {
   "cell_type": "markdown",
   "id": "3c7184a1-7506-4550-bdbe-5ffad38ea687",
   "metadata": {},
   "source": [
    "Thus, a sample $Z=(X_1,...,X_n,Y_1,...,Y_m)$ gives a statistic $\\hat{\\delta}$, and an observation gives $w$ with rejection of $H_0$ if $w$ in not in the $1-\\alpha$ confidence interval of a standard unit normal distribution;\n",
    "$$\n",
    "w \\notin \\left(\n",
    "    F^{-1}\\left( \\frac{\\alpha}{2}\\right)\n",
    "    ~,~\n",
    "    F^{-1}\\left( 1-\\frac{\\alpha}{2}\\right)\n",
    "    \\right)\\\\\n",
    "\\implies \\sim H_0.\n",
    "$$"
   ]
  },
  {
   "cell_type": "markdown",
   "id": "dfe0ddd4-379b-4adb-be5b-e4481ac0e9a8",
   "metadata": {},
   "source": [
    "## p-values\n",
    "Recall\n",
    "\n",
    "**Definition** A test is said to have (significance) **level** $\\alpha$ if $\\alpha \\geq \\sup\\limits_{\\theta \\in \\Theta_0} \\beta(\\theta)$ (i.e. $\\alpha$ is greater than the size).\n",
    "\n",
    "\n",
    "As we reduce the level $\\alpha$ we change the region $R_\\alpha$ of rejection by making it smaller. Holding the observation $x^n$ constant and reducing $\\alpha$ we can imagine taking $\\alpha$ so low that our statistic $T(x^n)$ is no longer in  $R_\\alpha$. \n",
    "\n",
    "**Definition** The <u>p-value</u> of the test with the data $x^n$ is a smallest level $\\alpha$ at which the test rejects.\n",
    "\n",
    "But abstracting away from particular observations by using a random variable...\n",
    "\n",
    "**Definition** Suppose that for every $\\alpha \\in (0, 1)$ we have a size $\\alpha$ test with rejection region $R_\\alpha$. Then, the <u>$\\text{p-value}$</u> of $(X^n)$ is $\\inf \\{ \\alpha  \\,|\\, T(X^n) \\in R_\\alpha \\}$ ."
   ]
  },
  {
   "cell_type": "markdown",
   "id": "f2947ec9-396f-4092-bcc0-f5e1aaf15405",
   "metadata": {},
   "source": [
    "Addressing a common misconception:  \n",
    "- p-value is *not* the probability that the null hypothesis is true.\n",
    "\n",
    "Informally characterizing, \n",
    "- the p-value is a measure of the evidence against $H_0$; the smaller the p-value, the stronger the evidence against $H_0$. \n",
    "- The p-value is the probability (under $H_0$) of observing a value of the test statistic the same as or more extreme than what was actually observed.\n",
    "    - more like \"worst case probability\" instaead of \"probability\". \n",
    "\n",
    "The term \"more extreme than\" is vague there, but is less vague under particular circumstances, like the circumstance the the following."
   ]
  },
  {
   "cell_type": "markdown",
   "id": "be0095e7-d3b0-4249-9b4b-f8ebc5e86c17",
   "metadata": {},
   "source": [
    "---\n",
    "**Theorem:** Suppose that the size $\\alpha$ test can be formulated in terms of a statistic $T$ as \n",
    "$$R_\\alpha = \\{x^n| T(x_n)\\geq C_\\alpha \\}$$\n",
    "Then,\n",
    "$$\\text{p-value}(x^n) = \\underset{\\theta\\in\\Theta_0}{ \\text{sup}} P_\\theta\\big(T(X^n)\\geq T(x^n)\\big).\n",
    "$$\n",
    "---\n",
    "\n",
    "That is, under the null hypothesis, what is the highest probability over $\\Theta_0$ that the statistic is at least this large. So think of a family of PDF curves for $T(X^n)$ indexed by $\\theta$ and the part of the tails beyond $T(x^n)$. Which member of the family of curves has the biggest area under the curve right of $T(x^n)$?  \n",
    "\n",
    "So, when people say \"probability that the null hypothesis is true\" they are simplifying to two cases\n",
    "1. test can be formulated in terms of a statistic $T$ \n",
    "2. the hypothesis set has a single element $\\Theta_0=\\{\\theta_0\\}$.\n",
    "\n",
    "Those conditions are met for the Wald test. But letting the first example you see be the extent of your understanding is dangerous. \n",
    "\n",
    "For the Wald test, the statistic is $W$, the observation $w$, and the rejection criterion $|w|> z_{\\alpha/2}$. The \n",
    "$$\n",
    "\\text{p-value}(w) = P_{\\theta_0}(|W|>|w|)\n",
    "$$\n",
    "and the naive interpretation holds up, as does the \"twice the area under the PDF for $W$ past $w$\" idea; no need to consider a family of PDFs. "
   ]
  },
  {
   "cell_type": "markdown",
   "id": "b5c8f2b7-3df5-43cc-8db8-df5c0b2f2a85",
   "metadata": {},
   "source": [
    "The following gives the central idea around p-values.\n",
    "\n",
    "**Theorem:** If the test statistic $T$ has a continuous distribution, then under \n",
    "$H_0 : \\Theta = \\{\\theta_0\\}$, the p-value has a Uniform(0,1) distribution. \n",
    "\n",
    "i.e. the probability of a type I error is $\\alpha$ when we use the rejection criteria formulated in terms of the p-value as a statistic $R_\\alpha = \\{x^n|p(x^n)<\\alpha\\}$. \n",
    "\n",
    "On the other hand, if $H_0$ is false then the distribution of the p-value will tend to concentrate closer to $0$, making it more likely that we reject $H_0$.\n",
    "\n"
   ]
  },
  {
   "cell_type": "markdown",
   "id": "63a1a448-be4a-4f8f-9ff0-5dbf6d49b46c",
   "metadata": {},
   "source": []
  },
  {
   "cell_type": "markdown",
   "id": "425d6bfa-80e7-445a-a947-a15843df53a8",
   "metadata": {},
   "source": []
  },
  {
   "cell_type": "markdown",
   "id": "987aeb52-b0ef-44d2-a671-2c1329d722d5",
   "metadata": {},
   "source": [
    "## 𝛘 squared test\n",
    "\n",
    "\n",
    "\n",
    "**Definition:** If $Z_1,...,Z_k\\sim {\\cal N}(0,1)$ be iid then the random vairable $V = \\sum\\limits_{i=1}^k Z_i^2$ is the <u>chi-squared</u> random variable with $k$ degrees of freedom.\n",
    "\n",
    "Notation: $V \\sim \\chi^2_k$ (that is $V$ is distributed as chi-squared.) \n",
    "\n",
    "The probability density of $\\chi^2_k$ is\n",
    "$$f_{\\chi^2_k}(v) \n",
    "= \\frac{v^{\\frac k2−1} e^{−\\frac v2} }{2^{\\frac k2} \\Gamma\\left(\\frac k2\\right)}\\\\\n",
    "=\\frac1{2\\Gamma\\left(\\frac k2\\right)} \\left( \\frac{v}{2} \\right)^{k/2 -1} e^{−\\frac v2}\n",
    "$$\n",
    "\n",
    "Note: The $\\chi^2$ distribution is a $\\Gamma(\\alpha,\\beta)$ distribution with $\\beta =2$ and $ \\alpha = k/2$ and so has mean $\\alpha\\beta = k$, variance $\\alpha\\beta^2 = 2k$"
   ]
  },
  {
   "cell_type": "markdown",
   "id": "683feda8-526d-4bb6-87ff-12727552bf0c",
   "metadata": {},
   "source": [
    "### Multinomial distributions\n",
    "\n",
    "**Definition:** A experiment with discrete sample space $\\Omega$ with $\\lvert\\Omega \\rvert=k$ and enumeration $\\omega_i, i=1,...,k$ is a <u>categorical experiment</u> with $k$ categories. \n",
    "\n",
    "The probability of outcome $\\omega_i$ is denoted $p_i$, and $p=(p_1,...,p_k)$.\n",
    "\n",
    "**Definition:** A sample of size $n$ from a categorical experiment is a <u>multinomial experiment</u>. "
   ]
  },
  {
   "cell_type": "markdown",
   "id": "225426c3-2e10-42b7-9119-843847a4edcb",
   "metadata": {},
   "source": [
    "For multinomial distributions with $n$ draws from $k$ categories \n",
    "- we denote the number of draws from the $j$th category as $X_j$, \n",
    "- the outcome of the multinomial experiment is $(X_1,...,X_n)$\n",
    "- $X_j \\sim \\text{Binom}(n,p_{j})$\n",
    "    - $\\mathbb{E}(X_j) = np_{j}$\n",
    "    - $\\mathbb{V}(X_j) = np_{j}(1-p_{j})$\n",
    "- the MLE of $p_0$ is $\\left(\\frac{X_1}{n},...,\\frac{X_k}{n} \\right)$.\n",
    "\n",
    "\n",
    "### Pearson's 𝛘^2 test for multinomial data\n",
    "\n",
    "Let $p_0 = (p_{01}, . . . , p_{0k})$ be some fixed vector and suppose we want to test \n",
    "$$\n",
    "H_0 :p=p_0 \\\\\n",
    "H_1 :p \\neq p_0 .\n",
    "$$\n",
    "\n",
    "**Definition** Pearson’s $\\chi^2$ statistic is (as a funciton of the $X_i$ from a multinomial experiment as described above)\n",
    "$$\n",
    "\\begin{array}{ll}\n",
    "T   & = \\sum\\limits_{j=1}^k \\frac{(X_j −n p_{0j})^2}{np_{0j}} \\\\\n",
    "    & = \\sum\\limits_{j=1}^k \\frac\n",
    "        {\n",
    "            \\left(X_j −\\mathbb{E}(X_j)\\right)^2\n",
    "            }\n",
    "        {\\mathbb{E}(X_j)} \\, .\n",
    "\\end{array}\n",
    "$$ \n",
    "\n"
   ]
  },
  {
   "cell_type": "markdown",
   "id": "7b8fc1a3-7361-4808-8d04-49fd1eff1f88",
   "metadata": {},
   "source": [
    "---\n",
    "<details>\n",
    "<summary>\n",
    "Q: <a href src=\"https://ocw.mit.edu/courses/18-443-statistics-for-applications-fall-2006/resources/lecture11/\">Why</a> divide by expected value and not by variance? </summary>\n",
    "\n",
    "A: The $X_i$ are not independent, and this unexpected division you are asking about is just right to make up for lack of independence. The proof is not trivial, but note that \n",
    "1. $\\frac{X_j-n p_{0j}}{\\sqrt{np_{0j}(1-p_{0j})}} \\sim {\\cal N}(0,1)$\n",
    "2. $Z_j:=\\frac{X_j-n p_{0j}}{\\sqrt{np_{0j}}} \\sim {\\cal N}(0,1-p_{0j})$\n",
    "     - thus $\\sum_{j=1}^k \\mathbb{V}(X_j) = \\sum_{j=1}^k \\left(1-p_{0i}\\right) = k-1$\n",
    "     - this is the variance of $s_{k-1}=\\sum_{j=1}^{k-1} g_j \\text{ where } g_1,...,g_{n-1}\\sim {\\cal N}(0,1) \\text{ iid }.$\n",
    "3. $\\sum_{j=1}^n Z_j^2 \\sim \\sum_{j=1}^{n-1} g_i^2 \\text{ where } g_1,...,g_{n-1}\\sim {\\cal N}(0,1) \\text{ iid }.$\n",
    "\n",
    "That is, in the sum over squares of these dependent variables $Z_i$ one degree of freedom washes out, as does of the variance of the $Z_i$.  \n",
    "</details>\n",
    "---"
   ]
  },
  {
   "cell_type": "markdown",
   "id": "6d39cf5b-1760-40e3-889b-1fb1d9ee1dff",
   "metadata": {},
   "source": [
    "**10.17 Theorem**. Under $H_0: p = p_0$ the statistic $T \\sim \\chi^2_{k-1}$ as $n\\to \\infty$. \n",
    "\n",
    "Hence the test: reject $H_0$ if $T > F^{-1}_{\\chi^2_{k-1}}(\\alpha)$. \n",
    "\n",
    "Wording I do not understand: \"has asymptoptic level $\\alpha$.\"\n",
    "\n",
    "The p-value is $\\mathbb{P}_{\\chi^2_{k-1}}(T>t)=1-F_{\\chi^2_{k-1}}(t)$ where $t$ is the observed value of the test statistic."
   ]
  },
  {
   "cell_type": "markdown",
   "id": "4f4be0d8-012f-4e04-9f06-6acc7f52b992",
   "metadata": {},
   "source": [
    "e.g. Observation of Mendel's peas to test his theory of inheritance."
   ]
  },
  {
   "cell_type": "markdown",
   "id": "46b724a1-491c-4435-9e30-24e936abd2a7",
   "metadata": {},
   "source": [
    "## Permutation test\n",
    "that two samples are from the same distribution.\n",
    "\n",
    "Suppose that $X_1, . . ., X_m \\sim F_X$ and $Y_1, . . ., Y_n ∼ F_Y$ are two independent samples and \n",
    "$H_0 :F_X = F_Y \\text{ versus }  H_1 :F_X \\neq F_Y.$\n",
    "\n",
    "Let $Z = (x_1,...,x_m,y_1,...,y_n)$. Let $G$ be the group of perumtation on $n+m$ objects, and $T(Z)$ be some test statistic. (e.g. $|\\bar{X}_m − \\bar{Y}_n|$). \n",
    "\n",
    "Denote $T_g:=T(gZ) ~\\forall g \\in G$. \n",
    "\n",
    "**Definiton** The **permutation distribution** of $T$ is the discrete CDF $F(t) = \\frac{1}{ N!} \\sum\\limits_{g\\in G} I( T(gZ) > t)$ that puts mass $1/N!$ on each $T_g$.\n",
    "\n",
    "That is, the permutation distribution $F(t)$ is the fraction of permutatioins that give $T>t$. \n",
    "\n",
    "Calculating all permutations is computationally expensive, and we can get the same results with a convienient number of random;y chosen permutations. \n",
    "\n",
    "Assuming we reject when T is large, the p-value is\n",
    "$ \\frac{1}{ N!} \\sum\\limits_{g\\in G} I(T(gZ) > t_{obs})$"
   ]
  },
  {
   "cell_type": "markdown",
   "id": "d0484060-0a04-4286-b6aa-3668aa3b4fce",
   "metadata": {},
   "source": [
    "**e.g.** The fraction of words that are 3 letter words from 8 essays from author A are in the list A, \n",
    "The fraction of words that are 3 letter words from 10 essays from author B are in the list B.  \n",
    "\n",
    "$$\n",
    "H_0: \\text{ Author A is author B.}\n",
    "$$"
   ]
  },
  {
   "cell_type": "code",
   "execution_count": 165,
   "id": "2f778238-dd40-4281-b896-5d261d543fd9",
   "metadata": {},
   "outputs": [
    {
     "name": "stdout",
     "output_type": "stream",
     "text": [
      "Object `np.random_sample` not found.\n"
     ]
    }
   ],
   "source": [
    "np.random.random_sample()"
   ]
  },
  {
   "cell_type": "code",
   "execution_count": 168,
   "id": "2e18050d-50bf-4d5f-b88a-c447e7d6becd",
   "metadata": {},
   "outputs": [],
   "source": [
    "import numpy as np\n",
    "from itertools import permutations \n",
    "\n",
    "\n",
    "A = [.225 ,.262 ,.217 ,.240 ,.230, .229, .235, .217]\n",
    "B = [.209, .205 ,.196 ,.210, .202 ,.207, .224 ,.223 ,.220, .201]\n",
    "\n",
    "def d_means(sample_A,sample_B):\n",
    "    a_bar = np.mean(sample_A)\n",
    "    b_bar = np.mean(sample_B)\n",
    "    return a_bar - b_bar\n",
    "\n",
    "Z = A+B \n",
    "diffs = []\n",
    "def get_random_permutation(L):\n",
    "    return list(np.random.choice(a=L,size=len(L),replace=False))\n",
    "    \n",
    "for _ in range(10_000):\n",
    "    Z_prime = get_random_permutation(Z)\n",
    "    diff = d_means(Z_prime[:len(A)],Z_prime[len(A):])\n",
    "    diffs.append(diff)\n",
    "\n",
    "xs = np.linspace(min(diffs) , max(diffs),100)\n",
    "F_perm = [sum(np.array(diffs) < x) for x in xs] #CDF\n",
    "f_perm = np.array(F_perm[1:]) - np.array(F_perm[:-1]) #PDF\n",
    "p = sum(diff>d_means(A,B) for diff in diffs)/len(diffs)\n",
    "print(f\"The p-value is {p}.\")\n",
    "\n",
    "import matplotlib.pyplot as plt\n",
    "plt.plot(xs[:-1],f_perm)\n",
    "plt.axvline(x= d_means(A,B), color = 'red', label = 'Observed')\n",
    "plt.title('Permutation PDF');"
   ]
  },
  {
   "cell_type": "markdown",
   "id": "645c2b6b-a005-446c-8727-408e9e612d40",
   "metadata": {},
   "source": [
    "## Likelihood ratiotest\n",
    "\n",
    "For testing a vector-valued parameter $\\theta \\in \\Theta \\subseteq \\mathbb{R}$ with a sample $X_1,...,X_n$, let ${\\cal L}(\\theta) = \\prod_{i=1}^n f (X_i;\\theta)  $ be the likelihood of the sample. "
   ]
  },
  {
   "cell_type": "markdown",
   "id": "cc93e05c-c5c1-4b97-8d4b-6f55d8b3d164",
   "metadata": {},
   "source": [
    "**Definition**. Consider testing\n",
    "$H_0 : \\theta \\in\\Theta_0 \\text{versus} H_1 :\\theta \\notin \\Theta_0.$\n",
    "The **likelihood ratio statistic** is\n",
    "$$\n",
    "λ(X^n) = 2\\log \n",
    "\\left( \n",
    "\\frac{\\sup\\limits_{\\theta \\in \\Theta}   {\\cal L}(\\theta)  } \n",
    "            {\\sup\\limits_{\\theta \\in \\Theta_0 }{\\cal L}(\\theta)  }\n",
    "\\right)\n",
    "=2\\log \\left( \n",
    "\\frac{ {\\cal L}(\\hat \\theta)} \n",
    "             { {\\cal L}(\\hat \\theta_0)  }\n",
    "\\right)\n",
    "$$\n",
    "where $\\hat \\theta$ is the mle and $\\hat\\theta_0$\u0011 is the mle when $\\theta$ is restricted to lie in $\\Theta_0$"
   ]
  },
  {
   "cell_type": "markdown",
   "id": "21d30b0e-925f-41cc-9512-7225aff55b4c",
   "metadata": {},
   "source": [
    "**Theorem** $\\lambda(x^n) \\stackrel{dist}{\\to}  \\chi^2_{r−q}$ with \n",
    "$\\text{p-value}(x^n) = P\\left(\\chi^2_{r−q} > \\lambda(x^n) \\right)$ where $r-q$ is the number of free parameters in (aka the dimension of) $\\theta_0$. "
   ]
  },
  {
   "cell_type": "markdown",
   "id": "53bea206-33f6-480e-9e45-f3b61c12ac68",
   "metadata": {},
   "source": [
    "### e.g. Mendell's peas \n",
    "Consider a hypothesis that the data for Mendel's peas follows a multinomial distribution. \n",
    "\n",
    "The pdf of a multinomial distribution with $p = (p_1,...,p_k)$ is\n",
    "$f(x)=\n",
    "\\left( \\begin{array}{c}\n",
    "n\\\\\n",
    "x_1 . . . x_k \n",
    "\\end{array}\\right)\n",
    "p_1^{x_1} ···p_k^{x_k}$ \n",
    "\n",
    "Recall that if $X = (X_1 , . . . , X_k )$ has a multinomial $(n, p)$ distribution, then the mle of $p$ is \n",
    "$$\n",
    "\\hat p = (\\hat p_1, . . . , \\hat p_k) = \\left(\\frac{X_1}{n}, . . . , \\frac{X_k}{n}\\right).\n",
    "$$\n",
    "\n",
    "\n",
    "Thus, with \n",
    "$$\n",
    "H_0: \n",
    "% \\theta \\in \\Theta_0 = \\{ p_0\\} \\\\ \n",
    "p_0 = \\left(\\frac9{16},\\frac3{16},\\frac3{16},\\frac1{16} \\right)\n",
    "$$\n",
    "the likelihood ratio test statistic takes the form\n"
   ]
  },
  {
   "cell_type": "markdown",
   "id": "2d2d45e1-e273-4a4f-bdd7-eac64c6577c3",
   "metadata": {},
   "source": [
    "$$\n",
    "\\begin{array}{ll}\n",
    "\\lambda \n",
    " &= 2\\log \\left(\n",
    " \\frac{ \n",
    "        {\\cal L}(\\hat p)\n",
    "      } \n",
    "      { \n",
    "        {\\cal L}(\\hat p_0)  \n",
    "       }\n",
    " \\right)\\\\\n",
    " &= 2\\log \\left( \\frac{\\prod\\limits_{i=1}^k (X_i/n)^{X_i} } { \\prod\\limits_{i=1}^k p_i^{X_i}  }\\right)\\\\\n",
    " &= \\sum\\limits_{i=1}^k 2{X_i}\\log \\left( \\frac{ (X_i/n) } { p_i  }\\right)\n",
    "\\end{array}\n",
    "$$\n",
    "and using the experimental data\n",
    "$p-value = \\mathbb{P}(χ^2_3 > .48) = .92.$"
   ]
  },
  {
   "cell_type": "markdown",
   "id": "60b7d692-0d7b-4ed0-b2ee-979116cef0f1",
   "metadata": {},
   "source": [
    "## Multiple testing\n",
    "\n",
    "**Definition:** If a large number of hypotheses are true and they are simultaneously tested with a confidence level $\\alpha = 0.05$, then the probability of one of the hypotheses being rejected when it is in fact true is high. \n",
    "\n",
    "Austin called this statistics packing. In data mining, this comes up as one tests perhaps millions of hypotheses. We discuss two methods of dealing with the problem\n",
    "\n",
    "### Bonferroni method\n",
    "The Bonferroni method: If the p-values of the $m$ hypothesis tests are $P_1,...,P_m$, then reject hypothesis $H_i$ if $P_i<\\frac\\alpha m$\n",
    "\n",
    "**Theorem:** With the Bonferroni method, the probability of falsely rejeccting at least 1 hypothesis is $\\leq \\alpha$. "
   ]
  },
  {
   "cell_type": "markdown",
   "id": "a89139c9-0b51-47c9-83b8-e470c0f53943",
   "metadata": {},
   "source": [
    "### BH Method\n",
    "The BH (Benjamini-Hochberg) Method: \n",
    "- Order the p-values you obtain into a monotonic increasing list $[p_1, ...,p_m]$ \n",
    "- Consider the ordered set of points $[(i,p_i)|i=1,...,m]$\n",
    "- Compare to the ordered set of points $L = [(i,i\\alpha/m) | i=1,...,m]$ (which are on a line), \n",
    "    - let $l_i$ be the $i$the element of $L$.\n",
    "- Let $T= \\max \\{p_i | p_i<l_i\\}$ \n",
    "- reject all hypotheses with $p_i< T$. \n"
   ]
  },
  {
   "cell_type": "code",
   "execution_count": 1,
   "id": "15651964-978f-46ed-9f2b-ee9c075792b2",
   "metadata": {
    "tags": []
   },
   "outputs": [
    {
     "name": "stdout",
     "output_type": "stream",
     "text": [
      "No qualifying points; T is undefined\n"
     ]
    },
    {
     "name": "stderr",
     "output_type": "stream",
     "text": [
      "/Users/wonderman/opt/anaconda3/lib/python3.9/site-packages/scipy/__init__.py:146: UserWarning: A NumPy version >=1.16.5 and <1.23.0 is required for this version of SciPy (detected version 1.26.4\n",
      "  warnings.warn(f\"A NumPy version >={np_minversion} and <{np_maxversion}\"\n"
     ]
    },
    {
     "data": {
      "image/png": "[encoded data removed]",
      "text/plain": [
       "<Figure size 432x288 with 1 Axes>"
      ]
     },
     "metadata": {
      "needs_background": "light"
     },
     "output_type": "display_data"
    }
   ],
   "source": [
    "import numpy as np \n",
    "import pandas as pd\n",
    "\n",
    "m = 10 # Number of hypotheses. \n",
    "alpha = 0.05 # Significance level for multiple hypothesis testing. \n",
    "# Create m p-values randomly from uniform distribution, sorted.\n",
    "df = pd.DataFrame( {\n",
    "    'l' : np.array([i *alpha/m for i in range(1,m+1)]),\n",
    "    'p' : np.sort(np.random.uniform(0, .06, size=m))\n",
    "})\n",
    "\n",
    "lt_filter = (df['p'] < df['l'])\n",
    "try:\n",
    "    T = df[lt_filter]['p'].iloc[-1]\n",
    "except:\n",
    "    T = df['p'].max()\n",
    "    print(\"No qualifying points; T is undefined\")\n",
    "\n",
    "bonferroni_threshold = alpha/m\n",
    "    \n",
    "df['reject'] = df['p'] < T\n",
    "df['hypothesis_number'] = df.index +1\n",
    "\n",
    "import matplotlib.pyplot as plt\n",
    "import seaborn as sns \n",
    "\n",
    "sns.scatterplot(data = df,x='hypothesis_number',y='l', color=\"green\", label = \"L\")\n",
    "sns.scatterplot(data = df,x='hypothesis_number',y='p', hue = \"reject\" , label = \"P\")\n",
    "plt.axhline(T, label='T', color = \"red\")\n",
    "plt.axhline(bonferroni_threshold, label = \"bonferroni threshold\")\n",
    "plt.legend();\n",
    "\n"
   ]
  },
  {
   "cell_type": "markdown",
   "id": "7638f3ac-1aae-4a95-8edd-dff91c8736d8",
   "metadata": {},
   "source": [
    "Here is why BH is cool; let $R$ be the number of hypotheses rejected, and $V$ be the number of hypotheses incorrectly reject. \n",
    "\n",
    "**Definition:** The <u>false discovery proportion</u> is \n",
    "$$\\text{FDP} = \n",
    "\\left\\{ \n",
    "\\begin{array}{ll} \n",
    "V/R & \\text{ if } R>0 \\\\ \n",
    "  0 & \\text{ if } R=0\n",
    "\\end{array}\n",
    "\\right. .$$"
   ]
  },
  {
   "cell_type": "markdown",
   "id": "6a3783da-5efb-4f49-a5cd-dbdc26cc69de",
   "metadata": {},
   "source": [
    "**Definition:** The <u>false discovery rate</u> is $\\mathbb{E}(\\text{FDP})$. "
   ]
  },
  {
   "cell_type": "markdown",
   "id": "b2c35587-2e94-4767-9676-a98358c599d8",
   "metadata": {},
   "source": [
    "**Theorem:** With the BH procedure, regardless of the truth value of the hypotheses and regardless of the distribution of the $p$-values, $\\text{FDR} \\leq \\alpha$. "
   ]
  },
  {
   "cell_type": "markdown",
   "id": "dd96e27d-2d57-4cb6-a137-a6f0b4423fce",
   "metadata": {},
   "source": []
  },
  {
   "cell_type": "markdown",
   "id": "8d374fe0-0d41-44d6-88ed-15d45c1f28b3",
   "metadata": {},
   "source": [
    "## 10.8 Goodness-of-fit Tests\n",
    "When we want to check whether the data come from an assumed parametric model. There are many such tests; here is one for multinomial models. \n",
    "\n",
    "For a partition $I_1,...,I_k$ of $\\mathbb{R}$ into k disjoint intervals\n",
    "$p_j(\\theta) =\n",
    "\\int_{I_i}f(x;\\theta)dx$\n",
    "is the probability that an observation falls into interval $I_j$ under the assumed model. \n",
    "\n",
    "Let $N_j$ be the number of observations that fall into $I_j$. The likelihood for \n",
    "$\\theta = (\\theta_1,...,\\theta_s)$  based on the $N_i$ is the multinomial likelyhood \n",
    "$$Q(\\theta) = \\prod_i p_i(\\theta)^{N_j}.$$"
   ]
  },
  {
   "cell_type": "markdown",
   "id": "ecaf3b87-642d-4b23-ab90-a6aebc5dc34b",
   "metadata": {},
   "source": [
    "Let \n",
    "$$\n",
    "\\tilde{\\theta} \n",
    "= \n",
    "\\underset{\\theta}{\\text{argmax}}\n",
    "\\,Q(\\theta)\n",
    "$$ "
   ]
  },
  {
   "cell_type": "markdown",
   "id": "156b4c73-16f4-4b39-a906-73e81accbb92",
   "metadata": {},
   "source": [
    "Then the statistic $Q:=\\sum\\limits_{i=1}^k \\frac{(N_j −n p_j(\\tilde  \\theta  ))^2}{n p_j(\\tilde  \\theta  )} \\stackrel{dist}{\\to} \\chi^2_{k−1−s}$. "
   ]
  },
  {
   "cell_type": "markdown",
   "id": "5e1efce5-4530-4466-8082-391b9948e3f0",
   "metadata": {},
   "source": [
    "**Theorem** p-value for the test is $\\mathbb{P}(\\chi^2_{k−1−s} > q)=1-F_{\\chi^2_{k-1-s}}(q)$ where $q$ denotes the observed value of $Q$ and $s$ is the number of components of the parameter $\\theta = (\\theta_1,...,\\theta_s)$."
   ]
  },
  {
   "cell_type": "markdown",
   "id": "1296deae-fb4f-4776-8d06-f25b2c81fa1a",
   "metadata": {},
   "source": [
    "## 10.10.2 The t-test\n",
    "\n",
    "Let $X_1,...,X_n ∼ N(μ,σ^2)$ where $ \\theta   = (μ,σ^2)$ are both unknown. Suppose we want to test $μ=μ_0$ versus $μ \\neq μ_0$. Let\n",
    "$$\n",
    "T= \\frac{(\\bar X_n − μ_0)}{  S_n/\\sqrt{n} }\n",
    "$$ \n",
    "Althoough $T\\sim N(0,1)$ for large $n$, the exact distribution of the statistic $T$ is called the t-distribution with n-1 degrees of freedom.\n",
    "\n",
    "**Definition** A random variable T has a **t-distribution with $k$ degrees** of freedom if it has density\n",
    "$$\n",
    "f(x) \n",
    "= \n",
    "\\frac{\n",
    "       \\Gamma\\left(\\frac{k+1}{2}\\right)\n",
    "       }\n",
    "      {\n",
    "      \\sqrt{k\\pi}\\Gamma\\left(\\frac{k}{2}\\right)\n",
    "      }\n",
    "\\frac{1}{   \\left(1+\\frac{x^2}{k}\\right)^{(k+1)/2}\n",
    "        }\n",
    "$$"
   ]
  },
  {
   "cell_type": "markdown",
   "id": "af17aeb4-52b8-4c9d-8cff-be90acd3d42d",
   "metadata": {},
   "source": [
    "To test $H_0 :μ =μ_0$ where $μ=E(X_i)$ is the mean, we can use the Wald test. But when \n",
    "- the data are assumed to be Normal and \n",
    "- the sample size is small (<30), \n",
    "it is common instead to use the $t-test. \n",
    "\n",
    "**Definition** In the t-test we reject the null hypothesis $\\mu = \\mu_0$ when $|T| > t_{n−1,α/2}$. Then we get a size $\\alpha$ test."
   ]
  },
  {
   "cell_type": "markdown",
   "id": "93e5f4b1-47d2-42d0-82f1-d82a1e5dc214",
   "metadata": {},
   "source": []
  },
  {
   "cell_type": "markdown",
   "id": "b1ff3c7b-4131-46f6-a218-af28c2eb1aea",
   "metadata": {},
   "source": [
    "# Ch 11  Bayesian Inference\n",
    "\n",
    "The frequentist point of view is based on the following postulates:\n",
    "- F1 Probability refers to limiting relative frequencies. Probabilities are objective properties of the real world.\n",
    "- F2 Parameters are fixed, unknown constants. Because they are not fluctuating, no useful probability statements can be made about parameters.\n",
    "- F3 Statistical procedures should be designed to have well-defined long run frequency properties. For example, a 95 percent confidence interval should trap the true value of the parameter with limiting frequency at least 95 percent."
   ]
  },
  {
   "cell_type": "markdown",
   "id": "094ec8f8-b7af-412c-a973-ca9a3844b477",
   "metadata": {},
   "source": [
    "The Beysian point of view is \n",
    "- B1 Probability describes degree of belief, not limiting frequency. As such, we can make probability statements about lots of things, not just data which are subject to random variation. For example, I might say that “the probability that Albert Einstein drank a cup of tea on August 1, 1948” is 0.35. This does not refer to any limiting frequency. It reflects my strength of belief that the proposition is true.\n",
    "- B2 We can make probability statements about parameters, even though they are fixed constants.\n",
    "- B3 We make inferences about a parameter  $\\theta$   by producing a probability distribution for  $\\theta$. Inferences, such as point estimates and interval estimates, may then be extracted from this distribution."
   ]
  },
  {
   "cell_type": "markdown",
   "id": "b17211d4-71c3-4bc7-ad2c-ec06052b3121",
   "metadata": {},
   "source": [
    "## 11.2 The Bayesian Method\n",
    "1. We choose a probability density $f(\\theta)$ — called the **prior distribution** — that expresses our beliefs about a parameter $\\theta$ before we see any data.\n",
    "2. We choose a statistical model $f(x| \\theta  )$ that reflects our beliefs about x given $ \\theta  $. Notice that we now write this as $f(x| \\theta  )$ instead of $f(x; \\theta  )$ as we did for frequentist statistics.\n",
    "3. After observing data $X_1,...,X_n$, we update our beliefs and calculate the **posterior distribution** $f(\\theta|X_1,...,X_n)$."
   ]
  },
  {
   "cell_type": "markdown",
   "id": "a6b05df9-2bfb-4b32-8c65-02ffee3a6214",
   "metadata": {},
   "source": [
    "The posterior distribution is calculated from the prior distribution and the data by Bayes's theorem\n",
    "$$f( \\theta  |x^n) = \\frac{ f(x^n| \\theta  )f( \\theta  ) } {\\int f (x^n| \\theta  )f ( \\theta  )d \\theta  }.$$\n",
    "Renaming the normalization constant $C$\n",
    "$$f( \\theta  |x^n) =  C f(x^n| \\theta  )f( \\theta  ) = C \\prod\\limits_i f(x_i| \\theta  )f(\\theta) = C {\\cal L}(\\theta) f(\\theta)$$\n",
    "\n",
    "That is \"Posterior is proportional to Likelihood times Prior\""
   ]
  },
  {
   "cell_type": "markdown",
   "id": "1565232b-bfc5-4274-ad03-32d56801b33b",
   "metadata": {},
   "source": [
    "**Example** Let $X_1, . . . , X_n ∼ \\text{Bernoulli}(p)$. Take the uniform pdf $f:[0,1]\\to \\mathbb{R} \\text{ such that } f(p) = 1 ~\\forall ~ p \\in [0,1]$ as a prior. By Bayes’ theorem, the posterior has the form\n",
    "$f(p|x^n) ∝ f(p){\\cal L}_n(p) = p^{s}(1 − p)^{n−s} = p^{s+1−1}(1 − p)^{n−s+1−1}$\n",
    "where $s = \\sum_{i=1}^n x_i$ is the number of successes. Then \n",
    "$$\\text{prior } f(p) = \\beta(1,1)(p)\\\\\n",
    "\\text{posterior } f(p|x^n) = \\beta(s+1,n-s+1)(p)\n",
    "$$"
   ]
  },
  {
   "cell_type": "markdown",
   "id": "7194c4b3-0b42-4cb9-b601-4b1e6a6f4e97",
   "metadata": {},
   "source": [
    "**Definition** When the prior and the posterior are in the same (exponential) family (model), we say that the prior is **conjugate** with respect to the model."
   ]
  },
  {
   "cell_type": "markdown",
   "id": "dad9911b-bf2c-4790-9029-2b35dbd1aadc",
   "metadata": {},
   "source": [
    "## 11.6 Flat Priors, Improper Priors, and “Noninformative” Priors\n",
    "Where does one get the prior $f( \\theta  )$? \n",
    "\n",
    "School of thought, \n",
    "- **subjectivism** says that the prior should reflect our subjective opinion about $ \\theta  $ (before the data are collected). \n",
    "- use a “noninformative prior” like a flat prior $f( \\theta  ) ∝$ constant.\n",
    "\n",
    "Problem: \n",
    "Flat priors are not transformation invariant."
   ]
  },
  {
   "cell_type": "markdown",
   "id": "5e421165-ca6a-4823-b51a-4503fe7d160e",
   "metadata": {},
   "source": [
    "**Jeffreys’ Prior** Take\n",
    "$f(\\theta) ∝ I(\\theta)^{1/2}$\n",
    "where \n",
    "- the Fisher information function \n",
    "$I_n(\\theta) = \\sum\\limits_{i=1}^n \\mathbb{V}_ \\theta   (s(X_i;  \\theta  )) = nI(\\theta) = \\mathbb{V}_ \\theta   (s(X;  \\theta  ))$,\n",
    "and \n",
    "- the score function (statistic) \n",
    "$s(X; \\theta  )= \\frac{\\partial \\log f(X; \\theta  )}{\\partial \\theta}$."
   ]
  },
  {
   "cell_type": "markdown",
   "id": "97d22c3d-02c0-468e-9f78-bef8fd84a2c8",
   "metadata": {},
   "source": [
    "**Definition:** An **improper prior** on $\\theta$ is a constant prior $f(\\theta) \\alpha c$ over $\\mathbb{R}$. \n",
    "\n",
    "Of course, sucha a thing is not normalizable, but formally it works as a prior since it drops out of Bayes's theorem\n",
    "$$f( \\theta  |x^n) = \\frac{ f(x^n| \\theta  )f( \\theta  ) } {\\int f (x^n| \\theta  )f ( \\theta  )d \\theta  }.$$\n",
    "\n"
   ]
  },
  {
   "cell_type": "markdown",
   "id": "e3f7c573-40d5-4e36-8f6f-95540c4aebac",
   "metadata": {
    "jp-MarkdownHeadingCollapsed": true,
    "tags": []
   },
   "source": [
    "## 11.8 Bayesian Testing\n",
    "Hypothesis testing from a Bayesian point of view is a complex topic; some choice of priors lead to intractable cancluations. "
   ]
  },
  {
   "cell_type": "markdown",
   "id": "44bbe538-2589-4890-bf73-0cca8f6af167",
   "metadata": {
    "tags": []
   },
   "source": [
    "# Ch 12 Statistical Decision Theory\n",
    "\n",
    "a formal theory for comparing statistical procedures.\n",
    "\n",
    "- loss\n",
    "- risk \n",
    "- minimax risk rule \n",
    "- admissable estimators\n",
    "- Stein’s Paradox and estimator\n",
    "\n",
    "all Opaque. :( \n",
    "\n",
    "--- \n",
    "\n",
    "Which estimator of $\\theta \\in \\Theta$ is best?  \n",
    "\n",
    "In the language of decision theory, \n",
    "- an estimator is sometimes called a **decision rule**\n",
    "- the possible values of the decision rule are called **actions**.\n",
    "\n",
    "**Definition:** A **loss function** maps $\\Theta \\times \\Theta$ into $\\mathbb{R}$ to measure discrepancy between $\\theta$ and $\\hat \\theta$. \n",
    "\n",
    "Here are some examples of loss functions:\n",
    "- squared error loss $L(\\theta , \\hat \\theta) = (\\theta - \\hat \\theta)^2$ \n",
    "- absolute error loss $L(\\theta , \\hat \\theta) = | \\theta - \\hat \\theta|$\n",
    "- zero-one loss: $L(\\theta ,\\hat \\theta) = 0$ if $\\theta = \\hat \\theta$ or 1 else. \n",
    "- Kullback-Leibler loss: $L(\\theta ,\\hat \\theta)= \\int \\log  \\frac{ f(x;\\theta) }{{ f(x;\\hat \\theta) }}f(x;\\theta) dx$ \n",
    "\n",
    "\n",
    "Remember here that the estimator is a function of the data; $\\hat \\theta(X^n)$. "
   ]
  },
  {
   "cell_type": "markdown",
   "id": "3d82ce41-d137-44f0-a04b-c089fa0a4c5f",
   "metadata": {
    "tags": []
   },
   "source": [
    "**Definition:** The **risk** of the estimator $\\hat \\theta$ under the loss function $L$ is $$R(\\theta,\\hat \\theta) = \\mathbb{E}_{X^n;\\theta} L\\big(\\theta,\\hat \\theta(X^n)\\big) = \\int L\\big(\\theta,\\hat \\theta(x^n)\\big) f_{X^n;\\theta}(x^n)dx^n.$$"
   ]
  },
  {
   "cell_type": "markdown",
   "id": "036cb66b-aff7-4eaa-97b4-400ff77a8ec0",
   "metadata": {
    "tags": []
   },
   "source": [
    "We would love it if the risk of one estimator was larger than the risk of another estimator for all values of $\\theta$. We are not so lucky. Thus, to compare the risk of estimators we introduce another conbstruct.\n",
    "\n",
    "**Definition:** The <u>max risk</u> of the estimator $\\hat \\theta$ under loss function $L$ is \n",
    "$$\n",
    "\\bar R (\\theta ,\\hat\\theta) = \\underset{\\theta}{\\text{sup}} R(\\theta,\\hat\\theta).\n",
    "$$\n",
    "\n",
    "**Definition** The <u>Bayes risk</u> of the estimator $\\hat \\theta$ under the prior $f(\\theta)$ is \n",
    "$$\n",
    "r(f,\\hat\\theta) = \\int R(\\theta ,\\hat\\theta) f(\\theta)d\\theta.\n",
    "$$"
   ]
  },
  {
   "cell_type": "markdown",
   "id": "58ddfc2a-7a9d-4976-9977-af5bc58e540d",
   "metadata": {
    "tags": []
   },
   "source": [
    "Recall that estimators are called rules in this field. \n",
    "\n",
    "**Definition:** The estimator that mimimizes the maximum risk is the <u>minimax rule</u> of $\\theta$. \n",
    "\n",
    "\n",
    "$$\n",
    "\\underset{\\hat \\theta}{\\text{argmin}}  \n",
    "\\sup_{\\theta} R(\\theta,\\hat\\theta).$$"
   ]
  },
  {
   "cell_type": "markdown",
   "id": "ff0b0e10-1221-4b7b-905f-fe5a6249bb3a",
   "metadata": {
    "tags": []
   },
   "source": [
    "**Definition:** The estimator that minimizes the Bayes risk is the <u>Bayes Rule</u>\n",
    "$$\n",
    "\\underset{\\hat \\theta}{\\text{argmin}}\\, r(f,\\hat \\theta).\n",
    "$$"
   ]
  },
  {
   "cell_type": "markdown",
   "id": "bae55cf7-41c9-4b15-a223-bfc647927113",
   "metadata": {
    "tags": []
   },
   "source": [
    "--- \n",
    "Now to show tha the Bayes risk does not change with data, on average.\n",
    "\n",
    "**Defnition:** The <u>posterior risk</u> of the estimator $\\hat \\theta$ with prior  $f$ and data $x$ is $r\\left(f,\\hat \\theta|x\\right):= \\int L\\big(\\theta,\\hat\\theta(x)\\big) f(\\theta|x)d\\theta$. \n",
    "\n",
    "\n",
    "**Theorem:** $r(f,\\hat \\theta) = \\int r\\left(f,\\hat\\theta|x\\right) f(x) dx$ where the marginal $f(x) =\\int f(x,\\theta)d\\theta$. \n",
    "\n",
    "<details><summary>Proof</summary>\n",
    "**Proof** \n",
    "{}\n",
    "$$\n",
    "\\begin{array}{ll}\n",
    "r(f,\\hat \\theta)&: = \\int \\color{blue}{R(\\hat\\theta ,\\theta)} f(\\theta) d\\theta\\\\\n",
    "&= \\int \\color{blue}{ \n",
    "\\int L(\\theta,\\hat \\theta(x)) f(x| \\theta) dx \n",
    "} f(\\theta) d\\theta\\\\\n",
    "&= \\int  L(\\theta,\\hat \\theta(x)) f(x, \\theta) dx  d\\theta\\\\\n",
    "&= \\int  L(\\theta,\\hat \\theta(x)) f( \\theta|x) f(x) dx  d\\theta\\\\\n",
    "&= \\int \\color{green}{ \\int L(\\theta,\\hat \\theta(x)) f( \\theta|x)  d\\theta }\n",
    "f(x)dx  \\\\\n",
    "&= \\int \\color{green}{ r(f,\\hat \\theta | x)}\n",
    "f(x)dx  .\\\\\n",
    "\\square \n",
    "\\end{array}\n",
    "$$\n",
    "</details>"
   ]
  },
  {
   "cell_type": "markdown",
   "id": "8c5334d7-9bae-40e2-9580-1d455c891f33",
   "metadata": {
    "tags": []
   },
   "source": [
    "The squared, absolute, and zero-one loss have Bayes rules that are the mean median and mode of the posterior distribution, respectively. "
   ]
  },
  {
   "cell_type": "markdown",
   "id": "e8284d41-7cd6-43af-aaeb-d4f6291b2af9",
   "metadata": {
    "tags": []
   },
   "source": [
    "**Theorem:** The Bayes rule under loss $L(\\theta,\\hat \\theta) =\\left( \\theta - \\hat \\theta\\right)^2$, prior $f$, and evidence $x$ is $\\hat \\theta = \\mathbb{E}(\\theta|X=x)$.\n",
    "\n",
    "**Proof:** \n",
    "$$\n",
    "\\frac{\\partial}{\\partial \\hat \\theta} r\\left(f,\\hat \\theta | x\\right)=0\\\\ \n",
    "\\Leftrightarrow \\frac{\\partial}{\\partial \\hat \\theta} \\int R\\left(\\theta,\\hat \\theta\\right) f\\left(\\theta|x^n\\right) d\\theta =0\\\\ \n",
    "\\Leftrightarrow \\frac{\\partial}{\\partial \\hat \\theta} \\int \\big(\\theta - \\hat \\theta(x^n)\\big)^2 f\\left(\\theta|x^n\\right) d\\theta =0 \\\\ \n",
    "\\Leftrightarrow 2\\int\\left(\\theta - \\hat\\theta \\right)f(\\theta|x) d\\theta=0\\\\\n",
    "\\Leftrightarrow \\hat\\theta  = \\mathbb{E}(\\theta| X=x)\\\\\n",
    "\\square.\n",
    "$$"
   ]
  },
  {
   "cell_type": "markdown",
   "id": "a69d0716-9a7b-4251-8155-101084bf42fe",
   "metadata": {
    "tags": []
   },
   "source": [
    "Theorems on minimax rules generally point this direction:\n",
    "> In most parametric models, with large samples, the MLE is approxi- mately minimax and Bayes, but maximum likelihood is not an optimal estimator when the number of parameters is approx the size of the sample. \n",
    "\n"
   ]
  },
  {
   "cell_type": "markdown",
   "id": "c8acc36b-61d9-48b2-a630-b2935b1f4915",
   "metadata": {
    "tags": []
   },
   "source": []
  },
  {
   "cell_type": "markdown",
   "id": "af5547b2-2e08-49a9-9641-92d19e4bde51",
   "metadata": {
    "tags": []
   },
   "source": []
  },
  {
   "cell_type": "markdown",
   "id": "41218525-8167-4e04-a923-1576a28c94e1",
   "metadata": {
    "tags": []
   },
   "source": []
  },
  {
   "cell_type": "markdown",
   "id": "8a110edd-a767-4eab-a400-9521a6b4f6a0",
   "metadata": {
    "tags": []
   },
   "source": []
  },
  {
   "cell_type": "markdown",
   "id": "3cd7f58a-4240-4bd7-9063-913d62da98cd",
   "metadata": {
    "tags": []
   },
   "source": []
  },
  {
   "cell_type": "markdown",
   "id": "398503b7-1366-4d0a-bdca-913db17bff56",
   "metadata": {
    "tags": []
   },
   "source": []
  },
  {
   "cell_type": "markdown",
   "id": "348fb3e9-9927-4da3-b3d1-e5825b47dcbe",
   "metadata": {
    "tags": []
   },
   "source": []
  }
 ],
 "metadata": {
  "kernelspec": {
   "display_name": "Python 3 (ipykernel)",
   "language": "python",
   "name": "python3"
  },
  "language_info": {
   "codemirror_mode": {
    "name": "ipython",
    "version": 3
   },
   "file_extension": ".py",
   "mimetype": "text/x-python",
   "name": "python",
   "nbconvert_exporter": "python",
   "pygments_lexer": "ipython3",
   "version": "3.10.14"
  }
 },
 "nbformat": 4,
 "nbformat_minor": 5
}
