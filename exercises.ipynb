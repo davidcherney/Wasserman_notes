{
 "cells": [
  {
   "cell_type": "markdown",
   "id": "de04e951-4cb3-4e18-84ad-3764c01dfc34",
   "metadata": {},
   "source": [
    "# 5.1 \n",
    "\n",
    "Let $X_1, . . . , X_n$ be iid with finite mean $μ = E(X_1)$ and finite variance $\\sigma^2 = V(X_1)$. Let $X_n$ be the sample mean and let $S_n^2$ be the sample variance.\n",
    "\n",
    "(a) Show that $E(S_n^22) = \\sigma^2$."
   ]
  },
  {
   "cell_type": "markdown",
   "id": "8fc6ead0-3a99-43a4-accd-30d7f4e4c1ab",
   "metadata": {},
   "source": [
    "$$\\frac1{n-1}\\mathbb{E}\\left( \\sum\\limits_{i=1}^n (X_i - \\bar X_n)^2\\right)\\\\\n",
    "=\\frac1{n-1}\\mathbb{E}\\left( \\sum\\limits_{i=1}^n (X_i^2 - 2X_i \\bar X_n+ \\bar X_n^2) \\right)\\\\\n",
    "=\\frac1{n-1}\\mathbb{E}\\left(   \\sum\\limits_{i=1}^n X_i^2 - 2 n \\bar X_n \\bar X_n+ n\\bar X_n^2 \\right)\\\\\n",
    "=\\frac1{n-1}\\mathbb{E}\\left(   \\sum\\limits_{i=1}^n X_i^2 -  n \\bar X_n^2   \\right)\\\\\n",
    "=\\frac1{n-1}\\mathbb{E}\\left[  \\sum\\limits_{i=1}^n X_i^2 -  n \\frac{1}{n^2} \\left( \\sum_{i=j} X_i^2 + \\sum_{i\\neq j} X_i X_j  \\right)  \\right]\\\\\n",
    "=\\frac1{n-1}\\left[  \n",
    "\\left( 1 - \\frac1n \\right) \n",
    "\\sum\\limits_{i=1}^n \\mathbb{E}(X_i^2 )\n",
    "-   \\frac{1}{n}  2\\sum_{i\\leq j} \\mathbb{E}(X_i X_j)    \\right]\\\\\n",
    "\\stackrel{1,2,3}\n",
    "{=}\n",
    "\\frac1{n-1}\n",
    "\\left[  \n",
    "    \\left( \\frac{n-1}{n} \\right) \n",
    "    n(\\sigma^2+\\mu^2)\n",
    "    - \\frac{1}{n}2  \\frac{n(n-1) }{2} \\mu^2    \n",
    "\\right]\\\\\n",
    "=\\sigma^2 $$"
   ]
  },
  {
   "cell_type": "markdown",
   "id": "c7ca9cd0-e048-4ef7-a82d-a4c461bd9bb7",
   "metadata": {},
   "source": [
    "where I have used that  \n",
    "1. $ \\mathbb{V}(x) = \\sigma^2 = \\mathbb{E}(X^2)-\\mu^2$\n",
    "2. $\\mathbb{E}(X_i X_j) = \\mathbb{E}(X_i)\\mathbb{E}(X_j)$ if $X_i,X_j$ \n",
    "are independent.\n",
    "3. $\\mathbb{E}(\\bar X_n) = \\mu$. $\\square$"
   ]
  },
  {
   "cell_type": "markdown",
   "id": "e2d3e5ab-087c-4dac-8083-7694cb99b306",
   "metadata": {},
   "source": [
    "(b) Show that $S_n\\stackrel{P}{\\to} \\sigma$ . \n",
    "\n",
    "Hints: \n",
    "\n",
    "i) Show that \n",
    "$$\n",
    "S_n = c_n n^{-1}\\sum\\limits_{i=1} X_i^2 − d_n\\bar{X}_n \n",
    "$$\n",
    "where $c_n \\to 1$ and $d_n \\to 1$. \n",
    "\n",
    "ii) Apply the law of large numbers to $n^{−1} \\sum_{i=1}^n X_i^2$ and to $\\bar X_n$. \n",
    "\n",
    "iii) Then use part (e) of Theorem 5.5."
   ]
  },
  {
   "cell_type": "markdown",
   "id": "45079f6c-0cc7-429a-b7c8-746434bffadd",
   "metadata": {},
   "source": [
    "**Solution**\n",
    "\n",
    "Following the hint \n",
    "\n",
    "i) \n",
    "$$\n",
    "S_n \n",
    "= \\frac{1}{n-1} \\sum(X_i - \\bar X_n)^2\\\\\n",
    "= \\frac{1}{n-1} \\sum( X_i^2 - 2X_i \\bar X_n + \\bar X_n^2)$$"
   ]
  },
  {
   "cell_type": "markdown",
   "id": "b60cea0d-ccc5-4bdb-98cb-65b19a5dc370",
   "metadata": {},
   "source": [
    "$$\n",
    "= \\frac{1}{n-1}\\left( \\sum X_i^2 - 2n \\bar X_n \\bar X_n + n\\bar X_n^2\\right)\\\\\n",
    "= \\frac{1}{n-1}\\left( \\sum X_i^2 - n \\bar X_n^2 \\right)\\\\\n",
    "= \\frac{n}{n-1}  \\left( \\frac1n \\sum X_i^2\\right) - \\frac{n}{n-1} \\bar X_n^2 \\\\\n",
    "$$"
   ]
  },
  {
   "cell_type": "markdown",
   "id": "31dc453a-aa85-4ba7-9394-0e948afa1527",
   "metadata": {},
   "source": [
    "ii) By the weak law of large lnumbers $\\frac1n \\sum X_i^2 \\stackrel{P}{\\to} \\mathbb{E}(X^2) = \\sigma^2 + \\mu^2$ and $\\bar X_n \\stackrel{P}{=} \\mathbb{E}(X) = \\mu$. \n",
    "\n",
    "iii) Part d of theorem 5.5 says If $X_n\\stackrel{P}{\\to} X$  and $Y_n \\stackrel{P}{\\to} Y$ , then $X_nY_n\\stackrel{P}{\\to}XY$, therefore $\\bar X_n^2 \\stackrel{P}{\\to} \\mu^2$. "
   ]
  },
  {
   "cell_type": "markdown",
   "id": "bd65af20-36a9-4810-a38e-862138963f38",
   "metadata": {},
   "source": [
    "5.4 C Xn−→X\n",
    "\n",
    "By theorem 5.5 e, actually a fortiori via 5.4C,  \n",
    "$\\frac{n}{n-1}  \\left( \\frac1n \\sum X_i^2\\right)  \\to 1 (\\sigma^2+\\mu^2)$\n",
    "and $-\\frac{n}{n-1} \\bar X_n^2 \\to -1(\\mu^2)$. \n",
    "\n",
    "And last, by 5.4a, \n",
    "$\\frac{n}{n-1}  \\left( \\frac1n \\sum X_i^2\\right) - \\frac{n}{n-1} \\bar X_n^2 \\stackrel{P}{\\to} \\sigma^2 +\\mu^2 - \\mu^2 = \\sigma^2 ~\\square$."
   ]
  },
  {
   "cell_type": "markdown",
   "id": "292be8bb-63f3-44a5-b6ec-9c41b153ef28",
   "metadata": {},
   "source": []
  },
  {
   "cell_type": "markdown",
   "id": "2e708fc6-7617-4cc8-914c-bf6ccc238ae9",
   "metadata": {},
   "source": []
  },
  {
   "cell_type": "markdown",
   "id": "401cfdd2-5b99-4197-80f5-ac7be89598be",
   "metadata": {},
   "source": [
    "# 9.1  \n",
    "\n",
    "Let $X_1, . . . , X_n ∼ \\text{Gamma}(\\alpha, \\beta)$. Find the method of moments estimator for $\\alpha$ and $\\beta$. \n",
    "\n",
    "**Solution** "
   ]
  },
  {
   "cell_type": "markdown",
   "id": "f5035204-4b11-479c-8211-b3c7de164e36",
   "metadata": {},
   "source": [
    "The $\\text{Gamma}(\\alpha, \\beta)$ distribution is defined as \n",
    "$$\n",
    "f(x) =  \n",
    "\\frac 1x\n",
    "\\frac{1}{\\Gamma(\\alpha)}   \n",
    "\\left( \\frac{x}{\\beta} \\right)^{\\alpha } \n",
    "e^{-\\frac{x}{\\beta}}\n",
    "$$"
   ]
  },
  {
   "cell_type": "code",
   "execution_count": null,
   "id": "529d0b2a-34e1-42fb-a343-b5878c793245",
   "metadata": {},
   "outputs": [],
   "source": []
  }
 ],
 "metadata": {
  "kernelspec": {
   "display_name": "Python 3 (ipykernel)",
   "language": "python",
   "name": "python3"
  },
  "language_info": {
   "codemirror_mode": {
    "name": "ipython",
    "version": 3
   },
   "file_extension": ".py",
   "mimetype": "text/x-python",
   "name": "python",
   "nbconvert_exporter": "python",
   "pygments_lexer": "ipython3",
   "version": "3.9.12"
  }
 },
 "nbformat": 4,
 "nbformat_minor": 5
}
