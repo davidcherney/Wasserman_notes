{
 "cells": [
  {
   "cell_type": "markdown",
   "id": "de04e951-4cb3-4e18-84ad-3764c01dfc34",
   "metadata": {},
   "source": [
    "# 5.1 \n",
    "\n",
    "Let $X_1, . . . , X_n$ be iid with finite mean $μ = E(X_1)$ and finite variance $\\sigma^2 = V(X_1)$. Let $X_n$ be the sample mean and let $S_n^2$ be the sample variance.\n",
    "\n",
    "(a) Show that $E(S_n^22) = \\sigma^2$."
   ]
  },
  {
   "cell_type": "markdown",
   "id": "8fc6ead0-3a99-43a4-accd-30d7f4e4c1ab",
   "metadata": {},
   "source": [
    "$$\\frac1{n-1}\\mathbb{E}\\left( \\sum\\limits_{i=1}^n (X_i - \\bar X_n)^2\\right)\\\\\n",
    "=\\frac1{n-1}\\mathbb{E}\\left( \\sum\\limits_{i=1}^n (X_i^2 - 2X_i \\bar X_n+ \\bar X_n^2) \\right)\\\\\n",
    "=\\frac1{n-1}\\mathbb{E}\\left(   \\sum\\limits_{i=1}^n X_i^2 - 2 n \\bar X_n \\bar X_n+ n\\bar X_n^2 \\right)\\\\\n",
    "=\\frac1{n-1}\\mathbb{E}\\left(   \\sum\\limits_{i=1}^n X_i^2 -  n \\bar X_n^2   \\right)\\\\\n",
    "=\\frac1{n-1}\\mathbb{E}\\left[  \\sum\\limits_{i=1}^n X_i^2 -  n \\frac{1}{n^2} \\left( \\sum_{i=j} X_i^2 + \\sum_{i\\neq j} X_i X_j  \\right)  \\right]\\\\\n",
    "=\\frac1{n-1}\\left[  \n",
    "\\left( 1 - \\frac1n \\right) \n",
    "\\sum\\limits_{i=1}^n \\mathbb{E}(X_i^2 )\n",
    "-   \\frac{1}{n}  2\\sum_{i\\leq j} \\mathbb{E}(X_i X_j)    \\right]\\\\\n",
    "\\stackrel{1,2,3}\n",
    "{=}\n",
    "\\frac1{n-1}\n",
    "\\left[  \n",
    "    \\left( \\frac{n-1}{n} \\right) \n",
    "    n(\\sigma^2+\\mu^2)\n",
    "    - \\frac{1}{n}2  \\frac{n(n-1) }{2} \\mu^2    \n",
    "\\right]\\\\\n",
    "=\\sigma^2 $$"
   ]
  },
  {
   "cell_type": "markdown",
   "id": "c7ca9cd0-e048-4ef7-a82d-a4c461bd9bb7",
   "metadata": {},
   "source": [
    "where I have used that  \n",
    "1. $ \\mathbb{V}(x) = \\sigma^2 = \\mathbb{E}(X^2)-\\mu^2$\n",
    "2. $\\mathbb{E}(X_i X_j) = \\mathbb{E}(X_i)\\mathbb{E}(X_j)$ if $X_i,X_j$ \n",
    "are independent.\n",
    "3. $\\mathbb{E}(\\bar X_n) = \\mu$. $\\square$"
   ]
  },
  {
   "cell_type": "markdown",
   "id": "e2d3e5ab-087c-4dac-8083-7694cb99b306",
   "metadata": {},
   "source": [
    "(b) Show that $S_n\\stackrel{P}{\\to} \\sigma$ . \n",
    "\n",
    "Hints: \n",
    "\n",
    "i) Show that \n",
    "$$\n",
    "S_n = c_n n^{-1}\\sum\\limits_{i=1} X_i^2 − d_n\\bar{X}_n \n",
    "$$\n",
    "where $c_n \\to 1$ and $d_n \\to 1$. \n",
    "\n",
    "ii) Apply the law of large numbers to $n^{−1} \\sum_{i=1}^n X_i^2$ and to $\\bar X_n$. \n",
    "\n",
    "iii) Then use part (e) of Theorem 5.5."
   ]
  },
  {
   "cell_type": "markdown",
   "id": "45079f6c-0cc7-429a-b7c8-746434bffadd",
   "metadata": {},
   "source": [
    "**Solution**\n",
    "\n",
    "Following the hint \n",
    "\n",
    "i) \n",
    "$$\n",
    "S_n \n",
    "= \\frac{1}{n-1} \\sum(X_i - \\bar X_n)^2\\\\\n",
    "= \\frac{1}{n-1} \\sum( X_i^2 - 2X_i \\bar X_n + \\bar X_n^2)$$"
   ]
  },
  {
   "cell_type": "markdown",
   "id": "b60cea0d-ccc5-4bdb-98cb-65b19a5dc370",
   "metadata": {},
   "source": [
    "$$\n",
    "= \\frac{1}{n-1}\\left( \\sum X_i^2 - 2n \\bar X_n \\bar X_n + n\\bar X_n^2\\right)\\\\\n",
    "= \\frac{1}{n-1}\\left( \\sum X_i^2 - n \\bar X_n^2 \\right)\\\\\n",
    "= \\frac{n}{n-1}  \\left( \\frac1n \\sum X_i^2\\right) - \\frac{n}{n-1} \\bar X_n^2 \\\\\n",
    "$$"
   ]
  },
  {
   "cell_type": "markdown",
   "id": "31dc453a-aa85-4ba7-9394-0e948afa1527",
   "metadata": {},
   "source": [
    "ii) By the weak law of large lnumbers $\\frac1n \\sum X_i^2 \\stackrel{P}{\\to} \\mathbb{E}(X^2) = \\sigma^2 + \\mu^2$ and $\\bar X_n \\stackrel{P}{=} \\mathbb{E}(X) = \\mu$. \n",
    "\n",
    "iii) Part d of theorem 5.5 says If $X_n\\stackrel{P}{\\to} X$  and $Y_n \\stackrel{P}{\\to} Y$ , then $X_nY_n\\stackrel{P}{\\to}XY$, therefore $\\bar X_n^2 \\stackrel{P}{\\to} \\mu^2$. "
   ]
  },
  {
   "cell_type": "markdown",
   "id": "bd65af20-36a9-4810-a38e-862138963f38",
   "metadata": {},
   "source": [
    "5.4 C Xn−→X\n",
    "\n",
    "By theorem 5.5 e, actually a fortiori via 5.4C,  \n",
    "$\\frac{n}{n-1}  \\left( \\frac1n \\sum X_i^2\\right)  \\to 1 (\\sigma^2+\\mu^2)$\n",
    "and $-\\frac{n}{n-1} \\bar X_n^2 \\to -1(\\mu^2)$. \n",
    "\n",
    "And last, by 5.4a, \n",
    "$\\frac{n}{n-1}  \\left( \\frac1n \\sum X_i^2\\right) - \\frac{n}{n-1} \\bar X_n^2 \\stackrel{P}{\\to} \\sigma^2 +\\mu^2 - \\mu^2 = \\sigma^2 ~\\square$."
   ]
  },
  {
   "cell_type": "markdown",
   "id": "292be8bb-63f3-44a5-b6ec-9c41b153ef28",
   "metadata": {},
   "source": []
  },
  {
   "cell_type": "markdown",
   "id": "2e708fc6-7617-4cc8-914c-bf6ccc238ae9",
   "metadata": {},
   "source": []
  },
  {
   "cell_type": "markdown",
   "id": "401cfdd2-5b99-4197-80f5-ac7be89598be",
   "metadata": {},
   "source": [
    "# 9.1  \n",
    "\n",
    "Let $X_1, . . . , X_n ∼ \\text{Gamma}(\\alpha, \\beta)$. Find the method of moments estimator for $\\alpha$ and $\\beta$. \n",
    "\n",
    "**Solution** "
   ]
  },
  {
   "cell_type": "markdown",
   "id": "f5035204-4b11-479c-8211-b3c7de164e36",
   "metadata": {},
   "source": [
    "The $\\text{Gamma}(\\alpha, \\beta)$ distribution is defined as \n",
    "$$\n",
    "f(x) =  \n",
    "\\frac 1x\n",
    "\\frac{1}{\\Gamma(\\alpha)}   \n",
    "\\left( \\frac{x}{\\beta} \\right)^{\\alpha } \n",
    "e^{-\\frac{x}{\\beta}}\n",
    "$$"
   ]
  },
  {
   "cell_type": "markdown",
   "id": "fb67273a-c4a6-40d9-ae54-c99027fee111",
   "metadata": {},
   "source": [
    "# Ch 10 \n",
    "\n",
    "\n",
    "## 5  Hypothesis about max over uniform\n",
    "Let $X_1,...,X_n \\sim \\text{Uniform}(0,\\theta)$ and let \n",
    "$Y = \\text{max}\\{ X_1,...,X_n\\}$ We want to test\n",
    "$$\n",
    "H_0 : \\theta = \\frac12  \\\\\n",
    "H_1 : \\theta > \\frac12.\n",
    "$$\n",
    "The Wald test is not appropriate since Y does not converge to a Normal.\n",
    "Suppose we decide to test this hypothesis by rejecting $H_0$ when $Y > c$.\n",
    "\n",
    "(a) Find the power function.\n",
    "\n",
    "**Solution**"
   ]
  },
  {
   "cell_type": "markdown",
   "id": "e0c0ea40-1072-4bea-8eb6-c7572d8b5f23",
   "metadata": {},
   "source": [
    "The power function $\\beta$ assigns to $\\theta$ the probability of rejection;\n",
    "$$\n",
    "\\beta(\\theta) = \\mathbb{P}(Y > c)  .\n",
    "$$\n",
    "To calculate this probability the CDF of $Y$ is needed; \n",
    "$$\n",
    "F_Y(y) := \\mathbb{P}_\\theta (Y<y)  \n",
    "= \n",
    "\\left\\{\n",
    "\\begin{array}{ll}\n",
    "0  &\\text{ for } y < 0\\\\\n",
    "\\frac{y^n}{\\theta^n} &\\text{ for } y\\in [0,\\theta]\\\\\n",
    "1  &\\text{ for } y> \\theta\n",
    "\\end{array} \\right.\n",
    "\\\\\n",
    "\\implies \n",
    "\\beta(\\theta) =\n",
    "\\mathbb{P}_\\theta(Y>c) \n",
    "=1-\\mathbb{P}_\\theta (Y<c) = \n",
    "\\left\\{\n",
    "\\begin{array}{ll}\n",
    "1  &\\text{ for } c<0\\\\\n",
    "1- \\frac{c^n}{\\theta^n} &\\text{ for } c\\in [0,\\theta]\\\\\n",
    "0  &\\text{ for } c>\\theta\n",
    "\\end{array}\\right. .\n",
    "$$\n"
   ]
  },
  {
   "cell_type": "markdown",
   "id": "02ea63ed-5374-449b-ba66-061c7f39160b",
   "metadata": {},
   "source": [
    "(b) What choice of c will make the size of the test .05?"
   ]
  },
  {
   "cell_type": "markdown",
   "id": "c3d35764-3b33-4956-8247-fb61677c54ec",
   "metadata": {},
   "source": [
    "**Solution:** \n",
    "\n",
    "The size of the test is \n",
    "$$\n",
    "\\text{Size} = \\underset{\\theta \\in \\Theta_0}{\\beta(\\theta)} \n",
    "= \\underset{\\theta \\in \\{1/2\\}}{\\beta(\\theta)} \n",
    "= \n",
    "\\left\\{\n",
    "\\begin{array}{ll}\n",
    "1- (2c)^n &\\text{ for } c\\in [0,1/2]\\\\\n",
    "0         &\\text{ for } c> 1/2 \n",
    "\\end{array}\\right. .\n",
    "$$"
   ]
  },
  {
   "cell_type": "markdown",
   "id": "babce6f0-7670-4827-b923-73715baefe13",
   "metadata": {},
   "source": [
    "The value of $c$ that gives a size $\\alpha_s =0.05$ test satisfies \n",
    "$$\n",
    "\\Leftrightarrow \n",
    "1-(2c)^n = \\alpha_s \\\\\n",
    "\\Leftrightarrow \n",
    "c = \\frac{(1-\\alpha_s)^{1/n}}{2} = \\frac{(0.95)^{1/n} }{2} .\n",
    "$$"
   ]
  },
  {
   "cell_type": "markdown",
   "id": "707b4df2-adcb-4234-8b10-c9ed70e8976c",
   "metadata": {},
   "source": [
    "Therefore, the power function for the test with $\\text{Size} = 0.05$ has a praticular value of $c$; \n",
    "$$\n",
    "\\begin{array}{ll}\\beta(\\theta) \n",
    "    &= 1-\\mathbb{P}_\\theta \\left(Y< c \\right )  \\\\\n",
    "    &= \\left\\{\n",
    "\\begin{array}{ll}\n",
    "1- \\frac{c^n}{\\theta^n} &\\text{ for } c < \\theta\\\\\n",
    "0  &\\text{ for } c>\\theta\n",
    "\\end{array}\\right. \n",
    "\\\\\n",
    "    & =\\left\\{\n",
    "\\begin{array}{ll}\n",
    "0  &\\text{ for } \\theta< \\frac{(1-\\alpha_s)^{1/n}}{2}\\\\\n",
    "1- \\frac{1-\\alpha_s}{(2\\theta)^n} &\\text{ for } \\theta >\\frac{(1-\\alpha_s)^{1/n}}{2}\n",
    "\\end{array}\\right. .\n",
    "\\end{array}\n",
    "$$"
   ]
  },
  {
   "cell_type": "markdown",
   "id": "ea3dec8c-c477-4254-8357-a01d553a0c4c",
   "metadata": {},
   "source": [
    "(c) In a sample of size $n = 20$ with $y=0.48$ what is the p-value? What conclusion about $H_0$ would you make? \n",
    "\n",
    "**Solution:** \n",
    "In this case the value of $c=\\frac{(1-\\alpha_2)^{1/n}}{2}=\\frac{(1-0.95)^{1/20}}{2} = 0.4987$. \n",
    "\n",
    "Therefore the rejection region is \n",
    "$$R = \\left\\{x^n\\in \\left[0,\\frac12\\right] | \\text{max}(x^n) > 0.4987\\right\\}$$\n",
    "\n",
    "Any $x^n$ such that $y= 0.48$ is not in this set. Therefore we can not reject the null hypothesis. Continuing to the p-value will show in greater detail why this is the case.\n",
    "\n",
    "\n"
   ]
  },
  {
   "cell_type": "markdown",
   "id": "f45b18f8-818d-4c3f-a80f-e2ca867667c8",
   "metadata": {},
   "source": [
    "By theorem 10.12 \n",
    "$$\\text{p-value}(x^n) \n",
    "\\stackrel{thm}{=} \n",
    "\\underset{\\theta\\in\\Theta_0}{ \\text{sup}} P_\\theta\\big( Y\\geq y \\big)\\\\\n",
    "= \\underset{\\theta\\in\\{1/2\\}}{ \\text{sup}} P_\\theta\\big( Y\\geq y \\big)\\\\\n",
    "= 1- \\frac{y^{20}}{\\theta^{20}}  \\text{ for } \\theta >\\frac{(1-\\alpha_s)^{1/{20}}}{2}\\\\\n",
    "= 1- (2y)^n  \\text{ for } 1/2 >\\frac{(1-\\alpha_s)^{1/{20}}}{2}\\\\\n",
    "= 1- (2 * 0.48)^{20}  \\\\\n",
    "=  0.557.\n",
    "$$.\n"
   ]
  },
  {
   "cell_type": "markdown",
   "id": "4499081a-b5a5-42a7-8869-8175e89cda6e",
   "metadata": {},
   "source": [
    "Thus, the eveidence $y=0.48$ does not lead us to reject $H_0:\\theta=1/2$ at confidence level $0.05$. \n",
    "\n",
    "(d) In a sample of size $n = 20$ with $Y=0.52$ what is the p-value? What conclusion about $H_0$ would you make?\n",
    "\n",
    "**Solution:** \n",
    "\n",
    "As a first though, the max of the observation of a sample of $X$ is above $0.5$, so it absolutely has to be the case that $X \\sim \\text{Uniform}[0,\\theta]$ with $\\theta>1/2$. That is, the null hypothesis must be rejected. \n",
    "\n",
    "Let's see how the math works out. "
   ]
  },
  {
   "cell_type": "markdown",
   "id": "a9bbab62-40c2-4797-9959-148dce02a4f8",
   "metadata": {},
   "source": [
    "$$\\text{p-value}(x^n) \n",
    "\\stackrel{thm}{=} \n",
    "\\underset{\\theta\\in\\Theta_0}{ \\text{sup}} P_\\theta \\big( Y\\geq y \\big)\\\\\n",
    "= \\underset{\\theta\\in\\{1/2\\}}{ \\text{sup}} \n",
    "    1- F_Y(y;\\theta) \n",
    "\\\\\n",
    "= \n",
    "\\left\\{\n",
    "\\begin{array}{ll}\n",
    "1  &\\text{ for } y < 0\\\\\n",
    "1-\\frac{y^n}{\\theta^n} &\\text{ for } y\\in [0,1/2]\\\\\n",
    "0  &\\text{ for } y> 1/2\n",
    "\\end{array} \\right.\\\\\n",
    "=1- F_Y(y=0.52; \\theta = 1/2)\\\\\n",
    "=0\n",
    "$$\n",
    "so the p-value is below the significance level of $0.05\\%$  and with this evidence we reject the nulll hypothesis. "
   ]
  },
  {
   "cell_type": "markdown",
   "id": "91655dec-39d2-417a-9d95-01c28ff77320",
   "metadata": {
    "toc-hr-collapsed": true
   },
   "source": [
    "## 6  Postpone death\n",
    "\n",
    "There is a theory that people can postpone their death until after an important event. To test the theory, Phillips and King (1988) collected data on deaths around the Jewish holiday Passover. Of 1919 deaths, 922 died the week before the holiday and 997 died the week after. Think of this as a binomial and test the null hypothesis that $\\theta = 1/2$. Report and interpret the p-value. Also construct a confidence interval for $\\theta$."
   ]
  },
  {
   "cell_type": "markdown",
   "id": "3dfb512a-90ef-4ae0-9a74-d85b9aa492d0",
   "metadata": {},
   "source": [
    "**Solution:** \n",
    "\n",
    "Making the hypothesis and its alternative explicity is part of framing the test; let $\\theta$ be the Bernoulli probability of living beyond passover. Thus an outome of 1 means that a person lived beyond passover. The hypotheses are\n",
    "$$\n",
    "H_0: \\theta = \\frac12\\\\\n",
    "H_1: \\theta > \\frac12. \n",
    "$$\n",
    "\n",
    "Setting the confidence level is also part of forumating the test; I choose the 95% confidence level, aka 5% significance level. \n",
    "\n",
    "I see two paths to using statistics to finish the formulataion of the test: \n",
    "1. Wald test, taking advantage of the fact that $\\frac{\\bar{X}_n - p}{p(1-p)/\\sqrt{n}} \\sim {\\cal N}(0,1)$\n",
    "2. Construct a new CDF from old. "
   ]
  },
  {
   "cell_type": "markdown",
   "id": "d944c3c8-7b11-4afd-824b-1775152f03c2",
   "metadata": {},
   "source": [
    "**Approach #1:** \n",
    "\n",
    "The since the Bernoulli random variable $X$ has expectation $\\mu=p=\\frac12$ and variance $\\sigma^2=p(1-p)=\\frac14$, by the central limit theorem, the observational mean $$\\bar{X}_n \\sim{\\cal N}\\left(np,\\sqrt{\\frac{p(1-p)}{n}}\\right).$$\n",
    "\n",
    "The z-score of the observation $\\bar{x}_n = \\frac{997}{1919}$ (corresponding to 997 people living until after passover) of the random variable $\\bar{X}_n$ is \n",
    "$$\\begin{array}{ll}\n",
    "z \n",
    "    &= \\frac{\\bar{x} - p}{ \\frac{\\sigma}{ \\sqrt{n}}}\\\\\n",
    "    &= \\frac{\\frac{997}{1919} - 1/2}{\\frac{1}{ \\sqrt{4*1919}}}\\\\\n",
    "    & = 1.712\n",
    "\\end{array}\n",
    "$$. "
   ]
  },
  {
   "cell_type": "markdown",
   "id": "027d2b3d-b856-44c4-a456-3c7dfb444062",
   "metadata": {},
   "source": [
    "This will be a positive z-score since $\\frac{997}{1919}< \\frac12$, and the probability of getting a more extreme z-score than this is the p-value\n",
    "$$\n",
    "\\text{p-value} \n",
    "=\\mathbb{P}( Z>|z|) \\\\\n",
    "=1-\\mathbb{P}( Z<|z|) \\\\\n",
    "=1-\\mathbb{P}( Z < -z)\\\\\n",
    "= 1-F(z) .\n",
    "$$"
   ]
  },
  {
   "cell_type": "code",
   "execution_count": 3,
   "id": "e1963607-2160-46f3-a9d8-5540cc6bbf61",
   "metadata": {},
   "outputs": [
    {
     "name": "stdout",
     "output_type": "stream",
     "text": [
      "Object `stats` not found.\n"
     ]
    }
   ],
   "source": []
  },
  {
   "cell_type": "code",
   "execution_count": null,
   "id": "925733e9-82f7-4c45-85c8-4dec061cdbbe",
   "metadata": {},
   "outputs": [],
   "source": [
    "stats.norm().cdf"
   ]
  },
  {
   "cell_type": "code",
   "execution_count": 6,
   "id": "baacfeb8-e977-45d2-875e-5c2599bcdb71",
   "metadata": {},
   "outputs": [
    {
     "name": "stderr",
     "output_type": "stream",
     "text": [
      "/Users/wonderman/opt/anaconda3/lib/python3.9/site-packages/scipy/__init__.py:146: UserWarning: A NumPy version >=1.16.5 and <1.23.0 is required for this version of SciPy (detected version 1.26.4\n",
      "  warnings.warn(f\"A NumPy version >={np_minversion} and <{np_maxversion}\"\n"
     ]
    },
    {
     "data": {
      "text/plain": [
       "(1.7120789041539457, 0.043441064233845195)"
      ]
     },
     "execution_count": 6,
     "metadata": {},
     "output_type": "execute_result"
    }
   ],
   "source": [
    "from math import sqrt\n",
    "import scipy.stats as stats\n",
    "\n",
    "xbarn = 997/1919\n",
    "z = (xbarn-1/2) / (1/(sqrt(4*1919)))\n",
    "p_wald = 1 - stats.norm().cdf(z)\n",
    "z,p_wald  "
   ]
  },
  {
   "cell_type": "markdown",
   "id": "c6f52f40-2b9c-47ed-b62c-94d0b33c63ee",
   "metadata": {},
   "source": [
    "Since the p-value $0.043$ is less that the significance level $5\\%$, the evidence is sufficeint to reject the null hypothesis that death is equally likely before and after passover. \n",
    "\n",
    "We instead find support for the hypothesis that one can postpone one's death until after an important event. "
   ]
  },
  {
   "cell_type": "markdown",
   "id": "3fe0cc7b-7c8b-46fc-bf08-a3abc8b0aab7",
   "metadata": {},
   "source": [
    "**Approach #2:**\n",
    "\n",
    "Let $X \\sim \\text{Bernoulli}(\\theta)$ with $\\theta$ the probability of 1 (postponing death) and $Y=\\bar{ X}_n$. \n",
    "\n",
    "The test \n",
    "$$\n",
    "H_0 : \\theta = \\frac12 \\\\\n",
    "H_1: \\theta > \\frac12\n",
    ".\n",
    "$$\n",
    "with (one sided) rejection region \n",
    "$$\n",
    "R = \\{x^n \\in\\{0,1\\}^n \\,:\\,  \\bar{x}_n -1/2 > c \\}\\\\\n",
    "$$"
   ]
  },
  {
   "cell_type": "markdown",
   "id": "e8c6e1c9-fd94-43ae-8f01-dfc631097d7d",
   "metadata": {},
   "source": [
    "The power function, by the symmetry of the binomial distribution,  is\n",
    "$$\n",
    "\\beta(\\theta) \n",
    "= \\mathbb{P}_\\theta(R)\n",
    "=\\mathbb{P}_\\theta \\left( \\bar{X}_n>\\frac12 +c\\right) \\\\\n",
    "=1-F_{\\text{binom}(n)}\\left(n\\left[\\frac12 + c\\right] \\right) \\\\\n",
    "$$"
   ]
  },
  {
   "cell_type": "markdown",
   "id": "810ede48-197a-4c3a-a35e-6383da8c8b3a",
   "metadata": {},
   "source": [
    "If the test is to have size $\\alpha_s = 0.05$ then \n",
    "$$\n",
    "\\alpha_s = \\sup_{\\theta \\in \\{1/2\\}} \\beta(\\theta) \\\\\n",
    "\\Leftrightarrow \n",
    "1-\\alpha_s = F_{\\text{binom}(n)}\\left(n\\left[\\frac12 + c\\right] \\right)\\\\\n",
    "\\Leftrightarrow \n",
    "c = \\frac{F^{-1}_{\\text{binom}(n)}\\left( 1-\\alpha_s \\right) }{n} -\\frac12 \n",
    "$$"
   ]
  },
  {
   "cell_type": "code",
   "execution_count": 92,
   "id": "8d7928b2-cd39-4f47-9d24-fe8034954021",
   "metadata": {},
   "outputs": [
    {
     "data": {
      "text/plain": [
       "0.01902032308494006"
      ]
     },
     "execution_count": 92,
     "metadata": {},
     "output_type": "execute_result"
    }
   ],
   "source": [
    "n=1919\n",
    "alpha = 0.05 \n",
    "stats.binom(n=n, p=1/2).ppf(q=(1-alpha))/n -1/2"
   ]
  },
  {
   "cell_type": "markdown",
   "id": "f13614a5-ce97-409b-b545-63631e7b15ce",
   "metadata": {},
   "source": [
    "Thus \n",
    "$$\n",
    "R = \\{x^n \\in\\{0,1\\}^n \\,:\\,  \\bar{x}_n -1/2 > 0.019 \\}\\\\\n",
    "$$\n",
    "\n",
    "The observed value is"
   ]
  },
  {
   "cell_type": "code",
   "execution_count": 90,
   "id": "b0d4f534-b794-4fd3-ab88-2ec4f7f2d96e",
   "metadata": {},
   "outputs": [
    {
     "data": {
      "text/plain": [
       "0.019541427826993196"
      ]
     },
     "execution_count": 90,
     "metadata": {},
     "output_type": "execute_result"
    }
   ],
   "source": [
    "abs(997/1919 - 1/2)"
   ]
  },
  {
   "cell_type": "markdown",
   "id": "e170ee65-581e-4b5f-b641-0a4f5b34afd2",
   "metadata": {},
   "source": [
    "So we do  reject the null hypothesis that death is equally likely before and after passover, and find evidence that one can postpone one's death until after an important event."
   ]
  },
  {
   "cell_type": "code",
   "execution_count": 95,
   "id": "d207fe41-98a8-45bf-8d7f-09445ca65f9b",
   "metadata": {},
   "outputs": [
    {
     "data": {
      "text/plain": [
       "0.043441064233845195"
      ]
     },
     "execution_count": 95,
     "metadata": {},
     "output_type": "execute_result"
    }
   ],
   "source": [
    "p"
   ]
  },
  {
   "cell_type": "markdown",
   "id": "1a114a86-cd09-4e0b-aa21-cc95eb41b11a",
   "metadata": {},
   "source": [
    "The p-value .... I can use the theorem if I say \"the statistic is\" $Y=|\\bar{X}_n-\\frac12|$ so that \n",
    "$$\n",
    "\\text{p-value}(y=0.0195) = \\mathbb{P}\\left( \\bar{X}_n-\\frac12  >  y \\right)\\\\\n",
    "=\\mathbb{P}\\left( \\bar{X}_n)  >  y+\\frac12 \\right)\\\\\n",
    "=\\mathbb{P}\\left( \\sum{X}_i  >  n\\left(y+\\frac12 \\right) \\right)\\\\\n",
    "=\\left(\n",
    "    1- \\mathbb{P}\\left( \\sum{X}_i  <  n\\left(y+\\frac12 \\right) \\right)\n",
    "    \\right) \\\\\n",
    "=\\left(\n",
    "    1- F_{\\text{Binom}(n)}\\left(   n\\left(y+\\frac12 \\right) \\right)\n",
    "    \\right) \\\\\n",
    "$$"
   ]
  },
  {
   "cell_type": "code",
   "execution_count": 97,
   "id": "cdec6136-890a-4edb-8671-a86abf75bcfa",
   "metadata": {},
   "outputs": [
    {
     "data": {
      "text/plain": [
       "(0.04136525822455661, 0.043441064233845195)"
      ]
     },
     "execution_count": 97,
     "metadata": {},
     "output_type": "execute_result"
    }
   ],
   "source": [
    "y = abs(997/1919 - 1/2)\n",
    "F_evaluated = stats.binom(n=n, p=1/2).cdf(n*(y+1/2) )\n",
    "p_binom = (1-F_evaluated)\n",
    "p_binom, p_wald"
   ]
  },
  {
   "cell_type": "markdown",
   "id": "d0a7ed9f-9d66-4819-874b-5733d539727f",
   "metadata": {},
   "source": [
    "So we see in terms of the p-value that the data is sufficient to reject the null hypothesis. "
   ]
  },
  {
   "cell_type": "markdown",
   "id": "f5354fd8-fdb6-4696-8a99-45ca88df46ac",
   "metadata": {},
   "source": [
    "If the tests had been formulated as two sided tests... "
   ]
  },
  {
   "cell_type": "markdown",
   "id": "08781c6a-25b4-456b-8590-0e54eba59692",
   "metadata": {
    "toc-hr-collapsed": true
   },
   "source": [
    "## 7 Wald test of Snodgrass\n",
    "\n",
    "In 1861, 10 essays appeared in the New Orleans Daily Crescent. They were signed \"Quintus Curtius Snodgrass\" and some people suspected they were actually written by Mark Twain. To investigate this, we will consider the proportion of three letter words found in an author's work. From eight Twain essays we have:\n",
    ">.225 .262 .217 .240 .230 .229 .235 .217\n",
    "\n",
    "From 10 Snodgrass essays we have:\n",
    ">.209 .205 .196 .210 .202 .207 .224 .223 .220 .201\n",
    "\n",
    "###  a \n",
    "Perform a Wald test for equality of the means. Use the nonparametric plug-in estimator."
   ]
  },
  {
   "cell_type": "markdown",
   "id": "7701edbc-a474-48c9-aae4-597bee4d8f2e",
   "metadata": {},
   "source": [
    "Q: I know what plug in estimator is, but what does non-parametric plug in estimator mean? "
   ]
  },
  {
   "cell_type": "markdown",
   "id": "78ed8630-8884-40ee-85b8-5e7b3205291c",
   "metadata": {},
   "source": [
    "**Solution:** \n",
    "\n",
    "Specifying the random variables:\n",
    "\n",
    "Let \n",
    "- $X$ be the random variable that gives the proportion of three letter words to a book by Twain. Then $X$ has \n",
    "    - an unknown mean $\\mu_{\\text{t}}$ and esimator $\\bar{X}_8$\n",
    "    - an unknown variance $\\sigma^2_t$ with plug in estimator $s_t$.\n",
    "- $Y$ be the random variable that gives the proportion of three letter words to a book by Snodgrass. Then $Y$ has \n",
    "    - an unknown mean $\\mu_{\\text{s}}$ and esimtaor $\\bar{Y}_{10}$. \n",
    "    - an unknown variance $\\sigma^2_s$ with plug in estimator $s_s$.\n",
    "\n",
    "A natural estimator for $\\delta=\\mu_t-\\mu_s$ is $\\hat{\\delta}(X^8,Y^{10}) = \\bar{X}_8-\\bar{Y}_{10}$."
   ]
  },
  {
   "cell_type": "markdown",
   "id": "b15614bc-af25-4101-b261-098b3852510b",
   "metadata": {},
   "source": [
    "Specifying the hypothesis:\n",
    "\n",
    "The hypthesis \n",
    "$$\n",
    "H_0: \\delta =0 \\\\\n",
    "H_1: \\delta \\neq 0 \n",
    "$$\n",
    "\n",
    "Specifying the test:\n",
    "\n",
    "The hypothesis can be tested with the wald test with Wald statistic.\n",
    "$$\n",
    "W=\\frac{\\hat{\\delta}}{ \\sqrt{ \\frac{s_t^2}{8} + \\frac{s_s^2} {10}}}\n",
    "$$\n",
    "at the significance level $\\alpha$ by rejecting the hypothesis if the observation $w$ of $W$ does not fall in the $1-\\alpha$ confidence interval \n",
    "$$\n",
    "\\big( F^{-1}_W(\\alpha/2),~F^{-1}_W(1-\\alpha/2)\\big)\n",
    "$$\n",
    "\n",
    "Specifying the significance level"
   ]
  },
  {
   "cell_type": "markdown",
   "id": "6df5e2d1-6cb3-4fc5-a209-338d77afc789",
   "metadata": {},
   "source": [
    "I choose the significance level $0.05$. This yields confidence interval\n",
    "$$\n",
    "(-1.96, 1.96).\n",
    "$$"
   ]
  },
  {
   "cell_type": "code",
   "execution_count": 146,
   "id": "fe96ab85-ee45-4c0c-bfc0-99ab948d9798",
   "metadata": {},
   "outputs": [
    {
     "data": {
      "text/plain": [
       "(-1.9599639845400545, 1.959963984540054)"
      ]
     },
     "execution_count": 146,
     "metadata": {},
     "output_type": "execute_result"
    }
   ],
   "source": [
    "(stats.norm().ppf(0.05/2), stats.norm().ppf(1-0.05/2))"
   ]
  },
  {
   "cell_type": "markdown",
   "id": "bcf41fc6-9e1b-4b33-86cb-907155ca31fb",
   "metadata": {},
   "source": [
    "Running the test:"
   ]
  },
  {
   "cell_type": "code",
   "execution_count": 144,
   "id": "3f8628ae-44ff-40a4-82b7-c235291436ea",
   "metadata": {},
   "outputs": [
    {
     "data": {
      "text/plain": [
       "(3.8197335846344593, 0.0001335958925472276)"
      ]
     },
     "execution_count": 144,
     "metadata": {},
     "output_type": "execute_result"
    }
   ],
   "source": [
    "import pandas as pd\n",
    "\n",
    "twain_proportions = pd.Series(\n",
    "    [.225,.262, .217, .240, .230, .229, .235,  .217])\n",
    "snod_proportions =  pd.Series(\n",
    "    [.209 ,.205 ,.196 ,.210 ,.202 ,.207 ,.224 ,.223 ,.220 ,.201])\n",
    "\n",
    "delta_hat = twain_proportions.mean() - snod_proportions.mean()\n",
    "denominator = np.sqrt(\n",
    "    twain_proportions.var(ddof=0)/len(twain_proportions)\n",
    "    +snod_proportions.var(ddof=0)/len(twain_proportions)\n",
    "    )\n",
    "w = delta_hat/denominator\n",
    "p = 2*stats.norm().cdf(-w)\n",
    "\n",
    "w,p"
   ]
  },
  {
   "cell_type": "markdown",
   "id": "c02c6834-15d8-4fb8-afd9-8ea1c1b9f105",
   "metadata": {},
   "source": [
    "We see that the observeed value of $w$ is outside the confidence interval, and has a p-value well below $0.05$. We therefore reject the hull hypothesis and find some evidence in facor of the hypothesis that Snodgrass was not Twain. "
   ]
  },
  {
   "cell_type": "markdown",
   "id": "efed30da-6f46-4cc8-8a0d-ca6098f93f33",
   "metadata": {},
   "source": [
    "### b \n",
    "(b) Now use a permutation test to avoid the use oflarge sample methods. What is your conclusion?\n",
    "\n",
    "**Solution**"
   ]
  },
  {
   "cell_type": "code",
   "execution_count": 147,
   "id": "3ad6338c-8646-4d72-8121-09ea2b3185c5",
   "metadata": {},
   "outputs": [
    {
     "name": "stdout",
     "output_type": "stream",
     "text": [
      "The p-value is 0.0001.\n"
     ]
    },
    {
     "data": {
      "image/png": "[encoded data removed]",
      "text/plain": [
       "<Figure size 432x288 with 1 Axes>"
      ]
     },
     "metadata": {
      "needs_background": "light"
     },
     "output_type": "display_data"
    }
   ],
   "source": [
    "import numpy as np\n",
    "from itertools import permutations \n",
    "\n",
    "A = [.225 ,.262 ,.217 ,.240 ,.230, .229, .235, .217]\n",
    "B = [.209, .205 ,.196 ,.210, .202 ,.207, .224 ,.223 ,.220, .201]\n",
    "Z = A+B \n",
    "diffs = []\n",
    "\n",
    "def d_means(sample_A,sample_B):\n",
    "    # Return difference of means.\n",
    "    a_bar = np.mean(sample_A)\n",
    "    b_bar = np.mean(sample_B)\n",
    "    return a_bar - b_bar\n",
    "\n",
    "def get_random_permutation(L):\n",
    "    return list(np.random.choice(a=L,size=len(L),replace=False))\n",
    "    \n",
    "# Generate a diff for each random permutation.\n",
    "for _ in range(10_000):\n",
    "    Z_prime = get_random_permutation(Z)\n",
    "    diff = d_means(Z_prime[:len(A)],Z_prime[len(A):])\n",
    "    diffs.append(diff)\n",
    "\n",
    "xs = np.linspace(min(diffs) , max(diffs),100)\n",
    "F_perm = [sum(np.array(diffs) < x) for x in xs] #CDF\n",
    "f_perm = np.array(F_perm[1:]) - np.array(F_perm[:-1]) #PDF\n",
    "p = sum(diff>d_means(A,B) for diff in diffs)/len(diffs)\n",
    "print(f\"The p-value is {p}.\")\n",
    "\n",
    "import matplotlib.pyplot as plt\n",
    "plt.plot(xs[:-1],f_perm)\n",
    "plt.axvline(x= d_means(A,B), color = 'red', label = 'Observed')\n",
    "plt.title('Permutation PDF');"
   ]
  },
  {
   "cell_type": "markdown",
   "id": "0cd02560-07eb-48a0-96db-d9a83e92a170",
   "metadata": {},
   "source": [
    "The p-value is well below the significance level of $0.05$, so we reject the nul hypothesis and conclude that there is evidence Snodgrass was not Twain. "
   ]
  },
  {
   "cell_type": "markdown",
   "id": "15e2dbbb-3eb6-4f1f-b31c-c23130d83278",
   "metadata": {
    "toc-hr-collapsed": true
   },
   "source": [
    "## 8 Test mean of normal is 0\n",
    "\n",
    "Let $X_1, ... ,X_n\\sim {\\cal N} (\\theta, 1)$. Consider testing\n",
    "$$\n",
    "H_0 : \\theta = 0 \\\\\n",
    "H_1: \\theta = 1.\n",
    "$$\n",
    "Let the rejection region be \n",
    "$$ \n",
    "R = \\{x^n: T(x^n) > c\\}\\\\\n",
    "T(X^n) = \\bar{X}_n\n",
    "$$\n",
    "### a \n",
    "Find $c$ so that the test has size $Q$ .\n",
    "\n",
    "**Solution:**"
   ]
  },
  {
   "cell_type": "markdown",
   "id": "ae5ee107-6a67-40f9-8a4b-1d09c7592791",
   "metadata": {},
   "source": [
    "For one thing I can say this is going to be a one sided test. \n",
    "\n",
    "The power function \n",
    "$$\n",
    "\\beta(\\theta) = \n",
    "\\mathbb{P}_\\theta(R) = \\mathbb{P}_\\theta(\\bar{X}_n>c) \\\\\n",
    "= 1-\\mathbb{P}_\\theta(\\bar{X}_n<c) \\\\\n",
    "= 1-F_{\\bar{X}_n}(c; \\theta) \n",
    "$$\n",
    "\n",
    "According to the central limit theorem $\\bar{X}_n \\sim {\\cal N}\\left(0,\\frac{1}{\\sqrt{n}}\\right)$.\n",
    "\n",
    "Therefore, to make this test have size $Q$ the number $c$ must staisfy "
   ]
  },
  {
   "cell_type": "markdown",
   "id": "9922c64d-71b2-401e-9c9b-9f34f6a2e475",
   "metadata": {},
   "source": [
    "$$\n",
    "Q = \\sup_{\\theta \\in \\{0\\}} \\beta(\\theta) \\\\\n",
    "\\Leftrightarrow Q = 1-F_{ {\\cal N}    \\left(0,\\frac{1}{\\sqrt{n}}\\right)}(c)\\\\\n",
    "\\Leftrightarrow  c = F^{-1}_{ {\\cal N}\\left(0,\\frac{1}{\\sqrt{n}}\\right)}(1-Q)\n",
    "$$\n",
    "\n",
    "We will call this $c_n$."
   ]
  },
  {
   "cell_type": "markdown",
   "id": "04da8223-276d-4ad6-9723-5e086d798d2a",
   "metadata": {},
   "source": [
    "### b \n",
    "Find the power under $H_1$. (That is find $\\beta(1)$. )"
   ]
  },
  {
   "cell_type": "markdown",
   "id": "23da8954-3a42-499e-9fb8-d961277ff9c8",
   "metadata": {},
   "source": [
    "**Solution**\n",
    "The power under $H_1$ is  \n",
    "$$\n",
    "\\sup_{\\theta\\in \\{ 1\\} }\\beta(\\theta)\n",
    "=\\beta(1) \n",
    "= \\mathbb{P}(\\bar{X}_n>c) \\\\\n",
    "= 1-F_{{\\cal N} \\left(1,\\frac{1}{\\sqrt{n}}\\right)}(c_n)\\\\\n",
    "= 1-F_{{\\cal N} \\left(1,\\frac{1}{\\sqrt{n}}\\right)}\n",
    "\\left(\n",
    "F^{-1}_{ {\\cal N}\\left(0,\\frac{1}{\\sqrt{n}}\\right)}(1-Q) \n",
    "\\right).\n",
    "$$"
   ]
  },
  {
   "cell_type": "markdown",
   "id": "dded5454-6ef7-4d29-815f-c6479747dc14",
   "metadata": {},
   "source": [
    "### c \n",
    "\n",
    "Show that $\\beta(1) \\to 1$ as $n \\to \\infty$.\n",
    "\n",
    "**Solution**"
   ]
  },
  {
   "cell_type": "markdown",
   "id": "d187fa02-c323-487b-8ed5-0461e5363b2a",
   "metadata": {},
   "source": [
    "$$\n",
    "\\lim_{n \\to \\infty}\n",
    "\\beta(1)\n",
    "=\n",
    "1-\\lim_{n \\to \\infty} F_{{\\cal N} \\left(1,\\frac{1}{\\sqrt{n}}\\right)}\n",
    "\\left(\n",
    "F^{-1}_{ {\\cal N}\\left(0,\\frac{1}{\\sqrt{n}}\\right)}(1-Q) \n",
    "\\right) =1.\n",
    "$$"
   ]
  },
  {
   "cell_type": "markdown",
   "id": "b9a8a378-d8ac-4b69-9216-7114811c3a11",
   "metadata": {},
   "source": [
    "I can see this in my minds eye by noting that \n",
    "$$\n",
    "\\lim_{n\\to \\infty} F_{{\\cal N} \\left(0,\\frac{1}{\\sqrt{n}}\\right)}(x)= H(x) = \n",
    "\\left\\{\n",
    "\\begin{array}{ll}\n",
    "0 \\text{ if } x< 0\\\\\n",
    "1 \\text{ if } x \\geq 0\n",
    "\\end{array}\n",
    "\\right.\n",
    "$$\n",
    "so that for $Q\\in (0,1)$ we have \n",
    "$$\n",
    "F^{-1}_{ {\\cal N}\\left(0,\\frac{1}{\\sqrt{n}}\\right)}(1-Q) \n",
    "=\n",
    "\\inf \\left\\{ x | \n",
    "    F_{ {\\cal N}\\left(0,\\frac{1}{\\sqrt{n}}\\right)}(x) \\geq 1-Q\n",
    "    \\right\\}\\\\\n",
    "\\approx \n",
    "\\inf \\left\\{ x | \n",
    "    H(x) \\geq 1-Q\n",
    "    \\right\\}\\\\\n",
    "=0\n",
    "$$\n",
    "and \n",
    "$$\n",
    "F_{{\\cal N} \\left(1,\\frac{1}{\\sqrt{n}}\\right)}(0) \n",
    "\\approx\n",
    "H_1(0) = 0\n",
    "$$\n",
    "Since I can't really compute the limit, I'll resort to numerical methods in code below."
   ]
  },
  {
   "cell_type": "code",
   "execution_count": 166,
   "id": "d4aedf6c-0fae-4462-942f-1ab44349112b",
   "metadata": {},
   "outputs": [
    {
     "data": {
      "text/plain": [
       "[0.2595110228414442,\n",
       " 0.9527152724079094,\n",
       " 0.9983468335754314,\n",
       " 0.9999562572143623,\n",
       " 0.9999990237069089,\n",
       " 0.9999999806380561,\n",
       " 0.9999999996484653,\n",
       " 0.9999999999940449,\n",
       " 0.9999999999999046,\n",
       " 0.9999999999999986]"
      ]
     },
     "execution_count": 166,
     "metadata": {},
     "output_type": "execute_result"
    }
   ],
   "source": [
    "Q = 0.05\n",
    "ns = range(1,100,10)\n",
    "beta1s = []\n",
    "for n in ns:\n",
    "    norm0 = stats.norm(loc=0,scale=1/np.sqrt(n))\n",
    "    norm1 = stats.norm(loc=1,scale=1/np.sqrt(n))\n",
    "    cn = norm0.ppf(1-Q)\n",
    "    beta1 = 1-norm1.cdf(cn)\n",
    "    beta1s.append(beta1)\n",
    "beta1s"
   ]
  },
  {
   "cell_type": "markdown",
   "id": "f8e2fe38-fd3b-471a-86bf-b27f091caa15",
   "metadata": {},
   "source": [
    "### e.g. Power on [-1,0] U (0,1)\n",
    "\n",
    "As an example of constructing a power function on $\\Theta_0 \\cup \\Theta_1$, I believe I can build nicely on this exercise to produce a plot of the graph \n",
    "$$\n",
    "\\{ (\\theta , \\beta(\\theta)) | \\theta \\in \\Theta_0 \\cup \\Theta_1\n",
    "\\}\n",
    "$$\n",
    "for $\\Theta_0 = [-1,0],~\\Theta_1 = (0,1)$ while continuing to use the rejection region $R = \\{ x^n | \\bar{x}_n>c\\}$.\n",
    "\n",
    "In such a case, the size of the test is $Q$ if\n",
    "$$\n",
    "Q = \\sup_{\\theta \\in [-1,0]} \\beta(\\theta)\\\\\n",
    "Q = \\sup_{\\theta \\in [-1,0]}\\mathbb{P} (\\bar{X}_n>c)\\\\\n",
    "Q = \\sup_{\\theta \\in [-1,0]}\\left( 1- F_{ {\\cal N}\\left( \\theta,\\frac{1}{\\sqrt{n}}\\right)}(c)\\right)  \n",
    "$$\n",
    "\n",
    "It is not clear to me if I need to consider $c<0$ so I will visualize. \n"
   ]
  },
  {
   "cell_type": "code",
   "execution_count": 264,
   "id": "052d80b3-249a-43ca-af26-a5b67dca9a02",
   "metadata": {},
   "outputs": [
    {
     "data": {
      "image/png": "[encoded data removed]",
      "text/plain": [
       "<Figure size 415.125x360 with 1 Axes>"
      ]
     },
     "metadata": {
      "needs_background": "light"
     },
     "output_type": "display_data"
    }
   ],
   "source": [
    "thetas = np.linspace(-1,0,101)\n",
    "cs = np.linspace(-1,1,101)\n",
    "ns = [1,30,100,300]\n",
    "\n",
    "def sup_beta(c,n):\n",
    "    s_sample_mean = 1/np.sqrt(n)\n",
    "    l = [1-stats.norm(loc=theta, scale=s_sample_mean ).cdf(c) \n",
    "         for theta in thetas]\n",
    "    return max(l)\n",
    "\n",
    "vsub_beta = np.vectorize(sup_beta)\n",
    "df = pd.concat([pd.DataFrame(data = {\"n\":n,\"c\":cs ,\"sup_beta\":vsub_beta(cs,n)}) \n",
    "                for n in ns])\n",
    "sns.lmplot(data=df, x=\"c\",y=\"sup_beta\", hue=\"n\", fit_reg=False)\n",
    "plt.axhline(y=Q);"
   ]
  },
  {
   "cell_type": "markdown",
   "id": "345cd86f-1f82-4065-8eb7-eeaff493004e",
   "metadata": {},
   "source": [
    "Looks like  $c_n>0$ in order to have size $Q=0.05$, and like $c_n\\to 0$ as expected."
   ]
  },
  {
   "cell_type": "markdown",
   "id": "63934d3a-e3f2-4f76-be0d-8557b9d953ba",
   "metadata": {},
   "source": [
    "If I know that $c$ is positive\n",
    "$$\n",
    "Q = \\sup_{\\theta \\in [-1,0]}\\left( 1- F_{ {\\cal N}\\left( \\theta,\\frac{1}{\\sqrt{n}}\\right)}(c)\\right)  \\\\\n",
    "Q =  1-  \\inf_{\\theta \\in [-1,0]}F_{ {\\cal N}\\left( \\theta,\\frac{1}{\\sqrt{n}}\\right)}(c)  \\\\\n",
    "Q =  1-  F_{ {\\cal N}\\left( 0,\\frac{1}{\\sqrt{n}}\\right)}(c)  \\\\\n",
    "\\Leftrightarrow c_n = F^{-1}_{ {\\cal N}\\left( 0,\\frac{1}{\\sqrt{n}}\\right)} (1-Q)\n",
    "$$\n"
   ]
  },
  {
   "cell_type": "markdown",
   "id": "62394eb9-2591-4002-9b36-c72e3e3c9d48",
   "metadata": {},
   "source": [
    "So for all $\\theta \\in \\Theta_0 \\cup \\Theta_1 = [-1,0] \\cup (0,1) = [-1,1)$ we have\n",
    "$$\n",
    "\\beta(\\theta)\n",
    "=\n",
    " 1- F_{ {\\cal N}\\left( \\theta,\\frac{1}{\\sqrt{n}}\\right)}(c_n)\n",
    "\\\\\n",
    "= 1- F_{ {\\cal N}\\left( \\theta,\\frac{1}{\\sqrt{n}}\\right)}\\left(F^{-1}_{ {\\cal N}\\left( 0,\\frac{1}{\\sqrt{n}}\\right)} (1-Q)\\right)\n",
    "$$"
   ]
  },
  {
   "cell_type": "code",
   "execution_count": 272,
   "id": "e75d7a87-d8ab-4eda-97d5-c8f86d7f15ed",
   "metadata": {},
   "outputs": [
    {
     "data": {
      "image/png": "[encoded data removed]",
      "text/plain": [
       "<Figure size 424.75x360 with 1 Axes>"
      ]
     },
     "metadata": {
      "needs_background": "light"
     },
     "output_type": "display_data"
    }
   ],
   "source": [
    "import pandas as pd\n",
    "import matplotlib.pyplot as plt\n",
    "import seaborn as sns\n",
    "\n",
    "# Use a handfull of n values but about 100 thetas\n",
    "ns = [1,2,10,30,100,300]\n",
    "thetas = np.linspace(-1,1,101)\n",
    "\n",
    "def betas(n):\n",
    "    norm0 = stats.norm(loc=0,scale=1/np.sqrt(n))\n",
    "    cn = norm0.ppf(1-Q)\n",
    "    betas = [1-stats.norm(loc=theta,scale=1/np.sqrt(n)).cdf(cn) \n",
    "             for theta in thetas]\n",
    "    return np.array([[n]*101,thetas,betas]).T\n",
    "\n",
    "# Generate data for each n in ns.\n",
    "df = pd.concat([pd.DataFrame(columns = [\"n\",\"theta\",\"beta\"], data = betas(n))\n",
    "                for n in ns])\n",
    "sns.lmplot(data= df, x=\"theta\", y=\"beta\", hue = \"n\", fit_reg=False\n",
    "          )\n",
    "plt.axhline(y=Q)\n",
    "plt.axvline(x=0);"
   ]
  },
  {
   "cell_type": "markdown",
   "id": "4fdb695a-0c44-4991-808f-9c11faa15799",
   "metadata": {},
   "source": [
    "We see that \n",
    "- the max probability of a type 1 error $\\sup_{\\Theta_0}\\beta(\\theta)$ is $Q$ for all $n$\n",
    "    - because of our choice of $c_n$ \n",
    "- the probability of type II error $1-\\beta|_{\\Theta_1}(\\theta) \\to 0$ for any particular $\\theta \\in \\Theta_1$\n",
    "- the max probability of type 2 error is $1-\\sup_{\\Theta_1}\\beta(\\theta) = 1-Q$.  "
   ]
  },
  {
   "cell_type": "markdown",
   "id": "5861cf48-329b-481a-890a-05e6523dc090",
   "metadata": {},
   "source": [
    "## 9 Wald Test of MLE is \"good test\"\n",
    "Let $\\hat{\\theta}$ be the MLE of a parameter $\\theta$ and let $\\hat{\\text{se}}= \\left\\{ I_n\\left(\\hat \\theta\\right )\\right\\}^{-1/2}$ where $I(\\theta)$ is the Fisher information. Consider testing\n",
    "$$\n",
    "H_0:\\theta = \\theta_0\\\\\n",
    "H_1: \\theta \\neq \\theta_0\n",
    "$$\n",
    "Consider the Wald test with rejection region \n",
    "$$\n",
    "R = \\left\\{x^n : |Z| > z_{ \\frac \\alpha 2 } \\right\\}\\\\\n",
    "Z = \\frac{ \\hat \\theta - \\theta_0}{\\hat{\\text se}}\n",
    "$$ \n",
    "Let $\\theta_1 > \\theta_0$  be some alternative. Show that $\\beta(\\theta_1) \\to 1$.\n"
   ]
  },
  {
   "cell_type": "markdown",
   "id": "680eab3f-463e-447b-b426-d0262c3422c8",
   "metadata": {},
   "source": [
    "**Solution:**\n",
    "\n",
    "According to theorem 9.19, equation 9.13, \n",
    "$$\n",
    "Z \\sim {\\cal N}(0,1)\n",
    "$$\n",
    "at least under the null hypothesis."
   ]
  },
  {
   "cell_type": "markdown",
   "id": "c64467ce-97b0-40e0-9b9e-561c51c2f8ac",
   "metadata": {},
   "source": [
    "Under an alternative hypothesis $\\theta = \\theta_1$ we have that \n",
    "$$\n",
    "W = \\frac{\\hat\\theta -\\theta_1}{se}\n",
    "=\\frac{\\hat\\theta -\\theta_0 + \\theta_0 -\\theta_1}{se}\n",
    "= Z + \\frac{\\theta_0 - \\theta_1}{se}\n",
    "= Z + Y\n",
    "$$\n",
    "is is ${\\cal N}(0,1)$ distributed where $Y:=\\frac{\\theta_0 - \\theta_1}{se}$. "
   ]
  },
  {
   "cell_type": "markdown",
   "id": "ab8b59cd-165d-4b5e-b74c-c276a2384e90",
   "metadata": {},
   "source": [
    "By theorem 9.17, $I_n(\\hat \\theta)=nI(\\hat \\theta)$. Therefore\n",
    "$$\n",
    "\\begin{array}{ll}\n",
    "Y &=  \\frac{\\theta_0 - \\theta_1}{1/\\sqrt{ I_n( \\hat{\\theta})}}\\\\\n",
    "  &=  \\frac{\\theta_0 - \\theta_1}{1/\\sqrt{ nI( \\hat{\\theta})}}\\\\\n",
    "  &=\\sqrt{n} \\frac{\\theta_0 - \\theta_1}{1/\\sqrt{ I( \\hat{\\theta})}} \n",
    "      \\to \\pm \\infty \\text{ as } n\\to \\infty.\n",
    "\\end{array}\n",
    "$$\n",
    "I use $\\pm \\infty$, generalizing away from the problem statements implication that $\\theta_0-\\theta_1 <0$. \n",
    "\n",
    "Thus, the power function's characterization in terms of $Z$ can be re-characterized in terms of $W$ as"
   ]
  },
  {
   "cell_type": "markdown",
   "id": "da1f4196-a739-4a12-8d53-eda53bd53723",
   "metadata": {},
   "source": [
    "$$\n",
    "\\beta(\\theta_1) = \\mathbb{P}_{\\theta_1}(R) \\\\\n",
    "= \\mathbb{P}_{\\theta_1}(Z> z_{ \\frac \\alpha 2 } ) \\\\\n",
    "= 1-\\mathbb{P}_{\\theta_1}(\\lvert Z\\rvert < z_{ \\frac \\alpha 2 } ) \\\\\n",
    "= 1-\\mathbb{P}_{\\theta_1}( -z_{ \\frac \\alpha 2 }< Z < z_{ \\frac \\alpha 2 } ) \\\\\n",
    "= 1-\\mathbb{P}_{\\theta_1}( Y-z_{ \\frac \\alpha 2 }< Z +Y < Y+ z_{ \\frac \\alpha 2 } ) \\\\\n",
    "= 1-\\mathbb{P}_{\\theta_1}( Y-z_{ \\frac \\alpha 2 }< W< Y+ z_{ \\frac \\alpha 2 } ) \\\\\n",
    "\\to 1 \\text{ as } n\\to\\infty.\n",
    "$$"
   ]
  },
  {
   "cell_type": "markdown",
   "id": "6906e7bc-6394-4565-b534-39fd7749f875",
   "metadata": {},
   "source": [
    "The idea I have in my head is that a window of width $2z{\\frac \\alpha 2}$ is sliding far to the left or far to the right on a standard normal distribution of $W$, with the area above that interval and under the PDF going to zero. "
   ]
  },
  {
   "cell_type": "markdown",
   "id": "0c1be6d1-9f8a-4a4d-9a0b-85387bce41ca",
   "metadata": {},
   "source": [
    "Here I make the assumption that $I(\\hat \\theta)$ is constant or bounded WRT $n$. I do not know how to argue that.... $\\hat \\theta$ is the MLE of $\\theta$, so it is consistant, meaning is converges to $\\theta$. That certainly means that it is bounded. Likely $I$ is continuous so that $I(\\hat \\theta)$ is bounded. "
   ]
  },
  {
   "cell_type": "markdown",
   "id": "a0f280cb-0d8d-4808-b23a-5df990472cf9",
   "metadata": {},
   "source": [
    "$\\square$\n",
    "\n",
    "Now some thoughts about what I just saw. \n",
    "\n",
    "1. The lesson is that the Wald test for MLEs is a good test in the sense that the probability of a type II error goes to zero as $n\\to \\infty$.\n",
    "\n",
    "2. What does  $I(\\hat \\theta)$ mean? \n",
    "\n",
    "**Definition:** The <u>score function</u> of the statistic $X$ over the paramiterized model of PDFs $\\cal F = \\{ f_\\theta | \\theta\\in \\Theta\\}$ is\n",
    "$s(X;θ)= \\frac{\\partial \\log f(X;θ)}{\\partial \\theta}$. \n",
    "\n",
    "\n",
    "**Definition:** The <u>Fisher information</u> function of the random sample $X_i$ of $X$ is $I_n(\\theta) = \\sum\\limits_{i=1}^n \\mathbb{V}_θ (s(X_i; \\theta))$."
   ]
  },
  {
   "cell_type": "markdown",
   "id": "a87063b1-a924-4243-8679-404a0c49d154",
   "metadata": {},
   "source": [
    "How do I interpret $I_n(\\hat \\theta)$?\n",
    "- option 1: put $\\hat \\theta$ into $S$ before the expectation value is applied.\n",
    "    - the result is a  number I'd denote by $ \\sum\\limits_{i=1}^n \\mathbb{V}_θ (s(X_i; \\hat \\theta))$. \n",
    "- option 2: Apply the expectation and then, in the resultant expression involving $\\theta$, replace $\\theta$ with $\\hat{\\theta}$\n",
    "    - the result is a statistic.\n",
    "    - In this case, $I_n(\\hat \\theta)$ can be re-expressed as $n\\mathbb{V}_θ (s(X; \\hat \\theta))= NI(\\hat \\theta).$"
   ]
  },
  {
   "cell_type": "markdown",
   "id": "8358fc36-f1d0-40b7-a375-57dc4ed2f422",
   "metadata": {},
   "source": [
    "because "
   ]
  },
  {
   "cell_type": "markdown",
   "id": "5aa326d8-27d5-4bfb-b77c-228dd939dd2a",
   "metadata": {},
   "source": []
  },
  {
   "cell_type": "markdown",
   "id": "27504786-b7be-4622-a122-c176be94a77a",
   "metadata": {},
   "source": []
  },
  {
   "cell_type": "markdown",
   "id": "1024b82a-309a-4e79-9347-ba3473a74379",
   "metadata": {},
   "source": []
  }
 ],
 "metadata": {
  "kernelspec": {
   "display_name": "Python 3 (ipykernel)",
   "language": "python",
   "name": "python3"
  },
  "language_info": {
   "codemirror_mode": {
    "name": "ipython",
    "version": 3
   },
   "file_extension": ".py",
   "mimetype": "text/x-python",
   "name": "python",
   "nbconvert_exporter": "python",
   "pygments_lexer": "ipython3",
   "version": "3.9.7"
  }
 },
 "nbformat": 4,
 "nbformat_minor": 5
}
